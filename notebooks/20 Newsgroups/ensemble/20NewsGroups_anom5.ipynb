{
 "cells": [
  {
   "cell_type": "code",
   "execution_count": 37,
   "id": "30ff24b7",
   "metadata": {},
   "outputs": [],
   "source": [
    "import os\n",
    "import shutil\n",
    "\n",
    "import tensorflow as tf\n",
    "import tensorflow_hub as hub\n",
    "import tensorflow_text as text\n",
    "from official.nlp import optimization  # to create AdamW optmizer\n",
    "\n",
    "import matplotlib.pyplot as plt\n",
    "tf.get_logger().setLevel('ERROR')\n",
    "\n",
    "import pprint\n",
    "pp = pprint.PrettyPrinter(indent=4)\n",
    "import math\n",
    "import numpy as np\n",
    "import sklearn.metrics as sk \n",
    "import pickle\n",
    "\n",
    "from scipy import stats\n",
    "from scipy.spatial import distance\n",
    "\n",
    "from tensorflow import keras\n",
    "\n",
    "from sklearn.model_selection import train_test_split\n",
    "\n",
    "from scipy.stats import entropy\n",
    "\n",
    "from tqdm import tqdm"
   ]
  },
  {
   "cell_type": "code",
   "execution_count": 38,
   "id": "a45b44a3",
   "metadata": {},
   "outputs": [],
   "source": [
    "if os.path.exists('20news-18828'):\n",
    "  shutil.rmtree('20news-18828')"
   ]
  },
  {
   "cell_type": "code",
   "execution_count": 39,
   "id": "2b5f0849",
   "metadata": {},
   "outputs": [],
   "source": [
    "url = 'http://qwone.com/~jason/20Newsgroups/20news-18828.tar.gz'\n",
    "\n",
    "dataset = tf.keras.utils.get_file('20news-18828.tar.gz', url,\n",
    "                                  untar=True, cache_dir='.',\n",
    "                                  cache_subdir='')\n",
    "\n",
    "dataset_dir = os.path.join(os.path.dirname(dataset), '20news')\n",
    "train_dir = os.path.join(dataset_dir, 'train')"
   ]
  },
  {
   "cell_type": "code",
   "execution_count": 40,
   "id": "f37797a1",
   "metadata": {},
   "outputs": [
    {
     "data": {
      "text/plain": [
       "{0: 'comp.sys.mac.hardware',\n",
       " 1: 'comp.os.ms-windows.misc',\n",
       " 2: 'rec.motorcycles',\n",
       " 3: 'talk.politics.misc',\n",
       " 4: 'comp.graphics',\n",
       " 5: 'talk.politics.mideast',\n",
       " 6: 'sci.med',\n",
       " 7: 'rec.sport.baseball',\n",
       " 8: 'talk.religion.misc',\n",
       " 9: 'sci.electronics',\n",
       " 10: 'comp.windows.x',\n",
       " 11: 'sci.crypt',\n",
       " 12: 'talk.politics.guns',\n",
       " 13: 'rec.sport.hockey',\n",
       " 14: 'rec.autos',\n",
       " 15: 'sci.space',\n",
       " 16: 'comp.sys.ibm.pc.hardware',\n",
       " 17: 'soc.religion.christian',\n",
       " 18: 'misc.forsale',\n",
       " 19: 'alt.atheism'}"
      ]
     },
     "execution_count": 40,
     "metadata": {},
     "output_type": "execute_result"
    }
   ],
   "source": [
    "rootPath = '20news-18828'\n",
    "files = os.listdir(rootPath)\n",
    "\n",
    "all_classes = {}\n",
    "for ind in range(len(files)):\n",
    "  all_classes[ind] = files[ind]\n",
    "\n",
    "all_classes"
   ]
  },
  {
   "cell_type": "code",
   "execution_count": 41,
   "id": "4ae037ee",
   "metadata": {},
   "outputs": [],
   "source": [
    "# models_path = \"outputs/\"\n",
    "# pickle_file_name = models_path + 'all_classes'\n",
    "# out_file = open(pickle_file_name,\"wb\")\n",
    "# pickle.dump(all_classes, out_file)\n",
    "# out_file.close()"
   ]
  },
  {
   "cell_type": "markdown",
   "id": "752e57ba",
   "metadata": {},
   "source": [
    "# Set the experiment"
   ]
  },
  {
   "cell_type": "code",
   "execution_count": 42,
   "id": "f8e9f5cd",
   "metadata": {},
   "outputs": [],
   "source": [
    "models_path = \"outputs/\"\n",
    "pickle_file_name = models_path + 'all_classes'\n",
    "out_file = open(pickle_file_name,\"rb\")\n",
    "all_classes = pickle.load(out_file)\n",
    "out_file.close()"
   ]
  },
  {
   "cell_type": "code",
   "execution_count": 43,
   "id": "f806bda1",
   "metadata": {},
   "outputs": [
    {
     "data": {
      "text/plain": [
       "{0: 'comp.sys.mac.hardware',\n",
       " 1: 'comp.os.ms-windows.misc',\n",
       " 2: 'rec.motorcycles',\n",
       " 3: 'talk.politics.misc',\n",
       " 4: 'comp.graphics',\n",
       " 5: 'talk.politics.mideast',\n",
       " 6: 'sci.med',\n",
       " 7: 'rec.sport.baseball',\n",
       " 8: 'talk.religion.misc',\n",
       " 9: 'sci.electronics',\n",
       " 10: 'comp.windows.x',\n",
       " 11: 'sci.crypt',\n",
       " 12: 'talk.politics.guns',\n",
       " 13: 'rec.sport.hockey',\n",
       " 14: 'rec.autos',\n",
       " 15: 'sci.space',\n",
       " 16: 'comp.sys.ibm.pc.hardware',\n",
       " 17: 'soc.religion.christian',\n",
       " 18: 'misc.forsale',\n",
       " 19: 'alt.atheism'}"
      ]
     },
     "execution_count": 43,
     "metadata": {},
     "output_type": "execute_result"
    }
   ],
   "source": [
    "all_classes"
   ]
  },
  {
   "cell_type": "code",
   "execution_count": 44,
   "id": "614acbed",
   "metadata": {},
   "outputs": [
    {
     "name": "stdout",
     "output_type": "stream",
     "text": [
      "first_10_classes_dict\n",
      "{   0: 'comp.sys.mac.hardware',\n",
      "    1: 'comp.os.ms-windows.misc',\n",
      "    2: 'rec.motorcycles',\n",
      "    3: 'talk.politics.misc',\n",
      "    4: 'comp.graphics',\n",
      "    5: 'talk.politics.mideast',\n",
      "    6: 'sci.med',\n",
      "    7: 'rec.sport.baseball',\n",
      "    8: 'talk.religion.misc',\n",
      "    9: 'sci.electronics'}\n",
      "id_classes_dict\n",
      "{   0: 'comp.sys.mac.hardware',\n",
      "    1: 'comp.os.ms-windows.misc',\n",
      "    2: 'rec.motorcycles',\n",
      "    3: 'talk.politics.misc',\n",
      "    4: 'comp.graphics',\n",
      "    6: 'sci.med',\n",
      "    7: 'rec.sport.baseball',\n",
      "    8: 'talk.religion.misc',\n",
      "    9: 'sci.electronics'}\n",
      "anom_classes_dict\n",
      "{5: 'talk.politics.mideast'}\n",
      "\n",
      "ID Classes\n",
      "------------\n",
      "[   'comp.sys.mac.hardware',\n",
      "    'comp.os.ms-windows.misc',\n",
      "    'rec.motorcycles',\n",
      "    'talk.politics.misc',\n",
      "    'comp.graphics',\n",
      "    'sci.med',\n",
      "    'rec.sport.baseball',\n",
      "    'talk.religion.misc',\n",
      "    'sci.electronics']\n",
      "Anomalous Classes\n",
      "------------\n",
      "['talk.politics.mideast']\n"
     ]
    },
    {
     "data": {
      "text/plain": [
       "'anom_5'"
      ]
     },
     "execution_count": 44,
     "metadata": {},
     "output_type": "execute_result"
    }
   ],
   "source": [
    "first_10_classes_dict = {}\n",
    "for ind in all_classes:\n",
    "  if ind <= 9:\n",
    "    first_10_classes_dict[ind] = all_classes[ind]\n",
    "\n",
    "id_classes_ind = [0, 1, 2, 3, 4, 6, 7, 8, 9]\n",
    "anom_classes_ind = [5]\n",
    "\n",
    "id_classes_dict = {}\n",
    "for ind in all_classes:\n",
    "  if ind in id_classes_ind:\n",
    "    id_classes_dict[ind] = first_10_classes_dict[ind]\n",
    "\n",
    "anom_classes_dict = {}\n",
    "for ind in all_classes:\n",
    "  if ind in anom_classes_ind:\n",
    "    anom_classes_dict[ind] = first_10_classes_dict[ind]\n",
    "\n",
    "print(\"first_10_classes_dict\")\n",
    "pp.pprint(first_10_classes_dict)\n",
    "print(\"id_classes_dict\")\n",
    "pp.pprint(id_classes_dict)\n",
    "print(\"anom_classes_dict\")\n",
    "pp.pprint(anom_classes_dict)\n",
    "\n",
    "id_classes_whole = list(id_classes_dict.values())\n",
    "anom_classes = list(anom_classes_dict.values())\n",
    "\n",
    "print(\"\\nID Classes\\n------------\")\n",
    "pp.pprint(id_classes_whole)\n",
    "print(\"Anomalous Classes\\n------------\")\n",
    "pp.pprint(anom_classes)\n",
    "\n",
    "anom_class_name_for_path = \"anom_%d\" % (anom_classes_ind[0])\n",
    "anom_class_name_for_path"
   ]
  },
  {
   "cell_type": "code",
   "execution_count": 45,
   "id": "16b68cd4",
   "metadata": {},
   "outputs": [
    {
     "name": "stdout",
     "output_type": "stream",
     "text": [
      "comp.sys.mac.hardware 961 192\n",
      "comp.os.ms-windows.misc 985 197\n",
      "rec.motorcycles 994 198\n",
      "talk.politics.misc 775 155\n",
      "comp.graphics 973 194\n",
      "sci.med 990 198\n",
      "rec.sport.baseball 994 198\n",
      "talk.religion.misc 628 125\n",
      "sci.electronics 981 196\n"
     ]
    }
   ],
   "source": [
    "# Test has all class labels 0 - 9. Further separated by Test_OOD\n",
    "testPath = rootPath + \"/test\"\n",
    "if os.path.exists(testPath):\n",
    "  shutil.rmtree(testPath)\n",
    "os.mkdir(testPath)\n",
    "\n",
    "for className in files:\n",
    "  if className in first_10_classes_dict.values() and className not in anom_classes:\n",
    "    path = os.path.join(rootPath, className)\n",
    "    classTestPath = testPath+\"/\"+className\n",
    "    os.mkdir(classTestPath)\n",
    "    idFiles = os.listdir(path)\n",
    "    lenIdFiles = len(idFiles)\n",
    "    testLen = math.floor(0.2 * lenIdFiles)\n",
    "    print(className, lenIdFiles, testLen)\n",
    "    for ind, idFile in enumerate(idFiles):\n",
    "      if ind <= testLen:\n",
    "        shutil.move(os.path.join(rootPath, className, idFile), classTestPath)"
   ]
  },
  {
   "cell_type": "code",
   "execution_count": 46,
   "id": "eff4669b",
   "metadata": {},
   "outputs": [
    {
     "name": "stdout",
     "output_type": "stream",
     "text": [
      "comp.sys.mac.hardware 768 153\n",
      "comp.os.ms-windows.misc 787 157\n",
      "rec.motorcycles 795 159\n",
      "talk.politics.misc 619 123\n",
      "comp.graphics 778 155\n",
      "sci.med 791 158\n",
      "rec.sport.baseball 795 159\n",
      "talk.religion.misc 502 100\n",
      "sci.electronics 784 156\n"
     ]
    }
   ],
   "source": [
    "# Validation has all class labels except for anomalous class \n",
    "# Here, 0 - 8\n",
    "testPath = rootPath + \"/val\"\n",
    "if os.path.exists(testPath):\n",
    "  shutil.rmtree(testPath)\n",
    "os.mkdir(testPath)\n",
    "\n",
    "for className in files:\n",
    "  if className in id_classes_whole:\n",
    "    path = os.path.join(rootPath, className)\n",
    "    classTestPath = testPath+\"/\"+className\n",
    "    os.mkdir(classTestPath)\n",
    "    idFiles = os.listdir(path)\n",
    "    lenIdFiles = len(idFiles)\n",
    "    testLen = math.floor(0.2 * lenIdFiles)\n",
    "    print(className, lenIdFiles, testLen)\n",
    "    for ind, idFile in enumerate(idFiles):\n",
    "      if ind <= testLen:\n",
    "        shutil.move(os.path.join(rootPath, className, idFile), classTestPath)"
   ]
  },
  {
   "cell_type": "code",
   "execution_count": 47,
   "id": "b18e1696",
   "metadata": {},
   "outputs": [
    {
     "name": "stdout",
     "output_type": "stream",
     "text": [
      "comp.sys.mac.hardware 614\n",
      "comp.os.ms-windows.misc 629\n",
      "rec.motorcycles 635\n",
      "talk.politics.misc 495\n",
      "comp.graphics 622\n",
      "sci.med 632\n",
      "rec.sport.baseball 635\n",
      "talk.religion.misc 401\n",
      "sci.electronics 627\n"
     ]
    }
   ],
   "source": [
    "# Train has all class labels except for anomalous class \n",
    "# Here, 0 - 8\n",
    "testPath = rootPath + \"/train\"\n",
    "if os.path.exists(testPath):\n",
    "  shutil.rmtree(testPath)\n",
    "os.mkdir(testPath)\n",
    "\n",
    "for className in files:\n",
    "  if className in id_classes_whole:\n",
    "    path = os.path.join(rootPath, className)\n",
    "    classTestPath = testPath+\"/\"+className\n",
    "    os.mkdir(classTestPath)\n",
    "    idFiles = os.listdir(path)\n",
    "    lenIdFiles = len(idFiles)\n",
    "    # testLen = math.floor(0.2 * lenIdFiles)\n",
    "    print(className, lenIdFiles)\n",
    "    for idFile in idFiles:\n",
    "      shutil.move(os.path.join(rootPath, className, idFile), classTestPath)"
   ]
  },
  {
   "cell_type": "code",
   "execution_count": 48,
   "id": "13d63488",
   "metadata": {},
   "outputs": [],
   "source": [
    "# Test_OOD separates anomalous classes in the test.\n",
    "# Test contains 0 - 8\n",
    "# Test_OOD contains 9\n",
    "# files = os.listdir(rootPath + \"/test\")\n",
    "\n",
    "testPath = rootPath + \"/test_ood\"\n",
    "if os.path.exists(testPath):\n",
    "  shutil.rmtree(testPath)\n",
    "os.mkdir(testPath)\n",
    "\n",
    "for className in files:\n",
    "  if className in anom_classes:\n",
    "    path = os.path.join(rootPath, className)\n",
    "    classTestPath = testPath+\"/\"+className\n",
    "    os.mkdir(classTestPath)\n",
    "    idFiles = os.listdir(path)\n",
    "    lenIdFiles = len(idFiles)\n",
    "    # testLen = math.floor(0.2 * lenIdFiles)\n",
    "    # print(className, lenIdFiles, testLen)\n",
    "    for idFile in idFiles:\n",
    "      shutil.move(os.path.join(rootPath, className, idFile), classTestPath)"
   ]
  },
  {
   "cell_type": "code",
   "execution_count": 49,
   "id": "30c98645",
   "metadata": {},
   "outputs": [],
   "source": [
    "def update_files_to_txt(id_ood_path):\n",
    "  print(\"Files in folder '%s' are renamed as .txt\" % id_ood_path)\n",
    "  files = os.listdir(id_ood_path)\n",
    "  \n",
    "  for i in files:\n",
    "    path = os.path.join(id_ood_path, i)\n",
    "    files = os.listdir(path)  \n",
    "    for index, file in enumerate(files):\n",
    "      os.rename(os.path.join(path, file), os.path.join(path, ''.join([str(index), '.txt'])))"
   ]
  },
  {
   "cell_type": "code",
   "execution_count": 50,
   "id": "91f3c285",
   "metadata": {},
   "outputs": [
    {
     "name": "stdout",
     "output_type": "stream",
     "text": [
      "Files in folder '20news-18828/test' are renamed as .txt\n",
      "Files in folder '20news-18828/test_ood' are renamed as .txt\n",
      "Files in folder '20news-18828/val' are renamed as .txt\n",
      "Files in folder '20news-18828/train' are renamed as .txt\n"
     ]
    }
   ],
   "source": [
    "update_files_to_txt('20news-18828/test')\n",
    "update_files_to_txt('20news-18828/test_ood')\n",
    "update_files_to_txt('20news-18828/val')\n",
    "update_files_to_txt('20news-18828/train')"
   ]
  },
  {
   "cell_type": "code",
   "execution_count": 51,
   "id": "a702ea9f",
   "metadata": {},
   "outputs": [
    {
     "name": "stdout",
     "output_type": "stream",
     "text": [
      "Found 1662 files belonging to 9 classes.\n"
     ]
    }
   ],
   "source": [
    "AUTOTUNE = tf.data.AUTOTUNE\n",
    "batch_size = 32\n",
    "seed = 42\n",
    "\n",
    "test_ds = tf.keras.preprocessing.text_dataset_from_directory(\n",
    "    '20news-18828/test',\n",
    "    batch_size=batch_size)\n",
    "\n",
    "test_class_names = test_ds.class_names\n",
    "test_ds = test_ds.cache().prefetch(buffer_size=AUTOTUNE)"
   ]
  },
  {
   "cell_type": "code",
   "execution_count": 52,
   "id": "130e5c92",
   "metadata": {},
   "outputs": [
    {
     "data": {
      "text/plain": [
       "['comp.graphics',\n",
       " 'comp.os.ms-windows.misc',\n",
       " 'comp.sys.mac.hardware',\n",
       " 'rec.motorcycles',\n",
       " 'rec.sport.baseball',\n",
       " 'sci.electronics',\n",
       " 'sci.med',\n",
       " 'talk.politics.misc',\n",
       " 'talk.religion.misc']"
      ]
     },
     "execution_count": 52,
     "metadata": {},
     "output_type": "execute_result"
    }
   ],
   "source": [
    "test_class_names"
   ]
  },
  {
   "cell_type": "code",
   "execution_count": 53,
   "id": "0f76b596",
   "metadata": {},
   "outputs": [
    {
     "name": "stdout",
     "output_type": "stream",
     "text": [
      "Found 940 files belonging to 1 classes.\n"
     ]
    }
   ],
   "source": [
    "AUTOTUNE = tf.data.AUTOTUNE\n",
    "batch_size = 32\n",
    "seed = 42\n",
    "\n",
    "test_ood_ds = tf.keras.preprocessing.text_dataset_from_directory(\n",
    "    '20news-18828/test_ood',\n",
    "    batch_size=batch_size)\n",
    "\n",
    "test_ood_class_names = test_ood_ds.class_names\n",
    "test_ood_ds = test_ood_ds.cache().prefetch(buffer_size=AUTOTUNE)"
   ]
  },
  {
   "cell_type": "code",
   "execution_count": 54,
   "id": "2ddd74ac",
   "metadata": {},
   "outputs": [
    {
     "data": {
      "text/plain": [
       "['talk.politics.mideast']"
      ]
     },
     "execution_count": 54,
     "metadata": {},
     "output_type": "execute_result"
    }
   ],
   "source": [
    "test_ood_class_names"
   ]
  },
  {
   "cell_type": "code",
   "execution_count": 55,
   "id": "37c80bec",
   "metadata": {},
   "outputs": [
    {
     "name": "stdout",
     "output_type": "stream",
     "text": [
      "Found 5290 files belonging to 9 classes.\n"
     ]
    }
   ],
   "source": [
    "AUTOTUNE = tf.data.AUTOTUNE\n",
    "batch_size = 32\n",
    "seed = 42\n",
    "\n",
    "train_ds = tf.keras.preprocessing.text_dataset_from_directory(\n",
    "    '20news-18828/train',\n",
    "    batch_size=batch_size)\n",
    "\n",
    "train_class_names = train_ds.class_names\n",
    "train_ds = train_ds.cache().prefetch(buffer_size=AUTOTUNE)"
   ]
  },
  {
   "cell_type": "code",
   "execution_count": 56,
   "id": "e042833a",
   "metadata": {},
   "outputs": [
    {
     "data": {
      "text/plain": [
       "['comp.graphics',\n",
       " 'comp.os.ms-windows.misc',\n",
       " 'comp.sys.mac.hardware',\n",
       " 'rec.motorcycles',\n",
       " 'rec.sport.baseball',\n",
       " 'sci.electronics',\n",
       " 'sci.med',\n",
       " 'talk.politics.misc',\n",
       " 'talk.religion.misc']"
      ]
     },
     "execution_count": 56,
     "metadata": {},
     "output_type": "execute_result"
    }
   ],
   "source": [
    "train_class_names"
   ]
  },
  {
   "cell_type": "code",
   "execution_count": 57,
   "id": "b5dc4649",
   "metadata": {},
   "outputs": [
    {
     "name": "stdout",
     "output_type": "stream",
     "text": [
      "Found 1329 files belonging to 9 classes.\n"
     ]
    }
   ],
   "source": [
    "AUTOTUNE = tf.data.AUTOTUNE\n",
    "batch_size = 32\n",
    "seed = 42\n",
    "\n",
    "val_ds = tf.keras.preprocessing.text_dataset_from_directory(\n",
    "    '20news-18828/val',\n",
    "    batch_size=batch_size)\n",
    "\n",
    "val_class_names = val_ds.class_names\n",
    "val_ds = val_ds.cache().prefetch(buffer_size=AUTOTUNE)"
   ]
  },
  {
   "cell_type": "code",
   "execution_count": 58,
   "id": "7c9332e2",
   "metadata": {},
   "outputs": [
    {
     "data": {
      "text/plain": [
       "['comp.graphics',\n",
       " 'comp.os.ms-windows.misc',\n",
       " 'comp.sys.mac.hardware',\n",
       " 'rec.motorcycles',\n",
       " 'rec.sport.baseball',\n",
       " 'sci.electronics',\n",
       " 'sci.med',\n",
       " 'talk.politics.misc',\n",
       " 'talk.religion.misc']"
      ]
     },
     "execution_count": 58,
     "metadata": {},
     "output_type": "execute_result"
    }
   ],
   "source": [
    "val_class_names"
   ]
  },
  {
   "cell_type": "code",
   "execution_count": 59,
   "id": "8d630364",
   "metadata": {},
   "outputs": [
    {
     "name": "stdout",
     "output_type": "stream",
     "text": [
      "Train labels {0, 1, 2, 3, 4, 5, 6, 7, 8}\n",
      "Val labels {0, 1, 2, 3, 4, 5, 6, 7, 8}\n",
      "Test ID labels {0, 1, 2, 3, 4, 5, 6, 7, 8}\n",
      "Test OOD labels {0}\n"
     ]
    }
   ],
   "source": [
    "# Checking for class labels\n",
    "def get_set_labels(ds):\n",
    "  labels = []\n",
    "  for _, label in ds:\n",
    "    labels.extend(label.numpy())\n",
    "  return set(labels)\n",
    "\n",
    "print(\"Train labels\", get_set_labels(train_ds))\n",
    "print(\"Val labels\", get_set_labels(val_ds))\n",
    "print(\"Test ID labels\", get_set_labels(test_ds))\n",
    "print(\"Test OOD labels\", get_set_labels(test_ood_ds))"
   ]
  },
  {
   "cell_type": "code",
   "execution_count": 60,
   "id": "5c21ec56",
   "metadata": {},
   "outputs": [
    {
     "name": "stdout",
     "output_type": "stream",
     "text": [
      "Train class names\n",
      "0 comp.graphics\n",
      "1 comp.os.ms-windows.misc\n",
      "2 comp.sys.mac.hardware\n",
      "3 rec.motorcycles\n",
      "4 rec.sport.baseball\n",
      "5 sci.electronics\n",
      "6 sci.med\n",
      "7 talk.politics.misc\n",
      "8 talk.religion.misc\n",
      "\n",
      "Val class names\n",
      "0 comp.graphics\n",
      "1 comp.os.ms-windows.misc\n",
      "2 comp.sys.mac.hardware\n",
      "3 rec.motorcycles\n",
      "4 rec.sport.baseball\n",
      "5 sci.electronics\n",
      "6 sci.med\n",
      "7 talk.politics.misc\n",
      "8 talk.religion.misc\n",
      "\n",
      "Test ID class names\n",
      "0 comp.graphics\n",
      "1 comp.os.ms-windows.misc\n",
      "2 comp.sys.mac.hardware\n",
      "3 rec.motorcycles\n",
      "4 rec.sport.baseball\n",
      "5 sci.electronics\n",
      "6 sci.med\n",
      "7 talk.politics.misc\n",
      "8 talk.religion.misc\n",
      "\n",
      "Test OOD class names\n",
      "0 talk.politics.mideast\n"
     ]
    }
   ],
   "source": [
    "# Class labels and class names\n",
    "def get_class_names(class_names):\n",
    "  for ind, name in enumerate(class_names):\n",
    "    print(ind, name)\n",
    "\n",
    "print(\"Train class names\")\n",
    "get_class_names(train_class_names)\n",
    "print(\"\\nVal class names\")\n",
    "get_class_names(val_class_names)\n",
    "print(\"\\nTest ID class names\")\n",
    "get_class_names(test_class_names)\n",
    "print(\"\\nTest OOD class names\")\n",
    "get_class_names(test_ood_class_names)"
   ]
  },
  {
   "cell_type": "code",
   "execution_count": 61,
   "id": "90c9e440",
   "metadata": {},
   "outputs": [
    {
     "name": "stdout",
     "output_type": "stream",
     "text": [
      "outputs/anom_5/ is already present.\n"
     ]
    }
   ],
   "source": [
    "all_test_class_names = test_class_names + test_ood_class_names\n",
    "\n",
    "models_path = \"outputs/\" + anom_class_name_for_path + \"/\"\n",
    "\n",
    "try:\n",
    "  os.mkdir(models_path)\n",
    "except:\n",
    "  print(models_path, \"is already present.\")\n",
    "  pass\n",
    "\n",
    "pickle_file_name = models_path + 'all_test_class_names'\n",
    "out_file = open(pickle_file_name,\"wb\")\n",
    "pickle.dump(all_test_class_names, out_file)\n",
    "out_file.close()"
   ]
  },
  {
   "cell_type": "code",
   "execution_count": 62,
   "id": "eeb8cccc",
   "metadata": {},
   "outputs": [],
   "source": [
    "class InOutData:\n",
    "  def __init__(self, leave_out_ind, id_classes_whole): \n",
    "    self.leave_out_class = id_classes_whole[leave_out_ind]\n",
    "    self.id_classes_whole = id_classes_whole\n",
    "    self.id_classes, self.ood_classes = self.get_id_ood_classes()\n",
    "\n",
    "    # do the steps for train ds\n",
    "    self.root_path = '20news-18828/train'\n",
    "    self.reset_id_ood_folders()\n",
    "    self.divide_id_ood_folders()\n",
    "    self.id_path = self.root_path + '/id_classes'\n",
    "    # self.ood_path = self.root_path + '/ood_classes'\n",
    "    self.update_files_to_txt(self.id_path)\n",
    "    # self.update_files_to_txt(self.ood_path)\n",
    "    self.train_ds, self.train_class_names = self.get_ds(self.id_path)\n",
    "\n",
    "    # do the steps for val ds\n",
    "    self.root_path = '20news-18828/val'\n",
    "    self.reset_id_ood_folders()\n",
    "    self.divide_id_ood_folders()\n",
    "    self.id_path = self.root_path + '/id_classes'\n",
    "    self.ood_path = self.root_path + '/ood_classes'\n",
    "    self.update_files_to_txt(self.id_path)\n",
    "    self.update_files_to_txt(self.ood_path)\n",
    "    self.val_ds, self.val_class_names = self.get_ds(self.id_path)\n",
    "    self.ood_ds, self.ood_class_names = self.get_ds(self.ood_path)\n",
    "\n",
    "  def get_id_ood_classes(self):\n",
    "    print(\"Fetching ID and OOD classes\")\n",
    "    id_classes, ood_classes = [], []\n",
    "    for i in self.id_classes_whole:\n",
    "      if i not in self.leave_out_class:\n",
    "        id_classes.append(i)\n",
    "      else:\n",
    "        ood_classes.append(i)\n",
    "    print(\"ID Classes\")\n",
    "    for name in id_classes:\n",
    "      ind = id_classes_whole.index(name)\n",
    "      print(ind, name)\n",
    "    print(\"OOD Classes\")\n",
    "    for name in ood_classes:\n",
    "      ind = id_classes_whole.index(name)\n",
    "      print(ind, name)\n",
    "    return id_classes, ood_classes\n",
    "\n",
    "  def reset_id_ood_folders(self):\n",
    "    print(\"Resetting ID and OOD folders\")\n",
    "    if os.path.exists(self.root_path + \"/id_classes\"):\n",
    "      shutil.rmtree(self.root_path + \"/id_classes\")\n",
    "\n",
    "    if os.path.exists(self.root_path + \"/ood_classes\"):\n",
    "      shutil.rmtree(self.root_path + \"/ood_classes\")\n",
    "      \n",
    "    os.mkdir(self.root_path + \"/id_classes\")\n",
    "    os.mkdir(self.root_path + \"/ood_classes\")\n",
    "  \n",
    "  def divide_id_ood_folders(self):\n",
    "    print(\"Dividing dataset as ID and OOD\")\n",
    "    files = os.listdir(self.root_path)\n",
    "\n",
    "    id_ood_str = \"\"\n",
    "\n",
    "    for i in files:\n",
    "      if i not in [\"id_classes\", \"ood_classes\"]:\n",
    "        if i in self.id_classes:\n",
    "          id_ood_str = \"id_classes\"\n",
    "        elif i in self.ood_classes:\n",
    "          id_ood_str = \"ood_classes\"\n",
    "        else:\n",
    "          id_ood_str = \"\"\n",
    "        path = os.path.join(self.root_path, id_ood_str, i)\n",
    "\n",
    "      if id_ood_str != \"\":\n",
    "        try:\n",
    "          os.mkdir(path)\n",
    "        except:\n",
    "          pass\n",
    "\n",
    "      orPath = os.path.join(self.root_path, i)\n",
    "\n",
    "      files_ = os.listdir(orPath)\n",
    "      for i in files_:\n",
    "        try:\n",
    "          shutil.copy(os.path.join(orPath, i), path)\n",
    "        except:\n",
    "          pass\n",
    "\n",
    "  def update_files_to_txt(self, id_ood_path):\n",
    "      print(\"Files in folder '%s' are renamed as .txt\" % id_ood_path)\n",
    "      files = os.listdir(id_ood_path)\n",
    "\n",
    "      for i in files:\n",
    "        path = os.path.join(id_ood_path, i)\n",
    "        files = os.listdir(path)  \n",
    "        for index, file in enumerate(files):\n",
    "          os.rename(os.path.join(path, file), os.path.join(path, ''.join([str(index), '.txt'])))\n",
    "\n",
    "  def get_ds(self, path):\n",
    "    AUTOTUNE = tf.data.AUTOTUNE\n",
    "    batch_size = 32\n",
    "    seed = 42\n",
    "\n",
    "    ds = tf.keras.preprocessing.text_dataset_from_directory(\n",
    "        path,\n",
    "        batch_size=batch_size)\n",
    "\n",
    "    class_names = ds.class_names\n",
    "    ds = ds.cache().prefetch(buffer_size=AUTOTUNE)\n",
    "\n",
    "    return ds, class_names"
   ]
  },
  {
   "cell_type": "code",
   "execution_count": 119,
   "id": "32ad003c",
   "metadata": {},
   "outputs": [],
   "source": [
    "class BERTModel:\n",
    "  def __init__(self, train_ds):\n",
    "    self.tfhub_handle_encoder = 'https://tfhub.dev/tensorflow/bert_en_uncased_L-12_H-768_A-12/3'\n",
    "    self.tfhub_handle_preprocess = 'https://tfhub.dev/tensorflow/bert_en_uncased_preprocess/3'\n",
    "    self.bert_preprocess_model = hub.KerasLayer(self.tfhub_handle_preprocess)\n",
    "    self.bert_model = hub.KerasLayer(self.tfhub_handle_encoder)\n",
    "    self.train_ds = train_ds\n",
    "    \n",
    "    self.num_of_classes = 8 # after leaving out one class, only 8 classes left\n",
    "    self.classifier_model = self.build_classifier_model()\n",
    "\n",
    "    self.loss = tf.keras.losses.SparseCategoricalCrossentropy(from_logits=True)\n",
    "    self.metrics = tf.metrics.SparseCategoricalAccuracy()\n",
    "    self.optimizer = self.build_optimizer()\n",
    "\n",
    "    self.classifier_model.compile(\n",
    "        optimizer=self.optimizer,\n",
    "        loss=self.loss,\n",
    "        metrics=self.metrics,\n",
    "      )\n",
    "\n",
    "\n",
    "  def build_classifier_model(self):\n",
    "    text_input = tf.keras.layers.Input(shape=(), dtype=tf.string, name='text')\n",
    "    preprocessing_layer = hub.KerasLayer(self.tfhub_handle_preprocess, name='preprocessing')\n",
    "    encoder_inputs = preprocessing_layer(text_input)\n",
    "    encoder = hub.KerasLayer(self.tfhub_handle_encoder, trainable=True, name='BERT_encoder')\n",
    "    outputs = encoder(encoder_inputs)\n",
    "    net = outputs['pooled_output']\n",
    "    net = tf.keras.layers.Dropout(0.1)(net)\n",
    "    net = tf.keras.layers.Dense(self.num_of_classes, activation=None, name='classifier')(net)\n",
    "    return tf.keras.Model(text_input, net)\n",
    "\n",
    "  def build_optimizer(self):\n",
    "    epochs = 10\n",
    "    steps_per_epoch = tf.data.experimental.cardinality(self.train_ds).numpy()\n",
    "    num_train_steps = steps_per_epoch * epochs\n",
    "    num_warmup_steps = int(0.1*num_train_steps)\n",
    "    # print(num_train_steps)\n",
    "    init_lr = 3e-5\n",
    "    optimizer = optimization.create_optimizer(init_lr=init_lr,\n",
    "                                              num_train_steps=num_train_steps,\n",
    "                                              num_warmup_steps=num_warmup_steps,\n",
    "                                              optimizer_type='adamw')\n",
    "    return optimizer"
   ]
  },
  {
   "cell_type": "code",
   "execution_count": 120,
   "id": "6d72c8d7",
   "metadata": {},
   "outputs": [],
   "source": [
    "def getScores(class_ind, model, classifier_name):\n",
    "  def get_labels_and_logits(ds):\n",
    "    y = []\n",
    "    logits = []\n",
    "    for text_batch, label_batch in ds:\n",
    "      label = label_batch.numpy()\n",
    "      for lbl in label:\n",
    "        y.append(lbl)\n",
    "      text_test = text_batch\n",
    "      bert_raw_result = model(text_test)\n",
    "      for batch in bert_raw_result:\n",
    "        logits.append(batch)\n",
    "    return y, logits\n",
    "\n",
    "\n",
    "  y_val, logits_val = get_labels_and_logits(class_ind.val_ds)\n",
    "  y_ood, logits_ood = get_labels_and_logits(class_ind.ood_ds)\n",
    "  y_test, logits_test = get_labels_and_logits(test_ds)\n",
    "  y_anom, logits_anom = get_labels_and_logits(test_ood_ds)\n",
    "\n",
    "  out = {\n",
    "      'y_val': y_val,\n",
    "      'y_ood': y_ood,\n",
    "      'y_test': y_test,\n",
    "      'y_anom': y_anom,\n",
    "      'logits_val': logits_val,\n",
    "      'logits_ood': logits_ood,\n",
    "      'logits_test': logits_test,\n",
    "      'logits_anom': logits_anom,\n",
    "      'train_class_names': class_ind.train_class_names,\n",
    "      'val_class_names': class_ind.val_class_names,\n",
    "      'ood_class_names': class_ind.ood_class_names\n",
    "  }\n",
    "  \n",
    "  models_path = \"outputs/\" + anom_class_name_for_path + \"/\"\n",
    "  #if os.path.exists(models_path):\n",
    "  #  shutil.rmtree(models_path)\n",
    "  #os.mkdir(models_path)\n",
    "  \n",
    "  pickle_file_name = models_path + '%s_out' % classifier_name\n",
    "  out_file = open(pickle_file_name,\"wb\")\n",
    "  pickle.dump(out, out_file)\n",
    "  out_file.close()"
   ]
  },
  {
   "cell_type": "code",
   "execution_count": 121,
   "id": "61f6af08",
   "metadata": {},
   "outputs": [],
   "source": [
    "def train_model(classifier_name, leave_out_ind):\n",
    "  # Fetch dataset\n",
    "  class_ind = InOutData(leave_out_ind=leave_out_ind, id_classes_whole=id_classes_whole)\n",
    "  # Build and plot model\n",
    "  classifier_ind = BERTModel(class_ind.train_ds)\n",
    "\n",
    "  # Train model\n",
    "  classifier_ind.classifier_model.fit(x=class_ind.train_ds,\n",
    "                                      batch_size=32,\n",
    "                                      validation_data=class_ind.val_ds,\n",
    "                                      epochs=10, \n",
    "                                      verbose=1)\n",
    "\n",
    "  # Save model\n",
    "  # models_path = '/content/drive/MyDrive/Uni Projects/Anomaly Detection using Ensembles/Experiments/Text Dataset/models/'\n",
    "  # dataset_name = '%s_model' % classifier_name\n",
    "  # saved_model_path = models_path+'{}'.format(dataset_name.replace('/', '_'))\n",
    "  # classifier_ind.classifier_model.save(saved_model_path, include_optimizer=True)\n",
    "  getScores(class_ind, classifier_ind.classifier_model, classifier_name)\n",
    "\n",
    "  return classifier_ind.classifier_model"
   ]
  },
  {
   "cell_type": "markdown",
   "id": "bedaa69f",
   "metadata": {},
   "source": [
    "# Models"
   ]
  },
  {
   "cell_type": "code",
   "execution_count": 122,
   "id": "5a7a1399",
   "metadata": {},
   "outputs": [
    {
     "name": "stdout",
     "output_type": "stream",
     "text": [
      "Fetching ID and OOD classes\n",
      "ID Classes\n",
      "1 comp.os.ms-windows.misc\n",
      "2 rec.motorcycles\n",
      "3 talk.politics.misc\n",
      "4 comp.graphics\n",
      "5 sci.med\n",
      "6 rec.sport.baseball\n",
      "7 talk.religion.misc\n",
      "8 sci.electronics\n",
      "OOD Classes\n",
      "0 comp.sys.mac.hardware\n",
      "Resetting ID and OOD folders\n",
      "Dividing dataset as ID and OOD\n",
      "Files in folder '20news-18828/train/id_classes' are renamed as .txt\n",
      "Found 2340 files belonging to 8 classes.\n",
      "Resetting ID and OOD folders\n",
      "Dividing dataset as ID and OOD\n",
      "Files in folder '20news-18828/val/id_classes' are renamed as .txt\n",
      "Files in folder '20news-18828/val/ood_classes' are renamed as .txt\n",
      "Found 607 files belonging to 8 classes.\n",
      "Found 79 files belonging to 1 classes.\n"
     ]
    },
    {
     "ename": "KeyboardInterrupt",
     "evalue": "",
     "output_type": "error",
     "traceback": [
      "\u001b[0;31m---------------------------------------------------------------------------\u001b[0m",
      "\u001b[0;31mKeyboardInterrupt\u001b[0m                         Traceback (most recent call last)",
      "\u001b[0;32m<ipython-input-122-a0654c52698e>\u001b[0m in \u001b[0;36m<module>\u001b[0;34m\u001b[0m\n\u001b[0;32m----> 1\u001b[0;31m \u001b[0mmodel0\u001b[0m \u001b[0;34m=\u001b[0m \u001b[0mtrain_model\u001b[0m\u001b[0;34m(\u001b[0m\u001b[0mclassifier_name\u001b[0m\u001b[0;34m=\u001b[0m\u001b[0;34m\"class_0\"\u001b[0m\u001b[0;34m,\u001b[0m \u001b[0mleave_out_ind\u001b[0m\u001b[0;34m=\u001b[0m\u001b[0;36m0\u001b[0m\u001b[0;34m)\u001b[0m\u001b[0;34m\u001b[0m\u001b[0;34m\u001b[0m\u001b[0m\n\u001b[0m",
      "\u001b[0;32m<ipython-input-121-1406654796d6>\u001b[0m in \u001b[0;36mtrain_model\u001b[0;34m(classifier_name, leave_out_ind)\u001b[0m\n\u001b[1;32m      3\u001b[0m   \u001b[0mclass_ind\u001b[0m \u001b[0;34m=\u001b[0m \u001b[0mInOutData\u001b[0m\u001b[0;34m(\u001b[0m\u001b[0mleave_out_ind\u001b[0m\u001b[0;34m=\u001b[0m\u001b[0mleave_out_ind\u001b[0m\u001b[0;34m,\u001b[0m \u001b[0mid_classes_whole\u001b[0m\u001b[0;34m=\u001b[0m\u001b[0mid_classes_whole\u001b[0m\u001b[0;34m)\u001b[0m\u001b[0;34m\u001b[0m\u001b[0;34m\u001b[0m\u001b[0m\n\u001b[1;32m      4\u001b[0m   \u001b[0;31m# Build and plot model\u001b[0m\u001b[0;34m\u001b[0m\u001b[0;34m\u001b[0m\u001b[0;34m\u001b[0m\u001b[0m\n\u001b[0;32m----> 5\u001b[0;31m   \u001b[0mclassifier_ind\u001b[0m \u001b[0;34m=\u001b[0m \u001b[0mBERTModel\u001b[0m\u001b[0;34m(\u001b[0m\u001b[0mclass_ind\u001b[0m\u001b[0;34m.\u001b[0m\u001b[0mtrain_ds\u001b[0m\u001b[0;34m)\u001b[0m\u001b[0;34m\u001b[0m\u001b[0;34m\u001b[0m\u001b[0m\n\u001b[0m\u001b[1;32m      6\u001b[0m \u001b[0;34m\u001b[0m\u001b[0m\n\u001b[1;32m      7\u001b[0m   \u001b[0;31m# Train model\u001b[0m\u001b[0;34m\u001b[0m\u001b[0;34m\u001b[0m\u001b[0;34m\u001b[0m\u001b[0m\n",
      "\u001b[0;32m<ipython-input-119-6d0fa4955dd3>\u001b[0m in \u001b[0;36m__init__\u001b[0;34m(self, train_ds)\u001b[0m\n\u001b[1;32m      4\u001b[0m     \u001b[0mself\u001b[0m\u001b[0;34m.\u001b[0m\u001b[0mtfhub_handle_preprocess\u001b[0m \u001b[0;34m=\u001b[0m \u001b[0;34m'https://tfhub.dev/tensorflow/bert_en_uncased_preprocess/3'\u001b[0m\u001b[0;34m\u001b[0m\u001b[0;34m\u001b[0m\u001b[0m\n\u001b[1;32m      5\u001b[0m     \u001b[0mself\u001b[0m\u001b[0;34m.\u001b[0m\u001b[0mbert_preprocess_model\u001b[0m \u001b[0;34m=\u001b[0m \u001b[0mhub\u001b[0m\u001b[0;34m.\u001b[0m\u001b[0mKerasLayer\u001b[0m\u001b[0;34m(\u001b[0m\u001b[0mself\u001b[0m\u001b[0;34m.\u001b[0m\u001b[0mtfhub_handle_preprocess\u001b[0m\u001b[0;34m)\u001b[0m\u001b[0;34m\u001b[0m\u001b[0;34m\u001b[0m\u001b[0m\n\u001b[0;32m----> 6\u001b[0;31m     \u001b[0mself\u001b[0m\u001b[0;34m.\u001b[0m\u001b[0mbert_model\u001b[0m \u001b[0;34m=\u001b[0m \u001b[0mhub\u001b[0m\u001b[0;34m.\u001b[0m\u001b[0mKerasLayer\u001b[0m\u001b[0;34m(\u001b[0m\u001b[0mself\u001b[0m\u001b[0;34m.\u001b[0m\u001b[0mtfhub_handle_encoder\u001b[0m\u001b[0;34m)\u001b[0m\u001b[0;34m\u001b[0m\u001b[0;34m\u001b[0m\u001b[0m\n\u001b[0m\u001b[1;32m      7\u001b[0m     \u001b[0mself\u001b[0m\u001b[0;34m.\u001b[0m\u001b[0mtrain_ds\u001b[0m \u001b[0;34m=\u001b[0m \u001b[0mtrain_ds\u001b[0m\u001b[0;34m\u001b[0m\u001b[0;34m\u001b[0m\u001b[0m\n\u001b[1;32m      8\u001b[0m \u001b[0;34m\u001b[0m\u001b[0m\n",
      "\u001b[0;32m~/coliee/coliee_test/lib/python3.8/site-packages/tensorflow_hub/keras_layer.py\u001b[0m in \u001b[0;36m__init__\u001b[0;34m(self, handle, trainable, arguments, _sentinel, tags, signature, signature_outputs_as_dict, output_key, output_shape, load_options, **kwargs)\u001b[0m\n\u001b[1;32m    151\u001b[0m \u001b[0;34m\u001b[0m\u001b[0m\n\u001b[1;32m    152\u001b[0m     \u001b[0mself\u001b[0m\u001b[0;34m.\u001b[0m\u001b[0m_load_options\u001b[0m \u001b[0;34m=\u001b[0m \u001b[0mload_options\u001b[0m\u001b[0;34m\u001b[0m\u001b[0;34m\u001b[0m\u001b[0m\n\u001b[0;32m--> 153\u001b[0;31m     \u001b[0mself\u001b[0m\u001b[0;34m.\u001b[0m\u001b[0m_func\u001b[0m \u001b[0;34m=\u001b[0m \u001b[0mload_module\u001b[0m\u001b[0;34m(\u001b[0m\u001b[0mhandle\u001b[0m\u001b[0;34m,\u001b[0m \u001b[0mtags\u001b[0m\u001b[0;34m,\u001b[0m \u001b[0mself\u001b[0m\u001b[0;34m.\u001b[0m\u001b[0m_load_options\u001b[0m\u001b[0;34m)\u001b[0m\u001b[0;34m\u001b[0m\u001b[0;34m\u001b[0m\u001b[0m\n\u001b[0m\u001b[1;32m    154\u001b[0m     \u001b[0mself\u001b[0m\u001b[0;34m.\u001b[0m\u001b[0m_has_training_argument\u001b[0m \u001b[0;34m=\u001b[0m \u001b[0mfunc_has_training_argument\u001b[0m\u001b[0;34m(\u001b[0m\u001b[0mself\u001b[0m\u001b[0;34m.\u001b[0m\u001b[0m_func\u001b[0m\u001b[0;34m)\u001b[0m\u001b[0;34m\u001b[0m\u001b[0;34m\u001b[0m\u001b[0m\n\u001b[1;32m    155\u001b[0m     \u001b[0mself\u001b[0m\u001b[0;34m.\u001b[0m\u001b[0m_is_hub_module_v1\u001b[0m \u001b[0;34m=\u001b[0m \u001b[0mgetattr\u001b[0m\u001b[0;34m(\u001b[0m\u001b[0mself\u001b[0m\u001b[0;34m.\u001b[0m\u001b[0m_func\u001b[0m\u001b[0;34m,\u001b[0m \u001b[0;34m\"_is_hub_module_v1\"\u001b[0m\u001b[0;34m,\u001b[0m \u001b[0;32mFalse\u001b[0m\u001b[0;34m)\u001b[0m\u001b[0;34m\u001b[0m\u001b[0;34m\u001b[0m\u001b[0m\n",
      "\u001b[0;32m~/coliee/coliee_test/lib/python3.8/site-packages/tensorflow_hub/keras_layer.py\u001b[0m in \u001b[0;36mload_module\u001b[0;34m(handle, tags, load_options)\u001b[0m\n\u001b[1;32m    447\u001b[0m       \u001b[0;32mexcept\u001b[0m \u001b[0mImportError\u001b[0m\u001b[0;34m:\u001b[0m  \u001b[0;31m# Expected before TF2.4.\u001b[0m\u001b[0;34m\u001b[0m\u001b[0;34m\u001b[0m\u001b[0m\n\u001b[1;32m    448\u001b[0m         \u001b[0mset_load_options\u001b[0m \u001b[0;34m=\u001b[0m \u001b[0mload_options\u001b[0m\u001b[0;34m\u001b[0m\u001b[0;34m\u001b[0m\u001b[0m\n\u001b[0;32m--> 449\u001b[0;31m     \u001b[0;32mreturn\u001b[0m \u001b[0mmodule_v2\u001b[0m\u001b[0;34m.\u001b[0m\u001b[0mload\u001b[0m\u001b[0;34m(\u001b[0m\u001b[0mhandle\u001b[0m\u001b[0;34m,\u001b[0m \u001b[0mtags\u001b[0m\u001b[0;34m=\u001b[0m\u001b[0mtags\u001b[0m\u001b[0;34m,\u001b[0m \u001b[0moptions\u001b[0m\u001b[0;34m=\u001b[0m\u001b[0mset_load_options\u001b[0m\u001b[0;34m)\u001b[0m\u001b[0;34m\u001b[0m\u001b[0;34m\u001b[0m\u001b[0m\n\u001b[0m\u001b[1;32m    450\u001b[0m \u001b[0;34m\u001b[0m\u001b[0m\n\u001b[1;32m    451\u001b[0m \u001b[0;34m\u001b[0m\u001b[0m\n",
      "\u001b[0;32m~/coliee/coliee_test/lib/python3.8/site-packages/tensorflow_hub/module_v2.py\u001b[0m in \u001b[0;36mload\u001b[0;34m(handle, tags, options)\u001b[0m\n\u001b[1;32m    104\u001b[0m         module_path, tags=tags, options=options)\n\u001b[1;32m    105\u001b[0m   \u001b[0;32melse\u001b[0m\u001b[0;34m:\u001b[0m\u001b[0;34m\u001b[0m\u001b[0;34m\u001b[0m\u001b[0m\n\u001b[0;32m--> 106\u001b[0;31m     \u001b[0mobj\u001b[0m \u001b[0;34m=\u001b[0m \u001b[0mtf\u001b[0m\u001b[0;34m.\u001b[0m\u001b[0mcompat\u001b[0m\u001b[0;34m.\u001b[0m\u001b[0mv1\u001b[0m\u001b[0;34m.\u001b[0m\u001b[0msaved_model\u001b[0m\u001b[0;34m.\u001b[0m\u001b[0mload_v2\u001b[0m\u001b[0;34m(\u001b[0m\u001b[0mmodule_path\u001b[0m\u001b[0;34m,\u001b[0m \u001b[0mtags\u001b[0m\u001b[0;34m=\u001b[0m\u001b[0mtags\u001b[0m\u001b[0;34m)\u001b[0m\u001b[0;34m\u001b[0m\u001b[0;34m\u001b[0m\u001b[0m\n\u001b[0m\u001b[1;32m    107\u001b[0m   \u001b[0mobj\u001b[0m\u001b[0;34m.\u001b[0m\u001b[0m_is_hub_module_v1\u001b[0m \u001b[0;34m=\u001b[0m \u001b[0mis_hub_module_v1\u001b[0m  \u001b[0;31m# pylint: disable=protected-access\u001b[0m\u001b[0;34m\u001b[0m\u001b[0;34m\u001b[0m\u001b[0m\n\u001b[1;32m    108\u001b[0m   \u001b[0;32mreturn\u001b[0m \u001b[0mobj\u001b[0m\u001b[0;34m\u001b[0m\u001b[0;34m\u001b[0m\u001b[0m\n",
      "\u001b[0;32m~/coliee/coliee_test/lib/python3.8/site-packages/tensorflow/python/saved_model/load.py\u001b[0m in \u001b[0;36mload\u001b[0;34m(export_dir, tags, options)\u001b[0m\n\u001b[1;32m    857\u001b[0m     \u001b[0mValueError\u001b[0m\u001b[0;34m:\u001b[0m \u001b[0mIf\u001b[0m\u001b[0;31m \u001b[0m\u001b[0;31m`\u001b[0m\u001b[0mtags\u001b[0m\u001b[0;31m`\u001b[0m \u001b[0mdon\u001b[0m\u001b[0;31m'\u001b[0m\u001b[0mt\u001b[0m \u001b[0mmatch\u001b[0m \u001b[0ma\u001b[0m \u001b[0mMetaGraph\u001b[0m \u001b[0;32min\u001b[0m \u001b[0mthe\u001b[0m \u001b[0mSavedModel\u001b[0m\u001b[0;34m.\u001b[0m\u001b[0;34m\u001b[0m\u001b[0;34m\u001b[0m\u001b[0m\n\u001b[1;32m    858\u001b[0m   \"\"\"\n\u001b[0;32m--> 859\u001b[0;31m   \u001b[0;32mreturn\u001b[0m \u001b[0mload_internal\u001b[0m\u001b[0;34m(\u001b[0m\u001b[0mexport_dir\u001b[0m\u001b[0;34m,\u001b[0m \u001b[0mtags\u001b[0m\u001b[0;34m,\u001b[0m \u001b[0moptions\u001b[0m\u001b[0;34m)\u001b[0m\u001b[0;34m[\u001b[0m\u001b[0;34m\"root\"\u001b[0m\u001b[0;34m]\u001b[0m\u001b[0;34m\u001b[0m\u001b[0;34m\u001b[0m\u001b[0m\n\u001b[0m\u001b[1;32m    860\u001b[0m \u001b[0;34m\u001b[0m\u001b[0m\n\u001b[1;32m    861\u001b[0m \u001b[0;34m\u001b[0m\u001b[0m\n",
      "\u001b[0;32m~/coliee/coliee_test/lib/python3.8/site-packages/tensorflow/python/saved_model/load.py\u001b[0m in \u001b[0;36mload_internal\u001b[0;34m(export_dir, tags, options, loader_cls, filters)\u001b[0m\n\u001b[1;32m    887\u001b[0m     \u001b[0;32mwith\u001b[0m \u001b[0mops\u001b[0m\u001b[0;34m.\u001b[0m\u001b[0minit_scope\u001b[0m\u001b[0;34m(\u001b[0m\u001b[0;34m)\u001b[0m\u001b[0;34m:\u001b[0m\u001b[0;34m\u001b[0m\u001b[0;34m\u001b[0m\u001b[0m\n\u001b[1;32m    888\u001b[0m       \u001b[0;32mtry\u001b[0m\u001b[0;34m:\u001b[0m\u001b[0;34m\u001b[0m\u001b[0;34m\u001b[0m\u001b[0m\n\u001b[0;32m--> 889\u001b[0;31m         loader = loader_cls(object_graph_proto, saved_model_proto, export_dir,\n\u001b[0m\u001b[1;32m    890\u001b[0m                             ckpt_options, filters)\n\u001b[1;32m    891\u001b[0m       \u001b[0;32mexcept\u001b[0m \u001b[0merrors\u001b[0m\u001b[0;34m.\u001b[0m\u001b[0mNotFoundError\u001b[0m \u001b[0;32mas\u001b[0m \u001b[0merr\u001b[0m\u001b[0;34m:\u001b[0m\u001b[0;34m\u001b[0m\u001b[0;34m\u001b[0m\u001b[0m\n",
      "\u001b[0;32m~/coliee/coliee_test/lib/python3.8/site-packages/tensorflow/python/saved_model/load.py\u001b[0m in \u001b[0;36m__init__\u001b[0;34m(self, object_graph_proto, saved_model_proto, export_dir, ckpt_options, filters)\u001b[0m\n\u001b[1;32m    129\u001b[0m     \u001b[0mself\u001b[0m\u001b[0;34m.\u001b[0m\u001b[0m_export_dir\u001b[0m \u001b[0;34m=\u001b[0m \u001b[0mexport_dir\u001b[0m\u001b[0;34m\u001b[0m\u001b[0;34m\u001b[0m\u001b[0m\n\u001b[1;32m    130\u001b[0m     self._concrete_functions = (\n\u001b[0;32m--> 131\u001b[0;31m         function_deserialization.load_function_def_library(\n\u001b[0m\u001b[1;32m    132\u001b[0m             meta_graph.graph_def.library))\n\u001b[1;32m    133\u001b[0m     \u001b[0mself\u001b[0m\u001b[0;34m.\u001b[0m\u001b[0m_checkpoint_options\u001b[0m \u001b[0;34m=\u001b[0m \u001b[0mckpt_options\u001b[0m\u001b[0;34m\u001b[0m\u001b[0;34m\u001b[0m\u001b[0m\n",
      "\u001b[0;32m~/coliee/coliee_test/lib/python3.8/site-packages/tensorflow/python/saved_model/function_deserialization.py\u001b[0m in \u001b[0;36mload_function_def_library\u001b[0;34m(library, load_shared_name_suffix)\u001b[0m\n\u001b[1;32m    338\u001b[0m     \u001b[0;31m# import).\u001b[0m\u001b[0;34m\u001b[0m\u001b[0;34m\u001b[0m\u001b[0;34m\u001b[0m\u001b[0m\n\u001b[1;32m    339\u001b[0m     \u001b[0;32mwith\u001b[0m \u001b[0mgraph\u001b[0m\u001b[0;34m.\u001b[0m\u001b[0mas_default\u001b[0m\u001b[0;34m(\u001b[0m\u001b[0;34m)\u001b[0m\u001b[0;34m:\u001b[0m\u001b[0;34m\u001b[0m\u001b[0;34m\u001b[0m\u001b[0m\n\u001b[0;32m--> 340\u001b[0;31m       \u001b[0mfunc_graph\u001b[0m \u001b[0;34m=\u001b[0m \u001b[0mfunction_def_lib\u001b[0m\u001b[0;34m.\u001b[0m\u001b[0mfunction_def_to_graph\u001b[0m\u001b[0;34m(\u001b[0m\u001b[0mcopy\u001b[0m\u001b[0;34m)\u001b[0m\u001b[0;34m\u001b[0m\u001b[0;34m\u001b[0m\u001b[0m\n\u001b[0m\u001b[1;32m    341\u001b[0m     \u001b[0m_restore_gradient_functions\u001b[0m\u001b[0;34m(\u001b[0m\u001b[0mfunc_graph\u001b[0m\u001b[0;34m,\u001b[0m \u001b[0mrenamed_functions\u001b[0m\u001b[0;34m)\u001b[0m\u001b[0;34m\u001b[0m\u001b[0;34m\u001b[0m\u001b[0m\n\u001b[1;32m    342\u001b[0m \u001b[0;34m\u001b[0m\u001b[0m\n",
      "\u001b[0;32m~/coliee/coliee_test/lib/python3.8/site-packages/tensorflow/python/framework/function_def_to_graph.py\u001b[0m in \u001b[0;36mfunction_def_to_graph\u001b[0;34m(fdef, input_shapes)\u001b[0m\n\u001b[1;32m     61\u001b[0m   \u001b[0;32mwith\u001b[0m \u001b[0mfunc_graph\u001b[0m\u001b[0;34m.\u001b[0m\u001b[0mas_default\u001b[0m\u001b[0;34m(\u001b[0m\u001b[0;34m)\u001b[0m\u001b[0;34m:\u001b[0m\u001b[0;34m\u001b[0m\u001b[0;34m\u001b[0m\u001b[0m\n\u001b[1;32m     62\u001b[0m     \u001b[0;31m# Add all function nodes to the graph.\u001b[0m\u001b[0;34m\u001b[0m\u001b[0;34m\u001b[0m\u001b[0;34m\u001b[0m\u001b[0m\n\u001b[0;32m---> 63\u001b[0;31m     \u001b[0mimporter\u001b[0m\u001b[0;34m.\u001b[0m\u001b[0mimport_graph_def_for_function\u001b[0m\u001b[0;34m(\u001b[0m\u001b[0mgraph_def\u001b[0m\u001b[0;34m,\u001b[0m \u001b[0mname\u001b[0m\u001b[0;34m=\u001b[0m\u001b[0;34m\"\"\u001b[0m\u001b[0;34m)\u001b[0m\u001b[0;34m\u001b[0m\u001b[0;34m\u001b[0m\u001b[0m\n\u001b[0m\u001b[1;32m     64\u001b[0m \u001b[0;34m\u001b[0m\u001b[0m\n\u001b[1;32m     65\u001b[0m     \u001b[0;31m# Initialize fields specific to FuncGraph.\u001b[0m\u001b[0;34m\u001b[0m\u001b[0;34m\u001b[0m\u001b[0;34m\u001b[0m\u001b[0m\n",
      "\u001b[0;32m~/coliee/coliee_test/lib/python3.8/site-packages/tensorflow/python/framework/importer.py\u001b[0m in \u001b[0;36mimport_graph_def_for_function\u001b[0;34m(graph_def, name)\u001b[0m\n\u001b[1;32m    409\u001b[0m     graph_def, name=None):\n\u001b[1;32m    410\u001b[0m   \u001b[0;34m\"\"\"Like import_graph_def but does not validate colocation constraints.\"\"\"\u001b[0m\u001b[0;34m\u001b[0m\u001b[0;34m\u001b[0m\u001b[0m\n\u001b[0;32m--> 411\u001b[0;31m   return _import_graph_def_internal(\n\u001b[0m\u001b[1;32m    412\u001b[0m       graph_def, validate_colocation_constraints=False, name=name)\n\u001b[1;32m    413\u001b[0m \u001b[0;34m\u001b[0m\u001b[0m\n",
      "\u001b[0;32m~/coliee/coliee_test/lib/python3.8/site-packages/tensorflow/python/framework/importer.py\u001b[0m in \u001b[0;36m_import_graph_def_internal\u001b[0;34m(graph_def, input_map, return_elements, validate_colocation_constraints, name, producer_op_list)\u001b[0m\n\u001b[1;32m    511\u001b[0m     \u001b[0;31m# TODO(skyewm): avoid sending serialized FunctionDefs back to the TF_Graph\u001b[0m\u001b[0;34m\u001b[0m\u001b[0;34m\u001b[0m\u001b[0;34m\u001b[0m\u001b[0m\n\u001b[1;32m    512\u001b[0m \u001b[0;34m\u001b[0m\u001b[0m\n\u001b[0;32m--> 513\u001b[0;31m     \u001b[0m_ProcessNewOps\u001b[0m\u001b[0;34m(\u001b[0m\u001b[0mgraph\u001b[0m\u001b[0;34m)\u001b[0m\u001b[0;34m\u001b[0m\u001b[0;34m\u001b[0m\u001b[0m\n\u001b[0m\u001b[1;32m    514\u001b[0m \u001b[0;34m\u001b[0m\u001b[0m\n\u001b[1;32m    515\u001b[0m   \u001b[0;32mif\u001b[0m \u001b[0mgraph_def\u001b[0m\u001b[0;34m.\u001b[0m\u001b[0mlibrary\u001b[0m \u001b[0;32mand\u001b[0m \u001b[0mgraph_def\u001b[0m\u001b[0;34m.\u001b[0m\u001b[0mlibrary\u001b[0m\u001b[0;34m.\u001b[0m\u001b[0mfunction\u001b[0m\u001b[0;34m:\u001b[0m\u001b[0;34m\u001b[0m\u001b[0;34m\u001b[0m\u001b[0m\n",
      "\u001b[0;32m~/coliee/coliee_test/lib/python3.8/site-packages/tensorflow/python/framework/importer.py\u001b[0m in \u001b[0;36m_ProcessNewOps\u001b[0;34m(graph)\u001b[0m\n\u001b[1;32m    241\u001b[0m   \u001b[0mcolocation_pairs\u001b[0m \u001b[0;34m=\u001b[0m \u001b[0;34m{\u001b[0m\u001b[0;34m}\u001b[0m\u001b[0;34m\u001b[0m\u001b[0;34m\u001b[0m\u001b[0m\n\u001b[1;32m    242\u001b[0m \u001b[0;34m\u001b[0m\u001b[0m\n\u001b[0;32m--> 243\u001b[0;31m   \u001b[0;32mfor\u001b[0m \u001b[0mnew_op\u001b[0m \u001b[0;32min\u001b[0m \u001b[0mgraph\u001b[0m\u001b[0;34m.\u001b[0m\u001b[0m_add_new_tf_operations\u001b[0m\u001b[0;34m(\u001b[0m\u001b[0mcompute_devices\u001b[0m\u001b[0;34m=\u001b[0m\u001b[0;32mFalse\u001b[0m\u001b[0;34m)\u001b[0m\u001b[0;34m:\u001b[0m  \u001b[0;31m# pylint: disable=protected-access\u001b[0m\u001b[0;34m\u001b[0m\u001b[0;34m\u001b[0m\u001b[0m\n\u001b[0m\u001b[1;32m    244\u001b[0m     \u001b[0moriginal_device\u001b[0m \u001b[0;34m=\u001b[0m \u001b[0mnew_op\u001b[0m\u001b[0;34m.\u001b[0m\u001b[0mdevice\u001b[0m\u001b[0;34m\u001b[0m\u001b[0;34m\u001b[0m\u001b[0m\n\u001b[1;32m    245\u001b[0m     \u001b[0mnew_op\u001b[0m\u001b[0;34m.\u001b[0m\u001b[0m_set_device\u001b[0m\u001b[0;34m(\u001b[0m\u001b[0;34m''\u001b[0m\u001b[0;34m)\u001b[0m  \u001b[0;31m# pylint: disable=protected-access\u001b[0m\u001b[0;34m\u001b[0m\u001b[0;34m\u001b[0m\u001b[0m\n",
      "\u001b[0;32m~/coliee/coliee_test/lib/python3.8/site-packages/tensorflow/python/framework/ops.py\u001b[0m in \u001b[0;36m_add_new_tf_operations\u001b[0;34m(self, compute_devices)\u001b[0m\n\u001b[1;32m   3676\u001b[0m     \u001b[0;31m# Create all Operation objects before accessing their inputs since an op may\u001b[0m\u001b[0;34m\u001b[0m\u001b[0;34m\u001b[0m\u001b[0;34m\u001b[0m\u001b[0m\n\u001b[1;32m   3677\u001b[0m     \u001b[0;31m# be created before its inputs.\u001b[0m\u001b[0;34m\u001b[0m\u001b[0;34m\u001b[0m\u001b[0;34m\u001b[0m\u001b[0m\n\u001b[0;32m-> 3678\u001b[0;31m     new_ops = [\n\u001b[0m\u001b[1;32m   3679\u001b[0m         \u001b[0mself\u001b[0m\u001b[0;34m.\u001b[0m\u001b[0m_create_op_from_tf_operation\u001b[0m\u001b[0;34m(\u001b[0m\u001b[0mc_op\u001b[0m\u001b[0;34m,\u001b[0m \u001b[0mcompute_device\u001b[0m\u001b[0;34m=\u001b[0m\u001b[0mcompute_devices\u001b[0m\u001b[0;34m)\u001b[0m\u001b[0;34m\u001b[0m\u001b[0;34m\u001b[0m\u001b[0m\n\u001b[1;32m   3680\u001b[0m         \u001b[0;32mfor\u001b[0m \u001b[0mc_op\u001b[0m \u001b[0;32min\u001b[0m \u001b[0mc_api_util\u001b[0m\u001b[0;34m.\u001b[0m\u001b[0mnew_tf_operations\u001b[0m\u001b[0;34m(\u001b[0m\u001b[0mself\u001b[0m\u001b[0;34m)\u001b[0m\u001b[0;34m\u001b[0m\u001b[0;34m\u001b[0m\u001b[0m\n",
      "\u001b[0;32m~/coliee/coliee_test/lib/python3.8/site-packages/tensorflow/python/framework/ops.py\u001b[0m in \u001b[0;36m<listcomp>\u001b[0;34m(.0)\u001b[0m\n\u001b[1;32m   3677\u001b[0m     \u001b[0;31m# be created before its inputs.\u001b[0m\u001b[0;34m\u001b[0m\u001b[0;34m\u001b[0m\u001b[0;34m\u001b[0m\u001b[0m\n\u001b[1;32m   3678\u001b[0m     new_ops = [\n\u001b[0;32m-> 3679\u001b[0;31m         \u001b[0mself\u001b[0m\u001b[0;34m.\u001b[0m\u001b[0m_create_op_from_tf_operation\u001b[0m\u001b[0;34m(\u001b[0m\u001b[0mc_op\u001b[0m\u001b[0;34m,\u001b[0m \u001b[0mcompute_device\u001b[0m\u001b[0;34m=\u001b[0m\u001b[0mcompute_devices\u001b[0m\u001b[0;34m)\u001b[0m\u001b[0;34m\u001b[0m\u001b[0;34m\u001b[0m\u001b[0m\n\u001b[0m\u001b[1;32m   3680\u001b[0m         \u001b[0;32mfor\u001b[0m \u001b[0mc_op\u001b[0m \u001b[0;32min\u001b[0m \u001b[0mc_api_util\u001b[0m\u001b[0;34m.\u001b[0m\u001b[0mnew_tf_operations\u001b[0m\u001b[0;34m(\u001b[0m\u001b[0mself\u001b[0m\u001b[0;34m)\u001b[0m\u001b[0;34m\u001b[0m\u001b[0;34m\u001b[0m\u001b[0m\n\u001b[1;32m   3681\u001b[0m     ]\n",
      "\u001b[0;32m~/coliee/coliee_test/lib/python3.8/site-packages/tensorflow/python/framework/ops.py\u001b[0m in \u001b[0;36m_create_op_from_tf_operation\u001b[0;34m(self, c_op, compute_device)\u001b[0m\n\u001b[1;32m   3559\u001b[0m     \"\"\"\n\u001b[1;32m   3560\u001b[0m     \u001b[0mself\u001b[0m\u001b[0;34m.\u001b[0m\u001b[0m_check_not_finalized\u001b[0m\u001b[0;34m(\u001b[0m\u001b[0;34m)\u001b[0m\u001b[0;34m\u001b[0m\u001b[0;34m\u001b[0m\u001b[0m\n\u001b[0;32m-> 3561\u001b[0;31m     \u001b[0mret\u001b[0m \u001b[0;34m=\u001b[0m \u001b[0mOperation\u001b[0m\u001b[0;34m(\u001b[0m\u001b[0mc_op\u001b[0m\u001b[0;34m,\u001b[0m \u001b[0mself\u001b[0m\u001b[0;34m)\u001b[0m\u001b[0;34m\u001b[0m\u001b[0;34m\u001b[0m\u001b[0m\n\u001b[0m\u001b[1;32m   3562\u001b[0m     \u001b[0;31m# If a name_scope was created with ret.name but no nodes were created in it,\u001b[0m\u001b[0;34m\u001b[0m\u001b[0;34m\u001b[0m\u001b[0;34m\u001b[0m\u001b[0m\n\u001b[1;32m   3563\u001b[0m     \u001b[0;31m# the name will still appear in _names_in_use even though the name hasn't\u001b[0m\u001b[0;34m\u001b[0m\u001b[0;34m\u001b[0m\u001b[0;34m\u001b[0m\u001b[0m\n",
      "\u001b[0;32m~/coliee/coliee_test/lib/python3.8/site-packages/tensorflow/python/framework/ops.py\u001b[0m in \u001b[0;36m__init__\u001b[0;34m(self, node_def, g, inputs, output_types, control_inputs, input_types, original_op, op_def)\u001b[0m\n\u001b[1;32m   2026\u001b[0m       \u001b[0mtf_output\u001b[0m \u001b[0;34m=\u001b[0m \u001b[0mc_api_util\u001b[0m\u001b[0;34m.\u001b[0m\u001b[0mtf_output\u001b[0m\u001b[0;34m(\u001b[0m\u001b[0mself\u001b[0m\u001b[0;34m.\u001b[0m\u001b[0m_c_op\u001b[0m\u001b[0;34m,\u001b[0m \u001b[0mi\u001b[0m\u001b[0;34m)\u001b[0m\u001b[0;34m\u001b[0m\u001b[0;34m\u001b[0m\u001b[0m\n\u001b[1;32m   2027\u001b[0m       \u001b[0moutput_type\u001b[0m \u001b[0;34m=\u001b[0m \u001b[0mpywrap_tf_session\u001b[0m\u001b[0;34m.\u001b[0m\u001b[0mTF_OperationOutputType\u001b[0m\u001b[0;34m(\u001b[0m\u001b[0mtf_output\u001b[0m\u001b[0;34m)\u001b[0m\u001b[0;34m\u001b[0m\u001b[0;34m\u001b[0m\u001b[0m\n\u001b[0;32m-> 2028\u001b[0;31m       \u001b[0mtensor\u001b[0m \u001b[0;34m=\u001b[0m \u001b[0mTensor\u001b[0m\u001b[0;34m.\u001b[0m\u001b[0m_create_with_tf_output\u001b[0m\u001b[0;34m(\u001b[0m\u001b[0mself\u001b[0m\u001b[0;34m,\u001b[0m \u001b[0mi\u001b[0m\u001b[0;34m,\u001b[0m \u001b[0moutput_type\u001b[0m\u001b[0;34m,\u001b[0m \u001b[0mtf_output\u001b[0m\u001b[0;34m)\u001b[0m  \u001b[0;31m# pylint: disable=protected-access\u001b[0m\u001b[0;34m\u001b[0m\u001b[0;34m\u001b[0m\u001b[0m\n\u001b[0m\u001b[1;32m   2029\u001b[0m       \u001b[0mself\u001b[0m\u001b[0;34m.\u001b[0m\u001b[0m_outputs\u001b[0m\u001b[0;34m.\u001b[0m\u001b[0mappend\u001b[0m\u001b[0;34m(\u001b[0m\u001b[0mtensor\u001b[0m\u001b[0;34m)\u001b[0m\u001b[0;34m\u001b[0m\u001b[0;34m\u001b[0m\u001b[0m\n\u001b[1;32m   2030\u001b[0m \u001b[0;34m\u001b[0m\u001b[0m\n",
      "\u001b[0;32m~/coliee/coliee_test/lib/python3.8/site-packages/tensorflow/python/framework/ops.py\u001b[0m in \u001b[0;36m_create_with_tf_output\u001b[0;34m(op, value_index, dtype, tf_output)\u001b[0m\n\u001b[1;32m    388\u001b[0m   \u001b[0;34m@\u001b[0m\u001b[0mstaticmethod\u001b[0m\u001b[0;34m\u001b[0m\u001b[0;34m\u001b[0m\u001b[0m\n\u001b[1;32m    389\u001b[0m   \u001b[0;32mdef\u001b[0m \u001b[0m_create_with_tf_output\u001b[0m\u001b[0;34m(\u001b[0m\u001b[0mop\u001b[0m\u001b[0;34m,\u001b[0m \u001b[0mvalue_index\u001b[0m\u001b[0;34m,\u001b[0m \u001b[0mdtype\u001b[0m\u001b[0;34m,\u001b[0m \u001b[0mtf_output\u001b[0m\u001b[0;34m)\u001b[0m\u001b[0;34m:\u001b[0m\u001b[0;34m\u001b[0m\u001b[0;34m\u001b[0m\u001b[0m\n\u001b[0;32m--> 390\u001b[0;31m     \u001b[0mret\u001b[0m \u001b[0;34m=\u001b[0m \u001b[0mTensor\u001b[0m\u001b[0;34m(\u001b[0m\u001b[0mop\u001b[0m\u001b[0;34m,\u001b[0m \u001b[0mvalue_index\u001b[0m\u001b[0;34m,\u001b[0m \u001b[0mdtype\u001b[0m\u001b[0;34m)\u001b[0m\u001b[0;34m\u001b[0m\u001b[0;34m\u001b[0m\u001b[0m\n\u001b[0m\u001b[1;32m    391\u001b[0m     \u001b[0mret\u001b[0m\u001b[0;34m.\u001b[0m\u001b[0m_tf_output\u001b[0m \u001b[0;34m=\u001b[0m \u001b[0mtf_output\u001b[0m\u001b[0;34m\u001b[0m\u001b[0;34m\u001b[0m\u001b[0m\n\u001b[1;32m    392\u001b[0m     \u001b[0;32mreturn\u001b[0m \u001b[0mret\u001b[0m\u001b[0;34m\u001b[0m\u001b[0;34m\u001b[0m\u001b[0m\n",
      "\u001b[0;32m~/coliee/coliee_test/lib/python3.8/site-packages/tensorflow/python/framework/ops.py\u001b[0m in \u001b[0;36m__init__\u001b[0;34m(self, op, value_index, dtype)\u001b[0m\n\u001b[1;32m    375\u001b[0m     \u001b[0mself\u001b[0m\u001b[0;34m.\u001b[0m\u001b[0m_op\u001b[0m \u001b[0;34m=\u001b[0m \u001b[0mop\u001b[0m\u001b[0;34m\u001b[0m\u001b[0;34m\u001b[0m\u001b[0m\n\u001b[1;32m    376\u001b[0m     \u001b[0mself\u001b[0m\u001b[0;34m.\u001b[0m\u001b[0m_value_index\u001b[0m \u001b[0;34m=\u001b[0m \u001b[0mvalue_index\u001b[0m\u001b[0;34m\u001b[0m\u001b[0;34m\u001b[0m\u001b[0m\n\u001b[0;32m--> 377\u001b[0;31m     \u001b[0mself\u001b[0m\u001b[0;34m.\u001b[0m\u001b[0m_dtype\u001b[0m \u001b[0;34m=\u001b[0m \u001b[0mdtypes\u001b[0m\u001b[0;34m.\u001b[0m\u001b[0mas_dtype\u001b[0m\u001b[0;34m(\u001b[0m\u001b[0mdtype\u001b[0m\u001b[0;34m)\u001b[0m\u001b[0;34m\u001b[0m\u001b[0;34m\u001b[0m\u001b[0m\n\u001b[0m\u001b[1;32m    378\u001b[0m     \u001b[0;31m# This will be set by self._as_tf_output().\u001b[0m\u001b[0;34m\u001b[0m\u001b[0;34m\u001b[0m\u001b[0;34m\u001b[0m\u001b[0m\n\u001b[1;32m    379\u001b[0m     \u001b[0mself\u001b[0m\u001b[0;34m.\u001b[0m\u001b[0m_tf_output\u001b[0m \u001b[0;34m=\u001b[0m \u001b[0;32mNone\u001b[0m\u001b[0;34m\u001b[0m\u001b[0;34m\u001b[0m\u001b[0m\n",
      "\u001b[0;32m~/coliee/coliee_test/lib/python3.8/site-packages/tensorflow/python/framework/dtypes.py\u001b[0m in \u001b[0;36mas_dtype\u001b[0;34m(type_value)\u001b[0m\n\u001b[1;32m    633\u001b[0m \u001b[0;34m\u001b[0m\u001b[0m\n\u001b[1;32m    634\u001b[0m   \u001b[0;32mtry\u001b[0m\u001b[0;34m:\u001b[0m\u001b[0;34m\u001b[0m\u001b[0;34m\u001b[0m\u001b[0m\n\u001b[0;32m--> 635\u001b[0;31m     \u001b[0;32mreturn\u001b[0m \u001b[0m_ANY_TO_TF\u001b[0m\u001b[0;34m[\u001b[0m\u001b[0mtype_value\u001b[0m\u001b[0;34m]\u001b[0m\u001b[0;34m\u001b[0m\u001b[0;34m\u001b[0m\u001b[0m\n\u001b[0m\u001b[1;32m    636\u001b[0m   \u001b[0;32mexcept\u001b[0m \u001b[0;34m(\u001b[0m\u001b[0mKeyError\u001b[0m\u001b[0;34m,\u001b[0m \u001b[0mTypeError\u001b[0m\u001b[0;34m)\u001b[0m\u001b[0;34m:\u001b[0m\u001b[0;34m\u001b[0m\u001b[0;34m\u001b[0m\u001b[0m\n\u001b[1;32m    637\u001b[0m     \u001b[0;31m# TypeError indicates that type_value is not hashable.\u001b[0m\u001b[0;34m\u001b[0m\u001b[0;34m\u001b[0m\u001b[0;34m\u001b[0m\u001b[0m\n",
      "\u001b[0;31mKeyboardInterrupt\u001b[0m: "
     ]
    }
   ],
   "source": [
    "model0 = train_model(classifier_name=\"class_0\", leave_out_ind=0)"
   ]
  },
  {
   "cell_type": "code",
   "execution_count": 32,
   "id": "7764ba8b",
   "metadata": {},
   "outputs": [
    {
     "name": "stdout",
     "output_type": "stream",
     "text": [
      "Fetching ID and OOD classes\n",
      "ID Classes\n",
      "0 comp.sys.mac.hardware\n",
      "2 rec.motorcycles\n",
      "3 talk.politics.misc\n",
      "4 comp.graphics\n",
      "5 sci.med\n",
      "6 rec.sport.baseball\n",
      "7 talk.religion.misc\n",
      "8 sci.electronics\n",
      "OOD Classes\n",
      "1 comp.os.ms-windows.misc\n",
      "Resetting ID and OOD folders\n",
      "Dividing dataset as ID and OOD\n",
      "Files in folder '20news-18828/train/id_classes' are renamed as .txt\n",
      "Found 2329 files belonging to 8 classes.\n",
      "Resetting ID and OOD folders\n",
      "Dividing dataset as ID and OOD\n",
      "Files in folder '20news-18828/val/id_classes' are renamed as .txt\n",
      "Files in folder '20news-18828/val/ood_classes' are renamed as .txt\n",
      "Found 605 files belonging to 8 classes.\n",
      "Found 81 files belonging to 1 classes.\n",
      "Epoch 1/10\n",
      "73/73 [==============================] - 47s 488ms/step - loss: 2.1627 - sparse_categorical_accuracy: 0.1575 - val_loss: 0.8151 - val_sparse_categorical_accuracy: 0.8000\n",
      "Epoch 2/10\n",
      "73/73 [==============================] - 35s 482ms/step - loss: 0.6324 - sparse_categorical_accuracy: 0.8113 - val_loss: 0.3410 - val_sparse_categorical_accuracy: 0.8909\n",
      "Epoch 3/10\n",
      "73/73 [==============================] - 35s 480ms/step - loss: 0.1960 - sparse_categorical_accuracy: 0.9423 - val_loss: 0.2977 - val_sparse_categorical_accuracy: 0.9207\n",
      "Epoch 4/10\n",
      "73/73 [==============================] - 35s 481ms/step - loss: 0.0606 - sparse_categorical_accuracy: 0.9821 - val_loss: 0.2910 - val_sparse_categorical_accuracy: 0.9289\n",
      "Epoch 5/10\n",
      "73/73 [==============================] - 35s 479ms/step - loss: 0.0197 - sparse_categorical_accuracy: 0.9962 - val_loss: 0.3658 - val_sparse_categorical_accuracy: 0.9174\n",
      "Epoch 6/10\n",
      "73/73 [==============================] - 35s 480ms/step - loss: 0.0067 - sparse_categorical_accuracy: 0.9989 - val_loss: 0.3352 - val_sparse_categorical_accuracy: 0.9289\n",
      "Epoch 7/10\n",
      "73/73 [==============================] - 35s 480ms/step - loss: 0.0026 - sparse_categorical_accuracy: 0.9998 - val_loss: 0.3531 - val_sparse_categorical_accuracy: 0.9240\n",
      "Epoch 8/10\n",
      "73/73 [==============================] - 35s 482ms/step - loss: 0.0028 - sparse_categorical_accuracy: 0.9991 - val_loss: 0.3392 - val_sparse_categorical_accuracy: 0.9289\n",
      "Epoch 9/10\n",
      "73/73 [==============================] - 35s 483ms/step - loss: 8.5783e-04 - sparse_categorical_accuracy: 1.0000 - val_loss: 0.3370 - val_sparse_categorical_accuracy: 0.9289\n",
      "Epoch 10/10\n",
      "73/73 [==============================] - 35s 481ms/step - loss: 6.9947e-04 - sparse_categorical_accuracy: 1.0000 - val_loss: 0.3352 - val_sparse_categorical_accuracy: 0.9289\n"
     ]
    }
   ],
   "source": [
    "model1 = train_model(classifier_name=\"class_1\", leave_out_ind=1)"
   ]
  },
  {
   "cell_type": "code",
   "execution_count": 33,
   "id": "673e9095",
   "metadata": {},
   "outputs": [
    {
     "name": "stdout",
     "output_type": "stream",
     "text": [
      "Fetching ID and OOD classes\n",
      "ID Classes\n",
      "0 comp.sys.mac.hardware\n",
      "1 comp.os.ms-windows.misc\n",
      "3 talk.politics.misc\n",
      "4 comp.graphics\n",
      "5 sci.med\n",
      "6 rec.sport.baseball\n",
      "7 talk.religion.misc\n",
      "8 sci.electronics\n",
      "OOD Classes\n",
      "2 rec.motorcycles\n",
      "Resetting ID and OOD folders\n",
      "Dividing dataset as ID and OOD\n",
      "Files in folder '20news-18828/train/id_classes' are renamed as .txt\n",
      "Found 2326 files belonging to 8 classes.\n",
      "Resetting ID and OOD folders\n",
      "Dividing dataset as ID and OOD\n",
      "Files in folder '20news-18828/val/id_classes' are renamed as .txt\n",
      "Files in folder '20news-18828/val/ood_classes' are renamed as .txt\n",
      "Found 604 files belonging to 8 classes.\n",
      "Found 82 files belonging to 1 classes.\n",
      "Epoch 1/10\n",
      "73/73 [==============================] - 48s 502ms/step - loss: 2.1393 - sparse_categorical_accuracy: 0.1725 - val_loss: 0.7095 - val_sparse_categorical_accuracy: 0.8146\n",
      "Epoch 2/10\n",
      "73/73 [==============================] - 36s 493ms/step - loss: 0.6149 - sparse_categorical_accuracy: 0.7964 - val_loss: 0.3550 - val_sparse_categorical_accuracy: 0.8874\n",
      "Epoch 3/10\n",
      "73/73 [==============================] - 36s 494ms/step - loss: 0.2362 - sparse_categorical_accuracy: 0.9322 - val_loss: 0.3079 - val_sparse_categorical_accuracy: 0.9106\n",
      "Epoch 4/10\n",
      "73/73 [==============================] - 36s 492ms/step - loss: 0.1288 - sparse_categorical_accuracy: 0.9623 - val_loss: 0.3307 - val_sparse_categorical_accuracy: 0.9222\n",
      "Epoch 5/10\n",
      "73/73 [==============================] - 36s 493ms/step - loss: 0.0625 - sparse_categorical_accuracy: 0.9825 - val_loss: 0.3026 - val_sparse_categorical_accuracy: 0.9205\n",
      "Epoch 6/10\n",
      "73/73 [==============================] - 36s 492ms/step - loss: 0.0241 - sparse_categorical_accuracy: 0.9932 - val_loss: 0.3005 - val_sparse_categorical_accuracy: 0.9321\n",
      "Epoch 7/10\n",
      "73/73 [==============================] - 36s 493ms/step - loss: 0.0080 - sparse_categorical_accuracy: 0.9980 - val_loss: 0.3140 - val_sparse_categorical_accuracy: 0.9305\n",
      "Epoch 8/10\n",
      "73/73 [==============================] - 36s 494ms/step - loss: 0.0039 - sparse_categorical_accuracy: 0.9985 - val_loss: 0.3047 - val_sparse_categorical_accuracy: 0.9338\n",
      "Epoch 9/10\n",
      "73/73 [==============================] - 36s 493ms/step - loss: 0.0013 - sparse_categorical_accuracy: 1.0000 - val_loss: 0.3020 - val_sparse_categorical_accuracy: 0.9354\n",
      "Epoch 10/10\n",
      "73/73 [==============================] - 36s 496ms/step - loss: 0.0010 - sparse_categorical_accuracy: 1.0000 - val_loss: 0.3023 - val_sparse_categorical_accuracy: 0.9338\n"
     ]
    }
   ],
   "source": [
    "model2 = train_model(classifier_name=\"class_2\", leave_out_ind=2)"
   ]
  },
  {
   "cell_type": "code",
   "execution_count": 34,
   "id": "0aed53bd",
   "metadata": {},
   "outputs": [
    {
     "name": "stdout",
     "output_type": "stream",
     "text": [
      "Fetching ID and OOD classes\n",
      "ID Classes\n",
      "0 comp.sys.mac.hardware\n",
      "1 comp.os.ms-windows.misc\n",
      "2 rec.motorcycles\n",
      "4 comp.graphics\n",
      "5 sci.med\n",
      "6 rec.sport.baseball\n",
      "7 talk.religion.misc\n",
      "8 sci.electronics\n",
      "OOD Classes\n",
      "3 talk.politics.misc\n",
      "Resetting ID and OOD folders\n",
      "Dividing dataset as ID and OOD\n",
      "Files in folder '20news-18828/train/id_classes' are renamed as .txt\n",
      "Found 2388 files belonging to 8 classes.\n",
      "Resetting ID and OOD folders\n",
      "Dividing dataset as ID and OOD\n",
      "Files in folder '20news-18828/val/id_classes' are renamed as .txt\n",
      "Files in folder '20news-18828/val/ood_classes' are renamed as .txt\n",
      "Found 617 files belonging to 8 classes.\n",
      "Found 69 files belonging to 1 classes.\n",
      "Epoch 1/10\n",
      "75/75 [==============================] - 48s 494ms/step - loss: 2.0847 - sparse_categorical_accuracy: 0.1816 - val_loss: 0.7656 - val_sparse_categorical_accuracy: 0.7391\n",
      "Epoch 2/10\n",
      "75/75 [==============================] - 37s 487ms/step - loss: 0.5511 - sparse_categorical_accuracy: 0.8148 - val_loss: 0.3012 - val_sparse_categorical_accuracy: 0.9109\n",
      "Epoch 3/10\n",
      "75/75 [==============================] - 37s 489ms/step - loss: 0.1948 - sparse_categorical_accuracy: 0.9386 - val_loss: 0.2827 - val_sparse_categorical_accuracy: 0.9254\n",
      "Epoch 4/10\n",
      "75/75 [==============================] - 36s 486ms/step - loss: 0.0798 - sparse_categorical_accuracy: 0.9800 - val_loss: 0.3656 - val_sparse_categorical_accuracy: 0.9173\n",
      "Epoch 5/10\n",
      "75/75 [==============================] - 37s 489ms/step - loss: 0.0467 - sparse_categorical_accuracy: 0.9870 - val_loss: 0.3343 - val_sparse_categorical_accuracy: 0.9238\n",
      "Epoch 6/10\n",
      "75/75 [==============================] - 37s 489ms/step - loss: 0.0236 - sparse_categorical_accuracy: 0.9925 - val_loss: 0.3660 - val_sparse_categorical_accuracy: 0.9238\n",
      "Epoch 7/10\n",
      "75/75 [==============================] - 37s 489ms/step - loss: 0.0106 - sparse_categorical_accuracy: 0.9989 - val_loss: 0.3762 - val_sparse_categorical_accuracy: 0.9206\n",
      "Epoch 8/10\n",
      "75/75 [==============================] - 37s 488ms/step - loss: 0.0075 - sparse_categorical_accuracy: 0.9989 - val_loss: 0.3514 - val_sparse_categorical_accuracy: 0.9254\n",
      "Epoch 9/10\n",
      "75/75 [==============================] - 37s 487ms/step - loss: 0.0048 - sparse_categorical_accuracy: 0.9989 - val_loss: 0.3528 - val_sparse_categorical_accuracy: 0.9238\n",
      "Epoch 10/10\n",
      "75/75 [==============================] - 37s 488ms/step - loss: 0.0031 - sparse_categorical_accuracy: 0.9989 - val_loss: 0.3470 - val_sparse_categorical_accuracy: 0.9238\n"
     ]
    }
   ],
   "source": [
    "model3 = train_model(classifier_name=\"class_3\", leave_out_ind=3)"
   ]
  },
  {
   "cell_type": "code",
   "execution_count": 35,
   "id": "2c0fce7d",
   "metadata": {},
   "outputs": [
    {
     "name": "stdout",
     "output_type": "stream",
     "text": [
      "Fetching ID and OOD classes\n",
      "ID Classes\n",
      "0 comp.sys.mac.hardware\n",
      "1 comp.os.ms-windows.misc\n",
      "2 rec.motorcycles\n",
      "3 talk.politics.misc\n",
      "5 sci.med\n",
      "6 rec.sport.baseball\n",
      "7 talk.religion.misc\n",
      "8 sci.electronics\n",
      "OOD Classes\n",
      "4 comp.graphics\n",
      "Resetting ID and OOD folders\n",
      "Dividing dataset as ID and OOD\n",
      "Files in folder '20news-18828/train/id_classes' are renamed as .txt\n",
      "Found 2334 files belonging to 8 classes.\n",
      "Resetting ID and OOD folders\n",
      "Dividing dataset as ID and OOD\n",
      "Files in folder '20news-18828/val/id_classes' are renamed as .txt\n",
      "Files in folder '20news-18828/val/ood_classes' are renamed as .txt\n",
      "Found 607 files belonging to 8 classes.\n",
      "Found 79 files belonging to 1 classes.\n",
      "Epoch 1/10\n",
      "73/73 [==============================] - 48s 501ms/step - loss: 2.1843 - sparse_categorical_accuracy: 0.2063 - val_loss: 0.5705 - val_sparse_categorical_accuracy: 0.8402\n",
      "Epoch 2/10\n",
      "73/73 [==============================] - 36s 492ms/step - loss: 0.4646 - sparse_categorical_accuracy: 0.8535 - val_loss: 0.2825 - val_sparse_categorical_accuracy: 0.9176\n",
      "Epoch 3/10\n",
      "73/73 [==============================] - 36s 493ms/step - loss: 0.1511 - sparse_categorical_accuracy: 0.9615 - val_loss: 0.3080 - val_sparse_categorical_accuracy: 0.9242\n",
      "Epoch 4/10\n",
      "73/73 [==============================] - 36s 493ms/step - loss: 0.0827 - sparse_categorical_accuracy: 0.9786 - val_loss: 0.2909 - val_sparse_categorical_accuracy: 0.9292\n",
      "Epoch 5/10\n",
      "73/73 [==============================] - 36s 494ms/step - loss: 0.0242 - sparse_categorical_accuracy: 0.9954 - val_loss: 0.2872 - val_sparse_categorical_accuracy: 0.9308\n",
      "Epoch 6/10\n",
      "73/73 [==============================] - 36s 495ms/step - loss: 0.0081 - sparse_categorical_accuracy: 0.9982 - val_loss: 0.3270 - val_sparse_categorical_accuracy: 0.9308\n",
      "Epoch 7/10\n",
      "73/73 [==============================] - 36s 492ms/step - loss: 0.0081 - sparse_categorical_accuracy: 0.9980 - val_loss: 0.3016 - val_sparse_categorical_accuracy: 0.9374\n",
      "Epoch 8/10\n",
      "73/73 [==============================] - 36s 493ms/step - loss: 0.0014 - sparse_categorical_accuracy: 1.0000 - val_loss: 0.3045 - val_sparse_categorical_accuracy: 0.9374\n",
      "Epoch 9/10\n",
      "73/73 [==============================] - 36s 494ms/step - loss: 0.0010 - sparse_categorical_accuracy: 1.0000 - val_loss: 0.3157 - val_sparse_categorical_accuracy: 0.9374\n",
      "Epoch 10/10\n",
      "73/73 [==============================] - 36s 493ms/step - loss: 6.7014e-04 - sparse_categorical_accuracy: 1.0000 - val_loss: 0.3127 - val_sparse_categorical_accuracy: 0.9341\n"
     ]
    }
   ],
   "source": [
    "model4 = train_model(classifier_name=\"class_4\", leave_out_ind=4)"
   ]
  },
  {
   "cell_type": "code",
   "execution_count": 66,
   "id": "20ec114a",
   "metadata": {},
   "outputs": [
    {
     "name": "stdout",
     "output_type": "stream",
     "text": [
      "Fetching ID and OOD classes\n",
      "ID Classes\n",
      "0 comp.sys.mac.hardware\n",
      "1 comp.os.ms-windows.misc\n",
      "2 rec.motorcycles\n",
      "3 talk.politics.misc\n",
      "4 comp.graphics\n",
      "6 rec.sport.baseball\n",
      "7 talk.religion.misc\n",
      "8 sci.electronics\n",
      "OOD Classes\n",
      "5 sci.med\n",
      "Resetting ID and OOD folders\n",
      "Dividing dataset as ID and OOD\n",
      "Files in folder '20news-18828/train/id_classes' are renamed as .txt\n",
      "Found 2326 files belonging to 8 classes.\n",
      "Resetting ID and OOD folders\n",
      "Dividing dataset as ID and OOD\n",
      "Files in folder '20news-18828/val/id_classes' are renamed as .txt\n",
      "Files in folder '20news-18828/val/ood_classes' are renamed as .txt\n",
      "Found 604 files belonging to 8 classes.\n",
      "Found 82 files belonging to 1 classes.\n",
      "Epoch 1/10\n",
      "73/73 [==============================] - 47s 495ms/step - loss: 2.0775 - sparse_categorical_accuracy: 0.1834 - val_loss: 0.7849 - val_sparse_categorical_accuracy: 0.7599\n",
      "Epoch 2/10\n",
      "73/73 [==============================] - 36s 489ms/step - loss: 0.6109 - sparse_categorical_accuracy: 0.8151 - val_loss: 0.3470 - val_sparse_categorical_accuracy: 0.8808\n",
      "Epoch 3/10\n",
      "73/73 [==============================] - 36s 490ms/step - loss: 0.2113 - sparse_categorical_accuracy: 0.9368 - val_loss: 0.3532 - val_sparse_categorical_accuracy: 0.8940\n",
      "Epoch 4/10\n",
      "73/73 [==============================] - 36s 490ms/step - loss: 0.0905 - sparse_categorical_accuracy: 0.9729 - val_loss: 0.3131 - val_sparse_categorical_accuracy: 0.9139\n",
      "Epoch 5/10\n",
      "73/73 [==============================] - 36s 490ms/step - loss: 0.0417 - sparse_categorical_accuracy: 0.9878 - val_loss: 0.3208 - val_sparse_categorical_accuracy: 0.9205\n",
      "Epoch 6/10\n",
      "73/73 [==============================] - 36s 491ms/step - loss: 0.0205 - sparse_categorical_accuracy: 0.9952 - val_loss: 0.3423 - val_sparse_categorical_accuracy: 0.9205\n",
      "Epoch 7/10\n",
      "73/73 [==============================] - 36s 491ms/step - loss: 0.0042 - sparse_categorical_accuracy: 0.9997 - val_loss: 0.3552 - val_sparse_categorical_accuracy: 0.9238\n",
      "Epoch 8/10\n",
      "73/73 [==============================] - 36s 493ms/step - loss: 0.0024 - sparse_categorical_accuracy: 0.9997 - val_loss: 0.3476 - val_sparse_categorical_accuracy: 0.9321\n",
      "Epoch 9/10\n",
      "73/73 [==============================] - 36s 490ms/step - loss: 0.0013 - sparse_categorical_accuracy: 1.0000 - val_loss: 0.3332 - val_sparse_categorical_accuracy: 0.9338\n",
      "Epoch 10/10\n",
      "73/73 [==============================] - 36s 491ms/step - loss: 9.5125e-04 - sparse_categorical_accuracy: 1.0000 - val_loss: 0.3338 - val_sparse_categorical_accuracy: 0.9321\n"
     ]
    }
   ],
   "source": [
    "model5 = train_model(classifier_name=\"class_5\", leave_out_ind=5)"
   ]
  },
  {
   "cell_type": "code",
   "execution_count": 67,
   "id": "dfdf6c0d",
   "metadata": {},
   "outputs": [
    {
     "name": "stdout",
     "output_type": "stream",
     "text": [
      "Fetching ID and OOD classes\n",
      "ID Classes\n",
      "0 comp.sys.mac.hardware\n",
      "1 comp.os.ms-windows.misc\n",
      "2 rec.motorcycles\n",
      "3 talk.politics.misc\n",
      "4 comp.graphics\n",
      "5 sci.med\n",
      "7 talk.religion.misc\n",
      "8 sci.electronics\n",
      "OOD Classes\n",
      "6 rec.sport.baseball\n",
      "Resetting ID and OOD folders\n",
      "Dividing dataset as ID and OOD\n",
      "Files in folder '20news-18828/train/id_classes' are renamed as .txt\n",
      "Found 2326 files belonging to 8 classes.\n",
      "Resetting ID and OOD folders\n",
      "Dividing dataset as ID and OOD\n",
      "Files in folder '20news-18828/val/id_classes' are renamed as .txt\n",
      "Files in folder '20news-18828/val/ood_classes' are renamed as .txt\n",
      "Found 604 files belonging to 8 classes.\n",
      "Found 82 files belonging to 1 classes.\n",
      "Epoch 1/10\n",
      "73/73 [==============================] - 47s 500ms/step - loss: 2.0738 - sparse_categorical_accuracy: 0.1935 - val_loss: 0.8476 - val_sparse_categorical_accuracy: 0.7798\n",
      "Epoch 2/10\n",
      "73/73 [==============================] - 36s 492ms/step - loss: 0.6739 - sparse_categorical_accuracy: 0.8024 - val_loss: 0.3998 - val_sparse_categorical_accuracy: 0.8775\n",
      "Epoch 3/10\n",
      "73/73 [==============================] - 36s 493ms/step - loss: 0.2807 - sparse_categorical_accuracy: 0.9222 - val_loss: 0.3682 - val_sparse_categorical_accuracy: 0.8924\n",
      "Epoch 4/10\n",
      "73/73 [==============================] - 36s 491ms/step - loss: 0.1296 - sparse_categorical_accuracy: 0.9627 - val_loss: 0.3589 - val_sparse_categorical_accuracy: 0.9073\n",
      "Epoch 5/10\n",
      "73/73 [==============================] - 36s 493ms/step - loss: 0.0626 - sparse_categorical_accuracy: 0.9845 - val_loss: 0.4346 - val_sparse_categorical_accuracy: 0.8974\n",
      "Epoch 6/10\n",
      "73/73 [==============================] - 36s 492ms/step - loss: 0.0584 - sparse_categorical_accuracy: 0.9839 - val_loss: 0.3538 - val_sparse_categorical_accuracy: 0.9172\n",
      "Epoch 7/10\n",
      "73/73 [==============================] - 36s 492ms/step - loss: 0.0272 - sparse_categorical_accuracy: 0.9946 - val_loss: 0.3492 - val_sparse_categorical_accuracy: 0.9222\n",
      "Epoch 8/10\n",
      "73/73 [==============================] - 36s 493ms/step - loss: 0.0183 - sparse_categorical_accuracy: 0.9973 - val_loss: 0.3728 - val_sparse_categorical_accuracy: 0.9222\n",
      "Epoch 9/10\n",
      "73/73 [==============================] - 36s 493ms/step - loss: 0.0124 - sparse_categorical_accuracy: 0.9973 - val_loss: 0.3734 - val_sparse_categorical_accuracy: 0.9222\n",
      "Epoch 10/10\n",
      "73/73 [==============================] - 36s 493ms/step - loss: 0.0094 - sparse_categorical_accuracy: 0.9989 - val_loss: 0.3679 - val_sparse_categorical_accuracy: 0.9222\n"
     ]
    }
   ],
   "source": [
    "model6 = train_model(classifier_name=\"class_6\", leave_out_ind=6)"
   ]
  },
  {
   "cell_type": "code",
   "execution_count": 68,
   "id": "3c4a9f85",
   "metadata": {},
   "outputs": [
    {
     "name": "stdout",
     "output_type": "stream",
     "text": [
      "Fetching ID and OOD classes\n",
      "ID Classes\n",
      "0 comp.sys.mac.hardware\n",
      "1 comp.os.ms-windows.misc\n",
      "2 rec.motorcycles\n",
      "3 talk.politics.misc\n",
      "4 comp.graphics\n",
      "5 sci.med\n",
      "6 rec.sport.baseball\n",
      "8 sci.electronics\n",
      "OOD Classes\n",
      "7 talk.religion.misc\n",
      "Resetting ID and OOD folders\n",
      "Dividing dataset as ID and OOD\n",
      "Files in folder '20news-18828/train/id_classes' are renamed as .txt\n",
      "Found 2444 files belonging to 8 classes.\n",
      "Resetting ID and OOD folders\n",
      "Dividing dataset as ID and OOD\n",
      "Files in folder '20news-18828/val/id_classes' are renamed as .txt\n",
      "Files in folder '20news-18828/val/ood_classes' are renamed as .txt\n",
      "Found 634 files belonging to 8 classes.\n",
      "Found 52 files belonging to 1 classes.\n",
      "Epoch 1/10\n",
      "77/77 [==============================] - 49s 497ms/step - loss: 2.0660 - sparse_categorical_accuracy: 0.2239 - val_loss: 0.7314 - val_sparse_categorical_accuracy: 0.8139\n",
      "Epoch 2/10\n",
      "77/77 [==============================] - 38s 492ms/step - loss: 0.6032 - sparse_categorical_accuracy: 0.8134 - val_loss: 0.3358 - val_sparse_categorical_accuracy: 0.8927\n",
      "Epoch 3/10\n",
      "77/77 [==============================] - 38s 491ms/step - loss: 0.2016 - sparse_categorical_accuracy: 0.9397 - val_loss: 0.2776 - val_sparse_categorical_accuracy: 0.9132\n",
      "Epoch 4/10\n",
      "77/77 [==============================] - 38s 491ms/step - loss: 0.1094 - sparse_categorical_accuracy: 0.9662 - val_loss: 0.3001 - val_sparse_categorical_accuracy: 0.9148\n",
      "Epoch 5/10\n",
      "77/77 [==============================] - 38s 489ms/step - loss: 0.0402 - sparse_categorical_accuracy: 0.9882 - val_loss: 0.3215 - val_sparse_categorical_accuracy: 0.9227\n",
      "Epoch 6/10\n",
      "77/77 [==============================] - 37s 487ms/step - loss: 0.0165 - sparse_categorical_accuracy: 0.9948 - val_loss: 0.3734 - val_sparse_categorical_accuracy: 0.9117\n",
      "Epoch 7/10\n",
      "77/77 [==============================] - 38s 488ms/step - loss: 0.0078 - sparse_categorical_accuracy: 0.9970 - val_loss: 0.3537 - val_sparse_categorical_accuracy: 0.9259\n",
      "Epoch 8/10\n",
      "77/77 [==============================] - 38s 492ms/step - loss: 0.0020 - sparse_categorical_accuracy: 0.9998 - val_loss: 0.3283 - val_sparse_categorical_accuracy: 0.9369\n",
      "Epoch 9/10\n",
      "77/77 [==============================] - 38s 490ms/step - loss: 0.0014 - sparse_categorical_accuracy: 0.9998 - val_loss: 0.3439 - val_sparse_categorical_accuracy: 0.9338\n",
      "Epoch 10/10\n",
      "77/77 [==============================] - 38s 489ms/step - loss: 0.0026 - sparse_categorical_accuracy: 0.9991 - val_loss: 0.3368 - val_sparse_categorical_accuracy: 0.9353\n"
     ]
    }
   ],
   "source": [
    "model7 = train_model(classifier_name=\"class_7\", leave_out_ind=7)"
   ]
  },
  {
   "cell_type": "code",
   "execution_count": 69,
   "id": "c28e8cf2",
   "metadata": {},
   "outputs": [
    {
     "name": "stdout",
     "output_type": "stream",
     "text": [
      "Fetching ID and OOD classes\n",
      "ID Classes\n",
      "0 comp.sys.mac.hardware\n",
      "1 comp.os.ms-windows.misc\n",
      "2 rec.motorcycles\n",
      "3 talk.politics.misc\n",
      "4 comp.graphics\n",
      "5 sci.med\n",
      "6 rec.sport.baseball\n",
      "7 talk.religion.misc\n",
      "OOD Classes\n",
      "8 sci.electronics\n",
      "Resetting ID and OOD folders\n",
      "Dividing dataset as ID and OOD\n",
      "Files in folder '20news-18828/train/id_classes' are renamed as .txt\n",
      "Found 2331 files belonging to 8 classes.\n",
      "Resetting ID and OOD folders\n",
      "Dividing dataset as ID and OOD\n",
      "Files in folder '20news-18828/val/id_classes' are renamed as .txt\n",
      "Files in folder '20news-18828/val/ood_classes' are renamed as .txt\n",
      "Found 606 files belonging to 8 classes.\n",
      "Found 80 files belonging to 1 classes.\n",
      "Epoch 1/10\n",
      "73/73 [==============================] - 47s 500ms/step - loss: 2.1018 - sparse_categorical_accuracy: 0.1914 - val_loss: 0.6149 - val_sparse_categorical_accuracy: 0.8152\n",
      "Epoch 2/10\n",
      "73/73 [==============================] - 36s 490ms/step - loss: 0.4953 - sparse_categorical_accuracy: 0.8547 - val_loss: 0.3060 - val_sparse_categorical_accuracy: 0.8911\n",
      "Epoch 3/10\n",
      "73/73 [==============================] - 36s 490ms/step - loss: 0.1569 - sparse_categorical_accuracy: 0.9542 - val_loss: 0.2691 - val_sparse_categorical_accuracy: 0.9274\n",
      "Epoch 4/10\n",
      "73/73 [==============================] - 36s 490ms/step - loss: 0.0756 - sparse_categorical_accuracy: 0.9764 - val_loss: 0.2831 - val_sparse_categorical_accuracy: 0.9340\n",
      "Epoch 5/10\n",
      "73/73 [==============================] - 36s 491ms/step - loss: 0.0361 - sparse_categorical_accuracy: 0.9897 - val_loss: 0.2287 - val_sparse_categorical_accuracy: 0.9422\n",
      "Epoch 6/10\n",
      "73/73 [==============================] - 36s 492ms/step - loss: 0.0108 - sparse_categorical_accuracy: 0.9977 - val_loss: 0.2343 - val_sparse_categorical_accuracy: 0.9439\n",
      "Epoch 7/10\n",
      "73/73 [==============================] - 36s 493ms/step - loss: 0.0053 - sparse_categorical_accuracy: 0.9991 - val_loss: 0.2668 - val_sparse_categorical_accuracy: 0.9356\n",
      "Epoch 8/10\n",
      "73/73 [==============================] - 36s 493ms/step - loss: 0.0039 - sparse_categorical_accuracy: 0.9987 - val_loss: 0.2477 - val_sparse_categorical_accuracy: 0.9488\n",
      "Epoch 9/10\n",
      "73/73 [==============================] - 36s 493ms/step - loss: 0.0024 - sparse_categorical_accuracy: 0.9991 - val_loss: 0.2523 - val_sparse_categorical_accuracy: 0.9455\n",
      "Epoch 10/10\n",
      "73/73 [==============================] - 36s 491ms/step - loss: 0.0017 - sparse_categorical_accuracy: 0.9991 - val_loss: 0.2548 - val_sparse_categorical_accuracy: 0.9472\n"
     ]
    }
   ],
   "source": [
    "model8 = train_model(classifier_name=\"class_8\", leave_out_ind=8)"
   ]
  },
  {
   "cell_type": "markdown",
   "id": "776a2f73",
   "metadata": {},
   "source": [
    "# Reload logits from pickle file"
   ]
  },
  {
   "cell_type": "code",
   "execution_count": 70,
   "id": "f9ac6f53",
   "metadata": {},
   "outputs": [],
   "source": [
    "anom_class_name_for_path = 'anom_5'"
   ]
  },
  {
   "cell_type": "code",
   "execution_count": 71,
   "id": "187fa7d5",
   "metadata": {},
   "outputs": [],
   "source": [
    "models_path = \"outputs/\" + anom_class_name_for_path + \"/\"\n",
    "pickle_file_name = models_path + 'all_test_class_names'\n",
    "out_file = open(pickle_file_name,\"rb\")\n",
    "all_test_class_names = pickle.load(out_file)\n",
    "out_file.close()"
   ]
  },
  {
   "cell_type": "code",
   "execution_count": 72,
   "id": "a6cd4688",
   "metadata": {},
   "outputs": [],
   "source": [
    "def getLogits(classifier_name):\n",
    "  pickle_file_name = models_path + '%s_out' % classifier_name\n",
    "  out_file = open(pickle_file_name,\"rb\")\n",
    "  model_out = pickle.load(out_file)\n",
    "  out_file.close()\n",
    "\n",
    "  return model_out"
   ]
  },
  {
   "cell_type": "code",
   "execution_count": 73,
   "id": "17b3a16c",
   "metadata": {},
   "outputs": [],
   "source": [
    "output0 = getLogits(\"class_0\")\n",
    "output1 = getLogits(\"class_1\")\n",
    "output2 = getLogits(\"class_2\")\n",
    "output3 = getLogits(\"class_3\")\n",
    "output4 = getLogits(\"class_4\")\n",
    "output5 = getLogits(\"class_5\")\n",
    "output6 = getLogits(\"class_6\")\n",
    "output7 = getLogits(\"class_7\")\n",
    "output8 = getLogits(\"class_8\")"
   ]
  },
  {
   "cell_type": "code",
   "execution_count": 74,
   "id": "85f6269b",
   "metadata": {},
   "outputs": [
    {
     "name": "stdout",
     "output_type": "stream",
     "text": [
      "9\n",
      "dict_keys(['y_val', 'y_ood', 'y_test', 'y_anom', 'logits_val', 'logits_ood', 'logits_test', 'logits_anom', 'train_class_names', 'val_class_names', 'ood_class_names'])\n"
     ]
    }
   ],
   "source": [
    "outputs = [\n",
    "          output0,\n",
    "          output1,\n",
    "          output2,\n",
    "          output3,\n",
    "          output4,\n",
    "          output5,\n",
    "          output6,\n",
    "          output7,\n",
    "          output8\n",
    "          ]\n",
    "print(len(outputs))\n",
    "print(outputs[0].keys())"
   ]
  },
  {
   "cell_type": "markdown",
   "id": "3d5d45df",
   "metadata": {},
   "source": [
    "# Temperature scaling"
   ]
  },
  {
   "cell_type": "code",
   "execution_count": 75,
   "id": "cc31d32b",
   "metadata": {},
   "outputs": [],
   "source": [
    "def temp_cal(y_pred, y):\n",
    "\n",
    "  temp = tf.Variable(initial_value=1.0, trainable=True, dtype=tf.float32) \n",
    "\n",
    "  def compute_loss():\n",
    "      y_pred_model_w_temp = tf.math.divide(y_pred, temp)\n",
    "      loss = tf.reduce_mean(tf.nn.softmax_cross_entropy_with_logits(\\\n",
    "                                  tf.convert_to_tensor(keras.utils.to_categorical(np.asarray(y))), y_pred_model_w_temp))\n",
    "      return loss\n",
    "\n",
    "  optimizer = tf.optimizers.Adam(learning_rate=0.01)\n",
    "\n",
    "  print('Temperature Initial value: {}'.format(temp.numpy()))\n",
    "\n",
    "  for i in range(300):\n",
    "      opts = optimizer.minimize(compute_loss, var_list=[temp])\n",
    "\n",
    "\n",
    "  print('Temperature Final value: {}'.format(temp.numpy()))\n",
    "\n",
    "  return temp"
   ]
  },
  {
   "cell_type": "code",
   "execution_count": 76,
   "id": "1598ae7a",
   "metadata": {},
   "outputs": [
    {
     "name": "stdout",
     "output_type": "stream",
     "text": [
      "Temperature Initial value: 1.0\n",
      "Temperature Final value: 1.7626770734786987\n",
      "Temperature Initial value: 1.0\n",
      "Temperature Final value: 1.7780354022979736\n",
      "Temperature Initial value: 1.0\n",
      "Temperature Final value: 1.6917874813079834\n",
      "Temperature Initial value: 1.0\n",
      "Temperature Final value: 1.7720246315002441\n",
      "Temperature Initial value: 1.0\n",
      "Temperature Final value: 1.7706916332244873\n",
      "Temperature Initial value: 1.0\n",
      "Temperature Final value: 1.7323330640792847\n",
      "Temperature Initial value: 1.0\n",
      "Temperature Final value: 1.7269140481948853\n",
      "Temperature Initial value: 1.0\n",
      "Temperature Final value: 1.7490004301071167\n",
      "Temperature Initial value: 1.0\n",
      "Temperature Final value: 1.6890196800231934\n"
     ]
    }
   ],
   "source": [
    "temp_list = []\n",
    "\n",
    "for output in outputs:\n",
    "  temp = temp_cal(output['logits_val'], #+output['logits_ood'], \n",
    "                  output['y_val']) #+output['y_ood'])\n",
    "  temp_list.append(temp)"
   ]
  },
  {
   "cell_type": "code",
   "execution_count": 77,
   "id": "50b5bdad",
   "metadata": {},
   "outputs": [],
   "source": [
    "def temp_scaling(y_pred, temp):\n",
    "  return tf.math.divide(y_pred, temp)"
   ]
  },
  {
   "cell_type": "code",
   "execution_count": 78,
   "id": "ed62bfc7",
   "metadata": {},
   "outputs": [],
   "source": [
    "softmax_list = []\n",
    "\n",
    "for output in outputs:\n",
    "    softmax = tf.nn.softmax(output['logits_val'])\n",
    "    softmax_list.append(softmax)"
   ]
  },
  {
   "cell_type": "code",
   "execution_count": 79,
   "id": "8836e29f",
   "metadata": {},
   "outputs": [],
   "source": [
    "ood_softmax_list = []\n",
    "\n",
    "for output in outputs:\n",
    "    ood_softmax = tf.nn.softmax(output['logits_ood'])\n",
    "    ood_softmax_list.append(ood_softmax)"
   ]
  },
  {
   "cell_type": "code",
   "execution_count": 80,
   "id": "9793a596",
   "metadata": {},
   "outputs": [],
   "source": [
    "new_logits_list = []\n",
    "new_softmax_list = []\n",
    "\n",
    "for temp, output in zip(temp_list, outputs):\n",
    "  new_logits = temp_scaling(output['logits_val'], temp)\n",
    "  new_logits_list.append(new_logits)\n",
    "\n",
    "  new_softmax = tf.nn.softmax(new_logits)\n",
    "  new_softmax_list.append(new_softmax)"
   ]
  },
  {
   "cell_type": "code",
   "execution_count": 81,
   "id": "c2ea96d0",
   "metadata": {},
   "outputs": [],
   "source": [
    "new_logits_ood_list = []\n",
    "new_ood_softmax_list = []\n",
    "\n",
    "for temp, output in zip(temp_list, outputs):\n",
    "  new_logits_ood = temp_scaling(output['logits_ood'], temp)\n",
    "  new_logits_ood_list.append(new_logits_ood)\n",
    "\n",
    "  new_ood_softmax = tf.nn.softmax(new_logits_ood)\n",
    "  new_ood_softmax_list.append(new_ood_softmax)"
   ]
  },
  {
   "cell_type": "code",
   "execution_count": 82,
   "id": "5ac3cbda",
   "metadata": {},
   "outputs": [],
   "source": [
    "test_softmax_list = []\n",
    "for temp, output in zip(temp_list, outputs):\n",
    "  test_softmax = tf.nn.softmax(temp_scaling(output['logits_test'], temp))\n",
    "  test_softmax_list.append(test_softmax)\n",
    "\n",
    "anom_softmax_list = []\n",
    "for temp, output in zip(temp_list, outputs):\n",
    "  anom_softmax = tf.nn.softmax(temp_scaling(output['logits_anom'], temp))\n",
    "  anom_softmax_list.append(anom_softmax)"
   ]
  },
  {
   "cell_type": "markdown",
   "id": "66298fe0",
   "metadata": {},
   "source": [
    "# Compute reference vectors"
   ]
  },
  {
   "cell_type": "code",
   "execution_count": 83,
   "id": "8efd146b",
   "metadata": {},
   "outputs": [
    {
     "data": {
      "text/plain": [
       "[0.9413926935765456,\n",
       " 0.9418746878292935,\n",
       " 0.9445041625310253,\n",
       " 0.940707856677533,\n",
       " 0.9487278303852584,\n",
       " 0.9381944186837468,\n",
       " 0.932916862877789,\n",
       " 0.9397030598733703,\n",
       " 0.9568992569895074]"
      ]
     },
     "execution_count": 83,
     "metadata": {},
     "output_type": "execute_result"
    }
   ],
   "source": [
    "# Finding ref vector for ID - with temp scaling\n",
    "ref_vector_ID_with_tmp = []\n",
    "\n",
    "for new_softmax in new_softmax_list:\n",
    "  max_softmax = 0\n",
    "  for s in new_softmax:\n",
    "    max_softmax += np.max(s)\n",
    "  new_max = max_softmax / len(new_softmax)\n",
    "  # new_max = np.max(new_softmax)\n",
    "  ref_vector_ID_with_tmp.append(new_max)\n",
    "\n",
    "ref_vector_ID_with_tmp"
   ]
  },
  {
   "cell_type": "code",
   "execution_count": 84,
   "id": "464421c1",
   "metadata": {},
   "outputs": [
    {
     "data": {
      "text/plain": [
       "[0.8479593049121809,\n",
       " 0.8612773216065065,\n",
       " 0.6981743136193694,\n",
       " 0.7383696346179299,\n",
       " 0.7913760033589375,\n",
       " 0.5423311983666769,\n",
       " 0.5225061136411457,\n",
       " 0.7624185093893454,\n",
       " 0.7670010410249233]"
      ]
     },
     "execution_count": 84,
     "metadata": {},
     "output_type": "execute_result"
    }
   ],
   "source": [
    "# Finding ref vector for OOD - with temp scaling\n",
    "ref_vector_OOD_with_tmp = []\n",
    "\n",
    "for new_ood_softmax in new_ood_softmax_list:\n",
    "  max_softmax = 0\n",
    "  for s in new_ood_softmax:\n",
    "    max_softmax += np.max(s)\n",
    "  max = max_softmax / len(new_ood_softmax)\n",
    "  # new_max = np.max(new_softmax)\n",
    "  ref_vector_OOD_with_tmp.append(max)\n",
    "\n",
    "ref_vector_OOD_with_tmp"
   ]
  },
  {
   "cell_type": "markdown",
   "id": "1c5f5fdd",
   "metadata": {},
   "source": [
    "# Compute entropy values"
   ]
  },
  {
   "cell_type": "code",
   "execution_count": 85,
   "id": "bba59e34",
   "metadata": {},
   "outputs": [
    {
     "data": {
      "text/plain": [
       "0.11617489382242671"
      ]
     },
     "execution_count": 85,
     "metadata": {},
     "output_type": "execute_result"
    }
   ],
   "source": [
    "# Finding entropy of ID - after temp scaling\n",
    "id_entropy = 0\n",
    "for new_softmax in new_softmax_list:\n",
    "  ent_classifier = 0\n",
    "  for sm in new_softmax:\n",
    "    ent = entropy(sm, base=len(sm))\n",
    "    ent_classifier += ent\n",
    "  ent_classifier = ent_classifier / len(new_softmax)\n",
    "  id_entropy += ent_classifier\n",
    "id_entropy = id_entropy / len(new_softmax_list)\n",
    "id_entropy"
   ]
  },
  {
   "cell_type": "code",
   "execution_count": 86,
   "id": "0481bc9a",
   "metadata": {},
   "outputs": [
    {
     "data": {
      "text/plain": [
       "0.410349982451741"
      ]
     },
     "execution_count": 86,
     "metadata": {},
     "output_type": "execute_result"
    }
   ],
   "source": [
    "# Finding entropy of OOD - after temp scaling\n",
    "ood_entropy = 0\n",
    "for new_ood_softmax in new_ood_softmax_list:\n",
    "  ent_classifier = 0\n",
    "  for sm in new_ood_softmax:\n",
    "    ent = entropy(sm, base=len(sm))\n",
    "    ent_classifier += ent\n",
    "  ent_classifier = ent_classifier / len(new_ood_softmax)\n",
    "  ood_entropy += ent_classifier\n",
    "ood_entropy = ood_entropy / len(new_ood_softmax_list)\n",
    "ood_entropy"
   ]
  },
  {
   "cell_type": "markdown",
   "id": "14644de4",
   "metadata": {},
   "source": [
    "# Reference vector"
   ]
  },
  {
   "cell_type": "code",
   "execution_count": 87,
   "id": "c643ea85",
   "metadata": {},
   "outputs": [],
   "source": [
    "test_softmax_list = []\n",
    "for temp, output in zip(temp_list, outputs):\n",
    "  test_softmax = tf.nn.softmax(temp_scaling(output['logits_test'], temp))\n",
    "  test_softmax_list.append(test_softmax)\n",
    "\n",
    "anom_softmax_list = []\n",
    "for temp, output in zip(temp_list, outputs):\n",
    "  anom_softmax = tf.nn.softmax(temp_scaling(output['logits_anom'], temp))\n",
    "  anom_softmax_list.append(anom_softmax)"
   ]
  },
  {
   "cell_type": "code",
   "execution_count": 88,
   "id": "b5454268",
   "metadata": {},
   "outputs": [
    {
     "name": "stderr",
     "output_type": "stream",
     "text": [
      "100%|██████████| 1662/1662 [00:02<00:00, 645.01it/s]\n",
      "100%|██████████| 940/940 [00:01<00:00, 650.22it/s]\n"
     ]
    }
   ],
   "source": [
    "y_true = []\n",
    "y_true_ = []\n",
    "y_pred_softmax = []\n",
    "y_pred = []\n",
    "sim_ID = []\n",
    "sim_OOD = []\n",
    "for ind in tqdm(range(len(test_softmax_list[0]))):\n",
    "  pred_vector_max = []\n",
    "  # pred_vector_min = []\n",
    "  for test_softmax in test_softmax_list:\n",
    "    pred_vector_max.append(np.max(test_softmax[ind]))\n",
    "    # pred_vector_min.append(np.min(test_softmax[ind]))\n",
    "\n",
    "  dist_from_ID = distance.euclidean(pred_vector_max, ref_vector_ID_with_tmp)\n",
    "  dist_from_OOD = distance.euclidean(pred_vector_max, ref_vector_OOD_with_tmp)\n",
    "  # dist_from_ID_min = distance.euclidean(pred_vector_min, ref_vector_ID_with_tmp_min)\n",
    "  # dist_from_OOD_min = distance.euclidean(pred_vector_min, ref_vector_OOD_with_tmp_min)\n",
    "  sim_with_ID = (1 / (1 + dist_from_ID)) # + (1 / (1 + dist_from_ID_min))\n",
    "  sim_with_OOD = (1 / (1 + dist_from_OOD)) # + (1 / (1 + dist_from_OOD_min))\n",
    "  sim_ID.append(sim_with_ID)\n",
    "  sim_OOD.append(sim_with_OOD)\n",
    "  \n",
    "  if sim_with_ID >= sim_with_OOD:\n",
    "    pred = 1 # ID\n",
    "  else:\n",
    "    pred = 0 # OOD\n",
    "  y_pred.append(pred)\n",
    "  y_pred_softmax.append(np.max(pred_vector_max))\n",
    "  y_true.append(1) # because ID data\n",
    "  y_true_.append(0) # because ID data\n",
    "\n",
    "\n",
    "for ind in tqdm(range(len(anom_softmax_list[0]))):\n",
    "  pred_vector_max = []\n",
    "  # pred_vector_min = []\n",
    "  for anom_softmax in anom_softmax_list:\n",
    "    pred_vector_max.append(np.max(anom_softmax[ind]))\n",
    "    # pred_vector_min.append(np.min(anom_softmax[ind]))\n",
    "\n",
    "  dist_from_ID = distance.euclidean(pred_vector_max, ref_vector_ID_with_tmp)\n",
    "  dist_from_OOD = distance.euclidean(pred_vector_max, ref_vector_OOD_with_tmp)\n",
    "  # dist_from_ID_min = distance.euclidean(pred_vector_min, ref_vector_ID_with_tmp_min)\n",
    "  # dist_from_OOD_min = distance.euclidean(pred_vector_min, ref_vector_OOD_with_tmp_min)\n",
    "  sim_with_ID = (1 / (1 + dist_from_ID)) # + (1 / (1 + dist_from_ID_min))\n",
    "  sim_with_OOD = (1 / (1 + dist_from_OOD)) # + (1 / (1 + dist_from_OOD_min))\n",
    "  sim_ID.append(sim_with_ID)\n",
    "  sim_OOD.append(sim_with_OOD)\n",
    "  \n",
    "  if sim_with_ID >= sim_with_OOD:\n",
    "    pred = 1 # ID\n",
    "  else:\n",
    "    pred = 0 # OOD\n",
    "  y_pred.append(pred)\n",
    "  y_pred_softmax.append(np.max(pred_vector_max))\n",
    "  y_true.append(0) # because OOD data\n",
    "  y_true_.append(1) # because ID data"
   ]
  },
  {
   "cell_type": "code",
   "execution_count": 89,
   "id": "434ca8fe",
   "metadata": {},
   "outputs": [
    {
     "name": "stdout",
     "output_type": "stream",
     "text": [
      "Scores with temperature scaling - considering only softmax values, no similarity checked\n",
      "AUROC (%): 95.66\n",
      "Scores with temperature scaling - giving predictions (1 for ID and 0 for OOD)  comparing similarity with both ref vectors\n",
      "AUROC (%): 63.12\n",
      "Scores with temperature scaling - giving sim_ID scores\n",
      "AUROC (%): 66.44\n",
      "Scores with temperature scaling - giving sim_OOD scores\n",
      "AUROC (%): 83.0\n"
     ]
    }
   ],
   "source": [
    "print(\"Scores with temperature scaling - considering only softmax values, no similarity checked\")\n",
    "\n",
    "auroc_ensemble = sk.roc_auc_score(y_true, y_pred_softmax)\n",
    "print('AUROC (%):', round(100*auroc_ensemble, 2))\n",
    "\n",
    "print(\"Scores with temperature scaling \\\n",
    "- giving predictions (1 for ID and 0 for OOD) \\\n",
    " comparing similarity with both ref vectors\")\n",
    "auroc_ref_detection = sk.roc_auc_score(y_true, y_pred)\n",
    "print('AUROC (%):', round(100*auroc_ref_detection, 2))\n",
    "\n",
    "\n",
    "print(\"Scores with temperature scaling \\\n",
    "- giving sim_ID scores\")\n",
    "auroc_ref_sim = sk.roc_auc_score(y_true, sim_ID)\n",
    "print('AUROC (%):', round(100*auroc_ref_sim, 2))\n",
    "\n",
    "print(\"Scores with temperature scaling \\\n",
    "- giving sim_OOD scores\")\n",
    "# auroc_ref_sim_ood = sk.roc_auc_score(y_true, sim_OOD)\n",
    "# print('AUROC (%):', round(100*auroc_ref_sim_ood, 2))\n",
    "auroc_ref_sim_ood = sk.roc_auc_score(y_true_, sim_OOD)\n",
    "print('AUROC (%):', round(100*auroc_ref_sim_ood, 2))"
   ]
  },
  {
   "cell_type": "markdown",
   "id": "9f41669a",
   "metadata": {},
   "source": [
    "# Reference vector + Decision Rule"
   ]
  },
  {
   "cell_type": "code",
   "execution_count": 90,
   "id": "124c0bfd",
   "metadata": {},
   "outputs": [
    {
     "data": {
      "text/plain": [
       "['comp.graphics',\n",
       " 'comp.os.ms-windows.misc',\n",
       " 'comp.sys.mac.hardware',\n",
       " 'rec.motorcycles',\n",
       " 'rec.sport.baseball',\n",
       " 'sci.electronics',\n",
       " 'sci.med',\n",
       " 'talk.politics.misc',\n",
       " 'talk.religion.misc',\n",
       " 'talk.politics.mideast']"
      ]
     },
     "execution_count": 90,
     "metadata": {},
     "output_type": "execute_result"
    }
   ],
   "source": [
    "all_test_class_names"
   ]
  },
  {
   "cell_type": "code",
   "execution_count": 91,
   "id": "d99ee0d9",
   "metadata": {},
   "outputs": [
    {
     "data": {
      "text/plain": [
       "[{0: 0, 1: 1, 2: 3, 3: 4, 4: 5, 5: 6, 6: 7, 7: 8},\n",
       " {0: 0, 1: 2, 2: 3, 3: 4, 4: 5, 5: 6, 6: 7, 7: 8},\n",
       " {0: 0, 1: 1, 2: 2, 3: 4, 4: 5, 5: 6, 6: 7, 7: 8},\n",
       " {0: 0, 1: 1, 2: 2, 3: 3, 4: 4, 5: 5, 6: 6, 7: 8},\n",
       " {0: 1, 1: 2, 2: 3, 3: 4, 4: 5, 5: 6, 6: 7, 7: 8},\n",
       " {0: 0, 1: 1, 2: 2, 3: 3, 4: 4, 5: 5, 6: 7, 7: 8},\n",
       " {0: 0, 1: 1, 2: 2, 3: 3, 4: 5, 5: 6, 6: 7, 7: 8},\n",
       " {0: 0, 1: 1, 2: 2, 3: 3, 4: 4, 5: 5, 6: 6, 7: 7},\n",
       " {0: 0, 1: 1, 2: 2, 3: 3, 4: 4, 5: 6, 6: 7, 7: 8}]"
      ]
     },
     "execution_count": 91,
     "metadata": {},
     "output_type": "execute_result"
    }
   ],
   "source": [
    "mappings = []\n",
    "for output in outputs:\n",
    "  # map_train_to_test_indices\n",
    "  mapping = {}\n",
    "  for test_ind, test_class_name in enumerate(all_test_class_names):\n",
    "    for train_ind, class_name in enumerate(output['train_class_names']):\n",
    "      if test_class_name == class_name:\n",
    "        mapping[train_ind] = test_ind\n",
    "  mappings.append(mapping)\n",
    "\n",
    "mappings"
   ]
  },
  {
   "cell_type": "code",
   "execution_count": 92,
   "id": "c8eb3cdd",
   "metadata": {},
   "outputs": [],
   "source": [
    "# Decision rule\n",
    "def get_auroc_with_threshold_count(threshold_count):\n",
    "  y_pred_decision_ref = []\n",
    "  y_pred_only_decision = []\n",
    "  y_true = []\n",
    "\n",
    "  for ind in tqdm(range(len(test_softmax_list[0]))):\n",
    "    preds = []\n",
    "    pred_vector = []\n",
    "    for test_softmax, mapping in zip(test_softmax_list, mappings):\n",
    "      pred_vector.append(np.max(test_softmax[ind]))\n",
    "      pred_classifier = np.argmax(test_softmax[ind])\n",
    "      mapped_pred = mapping[pred_classifier]\n",
    "      preds.append(mapped_pred)\n",
    "    counts = np.bincount(preds)\n",
    "    max_count = np.max(counts)\n",
    "\n",
    "    dist_from_ID = distance.euclidean(pred_vector, ref_vector_ID_with_tmp)\n",
    "    dist_from_OOD = distance.euclidean(pred_vector, ref_vector_OOD_with_tmp)\n",
    "    sim_with_ID = 1 / (1 + dist_from_ID)\n",
    "    sim_with_OOD = 1 / (1 + dist_from_OOD)\n",
    "\n",
    "    if max_count >= threshold_count:\n",
    "      y_pred_only_decision.append(1)\n",
    "    else:\n",
    "      y_pred_only_decision.append(0)\n",
    "\n",
    "    if sim_with_ID >= sim_with_OOD and max_count >= threshold_count:\n",
    "      y_pred_decision_ref.append(1)\n",
    "    else:\n",
    "      y_pred_decision_ref.append(0)\n",
    "    y_true.append(1) # because ID data\n",
    "\n",
    "\n",
    "  for ind in tqdm(range(len(anom_softmax_list[0]))):\n",
    "    preds = []\n",
    "    pred_vector = []\n",
    "    for anom_softmax, mapping in zip(anom_softmax_list, mappings):\n",
    "      pred_vector.append(np.max(test_softmax[ind]))\n",
    "      pred_classifier = np.argmax(anom_softmax[ind])\n",
    "      mapped_pred = mapping[pred_classifier]\n",
    "      preds.append(mapped_pred)\n",
    "    counts = np.bincount(preds)\n",
    "    max_count = np.max(counts)\n",
    "\n",
    "    dist_from_ID = distance.euclidean(pred_vector, ref_vector_ID_with_tmp)\n",
    "    dist_from_OOD = distance.euclidean(pred_vector, ref_vector_OOD_with_tmp)\n",
    "    sim_with_ID = 1 / (1 + dist_from_ID)\n",
    "    sim_with_OOD = 1 / (1 + dist_from_OOD)\n",
    "\n",
    "    if max_count >= threshold_count:\n",
    "      y_pred_only_decision.append(1)\n",
    "    else:\n",
    "      y_pred_only_decision.append(0)\n",
    "\n",
    "    if sim_with_ID >= sim_with_OOD and max_count >= threshold_count:\n",
    "      y_pred_decision_ref.append(1)\n",
    "    else:\n",
    "      y_pred_decision_ref.append(0)\n",
    "    y_true.append(0) # because OOD data\n",
    "\n",
    "  print(\"\\n\\nScores with Decision rule with threshold count =\", threshold_count)\n",
    "  auroc_only_dec = sk.roc_auc_score(y_true, y_pred_only_decision)\n",
    "  print('AUROC (%):', round(100*auroc_only_dec, 2))\n",
    "\n",
    "  print(\"\\n\\nScores with Decision rule with threshold count =\", threshold_count, \n",
    "        \"\\n and reference vector\")\n",
    "  auroc_dec_ref = sk.roc_auc_score(y_true, y_pred_decision_ref)\n",
    "  print('AUROC (%):', round(100*auroc_dec_ref, 2))\n",
    "  return auroc_only_dec, auroc_dec_ref"
   ]
  },
  {
   "cell_type": "code",
   "execution_count": 93,
   "id": "fe56ff12",
   "metadata": {},
   "outputs": [
    {
     "name": "stderr",
     "output_type": "stream",
     "text": [
      "100%|██████████| 1662/1662 [00:04<00:00, 333.63it/s]\n",
      "100%|██████████| 940/940 [00:02<00:00, 334.61it/s]"
     ]
    },
    {
     "name": "stdout",
     "output_type": "stream",
     "text": [
      "\n",
      "\n",
      "Scores with Decision rule with threshold count = 7\n",
      "AUROC (%): 33.5\n",
      "\n",
      "\n",
      "Scores with Decision rule with threshold count = 7 \n",
      " and reference vector\n",
      "AUROC (%): 35.73\n"
     ]
    },
    {
     "name": "stderr",
     "output_type": "stream",
     "text": [
      "\n"
     ]
    }
   ],
   "source": [
    "auroc_only_dec_7, auroc_dec_ref_7 = get_auroc_with_threshold_count(7)"
   ]
  },
  {
   "cell_type": "code",
   "execution_count": 94,
   "id": "bc275659",
   "metadata": {},
   "outputs": [
    {
     "name": "stderr",
     "output_type": "stream",
     "text": [
      "100%|██████████| 1662/1662 [00:04<00:00, 333.39it/s]\n",
      "100%|██████████| 940/940 [00:02<00:00, 334.03it/s]"
     ]
    },
    {
     "name": "stdout",
     "output_type": "stream",
     "text": [
      "\n",
      "\n",
      "Scores with Decision rule with threshold count = 8\n",
      "AUROC (%): 39.49\n",
      "\n",
      "\n",
      "Scores with Decision rule with threshold count = 8 \n",
      " and reference vector\n",
      "AUROC (%): 41.04\n"
     ]
    },
    {
     "name": "stderr",
     "output_type": "stream",
     "text": [
      "\n"
     ]
    }
   ],
   "source": [
    "auroc_only_dec_8, auroc_dec_ref_8 = get_auroc_with_threshold_count(8)"
   ]
  },
  {
   "cell_type": "markdown",
   "id": "62aea875",
   "metadata": {},
   "source": [
    "# Entropy values"
   ]
  },
  {
   "cell_type": "code",
   "execution_count": 95,
   "id": "c15ba747",
   "metadata": {},
   "outputs": [
    {
     "name": "stderr",
     "output_type": "stream",
     "text": [
      "100%|██████████| 1662/1662 [00:02<00:00, 559.63it/s]\n",
      "100%|██████████| 940/940 [00:01<00:00, 556.77it/s]"
     ]
    },
    {
     "name": "stdout",
     "output_type": "stream",
     "text": [
      "\n",
      "\n",
      "Scores with Entropy ref value - detecting ID and OOD and giving these to AUROC\n",
      "AUROC (%): 69.95\n",
      "\n",
      "\n",
      "Scores with Entropy ref value - sim ID to AUROC\n",
      "AUROC (%): 84.55\n",
      "\n",
      "\n",
      "Scores with Entropy ref value - sim OOD to AUROC\n",
      "AUROC (%): 13.05\n",
      "AUROC (%): 13.05\n"
     ]
    },
    {
     "name": "stderr",
     "output_type": "stream",
     "text": [
      "\n"
     ]
    }
   ],
   "source": [
    "  y_pred = []\n",
    "  y_true = []\n",
    "  y_true_ = []\n",
    "  sim_ID = []\n",
    "  sim_OOD = []\n",
    "\n",
    "  for ind in tqdm(range(len(test_softmax_list[0]))):\n",
    "    pred_entropy = 0\n",
    "    for test_softmax in test_softmax_list:\n",
    "      pred = test_softmax[ind]\n",
    "      ent = entropy(pred, base=len(pred))\n",
    "      pred_entropy += ent\n",
    "\n",
    "    pred_entropy = pred_entropy/len(test_softmax_list)\n",
    "    dist_from_ID = distance.euclidean(pred_entropy, id_entropy)\n",
    "    dist_from_OOD = distance.euclidean(pred_entropy, ood_entropy)\n",
    "    sim_with_ID = 1 / (1 + dist_from_ID)\n",
    "    sim_with_OOD = 1 / (1 + dist_from_OOD)\n",
    "    sim_ID.append(sim_with_ID)\n",
    "    sim_OOD.append(sim_with_OOD)\n",
    "\n",
    "    if sim_with_ID >= sim_with_OOD:\n",
    "      y_pred.append(1)\n",
    "    else:\n",
    "      y_pred.append(0)\n",
    "    y_true.append(1) # because ID data\n",
    "    y_true_.append(0)\n",
    "\n",
    "\n",
    "  for ind in tqdm(range(len(anom_softmax_list[0]))):\n",
    "    pred_entropy = 0\n",
    "    for test_softmax in anom_softmax_list:\n",
    "      pred = test_softmax[ind]\n",
    "      ent = entropy(pred, base=len(pred))\n",
    "      pred_entropy += ent\n",
    "    \n",
    "    pred_entropy = pred_entropy/len(anom_softmax_list)\n",
    "    dist_from_ID = distance.euclidean(pred_entropy, id_entropy)\n",
    "    dist_from_OOD = distance.euclidean(pred_entropy, ood_entropy)\n",
    "    sim_with_ID = 1 / (1 + dist_from_ID)\n",
    "    sim_with_OOD = 1 / (1 + dist_from_OOD)\n",
    "    sim_ID.append(sim_with_ID)\n",
    "    sim_OOD.append(sim_with_OOD)\n",
    "\n",
    "    if sim_with_ID >= sim_with_OOD:\n",
    "      y_pred.append(1)\n",
    "    else:\n",
    "      y_pred.append(0)\n",
    "    y_true.append(0) # because OOD data\n",
    "    y_true_.append(1)\n",
    "\n",
    "  print(\"\\n\\nScores with Entropy ref value - detecting ID and OOD and giving these to AUROC\")\n",
    "  auroc_ent_detection = sk.roc_auc_score(y_true, y_pred)\n",
    "  print('AUROC (%):', round(100*auroc_ent_detection, 2))\n",
    "\n",
    "  print(\"\\n\\nScores with Entropy ref value - sim ID to AUROC\")\n",
    "  auroc_ent_sim = sk.roc_auc_score(y_true, sim_ID)\n",
    "  print('AUROC (%):', round(100*auroc_ent_sim, 2))\n",
    "\n",
    "  print(\"\\n\\nScores with Entropy ref value - sim OOD to AUROC\")\n",
    "  auroc = sk.roc_auc_score(y_true, sim_OOD)\n",
    "  print('AUROC (%):', round(100*auroc, 2))\n",
    "\n",
    "  auroc_ent_sim_ood = sk.roc_auc_score(y_true_, sim_OOD)\n",
    "  print('AUROC (%):', round(100*auroc, 2))"
   ]
  },
  {
   "cell_type": "markdown",
   "id": "479e1d61",
   "metadata": {},
   "source": [
    "# Entropy value + Decision Rule"
   ]
  },
  {
   "cell_type": "code",
   "execution_count": 96,
   "id": "10df7f8c",
   "metadata": {},
   "outputs": [],
   "source": [
    "def get_auroc_with_threshold_count(threshold_count):\n",
    "  y_pred_decision_ref = []\n",
    "  y_true = []\n",
    "\n",
    "  for ind in tqdm(range(len(test_softmax_list[0]))):\n",
    "    preds = []\n",
    "    pred_entropy = 0\n",
    "    for test_softmax, mapping in zip(test_softmax_list, mappings):\n",
    "      # to get entropy\n",
    "      pred = test_softmax[ind]  # vector of length 9\n",
    "      ent = entropy(pred, base=len(pred))\n",
    "      pred_entropy += ent\n",
    "      # to get max count\n",
    "      pred_classifier = np.argmax(test_softmax[ind])  # argmax of vector\n",
    "      mapped_pred = mapping[pred_classifier]\n",
    "      preds.append(mapped_pred)\n",
    "    counts = np.bincount(preds)\n",
    "    max_count = np.max(counts)\n",
    "\n",
    "    pred_entropy = pred_entropy/len(test_softmax_list)\n",
    "    dist_from_ID = distance.euclidean(pred_entropy, id_entropy)\n",
    "    dist_from_OOD = distance.euclidean(pred_entropy, ood_entropy)\n",
    "    sim_with_ID = 1 / (1 + dist_from_ID)\n",
    "    sim_with_OOD = 1 / (1 + dist_from_OOD)\n",
    "\n",
    "    if sim_with_ID >= sim_with_OOD and max_count >= threshold_count:\n",
    "      y_pred_decision_ref.append(1)\n",
    "    else:\n",
    "      y_pred_decision_ref.append(0)\n",
    "    y_true.append(1) # because ID data\n",
    "\n",
    "\n",
    "  for ind in tqdm(range(len(anom_softmax_list[0]))):\n",
    "    preds = []\n",
    "    pred_entropy = 0\n",
    "    for test_softmax, mapping in zip(anom_softmax_list, mappings):\n",
    "      # to get entropy\n",
    "      pred = test_softmax[ind]  # vector of length 9\n",
    "      ent = entropy(pred, base=len(pred))\n",
    "      pred_entropy += ent\n",
    "      # to get max count\n",
    "      pred_classifier = np.argmax(test_softmax[ind])  # argmax of vector\n",
    "      mapped_pred = mapping[pred_classifier]\n",
    "      preds.append(mapped_pred)\n",
    "    counts = np.bincount(preds)\n",
    "    max_count = np.max(counts)\n",
    "\n",
    "    pred_entropy = pred_entropy/len(anom_softmax_list)\n",
    "    dist_from_ID = distance.euclidean(pred_entropy, id_entropy)\n",
    "    dist_from_OOD = distance.euclidean(pred_entropy, ood_entropy)\n",
    "    sim_with_ID = 1 / (1 + dist_from_ID)\n",
    "    sim_with_OOD = 1 / (1 + dist_from_OOD)\n",
    "\n",
    "    if sim_with_ID >= sim_with_OOD and max_count >= threshold_count:\n",
    "      y_pred_decision_ref.append(1)\n",
    "    else:\n",
    "      y_pred_decision_ref.append(0)\n",
    "    y_true.append(0) # because OOD data\n",
    "\n",
    "  print(\"\\n\\nScores with Decision rule with threshold count =\", threshold_count, \n",
    "        \"\\n and entropy reference\")\n",
    "  auroc_dec_ent = sk.roc_auc_score(y_true, y_pred_decision_ref)\n",
    "  print('AUROC (%):', round(100*auroc_dec_ent, 2))\n",
    "  return auroc_dec_ent"
   ]
  },
  {
   "cell_type": "code",
   "execution_count": 97,
   "id": "972a98f5",
   "metadata": {},
   "outputs": [
    {
     "name": "stderr",
     "output_type": "stream",
     "text": [
      "100%|██████████| 1662/1662 [00:05<00:00, 303.88it/s]\n",
      "100%|██████████| 940/940 [00:03<00:00, 307.62it/s]"
     ]
    },
    {
     "name": "stdout",
     "output_type": "stream",
     "text": [
      "\n",
      "\n",
      "Scores with Decision rule with threshold count = 7 \n",
      " and entropy reference\n",
      "AUROC (%): 41.96\n"
     ]
    },
    {
     "name": "stderr",
     "output_type": "stream",
     "text": [
      "\n"
     ]
    }
   ],
   "source": [
    "auroc_dec_ent_7 = get_auroc_with_threshold_count(7)"
   ]
  },
  {
   "cell_type": "code",
   "execution_count": 98,
   "id": "dd3bf167",
   "metadata": {},
   "outputs": [
    {
     "name": "stderr",
     "output_type": "stream",
     "text": [
      "100%|██████████| 1662/1662 [00:05<00:00, 306.57it/s]\n",
      "100%|██████████| 940/940 [00:03<00:00, 307.30it/s]"
     ]
    },
    {
     "name": "stdout",
     "output_type": "stream",
     "text": [
      "\n",
      "\n",
      "Scores with Decision rule with threshold count = 8 \n",
      " and entropy reference\n",
      "AUROC (%): 43.62\n"
     ]
    },
    {
     "name": "stderr",
     "output_type": "stream",
     "text": [
      "\n"
     ]
    }
   ],
   "source": [
    "auroc_dec_ent_8 = get_auroc_with_threshold_count(8)"
   ]
  },
  {
   "cell_type": "markdown",
   "id": "a26653c2",
   "metadata": {},
   "source": [
    "# Method 2"
   ]
  },
  {
   "cell_type": "code",
   "execution_count": 99,
   "id": "4e9f0e2e",
   "metadata": {},
   "outputs": [
    {
     "data": {
      "text/plain": [
       "(6174, 6174)"
      ]
     },
     "execution_count": 99,
     "metadata": {},
     "output_type": "execute_result"
    }
   ],
   "source": [
    "x_train = []\n",
    "y_train = []\n",
    "\n",
    "for new_softmax in new_softmax_list:\n",
    "  for sm in new_softmax:\n",
    "    x_train.append(sm)\n",
    "    y_train.append(1)\n",
    "\n",
    "for new_softmax in new_ood_softmax_list:\n",
    "  for sm in new_softmax:\n",
    "    x_train.append(sm)\n",
    "    y_train.append(0)\n",
    "\n",
    "len(x_train), len(y_train)"
   ]
  },
  {
   "cell_type": "code",
   "execution_count": 107,
   "id": "7e3bcd86",
   "metadata": {},
   "outputs": [
    {
     "data": {
      "text/plain": [
       "(23418, 23418)"
      ]
     },
     "execution_count": 107,
     "metadata": {},
     "output_type": "execute_result"
    }
   ],
   "source": [
    "x_test = []\n",
    "y_test = []\n",
    "\n",
    "for new_softmax in test_softmax_list:\n",
    "  for sm in new_softmax:\n",
    "    x_test.append(sm)\n",
    "    y_test.append(1)\n",
    "\n",
    "for new_softmax in anom_softmax_list:\n",
    "  for sm in new_softmax:\n",
    "    x_test.append(sm)\n",
    "    y_test.append(0)\n",
    "\n",
    "len(x_test), len(y_test)"
   ]
  },
  {
   "cell_type": "code",
   "execution_count": 108,
   "id": "4ceda494",
   "metadata": {},
   "outputs": [
    {
     "name": "stdout",
     "output_type": "stream",
     "text": [
      "4939 1235 4939\n"
     ]
    }
   ],
   "source": [
    "svm_train_ip, svm_test_ip, svm_train_lb, svm_test_lb = train_test_split(x_train, y_train, test_size=0.20, stratify=y_train)\n",
    "print(len(svm_train_ip),len(svm_test_ip),len(svm_train_lb))"
   ]
  },
  {
   "cell_type": "code",
   "execution_count": 109,
   "id": "a1681649",
   "metadata": {},
   "outputs": [
    {
     "name": "stderr",
     "output_type": "stream",
     "text": [
      "/home/sudhi/coliee/coliee_test/lib/python3.8/site-packages/sklearn/utils/validation.py:70: FutureWarning: Pass classes=[0 1], y=[1, 1, 1, 1, 1, 1, 1, 1, 1, 1, 1, 1, 1, 0, 1, 1, 1, 1, 0, 1, 1, 0, 1, 1, 1, 1, 1, 1, 1, 1, 1, 1, 1, 1, 1, 1, 1, 1, 1, 1, 1, 0, 1, 0, 1, 1, 0, 1, 1, 1, 1, 1, 1, 1, 1, 1, 1, 1, 1, 1, 1, 1, 1, 1, 1, 1, 1, 1, 0, 0, 1, 1, 1, 1, 1, 1, 1, 1, 1, 1, 1, 1, 1, 1, 1, 0, 1, 1, 1, 1, 1, 1, 1, 1, 1, 0, 1, 1, 1, 1, 0, 1, 1, 1, 1, 0, 1, 1, 1, 1, 1, 1, 1, 1, 1, 1, 1, 1, 0, 0, 0, 1, 1, 1, 1, 1, 1, 1, 1, 1, 1, 1, 1, 1, 1, 1, 1, 0, 1, 1, 0, 1, 0, 1, 1, 1, 1, 1, 1, 1, 1, 1, 1, 1, 1, 0, 1, 1, 1, 1, 1, 0, 1, 1, 1, 1, 1, 1, 0, 1, 1, 1, 1, 1, 1, 1, 1, 1, 1, 1, 1, 1, 1, 1, 1, 0, 0, 1, 1, 1, 1, 1, 1, 1, 1, 1, 0, 1, 1, 1, 1, 1, 1, 0, 0, 1, 1, 1, 1, 1, 0, 1, 1, 1, 1, 1, 1, 1, 1, 0, 1, 1, 1, 1, 1, 1, 0, 1, 1, 1, 1, 1, 1, 1, 1, 1, 1, 1, 1, 1, 1, 1, 0, 1, 1, 1, 1, 1, 1, 1, 1, 1, 1, 1, 1, 1, 0, 1, 1, 1, 1, 1, 1, 1, 1, 1, 1, 1, 1, 1, 1, 1, 1, 1, 1, 1, 1, 1, 1, 1, 1, 1, 1, 1, 1, 1, 1, 1, 1, 1, 1, 1, 0, 1, 1, 1, 1, 0, 1, 1, 1, 0, 0, 1, 1, 1, 1, 1, 1, 0, 1, 1, 1, 1, 1, 1, 1, 1, 1, 1, 1, 1, 1, 1, 1, 1, 1, 1, 1, 1, 1, 1, 1, 1, 1, 1, 1, 1, 1, 1, 1, 1, 0, 1, 1, 1, 1, 1, 0, 1, 1, 1, 1, 0, 1, 1, 1, 1, 1, 0, 1, 1, 1, 0, 1, 1, 1, 1, 1, 1, 1, 1, 1, 1, 1, 1, 1, 0, 1, 1, 1, 1, 1, 1, 0, 1, 1, 1, 1, 1, 1, 1, 1, 1, 1, 1, 1, 0, 1, 0, 1, 1, 1, 1, 1, 1, 1, 1, 1, 1, 1, 1, 0, 1, 1, 1, 1, 1, 1, 1, 1, 1, 1, 1, 1, 1, 1, 1, 1, 1, 1, 1, 1, 1, 1, 1, 1, 1, 1, 1, 1, 0, 1, 1, 1, 0, 1, 1, 1, 1, 0, 1, 1, 1, 1, 1, 1, 1, 1, 0, 1, 0, 1, 1, 1, 1, 1, 1, 1, 1, 1, 1, 1, 1, 1, 0, 1, 1, 1, 1, 1, 0, 0, 0, 1, 1, 1, 1, 1, 1, 1, 1, 1, 0, 1, 1, 1, 1, 0, 1, 1, 1, 1, 0, 1, 1, 1, 1, 1, 1, 1, 1, 1, 1, 1, 1, 0, 0, 1, 1, 1, 1, 1, 1, 1, 1, 1, 0, 1, 1, 1, 1, 0, 1, 1, 1, 1, 1, 1, 1, 1, 1, 1, 1, 1, 0, 1, 1, 1, 1, 1, 1, 1, 1, 1, 1, 1, 1, 1, 1, 1, 0, 1, 1, 0, 1, 1, 1, 1, 1, 1, 0, 1, 1, 1, 1, 0, 1, 1, 1, 1, 1, 1, 1, 1, 1, 1, 1, 1, 1, 1, 1, 1, 0, 1, 1, 1, 1, 1, 1, 1, 1, 1, 0, 1, 1, 0, 1, 1, 1, 1, 1, 1, 0, 1, 1, 1, 1, 0, 1, 1, 1, 1, 1, 1, 1, 1, 1, 1, 1, 1, 1, 1, 1, 1, 1, 1, 1, 1, 1, 1, 1, 1, 1, 1, 1, 1, 1, 1, 0, 1, 1, 1, 1, 1, 1, 1, 1, 1, 1, 0, 1, 1, 1, 1, 0, 1, 1, 1, 1, 0, 1, 1, 1, 1, 1, 0, 1, 0, 1, 1, 1, 1, 1, 0, 0, 1, 1, 1, 1, 1, 1, 1, 1, 0, 1, 0, 1, 1, 1, 1, 0, 1, 1, 1, 1, 1, 1, 1, 1, 1, 1, 1, 1, 0, 1, 1, 1, 1, 1, 1, 1, 1, 1, 1, 1, 1, 1, 1, 1, 1, 1, 1, 0, 1, 1, 1, 1, 0, 1, 0, 1, 1, 1, 1, 1, 1, 1, 1, 1, 0, 1, 1, 1, 1, 1, 1, 1, 1, 1, 1, 1, 1, 1, 1, 0, 0, 1, 1, 1, 0, 1, 1, 0, 1, 1, 1, 1, 1, 1, 1, 1, 1, 1, 1, 1, 1, 1, 0, 1, 0, 1, 1, 0, 1, 0, 1, 1, 0, 1, 1, 1, 1, 1, 0, 1, 1, 1, 1, 1, 1, 1, 1, 0, 1, 1, 1, 0, 1, 1, 1, 1, 1, 1, 1, 1, 1, 1, 1, 1, 1, 1, 1, 1, 1, 1, 1, 1, 1, 0, 1, 0, 1, 1, 0, 1, 0, 1, 1, 0, 1, 1, 0, 1, 1, 1, 1, 1, 1, 1, 1, 1, 0, 1, 1, 1, 1, 1, 1, 1, 1, 1, 1, 0, 1, 1, 1, 1, 1, 1, 1, 1, 1, 0, 1, 0, 1, 1, 1, 1, 0, 1, 1, 1, 1, 1, 1, 1, 1, 1, 0, 0, 1, 1, 1, 1, 1, 1, 1, 0, 1, 1, 1, 1, 0, 1, 1, 0, 1, 1, 1, 1, 1, 1, 1, 1, 1, 1, 1, 1, 0, 1, 1, 1, 1, 1, 1, 0, 1, 1, 1, 1, 1, 1, 1, 1, 1, 1, 1, 1, 1, 1, 1, 1, 1, 1, 1, 1, 1, 0, 1, 1, 1, 1, 1, 0, 1, 1, 1, 1, 1, 1, 1, 1, 1, 1, 1, 1, 1, 1, 1, 1, 1, 1, 1, 1, 1, 1, 1, 1, 1, 1, 0, 1, 1, 1, 1, 1, 0, 1, 1, 1, 1, 1, 1, 1, 1, 1, 1, 1, 0, 1, 1, 1, 0, 1, 0, 1, 1, 1, 1, 1, 1, 1, 1, 1, 1, 1, 1, 0, 1, 1, 1, 1, 1, 1, 1, 1, 1, 0, 1, 1, 1, 1, 1, 1, 1, 1, 1, 1, 1, 1, 0, 1, 1, 1, 1, 1, 1, 0, 1, 1, 1, 1, 1, 1, 1, 0, 1, 1, 1, 1, 1, 1, 1, 1, 1, 1, 1, 1, 0, 1, 0, 1, 1, 1, 1, 1, 1, 1, 1, 1, 1, 1, 1, 1, 1, 1, 1, 1, 1, 1, 1, 1, 1, 1, 1, 1, 1, 1, 1, 1, 1, 1, 1, 1, 1, 1, 1, 1, 1, 1, 1, 1, 1, 0, 0, 1, 1, 1, 1, 1, 0, 1, 1, 1, 1, 1, 1, 1, 1, 1, 1, 1, 1, 1, 1, 1, 1, 1, 0, 1, 1, 1, 1, 1, 1, 1, 1, 1, 0, 1, 1, 0, 1, 1, 1, 0, 0, 1, 1, 1, 1, 1, 1, 1, 1, 1, 1, 1, 1, 1, 1, 1, 1, 1, 1, 1, 1, 1, 0, 1, 1, 1, 1, 1, 0, 1, 1, 1, 1, 1, 1, 1, 1, 1, 1, 1, 1, 1, 1, 1, 1, 1, 1, 1, 1, 1, 1, 1, 1, 1, 1, 1, 1, 1, 1, 1, 1, 0, 1, 0, 1, 1, 1, 1, 1, 1, 1, 1, 1, 1, 1, 1, 1, 1, 0, 1, 1, 1, 1, 1, 1, 1, 1, 0, 1, 1, 1, 1, 1, 1, 1, 0, 1, 1, 1, 1, 1, 1, 1, 0, 1, 1, 1, 1, 1, 1, 1, 1, 1, 1, 1, 1, 1, 1, 0, 1, 1, 1, 0, 1, 1, 1, 1, 1, 1, 1, 1, 1, 1, 1, 1, 1, 1, 1, 1, 1, 1, 1, 1, 0, 1, 1, 1, 1, 1, 1, 1, 1, 1, 1, 1, 1, 0, 0, 1, 1, 1, 1, 1, 1, 1, 1, 1, 0, 1, 1, 1, 1, 1, 1, 1, 1, 1, 1, 1, 1, 1, 1, 0, 1, 1, 0, 1, 1, 1, 1, 1, 1, 1, 0, 1, 1, 1, 1, 1, 1, 1, 1, 1, 1, 1, 1, 1, 1, 0, 1, 1, 1, 1, 1, 1, 1, 1, 1, 1, 1, 1, 1, 1, 1, 1, 1, 1, 1, 1, 1, 1, 1, 1, 0, 1, 1, 1, 1, 0, 1, 1, 1, 1, 1, 1, 1, 1, 1, 1, 1, 1, 0, 1, 1, 1, 1, 1, 1, 1, 0, 1, 0, 1, 1, 1, 1, 1, 1, 1, 0, 0, 1, 1, 1, 1, 1, 1, 1, 1, 1, 1, 1, 1, 1, 1, 1, 1, 1, 1, 1, 1, 1, 1, 1, 1, 1, 1, 1, 1, 0, 0, 1, 1, 1, 1, 1, 0, 1, 1, 1, 1, 1, 1, 1, 1, 1, 1, 1, 1, 1, 1, 0, 1, 1, 1, 1, 1, 1, 1, 1, 1, 1, 1, 1, 1, 1, 1, 0, 1, 1, 1, 1, 1, 1, 1, 0, 0, 1, 0, 1, 1, 1, 1, 1, 1, 1, 1, 1, 1, 1, 1, 1, 0, 1, 1, 1, 1, 1, 1, 1, 1, 1, 1, 1, 0, 1, 1, 1, 1, 1, 1, 1, 1, 1, 1, 1, 1, 1, 1, 0, 1, 1, 1, 1, 1, 1, 1, 1, 1, 1, 1, 1, 1, 1, 1, 0, 1, 1, 1, 1, 0, 1, 1, 1, 1, 1, 0, 0, 1, 0, 1, 1, 1, 1, 1, 1, 1, 1, 1, 1, 1, 1, 0, 1, 1, 1, 1, 1, 1, 1, 1, 0, 0, 1, 1, 1, 1, 1, 1, 0, 1, 1, 0, 1, 1, 1, 1, 1, 1, 1, 1, 1, 1, 1, 0, 1, 1, 1, 1, 0, 1, 1, 1, 1, 1, 1, 1, 1, 1, 1, 1, 1, 1, 1, 1, 1, 1, 1, 1, 1, 1, 1, 1, 1, 1, 1, 1, 1, 1, 1, 1, 0, 1, 1, 1, 1, 0, 1, 1, 1, 1, 0, 1, 1, 1, 0, 0, 1, 1, 1, 1, 1, 1, 1, 1, 1, 1, 1, 1, 1, 1, 1, 1, 1, 1, 1, 0, 1, 1, 1, 0, 1, 1, 1, 1, 1, 1, 1, 1, 1, 1, 1, 1, 1, 1, 1, 1, 1, 1, 1, 0, 1, 1, 1, 1, 1, 1, 1, 1, 1, 1, 1, 1, 0, 1, 1, 1, 1, 1, 1, 1, 1, 1, 1, 1, 1, 1, 1, 1, 1, 0, 1, 1, 1, 1, 1, 1, 1, 1, 1, 0, 1, 1, 1, 1, 1, 1, 1, 1, 0, 1, 1, 1, 1, 1, 1, 1, 1, 1, 1, 1, 1, 1, 0, 0, 1, 1, 1, 1, 1, 1, 1, 1, 1, 1, 0, 1, 1, 1, 1, 1, 1, 1, 1, 0, 1, 1, 1, 1, 1, 1, 1, 1, 1, 1, 0, 1, 1, 1, 1, 1, 1, 1, 1, 1, 0, 1, 1, 1, 1, 1, 1, 1, 1, 1, 1, 1, 1, 1, 1, 1, 1, 1, 1, 1, 1, 1, 1, 1, 1, 1, 1, 1, 1, 1, 1, 1, 1, 0, 1, 1, 1, 1, 1, 1, 1, 1, 1, 1, 1, 1, 0, 1, 1, 1, 1, 1, 1, 1, 1, 1, 0, 1, 1, 1, 1, 1, 1, 1, 1, 1, 1, 1, 1, 1, 1, 1, 1, 0, 1, 1, 1, 1, 0, 1, 1, 1, 1, 1, 1, 1, 1, 0, 0, 1, 1, 1, 1, 1, 1, 1, 1, 1, 1, 1, 1, 1, 1, 1, 1, 1, 1, 1, 1, 1, 1, 1, 1, 1, 1, 1, 1, 1, 1, 1, 1, 1, 0, 1, 1, 1, 1, 1, 1, 1, 1, 0, 0, 1, 1, 1, 1, 0, 1, 1, 1, 1, 1, 1, 1, 1, 1, 1, 0, 1, 1, 1, 1, 1, 1, 1, 1, 1, 1, 1, 1, 1, 1, 1, 1, 1, 1, 1, 1, 0, 1, 0, 1, 1, 1, 1, 1, 1, 0, 1, 1, 1, 1, 0, 1, 0, 1, 1, 1, 1, 1, 1, 1, 0, 1, 1, 1, 0, 1, 1, 1, 1, 1, 1, 1, 1, 1, 1, 1, 1, 1, 1, 1, 1, 1, 1, 1, 1, 0, 1, 1, 1, 1, 1, 1, 1, 0, 1, 1, 1, 1, 1, 1, 1, 1, 1, 1, 1, 0, 1, 1, 1, 1, 0, 1, 1, 1, 0, 1, 1, 1, 1, 1, 0, 1, 1, 1, 1, 1, 1, 0, 1, 1, 1, 1, 1, 1, 1, 1, 1, 1, 1, 1, 0, 1, 1, 1, 1, 1, 1, 1, 0, 1, 0, 1, 1, 0, 1, 1, 1, 1, 1, 1, 1, 1, 1, 1, 1, 1, 1, 0, 1, 1, 1, 1, 0, 1, 1, 1, 1, 0, 0, 1, 1, 1, 1, 1, 1, 1, 1, 0, 1, 1, 1, 1, 0, 1, 1, 1, 1, 1, 1, 1, 1, 1, 1, 1, 1, 1, 1, 1, 1, 1, 0, 1, 1, 1, 1, 1, 1, 1, 1, 1, 1, 1, 1, 0, 1, 1, 1, 1, 1, 1, 0, 0, 1, 1, 1, 1, 1, 1, 1, 1, 1, 0, 0, 1, 1, 1, 1, 1, 1, 0, 1, 1, 1, 1, 1, 1, 1, 1, 1, 0, 1, 1, 1, 0, 0, 1, 1, 1, 1, 1, 1, 1, 1, 1, 1, 1, 1, 1, 1, 1, 1, 1, 1, 0, 1, 1, 1, 1, 1, 1, 1, 1, 1, 1, 0, 0, 1, 1, 1, 1, 1, 1, 0, 1, 1, 1, 1, 1, 1, 1, 1, 1, 1, 1, 1, 1, 1, 1, 1, 1, 0, 1, 1, 1, 1, 1, 1, 1, 1, 1, 1, 1, 1, 1, 1, 1, 0, 1, 1, 0, 1, 1, 1, 1, 1, 1, 1, 0, 1, 1, 1, 1, 1, 1, 1, 1, 1, 1, 1, 0, 1, 1, 1, 1, 1, 1, 1, 1, 1, 1, 0, 0, 0, 0, 1, 1, 1, 1, 1, 1, 0, 1, 1, 0, 1, 1, 0, 1, 1, 1, 0, 1, 1, 1, 1, 0, 1, 1, 0, 1, 1, 1, 1, 1, 1, 1, 1, 1, 1, 1, 1, 1, 1, 1, 1, 1, 1, 1, 1, 1, 0, 1, 0, 1, 1, 1, 1, 0, 1, 1, 1, 1, 1, 1, 1, 1, 1, 1, 1, 1, 0, 1, 0, 0, 1, 1, 1, 0, 1, 1, 1, 0, 1, 1, 1, 1, 1, 1, 1, 0, 1, 1, 1, 1, 1, 1, 1, 1, 0, 1, 1, 1, 1, 1, 1, 0, 1, 1, 0, 1, 1, 1, 1, 1, 0, 1, 1, 1, 1, 1, 1, 1, 1, 1, 1, 1, 1, 1, 1, 0, 0, 1, 1, 0, 1, 1, 1, 1, 1, 1, 1, 1, 1, 1, 1, 0, 0, 1, 1, 1, 1, 0, 1, 1, 0, 1, 0, 1, 1, 1, 1, 1, 1, 1, 1, 1, 1, 1, 1, 1, 1, 1, 0, 0, 1, 1, 1, 1, 1, 1, 1, 1, 1, 1, 1, 1, 1, 1, 1, 1, 0, 1, 1, 1, 1, 1, 1, 1, 1, 1, 1, 1, 1, 1, 1, 1, 0, 1, 1, 1, 1, 1, 1, 1, 1, 1, 1, 1, 1, 1, 1, 1, 0, 1, 1, 1, 0, 1, 1, 1, 0, 1, 1, 1, 1, 1, 1, 1, 1, 1, 1, 1, 1, 1, 1, 1, 1, 1, 1, 1, 1, 1, 1, 1, 1, 0, 1, 1, 1, 1, 1, 1, 1, 1, 1, 0, 1, 1, 1, 1, 1, 1, 1, 1, 1, 1, 1, 1, 1, 1, 1, 0, 1, 1, 1, 1, 1, 1, 0, 1, 1, 1, 1, 0, 1, 1, 1, 1, 1, 1, 1, 1, 1, 1, 1, 1, 1, 1, 1, 1, 1, 1, 1, 1, 1, 1, 1, 1, 1, 1, 1, 1, 1, 1, 1, 0, 0, 1, 1, 1, 0, 1, 0, 1, 0, 1, 1, 1, 1, 1, 1, 1, 1, 1, 1, 1, 0, 1, 1, 0, 1, 1, 1, 1, 1, 1, 1, 1, 0, 1, 1, 1, 1, 1, 1, 1, 1, 1, 1, 1, 1, 1, 1, 1, 1, 1, 0, 1, 1, 1, 1, 1, 1, 1, 1, 1, 0, 1, 1, 1, 1, 0, 1, 0, 1, 1, 1, 1, 1, 1, 1, 1, 1, 1, 1, 1, 1, 1, 1, 1, 1, 1, 1, 1, 1, 1, 0, 1, 1, 1, 1, 1, 1, 1, 1, 1, 1, 1, 1, 1, 1, 1, 0, 1, 1, 1, 1, 1, 0, 1, 1, 1, 1, 1, 1, 1, 1, 1, 1, 1, 1, 0, 1, 1, 1, 1, 1, 1, 1, 1, 1, 1, 1, 1, 1, 1, 1, 1, 1, 1, 1, 1, 1, 0, 1, 1, 1, 1, 1, 1, 1, 1, 1, 1, 1, 1, 1, 1, 1, 1, 1, 0, 1, 1, 0, 0, 1, 1, 1, 1, 1, 1, 1, 1, 1, 1, 1, 1, 1, 1, 1, 1, 1, 0, 0, 1, 1, 1, 1, 1, 1, 0, 1, 1, 1, 1, 1, 1, 1, 1, 1, 1, 1, 1, 1, 1, 1, 0, 1, 1, 1, 1, 1, 1, 1, 1, 1, 1, 1, 1, 1, 1, 1, 1, 1, 1, 1, 1, 1, 0, 1, 1, 1, 1, 0, 1, 0, 1, 1, 1, 1, 1, 1, 1, 1, 0, 1, 1, 1, 1, 1, 1, 1, 1, 1, 1, 1, 1, 1, 1, 1, 0, 1, 1, 1, 1, 1, 0, 1, 1, 0, 1, 1, 1, 1, 1, 1, 1, 1, 1, 1, 1, 1, 1, 1, 1, 1, 1, 1, 1, 0, 1, 1, 0, 1, 1, 1, 1, 1, 1, 1, 1, 0, 0, 1, 1, 1, 1, 1, 1, 1, 0, 1, 1, 1, 1, 1, 1, 1, 1, 1, 1, 1, 1, 1, 1, 1, 1, 1, 1, 1, 1, 1, 0, 1, 1, 1, 1, 1, 1, 1, 1, 1, 1, 1, 1, 1, 1, 1, 1, 1, 1, 0, 1, 0, 1, 1, 1, 1, 1, 1, 1, 1, 0, 1, 1, 1, 0, 0, 1, 0, 1, 1, 1, 1, 1, 1, 1, 0, 1, 1, 1, 1, 1, 1, 1, 1, 1, 1, 0, 1, 1, 1, 1, 1, 1, 1, 1, 1, 1, 1, 1, 1, 1, 1, 1, 1, 1, 1, 1, 1, 1, 1, 1, 1, 1, 1, 1, 0, 1, 1, 0, 1, 0, 1, 1, 0, 1, 1, 1, 1, 1, 1, 1, 1, 0, 1, 0, 1, 1, 1, 1, 1, 1, 1, 1, 1, 1, 1, 1, 1, 1, 1, 1, 1, 0, 1, 1, 1, 0, 1, 1, 1, 1, 1, 1, 1, 1, 1, 1, 1, 1, 1, 1, 1, 1, 1, 1, 1, 1, 1, 0, 1, 1, 0, 1, 1, 1, 0, 1, 1, 1, 1, 1, 1, 1, 1, 1, 1, 1, 1, 1, 1, 1, 1, 1, 1, 1, 1, 1, 1, 0, 1, 1, 1, 1, 1, 1, 1, 1, 1, 1, 1, 1, 1, 1, 1, 1, 1, 1, 1, 1, 1, 1, 1, 1, 1, 1, 1, 0, 1, 1, 1, 1, 1, 1, 1, 1, 1, 1, 1, 1, 1, 0, 1, 1, 1, 1, 0, 1, 1, 1, 1, 1, 1, 1, 1, 1, 1, 1, 1, 1, 1, 1, 1, 0, 1, 1, 1, 1, 1, 1, 1, 1, 1, 1, 1, 1, 1, 1, 1, 1, 1, 1, 1, 1, 1, 1, 0, 1, 1, 1, 1, 0, 1, 1, 0, 1, 1, 1, 1, 1, 1, 1, 1, 1, 1, 1, 1, 1, 1, 1, 1, 1, 0, 1, 1, 0, 1, 1, 1, 1, 1, 1, 1, 0, 0, 1, 1, 0, 1, 1, 0, 1, 1, 1, 0, 1, 0, 1, 1, 1, 1, 0, 1, 1, 1, 1, 1, 1, 1, 1, 1, 1, 1, 1, 1, 1, 1, 1, 1, 0, 1, 1, 1, 1, 1, 1, 1, 1, 1, 1, 1, 1, 1, 1, 1, 1, 1, 1, 0, 1, 1, 1, 1, 1, 1, 1, 1, 1, 0, 1, 1, 1, 1, 1, 1, 1, 1, 1, 1, 1, 0, 1, 1, 1, 1, 1, 1, 1, 1, 1, 0, 1, 0, 0, 1, 1, 1, 1, 0, 0, 1, 1, 1, 1, 1, 1, 0, 1, 1, 1, 1, 1, 1, 1, 1, 1, 0, 1, 0, 1, 1, 0, 1, 1, 1, 1, 1, 1, 1, 1, 1, 1, 1, 1, 1, 1, 1, 1, 1, 1, 1, 1, 1, 1, 1, 1, 1, 1, 1, 1, 1, 1, 1, 1, 1, 1, 1, 1, 1, 1, 1, 1, 1, 1, 1, 1, 1, 1, 1, 1, 0, 1, 1, 1, 1, 1, 1, 0, 1, 1, 0, 1, 1, 1, 0, 1, 1, 1, 1, 1, 1, 1, 1, 1, 1, 1, 1, 1, 1, 0, 1, 1, 1, 1, 1, 1, 1, 1, 1, 1, 1, 1, 1, 1, 0, 1, 1, 1, 1, 1, 1, 1, 1, 1, 0, 1, 1, 1, 1, 1, 1, 1, 1, 1, 1, 1, 1, 1, 0, 1, 1, 1, 1, 1, 1, 1, 1, 1, 1, 1, 1, 1, 1, 1, 1, 1, 1, 1, 1, 1, 0, 1, 1, 1, 1, 1, 0, 1, 1, 1, 1, 1, 1, 1, 1, 1, 1, 1, 1, 1, 1, 1, 1, 1, 1, 1, 1, 1, 0, 1, 0, 1, 1, 1, 1, 1, 1, 0, 1, 1, 1, 1, 1, 1, 1, 1, 1, 1, 1, 1, 1, 1, 1, 0, 1, 1, 0, 0, 1, 1, 1, 0, 1, 1, 0, 1, 1, 1, 1, 1, 1, 1, 1, 1, 1, 0, 1, 0, 1, 1, 1, 1, 1, 1, 1, 1, 1, 1, 1, 1, 1, 1, 1, 1, 1, 1, 1, 1, 1, 1, 1, 1, 1, 1, 1, 0, 1, 1, 1, 1, 1, 1, 1, 1, 1, 1, 1, 1, 1, 0, 1, 1, 1, 1, 0, 1, 1, 1, 1, 1, 1, 1, 1, 0, 1, 1, 1, 1, 0, 1, 1, 1, 1, 1, 1, 1, 0, 1, 1, 1, 1, 1, 0, 1, 1, 1, 0, 1, 1, 1, 1, 1, 1, 1, 0, 1, 1, 0, 0, 1, 1, 0, 1, 1, 1, 1, 1, 1, 1, 1, 1, 1, 1, 0, 1, 1, 1, 1, 1, 1, 1, 1, 1, 0, 1, 1, 0, 0, 1, 0, 1, 1, 1, 1, 1, 1, 1, 1, 1, 1, 1, 1, 1, 1, 1, 0, 1, 1, 0, 0, 1, 1, 1, 1, 0, 1, 1, 1, 1, 1, 1, 1, 1, 1, 1, 1, 1, 1, 1, 1, 1, 1, 1, 1, 0, 1, 1, 1, 1, 1, 1, 1, 1, 1, 1, 1, 1, 0, 1, 1, 1, 1, 1, 1, 0, 1, 1, 1, 1, 1, 1, 1, 1, 1, 1, 1, 1, 1, 1, 1, 1, 1, 1, 1, 1, 0, 1, 0, 1, 1, 1, 1, 0, 1, 1, 1, 1, 1, 1, 1, 0, 1, 1, 1, 1, 1, 1, 1, 1, 1, 1, 1, 1, 1, 1, 1, 1, 1, 0, 1, 1, 1, 1, 1, 1, 0, 1, 0, 1, 1, 1, 1, 1, 1, 1, 1, 1, 1, 1, 1, 1, 1, 1, 0, 1, 1, 1, 1, 0, 0, 1, 1, 1, 1, 1, 1, 1, 1, 1, 1, 1, 0, 1, 1, 0, 0, 1, 0, 1, 1, 1, 1, 0, 0, 1, 1, 1, 1, 1, 0, 1, 0, 1, 1, 0, 1, 1, 1, 0, 1, 1, 1, 1, 1, 0, 1, 1, 1, 1, 1, 1, 1, 1, 1, 1, 1, 1, 1, 1, 0, 1, 1, 1, 1, 1, 1, 1, 1, 1, 1, 0, 0, 1, 1, 1, 1, 1, 1, 1, 1, 1, 0, 1, 1, 1, 1, 1, 1, 1, 1, 1, 1, 1, 1, 1, 1, 1, 1, 1, 0, 1, 0, 1, 0, 1, 1, 1, 1, 0, 0, 1, 1, 1, 1, 1, 1, 1, 1, 0, 1, 1, 1, 0, 1, 0, 1, 1, 1, 1, 1, 1, 1, 1, 1, 1, 1, 1, 1, 1, 1, 1, 1, 1, 0, 1, 1, 1, 1, 1, 1, 1, 1, 1, 1, 1, 1, 1, 1, 1, 1, 1, 1, 1, 1, 1, 1, 1, 1, 1, 0, 1, 1, 0, 1, 1, 1, 1, 1, 1, 0, 1, 1, 1, 1, 1, 1, 1, 1, 1, 1, 1, 1, 1, 1, 1, 1, 1, 1, 1, 0, 1, 1, 1, 1, 1, 1, 1, 1, 1, 1, 1, 1, 1, 1, 1, 1, 1, 1, 1, 0, 1, 1, 1, 0, 1, 0, 1, 1, 1, 1, 1, 1, 1, 1, 1, 1, 1, 1, 1, 1, 1, 1, 1, 1, 1, 1, 1, 1, 1, 1, 1, 1, 1, 1, 0, 1, 1, 1, 0, 1, 1, 1, 0, 1, 1, 1, 1, 0, 1, 1, 1, 1, 1, 1, 1, 1, 1, 1, 1, 1, 1, 1, 1, 1, 1, 1, 1, 1, 1, 1, 0, 1, 1, 1, 1, 1, 1, 1, 0, 1, 1, 1, 1, 1, 1, 1, 1, 1, 1, 1, 1, 1, 1, 1, 1, 1, 1, 1, 1, 1, 0, 1, 1, 1, 1, 1, 0, 1, 1, 1, 1, 1, 0, 1, 1, 1, 1, 1, 1, 0, 1, 1, 1, 1, 0, 1, 1, 0, 1, 1, 1, 1, 1, 1, 1, 0, 1, 0, 1, 0, 1, 1, 1, 1, 1, 1, 1, 1, 1, 1, 1, 1, 1, 0, 1, 0, 1, 1, 1, 0, 0, 1, 1, 1, 0, 1, 1, 1, 1, 1, 1, 1, 1, 1, 1, 1, 1, 1, 1, 1, 1, 1, 1, 1, 1, 1, 1, 1, 1, 1, 1, 1, 1, 1, 1, 1, 1, 1, 1, 1, 1, 1, 1, 1, 1, 1, 1, 1, 1, 1, 1, 1, 1, 1, 1, 1, 1, 1, 1, 1, 1, 1, 1, 1, 1, 1, 1, 1, 1, 1, 1, 1, 1, 0, 0, 0, 1, 1, 1, 0, 1, 1, 1, 1, 1, 1, 1, 1, 1, 1, 0, 1, 1, 1, 1, 1, 1, 1, 1, 1, 1, 1, 1, 1, 1, 1, 1, 1, 1, 1, 1, 1, 1, 1, 1, 1, 1, 1, 1, 1, 1, 1, 1, 0, 1, 1, 1, 1, 1, 0, 1, 1, 1, 1, 1, 1, 1, 1, 1, 1, 1, 1, 1, 1, 1, 1, 1, 1, 1, 1, 1, 1, 1, 1, 1, 1, 1, 1, 1, 0, 1, 1, 1, 1, 1, 1, 1, 1, 1, 1, 1, 1, 1, 1, 0, 1, 1, 1, 1, 1, 1, 1, 1, 1, 1, 1, 1, 1, 1, 1, 1, 1, 1, 1, 1, 1, 1, 1, 1, 1, 1, 1, 1, 1, 1, 1, 1, 1, 1, 1, 0, 1, 1, 1, 1, 1, 1, 1, 1, 1, 1, 1, 1, 0, 1, 1, 1, 1, 1, 1, 1, 1, 0, 0, 1, 1, 1, 1, 1, 1, 1, 1, 1, 1, 1, 1, 1, 1, 1, 1, 0, 0, 0, 0, 1, 1, 1, 1, 1, 1, 0, 1, 1, 1, 1, 1, 1, 1, 1, 1, 1, 1, 1, 1, 1, 1, 1, 1, 1, 1, 1, 1, 0, 0, 1, 1, 1, 1, 0, 1, 1, 1, 1, 1, 1, 1, 1, 1, 1, 1, 1, 1, 1, 1, 1, 1, 1, 1, 1, 1, 1, 1, 1, 1, 0, 1, 1, 1, 1, 0, 0, 1, 1, 0, 1, 1, 1, 1, 1, 1, 1, 1, 1, 1, 1, 1, 1, 1, 0, 1, 1, 1, 1, 0, 0, 1, 0, 0, 1, 0, 1, 1, 1, 0, 1, 1, 1, 1, 1, 1, 1, 1, 1, 1, 1, 1, 1, 1, 1, 1, 0, 1, 1, 1, 1, 1, 1, 1, 1, 1, 1, 1, 1, 1, 1, 1, 0, 0, 1, 1, 1, 1, 1, 1, 1, 1, 0, 1, 1, 1, 0, 1, 1, 1, 1, 1, 1, 1, 1, 1, 1, 1, 1, 1, 1, 1, 1, 1, 1, 1, 1, 1, 1, 1, 1, 1, 1, 1, 1, 1, 1, 1, 1, 1, 1, 1, 1, 1, 1, 0, 0, 0, 1, 1, 1, 1, 0, 1, 1, 1, 1, 1, 1, 1, 1, 1, 1, 1, 1, 1, 1, 1, 1, 1, 1, 1, 1, 1, 1, 1, 1, 1, 1, 1, 1, 1, 1, 1, 1, 0, 1, 1, 1, 1, 1, 1, 1, 0, 1, 1, 1, 1, 1, 1, 1, 1, 1, 1, 1, 1, 1, 0, 1, 1, 1, 1, 0, 1, 1, 1, 1, 0, 1, 1, 1, 1, 1, 0, 1, 1, 1, 1, 1, 1, 1, 1, 1, 1, 1, 1, 1, 1, 1, 1, 1, 1, 1, 1, 1, 1, 1, 1, 1, 1, 1, 1, 0, 1, 1, 1, 1, 1, 1, 1, 1, 1, 1, 1, 1, 1, 1, 1, 1, 0, 1, 1, 1, 1, 1, 1, 1, 1, 1, 1, 1, 1, 1, 1, 1, 1, 1, 0, 1, 1, 1, 1, 1, 1, 1, 1, 1, 1, 0, 1, 1, 1, 1, 1, 1, 1, 1, 1, 1, 1, 1, 1, 1, 1, 1, 0, 1, 1, 1, 1, 1, 1, 1, 1, 1, 1, 1, 1, 1, 1, 1, 1, 1, 1, 1, 1, 1, 1, 1, 1, 1, 1, 1, 1, 0, 1, 1, 1, 1, 1, 1, 1, 1, 1, 0, 1, 1] as keyword args. From version 1.0 (renaming of 0.25) passing these as positional arguments will result in an error\n",
      "  warnings.warn(f\"Pass {args_msg} as keyword args. From version \"\n"
     ]
    },
    {
     "data": {
      "text/plain": [
       "{0: 4.498178506375227, 1: 0.5625284738041002}"
      ]
     },
     "execution_count": 109,
     "metadata": {},
     "output_type": "execute_result"
    }
   ],
   "source": [
    "from sklearn.utils.class_weight import compute_class_weight\n",
    "class_wts = compute_class_weight('balanced', np.unique(svm_train_lb), svm_train_lb)\n",
    "class_wts ={0:class_wts[0], 1:class_wts[1]}\n",
    "class_wts"
   ]
  },
  {
   "cell_type": "code",
   "execution_count": 110,
   "id": "6fbe8b48",
   "metadata": {},
   "outputs": [
    {
     "data": {
      "text/plain": [
       "Pipeline(steps=[('standardscaler', StandardScaler()),\n",
       "                ('svc',\n",
       "                 SVC(class_weight={0: 4.498178506375227, 1: 0.5625284738041002},\n",
       "                     gamma='auto'))])"
      ]
     },
     "execution_count": 110,
     "metadata": {},
     "output_type": "execute_result"
    }
   ],
   "source": [
    "from sklearn.pipeline import make_pipeline\n",
    "from sklearn.preprocessing import StandardScaler\n",
    "from sklearn.svm import SVC\n",
    "clf = make_pipeline(StandardScaler(), SVC(gamma='auto',class_weight=class_wts))\n",
    "clf.fit(svm_train_ip, svm_train_lb)"
   ]
  },
  {
   "cell_type": "code",
   "execution_count": 111,
   "id": "31d1e2fd",
   "metadata": {},
   "outputs": [
    {
     "data": {
      "text/plain": [
       "1235"
      ]
     },
     "execution_count": 111,
     "metadata": {},
     "output_type": "execute_result"
    }
   ],
   "source": [
    "pred = clf.predict(svm_test_ip)\n",
    "len(pred) ### svm fitted on whole data with weights"
   ]
  },
  {
   "cell_type": "code",
   "execution_count": 112,
   "id": "e9b8648f",
   "metadata": {},
   "outputs": [
    {
     "data": {
      "text/plain": [
       "0.8809716599190284"
      ]
     },
     "execution_count": 112,
     "metadata": {},
     "output_type": "execute_result"
    }
   ],
   "source": [
    "clf.score(svm_test_ip,svm_test_lb) "
   ]
  },
  {
   "cell_type": "code",
   "execution_count": 113,
   "id": "1d03c093",
   "metadata": {},
   "outputs": [],
   "source": [
    "y_pred = clf.predict(x_test)"
   ]
  },
  {
   "cell_type": "code",
   "execution_count": 114,
   "id": "efc7f7cb",
   "metadata": {},
   "outputs": [
    {
     "name": "stdout",
     "output_type": "stream",
     "text": [
      "Scores for predictions from trained SVM (Method 2)\n",
      "AUROC (%): 64.61\n"
     ]
    }
   ],
   "source": [
    "print(\"Scores for predictions from trained SVM (Method 2)\")\n",
    "auroc_method_2 = sk.roc_auc_score(y_test, y_pred)\n",
    "print('AUROC (%):', round(100*auroc_method_2, 2))"
   ]
  },
  {
   "cell_type": "markdown",
   "id": "21d536be",
   "metadata": {},
   "source": [
    "# Results"
   ]
  },
  {
   "cell_type": "code",
   "execution_count": 115,
   "id": "34b3e822",
   "metadata": {},
   "outputs": [],
   "source": [
    "metrics = \\\n",
    "[\n",
    "'Euclidean Distance Between Reference Vector',\t\n",
    "'Similarity score with just IN Reference Vector',\n",
    "'Similarity score with just OOD Reference Vector',\n",
    "'Euclidean Distance between Entropy Reference Value',\n",
    "'Similarity score with just IN Entropy Reference Value',\n",
    "'Similarity score with just OOD Entropy Reference Value',\n",
    "'Decision Rule (>=7)',\n",
    "'Decision Rule (>=8)',\n",
    "'Decision Rule(>=7) + Reference Vector',\n",
    "'Decision Rule(>=8) + Reference Vector',\n",
    "'Decision Rule(>=7) + Entropy Reference Value',\n",
    "'Decision Rule(>=8) + Entropy Reference Value',\n",
    "'Average Max softmax value of each classifier',\n",
    "'Method 2 - Learning Softmax Pattern'\n",
    "]"
   ]
  },
  {
   "cell_type": "code",
   "execution_count": 116,
   "id": "7946385f",
   "metadata": {},
   "outputs": [],
   "source": [
    "values = [\n",
    "          auroc_ref_detection,\n",
    "          auroc_ref_sim,\n",
    "          auroc_ref_sim_ood,\n",
    "          auroc_ent_detection,\n",
    "          auroc_ent_sim,\n",
    "          auroc_ent_sim_ood,\n",
    "          auroc_only_dec_7,\n",
    "          auroc_only_dec_8,\n",
    "          auroc_dec_ref_7,\n",
    "          auroc_dec_ref_8,\n",
    "          auroc_dec_ent_7,\n",
    "          auroc_dec_ent_8,\n",
    "          auroc_ensemble,\n",
    "          auroc_method_2\n",
    "]"
   ]
  },
  {
   "cell_type": "code",
   "execution_count": 117,
   "id": "a16396f6",
   "metadata": {},
   "outputs": [],
   "source": [
    "values_rounded = []\n",
    "for value in values:\n",
    "  values_rounded.append(round(100*value, 2))"
   ]
  },
  {
   "cell_type": "code",
   "execution_count": 118,
   "id": "ded36569",
   "metadata": {},
   "outputs": [
    {
     "name": "stdout",
     "output_type": "stream",
     "text": [
      "Euclidean Distance Between Reference Vector \t\t 63.12\n",
      "Similarity score with just IN Reference Vector \t\t 66.44\n",
      "Similarity score with just OOD Reference Vector \t\t 83.0\n",
      "Euclidean Distance between Entropy Reference Value \t\t 69.95\n",
      "Similarity score with just IN Entropy Reference Value \t\t 84.55\n",
      "Similarity score with just OOD Entropy Reference Value \t\t 86.95\n",
      "Decision Rule (>=7) \t\t 33.5\n",
      "Decision Rule (>=8) \t\t 39.49\n",
      "Decision Rule(>=7) + Reference Vector \t\t 35.73\n",
      "Decision Rule(>=8) + Reference Vector \t\t 41.04\n",
      "Decision Rule(>=7) + Entropy Reference Value \t\t 41.96\n",
      "Decision Rule(>=8) + Entropy Reference Value \t\t 43.62\n",
      "Average Max softmax value of each classifier \t\t 95.66\n",
      "Method 2 - Learning Softmax Pattern \t\t 64.61\n",
      "[63.12, 66.44, 83.0, 69.95, 84.55, 86.95, 33.5, 39.49, 35.73, 41.04, 41.96, 43.62, 95.66, 64.61]\n"
     ]
    }
   ],
   "source": [
    "for metric, value in zip(metrics, values_rounded):\n",
    "  print(metric, \"\\t\\t\", value)\n",
    "\n",
    "print(values_rounded)"
   ]
  },
  {
   "cell_type": "code",
   "execution_count": null,
   "id": "98c6e44e",
   "metadata": {},
   "outputs": [],
   "source": [
    "95.66, 64.61"
   ]
  }
 ],
 "metadata": {
  "kernelspec": {
   "display_name": "Python 3",
   "language": "python",
   "name": "python3"
  },
  "language_info": {
   "codemirror_mode": {
    "name": "ipython",
    "version": 3
   },
   "file_extension": ".py",
   "mimetype": "text/x-python",
   "name": "python",
   "nbconvert_exporter": "python",
   "pygments_lexer": "ipython3",
   "version": "3.8.5"
  }
 },
 "nbformat": 4,
 "nbformat_minor": 5
}
