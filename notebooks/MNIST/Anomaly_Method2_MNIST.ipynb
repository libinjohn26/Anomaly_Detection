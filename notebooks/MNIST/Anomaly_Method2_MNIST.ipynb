{
  "nbformat": 4,
  "nbformat_minor": 0,
  "metadata": {
    "colab": {
      "name": "Anomaly_Method2_MNIST.ipynb",
      "provenance": []
    },
    "kernelspec": {
      "name": "python3",
      "display_name": "Python 3"
    },
    "accelerator": "GPU"
  },
  "cells": [
    {
      "cell_type": "code",
      "metadata": {
        "id": "ovismefmciri"
      },
      "source": [
        "import tensorflow as tf\n",
        "import numpy as np\n",
        "import matplotlib.pyplot as plt\n",
        "import time\n",
        "import pickle\n",
        "\n",
        "from tqdm import tqdm\n",
        "from tensorflow import keras\n",
        "from tensorflow.keras.models import Sequential\n",
        "from tensorflow.keras.layers import Dense, Dropout, Activation, Flatten\n",
        "from tensorflow.keras.layers import Conv2D, MaxPooling2D, Dropout\n",
        "from tensorflow.keras.utils import to_categorical\n",
        "from sklearn.model_selection import train_test_split\n",
        "from scipy.stats import entropy"
      ],
      "execution_count": null,
      "outputs": []
    },
    {
      "cell_type": "code",
      "metadata": {
        "id": "fZFPrUrCrkgI"
      },
      "source": [
        "from sklearn.pipeline import make_pipeline\n",
        "from sklearn.preprocessing import StandardScaler\n",
        "from sklearn.svm import SVC\n",
        "from sklearn.naive_bayes import GaussianNB\n",
        "from sklearn.linear_model import Perceptron"
      ],
      "execution_count": null,
      "outputs": []
    },
    {
      "cell_type": "code",
      "metadata": {
        "colab": {
          "base_uri": "https://localhost:8080/"
        },
        "id": "QqcoG8AAgWO-",
        "outputId": "10337f49-4273-41e1-ef2f-2612baed1096"
      },
      "source": [
        "from google.colab import drive\n",
        "drive.mount('/content/drive')"
      ],
      "execution_count": null,
      "outputs": [
        {
          "output_type": "stream",
          "text": [
            "Mounted at /content/drive\n"
          ],
          "name": "stdout"
        }
      ]
    },
    {
      "cell_type": "code",
      "metadata": {
        "colab": {
          "base_uri": "https://localhost:8080/"
        },
        "id": "DGBBfmHxgYcw",
        "outputId": "bd93cc35-4a65-434a-ac99-d18ef1b66d5e"
      },
      "source": [
        "import os\n",
        "print(os.getcwd())\n",
        "os.chdir(\"/content/drive/My Drive/Libin's Project/\")\n",
        "print(os.getcwd())"
      ],
      "execution_count": null,
      "outputs": [
        {
          "output_type": "stream",
          "text": [
            "/content\n",
            "/content/drive/My Drive/Libin's Project\n"
          ],
          "name": "stdout"
        }
      ]
    },
    {
      "cell_type": "code",
      "metadata": {
        "id": "9vuY2NWzgZG9"
      },
      "source": [
        "class Model(): #tf.Module\n",
        "  def __init__(self, name=None):\n",
        "\n",
        "    self.name = name\n",
        "    self.loss_fn = tf.losses.SparseCategoricalCrossentropy(from_logits=True)\n",
        "    self.train_acc_metric = tf.keras.metrics.SparseCategoricalAccuracy()\n",
        "    self.test_acc_metric = tf.keras.metrics.SparseCategoricalAccuracy()\n",
        "    self.opt = tf.optimizers.Adam()\n",
        "\n",
        "  def build(self):\n",
        "\n",
        "    self.model =  tf.keras.Sequential()\n",
        "\n",
        "    self.model.add(tf.keras.layers.Conv2D(32, (3, 3), padding='same',strides=1, input_shape=(28,28,1), use_bias=False))\n",
        "    self.model.add(tf.keras.layers.BatchNormalization())\n",
        "    self.model.add(tf.keras.layers.LeakyReLU(alpha=0.2))\n",
        "    self.model.add(tf.keras.layers.Conv2D( 64, (3, 3), padding='same',strides=1, use_bias=False))\n",
        "    self.model.add(tf.keras.layers.BatchNormalization())\n",
        "    self.model.add(tf.keras.layers.LeakyReLU(alpha=0.2))\n",
        "    self.model.add(tf.keras.layers.Conv2D( 64, (3, 3), padding='same',strides=1, use_bias=False))\n",
        "    self.model.add(tf.keras.layers.BatchNormalization())\n",
        "    self.model.add(tf.keras.layers.LeakyReLU(alpha=0.2))\n",
        "    self.model.add(tf.keras.layers.Dropout(0.25))\n",
        "\n",
        "    self.model.add(tf.keras.layers.Conv2D(128, (3, 3), padding='same',strides=1, use_bias=False))\n",
        "    self.model.add(tf.keras.layers.BatchNormalization())\n",
        "    self.model.add(tf.keras.layers.LeakyReLU(alpha=0.2))\n",
        "    self.model.add(tf.keras.layers.Conv2D( 128, (3, 3), padding='same',strides=1, use_bias=False))\n",
        "    self.model.add(tf.keras.layers.BatchNormalization())\n",
        "    self.model.add(tf.keras.layers.LeakyReLU(alpha=0.2))\n",
        "    self.model.add(tf.keras.layers.Conv2D( 128, (3, 3), padding='same',strides=1, use_bias=False))\n",
        "    self.model.add(tf.keras.layers.BatchNormalization())\n",
        "    self.model.add(tf.keras.layers.LeakyReLU(alpha=0.2))\n",
        "    self.model.add(tf.keras.layers.Dropout(0.25))\n",
        "\n",
        "    self.model.add(tf.keras.layers.Conv2D(128, (3, 3), padding='same',strides=1, use_bias=False))\n",
        "    self.model.add(tf.keras.layers.BatchNormalization())\n",
        "    self.model.add(tf.keras.layers.LeakyReLU(alpha=0.2))\n",
        "    self.model.add(tf.keras.layers.Conv2D( 128, (3, 3), padding='same',strides=1, use_bias=False))\n",
        "    self.model.add(tf.keras.layers.BatchNormalization())\n",
        "    self.model.add(tf.keras.layers.LeakyReLU(alpha=0.2))\n",
        "    self.model.add(tf.keras.layers.Conv2D( 128, (3, 3), padding='same',strides=1, use_bias=False))\n",
        "    self.model.add(tf.keras.layers.BatchNormalization())\n",
        "    self.model.add(tf.keras.layers.LeakyReLU(alpha=0.2))\n",
        "    self.model.add(tf.keras.layers.Dropout(0.25))\n",
        "\n",
        "    self.model.add(tf.keras.layers.MaxPooling2D((2,2)))\n",
        "    self.model.add(tf.keras.layers.Flatten())\n",
        "    self.model.add(tf.keras.layers.Dense(128))\n",
        "    self.model.add(tf.keras.layers.Dense(8)) #, activation='softmax'))\n",
        "    self.model.add(Activation('softmax'))\n",
        "    return self.model\n",
        "\n",
        "  def apply_softmax(self, logits):\n",
        "    return tf.nn.softmax(logits)\n",
        "\n",
        "  def train(self, train_data):\n",
        "\n",
        "    for step, (img_batch, lbl_batch) in enumerate(train_data):\n",
        "\n",
        "      with tf.GradientTape() as tape:\n",
        "          logits = self.model(img_batch)\n",
        "#          logits = self.apply_softmax(logits)\n",
        "          xent = self.loss_fn(lbl_batch, logits)\n",
        "\n",
        "      varis = self.model.trainable_variables\n",
        "      grads = tape.gradient(xent, varis)\n",
        "\n",
        "      self.opt.apply_gradients(zip(grads, varis))\n",
        "      \n",
        "      self.train_acc_metric(lbl_batch, logits)\n",
        "      \n",
        "      if tf.equal(step % 100, 0): #not step % 500:\n",
        "        acc = self.train_acc_metric.result()\n",
        "        tf.print(\"Loss: {} Accuracy: {}\".format(xent, acc))\n",
        "        self.train_acc_metric.reset_states()\n",
        "\n",
        "  def train2(self, train_imgs, train_lbls, val_imgs, val_lbls):\n",
        "    self.model.compile(\n",
        "      optimizer='adam',\n",
        "      loss = tf.keras.losses.SparseCategoricalCrossentropy(from_logits=True),\n",
        "      metrics = ['accuracy']\n",
        "      )\n",
        "\n",
        "    self.model.fit(train_imgs, train_lbls, validation_data= (val_imgs, val_lbls), epochs=20)\n",
        "\n",
        "  def test(self,test_data, temp=None):\n",
        "    for img_batch, lbl_batch in test_data:\n",
        "      logits = self.model(img_batch)\n",
        "      if not temp is None:\n",
        "        logits = tf.math.divide(logits, temp)\n",
        "      pred = self.apply_softmax(logits)\n",
        "      self.test_acc_metric(lbl_batch, pred)\n",
        "    tf.print(\"Test acc: {}\".format(self.test_acc_metric.result()))\n",
        "\n",
        "  def save_model(self, path):\n",
        "    self.model.save(path)\n",
        "\n",
        "  def load_model(self, path):\n",
        "    self.model = tf.keras.models.load_model(path)\n",
        "    return self.model\n",
        "\n",
        "  def get_max_pred_value(self, data, temp=None):\n",
        "    logits = self.model(data)\n",
        "    if not temp is None:\n",
        "      logits = tf.math.divide(logits, temp)\n",
        "    pred = self.apply_softmax(logits)\n",
        "    return np.max(pred)\n"
      ],
      "execution_count": null,
      "outputs": []
    },
    {
      "cell_type": "code",
      "metadata": {
        "id": "kFibBsvSgdby"
      },
      "source": [
        "pickle_in = open(\"mnist_data\",\"rb\")\n",
        "train_images, train_labels, val_images, val_labels, test_imgs, test_lbls = pickle.load(pickle_in)"
      ],
      "execution_count": null,
      "outputs": []
    },
    {
      "cell_type": "code",
      "metadata": {
        "id": "AP2DIKZJghCy"
      },
      "source": [
        "def separate_class(class_val, train_images, train_labels, val_images, val_labels):\n",
        "  new_train_images = []\n",
        "  new_train_labels = []\n",
        "  for ind, im in enumerate(train_images):\n",
        "    if train_labels[ind] != class_val:\n",
        "      new_train_images.append(im)\n",
        "      new_train_labels.append(train_labels[ind])\n",
        "\n",
        "  new_train_images = np.asarray(new_train_images)\n",
        "  new_train_labels = np.asarray(new_train_labels)\n",
        "\n",
        "  new_val_images = []\n",
        "  new_val_labels = []\n",
        "  for ind, im in enumerate(val_images):\n",
        "    if val_labels[ind] != class_val:\n",
        "      new_val_images.append(im)\n",
        "      new_val_labels.append(val_labels[ind])\n",
        "\n",
        "  new_val_images = np.asarray(new_val_images)\n",
        "  new_val_labels = np.asarray(new_val_labels)\n",
        "\n",
        "  return new_train_images, new_train_labels, new_val_images, new_val_labels"
      ],
      "execution_count": null,
      "outputs": []
    },
    {
      "cell_type": "code",
      "metadata": {
        "id": "EORfEuSEgjpD"
      },
      "source": [
        "def get_train_data(leave_out_class, train_images, train_labels):\n",
        "  class_train_images = []\n",
        "  class_train_labels = []\n",
        "  mapping = {}\n",
        "  \n",
        "  labels = set(train_labels)\n",
        "  labels.remove(leave_out_class)\n",
        "  labels = sorted(labels)\n",
        "  for i,j in enumerate(labels):\n",
        "    mapping[j] = i\n",
        "  print(mapping)\n",
        "\n",
        "  for ind, im in enumerate(train_images):\n",
        "    if train_labels[ind] != leave_out_class:\n",
        "      class_train_images.append(im)\n",
        "      class_train_labels.append(mapping[train_labels[ind]]) #(train_labels[ind])\n",
        "\n",
        "\n",
        "  class_train_images = np.asarray(class_train_images)\n",
        "  class_train_labels = np.asarray(class_train_labels)\n",
        "\n",
        "  print(set(class_train_labels))\n",
        "  print(class_train_labels.shape)\n",
        "\n",
        "  train_data = tf.data.Dataset.from_tensor_slices((class_train_images, class_train_labels))\n",
        "\n",
        "  train_data = train_data.shuffle(class_train_images.shape[0])\n",
        "  train_data = train_data.batch(128)\n",
        "  train_data = train_data.repeat(20)\n",
        "\n",
        "  return class_train_images, class_train_labels # train_data"
      ],
      "execution_count": null,
      "outputs": []
    },
    {
      "cell_type": "code",
      "metadata": {
        "id": "Ry6HLoZngnK0"
      },
      "source": [
        "def temp_cal(y_pred, val_labels):\n",
        "\n",
        "  temp = tf.Variable(initial_value=1.0, trainable=True, dtype=tf.float32) \n",
        "\n",
        "  def compute_loss():\n",
        "      y_pred_model_w_temp = tf.math.divide(y_pred, temp)\n",
        "      loss = tf.reduce_mean(tf.nn.softmax_cross_entropy_with_logits(\\\n",
        "                                  tf.convert_to_tensor(keras.utils.to_categorical(val_labels)), y_pred_model_w_temp))\n",
        "      return loss\n",
        "\n",
        "  optimizer = tf.optimizers.Adam(learning_rate=0.01)\n",
        "\n",
        "  print('Temperature Initial value: {}'.format(temp.numpy()))\n",
        "\n",
        "  for i in range(300):\n",
        "      opts = optimizer.minimize(compute_loss, var_list=[temp])\n",
        "\n",
        "\n",
        "  print('Temperature Final value: {}'.format(temp.numpy()))\n",
        "\n",
        "  return temp"
      ],
      "execution_count": null,
      "outputs": []
    },
    {
      "cell_type": "code",
      "metadata": {
        "id": "1Zo2ifPAgp6x"
      },
      "source": [
        "def temp_scaling(y_pred, temp):\n",
        "  return tf.math.divide(y_pred, temp)"
      ],
      "execution_count": null,
      "outputs": []
    },
    {
      "cell_type": "code",
      "metadata": {
        "id": "4fUwpSuRh_rR"
      },
      "source": [
        "def get_mapping(leave_out_class, anomaly_class):\n",
        "  mapping = {}\n",
        "\n",
        "  labels = set(train_labels)\n",
        "  labels.remove(anomaly_class)\n",
        "  labels.remove(leave_out_class)\n",
        "  labels = sorted(labels)\n",
        "\n",
        "  for i,j in enumerate(labels):\n",
        "    mapping[i] = j\n",
        "\n",
        "  return mapping\n"
      ],
      "execution_count": null,
      "outputs": []
    },
    {
      "cell_type": "markdown",
      "metadata": {
        "id": "gj0fCW_Igr5P"
      },
      "source": [
        "# 0 as anomaly"
      ]
    },
    {
      "cell_type": "code",
      "metadata": {
        "id": "8Db1cLP7gtnu"
      },
      "source": [
        "new_train_images, new_train_labels, new_val_images, new_val_labels = separate_class(0, train_images, train_labels, val_images, val_labels)"
      ],
      "execution_count": null,
      "outputs": []
    },
    {
      "cell_type": "code",
      "metadata": {
        "id": "k7GQd-gAg0Ww"
      },
      "source": [
        "model0 = Model(name='0anomaly:classifier0')\n",
        "model1 = Model(name='0anomaly:classifier1')\n",
        "model2 = Model(name='0anomaly:classifier2')\n",
        "model3 = Model(name='0anomaly:classifier3')\n",
        "model4 = Model(name='0anomaly:classifier4')\n",
        "model5 = Model(name='0anomaly:classifier5')\n",
        "model6 = Model(name='0anomaly:classifier6')\n",
        "model7 = Model(name='0anomaly:classifier7')\n",
        "model8 = Model(name='0anomaly:classifier8')"
      ],
      "execution_count": null,
      "outputs": []
    },
    {
      "cell_type": "code",
      "metadata": {
        "id": "11BWI1Wmg07c"
      },
      "source": [
        "class_0 = model0.build()\n",
        "class_1 = model1.build()\n",
        "class_2 = model2.build()\n",
        "class_3 = model3.build()\n",
        "class_4 = model4.build()\n",
        "class_5 = model5.build()\n",
        "class_6 = model6.build()\n",
        "class_7 = model7.build()\n",
        "class_8 = model8.build()"
      ],
      "execution_count": null,
      "outputs": []
    },
    {
      "cell_type": "code",
      "metadata": {
        "id": "8vZ8YEuig3Nw"
      },
      "source": [
        "class_0 = model0.load_model(\"final_models/0anomaly-classifier0\")\n",
        "class_1 = model1.load_model(\"final_models/0anomaly-classifier1\")\n",
        "class_2 = model2.load_model(\"final_models/0anomaly-classifier2\")\n",
        "class_3 = model3.load_model(\"final_models/0anomaly-classifier3\")\n",
        "class_4 = model4.load_model(\"final_models/0anomaly-classifier4\")\n",
        "class_5 = model5.load_model(\"final_models/0anomaly-classifier5\")\n",
        "class_6 = model6.load_model(\"final_models/0anomaly-classifier6\")\n",
        "class_7 = model7.load_model(\"final_models/0anomaly-classifier7\")\n",
        "class_8 = model8.load_model(\"final_models/0anomaly-classifier8\")"
      ],
      "execution_count": null,
      "outputs": []
    },
    {
      "cell_type": "code",
      "metadata": {
        "colab": {
          "base_uri": "https://localhost:8080/"
        },
        "id": "EWPpiU7qg-rS",
        "outputId": "88721042-66a6-43b4-c2c2-072c5f60a7c2"
      },
      "source": [
        "layer_name_list = []\n",
        "\n",
        "layer_name_list.append(class_0.layers[-2:][0].name)\n",
        "layer_name_list.append(class_1.layers[-2:][0].name)\n",
        "layer_name_list.append(class_2.layers[-2:][0].name)\n",
        "layer_name_list.append(class_3.layers[-2:][0].name)\n",
        "layer_name_list.append(class_4.layers[-2:][0].name)\n",
        "layer_name_list.append(class_5.layers[-2:][0].name)\n",
        "layer_name_list.append(class_6.layers[-2:][0].name)\n",
        "layer_name_list.append(class_7.layers[-2:][0].name)\n",
        "layer_name_list.append(class_8.layers[-2:][0].name)\n",
        "\n",
        "print(layer_name_list)"
      ],
      "execution_count": null,
      "outputs": [
        {
          "output_type": "stream",
          "text": [
            "['dense_25', 'dense_27', 'dense_29', 'dense_31', 'dense_33', 'dense_35', 'dense_37', 'dense_39', 'dense_41']\n"
          ],
          "name": "stdout"
        }
      ]
    },
    {
      "cell_type": "code",
      "metadata": {
        "id": "MOSGHdi9hDtk"
      },
      "source": [
        "from keras import Model\n",
        "model_dict = {}\n",
        "model_output0 = class_0.get_layer(layer_name_list[0]).output\n",
        "m0 = Model(inputs=class_0.input, outputs=model_output0)\n",
        "model_dict[0] = m0\n",
        "\n",
        "model_output1 = class_1.get_layer(layer_name_list[1]).output\n",
        "m1 = Model(inputs=class_1.input, outputs=model_output1)\n",
        "model_dict[1] = m1\n",
        "\n",
        "model_output2 = class_2.get_layer(layer_name_list[2]).output\n",
        "m2 = Model(inputs=class_2.input, outputs=model_output2)\n",
        "model_dict[2] = m2\n",
        "\n",
        "model_output3 = class_3.get_layer(layer_name_list[3]).output\n",
        "m3 = Model(inputs=class_3.input, outputs=model_output3)\n",
        "model_dict[3] = m3\n",
        "\n",
        "model_output4 = class_4.get_layer(layer_name_list[4]).output\n",
        "m4 = Model(inputs=class_4.input, outputs=model_output4)\n",
        "model_dict[4] = m4\n",
        "\n",
        "model_output5 = class_5.get_layer(layer_name_list[5]).output\n",
        "m5 = Model(inputs=class_5.input, outputs=model_output5)\n",
        "model_dict[5] = m5\n",
        "\n",
        "model_output6 = class_6.get_layer(layer_name_list[6]).output\n",
        "m6 = Model(inputs=class_6.input, outputs=model_output6)\n",
        "model_dict[6] = m6\n",
        "\n",
        "model_output7 = class_7.get_layer(layer_name_list[7]).output\n",
        "m7 = Model(inputs=class_7.input, outputs=model_output7)\n",
        "model_dict[7] = m7\n",
        "\n",
        "model_output8 = class_8.get_layer(layer_name_list[8]).output\n",
        "m8 = Model(inputs=class_8.input, outputs=model_output8)\n",
        "model_dict[8] = m8"
      ],
      "execution_count": null,
      "outputs": []
    },
    {
      "cell_type": "code",
      "metadata": {
        "id": "mu6EHu3_hEgx"
      },
      "source": [
        "temp_val = [2.2917109, 1.7892319, 2.1682718, 2.1920147, 2.3539624, 1.867185, 2.2140534, 1.8692174, 2.201385]"
      ],
      "execution_count": null,
      "outputs": []
    },
    {
      "cell_type": "code",
      "metadata": {
        "id": "xbeYCenDktFs"
      },
      "source": [
        "leave_out_list = sorted(set(new_val_labels))"
      ],
      "execution_count": null,
      "outputs": []
    },
    {
      "cell_type": "code",
      "metadata": {
        "colab": {
          "base_uri": "https://localhost:8080/"
        },
        "id": "S7Gyh6ohk_yV",
        "outputId": "427a91cb-e12d-480f-e449-325cd8158cdf"
      },
      "source": [
        "leave_out_list"
      ],
      "execution_count": null,
      "outputs": [
        {
          "output_type": "execute_result",
          "data": {
            "text/plain": [
              "[1, 2, 3, 4, 5, 6, 7, 8, 9]"
            ]
          },
          "metadata": {
            "tags": []
          },
          "execution_count": 20
        }
      ]
    },
    {
      "cell_type": "code",
      "metadata": {
        "id": "D1redPNXhp7A"
      },
      "source": [
        "ood = 0\n",
        "ind = 1"
      ],
      "execution_count": null,
      "outputs": []
    },
    {
      "cell_type": "code",
      "metadata": {
        "colab": {
          "base_uri": "https://localhost:8080/"
        },
        "id": "tWir71OzhQzR",
        "outputId": "2e9c5065-c4c2-49b2-9521-3779c45f1eba"
      },
      "source": [
        "from tqdm import tqdm\n",
        "softmax_data_0an = []\n",
        "\n",
        "for img, lbl in tqdm(zip(new_val_images,new_val_labels)):\n",
        "  img = img.reshape([-1, 28, 28, 1])\n",
        "  for i in range(9):\n",
        "    if lbl == leave_out_list[i]:\n",
        "      label = ood\n",
        "    else:\n",
        "      label = ind\n",
        "    logits = model_dict[i](img)\n",
        "    logits = tf.math.divide(logits, temp_val[i])\n",
        "    pred = tf.nn.softmax(logits)\n",
        "    softmax_data_0an.append((pred, label))"
      ],
      "execution_count": null,
      "outputs": [
        {
          "output_type": "stream",
          "text": [
            "10825it [13:31, 13.34it/s]\n"
          ],
          "name": "stderr"
        }
      ]
    },
    {
      "cell_type": "code",
      "metadata": {
        "colab": {
          "base_uri": "https://localhost:8080/"
        },
        "id": "5wDqvbzdlFHm",
        "outputId": "2e838691-2e8c-4fbe-b7f0-554817d18872"
      },
      "source": [
        "len(softmax_data_0an)"
      ],
      "execution_count": null,
      "outputs": [
        {
          "output_type": "execute_result",
          "data": {
            "text/plain": [
              "97425"
            ]
          },
          "metadata": {
            "tags": []
          },
          "execution_count": 23
        }
      ]
    },
    {
      "cell_type": "code",
      "metadata": {
        "id": "h9J--q4Kv16F"
      },
      "source": [
        ""
      ],
      "execution_count": null,
      "outputs": []
    },
    {
      "cell_type": "code",
      "metadata": {
        "id": "lzhGCSoSlSvQ"
      },
      "source": [
        "ind_data = []\n",
        "ood_data = []\n",
        "for data in softmax_data_0an:\n",
        "  if data[1] == ind:\n",
        "    ind_data.append(data)\n",
        "  else:\n",
        "    ood_data.append(data)"
      ],
      "execution_count": null,
      "outputs": []
    },
    {
      "cell_type": "code",
      "metadata": {
        "colab": {
          "base_uri": "https://localhost:8080/"
        },
        "id": "HQfKGzcerKky",
        "outputId": "22f40fd4-2905-4da7-d5ea-b4472b65c735"
      },
      "source": [
        "len(ind_data), len(ood_data)"
      ],
      "execution_count": null,
      "outputs": [
        {
          "output_type": "execute_result",
          "data": {
            "text/plain": [
              "(86600, 10825)"
            ]
          },
          "metadata": {
            "tags": []
          },
          "execution_count": 25
        }
      ]
    },
    {
      "cell_type": "code",
      "metadata": {
        "id": "mG83u4ucrNEv"
      },
      "source": [
        "input = []\n",
        "labels = []\n",
        "for i in range(0, len(ood_data)-1, 2):\n",
        "  input.append(ind_data[i][0][0])\n",
        "  input.append(ind_data[i+1][0][0])\n",
        "  labels.append(ind_data[i][1])\n",
        "  labels.append(ind_data[i+1][1])\n",
        "  input.append(ood_data[i][0][0])\n",
        "  input.append(ood_data[i+1][0][0])\n",
        "  labels.append(ood_data[i][1])\n",
        "  labels.append(ood_data[i][1])\n",
        "\n",
        "#for idata, odata in zip(ind_data[:len(ood_data)],ood_data):\n",
        "#  input.append(idata[0][0])\n",
        "#  input.append(odata[0][0])\n",
        "#  labels.append(idata[1])\n",
        "#  labels.append(odata[1])  "
      ],
      "execution_count": null,
      "outputs": []
    },
    {
      "cell_type": "code",
      "metadata": {
        "colab": {
          "base_uri": "https://localhost:8080/"
        },
        "id": "VGl1sb8W9VZe",
        "outputId": "97737ccc-c675-4a02-d95a-be61c481cc77"
      },
      "source": [
        "len(labels)"
      ],
      "execution_count": null,
      "outputs": [
        {
          "output_type": "execute_result",
          "data": {
            "text/plain": [
              "21648"
            ]
          },
          "metadata": {
            "tags": []
          },
          "execution_count": 60
        }
      ]
    },
    {
      "cell_type": "code",
      "metadata": {
        "colab": {
          "base_uri": "https://localhost:8080/"
        },
        "id": "KYrL6J_hsRmL",
        "outputId": "729ac63b-f966-4242-cdbb-b674a4e7cf15"
      },
      "source": [
        "idata"
      ],
      "execution_count": null,
      "outputs": [
        {
          "output_type": "execute_result",
          "data": {
            "text/plain": [
              "(<tf.Tensor: shape=(1, 8), dtype=float32, numpy=\n",
              " array([[0.00427151, 0.8727716 , 0.00139973, 0.08199269, 0.00370487,\n",
              "         0.0014508 , 0.01937814, 0.01503068]], dtype=float32)>, 1)"
            ]
          },
          "metadata": {
            "tags": []
          },
          "execution_count": 27
        }
      ]
    },
    {
      "cell_type": "code",
      "metadata": {
        "colab": {
          "base_uri": "https://localhost:8080/"
        },
        "id": "AUeRtDburYBK",
        "outputId": "68b5b176-88a6-4e3f-d410-ad23fba3efbf"
      },
      "source": [
        "input[0], labels[0], len(input)"
      ],
      "execution_count": null,
      "outputs": [
        {
          "output_type": "execute_result",
          "data": {
            "text/plain": [
              "(<tf.Tensor: shape=(8,), dtype=float32, numpy=\n",
              " array([8.3075048e-07, 5.9338680e-07, 3.6874508e-06, 9.2867964e-08,\n",
              "        4.6701287e-09, 9.9999249e-01, 5.7111261e-08, 2.1998203e-06],\n",
              "       dtype=float32)>, 1, 21650)"
            ]
          },
          "metadata": {
            "tags": []
          },
          "execution_count": 53
        }
      ]
    },
    {
      "cell_type": "code",
      "metadata": {
        "colab": {
          "base_uri": "https://localhost:8080/"
        },
        "id": "ye5JkKBDrZU6",
        "outputId": "a6fe35dd-dced-4219-f897-225226d5ceee"
      },
      "source": [
        "clf = make_pipeline(SVC(gamma='auto'))\n",
        "clf.fit(input, labels)"
      ],
      "execution_count": null,
      "outputs": [
        {
          "output_type": "execute_result",
          "data": {
            "text/plain": [
              "Pipeline(memory=None,\n",
              "         steps=[('svc',\n",
              "                 SVC(C=1.0, break_ties=False, cache_size=200, class_weight=None,\n",
              "                     coef0=0.0, decision_function_shape='ovr', degree=3,\n",
              "                     gamma='auto', kernel='rbf', max_iter=-1, probability=False,\n",
              "                     random_state=None, shrinking=True, tol=0.001,\n",
              "                     verbose=False))],\n",
              "         verbose=False)"
            ]
          },
          "metadata": {
            "tags": []
          },
          "execution_count": 61
        }
      ]
    },
    {
      "cell_type": "code",
      "metadata": {
        "colab": {
          "base_uri": "https://localhost:8080/"
        },
        "id": "vX3TsgXl3XsQ",
        "outputId": "8c564642-e1d0-49a7-8dfb-1427601dafbc"
      },
      "source": [
        "gnb = GaussianNB()\n",
        "gnb.fit(input, labels)"
      ],
      "execution_count": null,
      "outputs": [
        {
          "output_type": "execute_result",
          "data": {
            "text/plain": [
              "GaussianNB(priors=None, var_smoothing=1e-09)"
            ]
          },
          "metadata": {
            "tags": []
          },
          "execution_count": 62
        }
      ]
    },
    {
      "cell_type": "code",
      "metadata": {
        "colab": {
          "base_uri": "https://localhost:8080/"
        },
        "id": "V82hfDWD6S36",
        "outputId": "ea1af347-e77f-4316-a5b9-5ff3b724c469"
      },
      "source": [
        "clfp = Perceptron(tol=1e-3, random_state=0)\n",
        "clfp.fit(input, labels)"
      ],
      "execution_count": null,
      "outputs": [
        {
          "output_type": "execute_result",
          "data": {
            "text/plain": [
              "Perceptron(alpha=0.0001, class_weight=None, early_stopping=False, eta0=1.0,\n",
              "           fit_intercept=True, max_iter=1000, n_iter_no_change=5, n_jobs=None,\n",
              "           penalty=None, random_state=0, shuffle=True, tol=0.001,\n",
              "           validation_fraction=0.1, verbose=0, warm_start=False)"
            ]
          },
          "metadata": {
            "tags": []
          },
          "execution_count": 63
        }
      ]
    },
    {
      "cell_type": "code",
      "metadata": {
        "colab": {
          "base_uri": "https://localhost:8080/"
        },
        "id": "LvveJEkiuEgN",
        "outputId": "407d7e67-53d2-4134-bc15-aac9d8217a3d"
      },
      "source": [
        "sm_all_0an = []\n",
        "for data, lbl in tqdm(zip(test_imgs, test_lbls)):\n",
        "  img = data.reshape([-1, 28, 28, 1])\n",
        "  if lbl == 0:\n",
        "    label = ood\n",
        "  else:\n",
        "    label = ind\n",
        "\n",
        "  output = []\n",
        "  for i in range(9):  \n",
        "    logits = model_dict[i](img)\n",
        "    logits = tf.math.divide(logits, temp_val[i])\n",
        "    pred = tf.nn.softmax(logits)\n",
        "    output.append(pred)\n",
        "  \n",
        "  sm_all_0an.append((output, label))"
      ],
      "execution_count": null,
      "outputs": [
        {
          "output_type": "stream",
          "text": [
            "10000it [12:29, 13.35it/s]\n"
          ],
          "name": "stderr"
        }
      ]
    },
    {
      "cell_type": "code",
      "metadata": {
        "id": "64EVKo7SzRXx"
      },
      "source": [
        "sm_all_0an[0]"
      ],
      "execution_count": null,
      "outputs": []
    },
    {
      "cell_type": "code",
      "metadata": {
        "id": "sQDh0kO9zo-n"
      },
      "source": [
        "pickle_out = open(\"sm_all_wt_m2_0an.pickle\",\"wb\")\n",
        "pickle.dump([softmax_data_0an, sm_all_0an], pickle_out)\n",
        "pickle_out.close()"
      ],
      "execution_count": null,
      "outputs": []
    },
    {
      "cell_type": "code",
      "metadata": {
        "id": "4M2ammBx0zLt"
      },
      "source": [
        "pickle_in = open(\"sm_all_wt_m2_0an.pickle\",\"rb\")\n",
        "softmax_data_0an, sm_all_0an = pickle.load(pickle_in)"
      ],
      "execution_count": null,
      "outputs": []
    },
    {
      "cell_type": "code",
      "metadata": {
        "colab": {
          "base_uri": "https://localhost:8080/"
        },
        "id": "2Rn_sFl9rsjn",
        "outputId": "632082f6-2a1c-4660-d733-ea2cf63829cb"
      },
      "source": [
        "accuracy_svm = 0.0\n",
        "accuracy_nb = 0.0\n",
        "acc_in_svm = 0.0\n",
        "acc_in_nb = 0.0\n",
        "acc_ood_svm = 0.0\n",
        "acc_ood_nb = 0.0\n",
        "count_in = 0\n",
        "count_ood = 0\n",
        "y_pred_svm = []\n",
        "y_pred_nb = []\n",
        "y_true = []\n",
        "\n",
        "for data, lbl in sm_all_0an:\n",
        "  output_svm = []\n",
        "  output_nb = []\n",
        "  if lbl == ood:\n",
        "    count_ood += 1\n",
        "  else:\n",
        "    count_in += 1\n",
        "\n",
        "  for pred in data:\n",
        "    output_svm.append(clf.predict(pred))\n",
        "    output_nb.append(gnb.predict(pred))\n",
        "#    output_nb.append(clfp.predict(pred))\n",
        "\n",
        "  y_true.append(lbl)\n",
        "\n",
        "  values0, counts0 = np.unique(output_svm, return_counts=True)\n",
        "  y_pred0 = values0[np.argmax(counts0)]\n",
        "  y_pred_svm.append(y_pred0)\n",
        "\n",
        "  values1, counts1 = np.unique(output_nb, return_counts=True)\n",
        "  y_pred1 = values1[np.argmax(counts1)]\n",
        "  y_pred_nb.append(y_pred1)\n",
        "\n",
        "\n",
        "  if y_pred0 == lbl:\n",
        "    accuracy_svm += 1\n",
        "    if lbl == ind:\n",
        "      acc_in_svm += 1\n",
        "    else:\n",
        "      acc_ood_svm += 1\n",
        "\n",
        "  if y_pred1 == lbl:\n",
        "    accuracy_nb += 1\n",
        "    if lbl == ind:\n",
        "      acc_in_nb += 1\n",
        "    else:\n",
        "      acc_ood_nb += 1\n",
        "\n",
        "print('-------SVM----------')\n",
        "print(\"Total Accuracy: \", accuracy_svm/len(test_imgs)) \n",
        "print(\"Accuracy of determining ID data: \", acc_in_svm/count_in)\n",
        "print(\"Accuracy of determining OOD data: \", acc_ood_svm/count_ood)\n",
        "\n",
        "print('-------NN-----------')\n",
        "print(\"Total Accuracy: \", accuracy_nb/len(test_imgs)) \n",
        "print(\"Accuracy of determining ID data: \", acc_in_nb/count_in)\n",
        "print(\"Accuracy of determining OOD data: \", acc_ood_nb/count_ood)"
      ],
      "execution_count": null,
      "outputs": [
        {
          "output_type": "stream",
          "text": [
            "-------SVM----------\n",
            "Total Accuracy:  0.9447\n",
            "Accuracy of determining ID data:  0.973170731707317\n",
            "Accuracy of determining OOD data:  0.6826530612244898\n",
            "-------NN-----------\n",
            "Total Accuracy:  0.3821\n",
            "Accuracy of determining ID data:  0.33580931263858094\n",
            "Accuracy of determining OOD data:  0.8081632653061225\n"
          ],
          "name": "stdout"
        }
      ]
    },
    {
      "cell_type": "code",
      "metadata": {
        "colab": {
          "base_uri": "https://localhost:8080/"
        },
        "id": "7VUA3ebzsc8Y",
        "outputId": "9b73c2a6-5aae-4dde-f20f-f26a78b6ec9d"
      },
      "source": [
        "from sklearn.metrics import roc_auc_score\n",
        "roc_auc_score(y_true, y_pred_svm)"
      ],
      "execution_count": null,
      "outputs": [
        {
          "output_type": "execute_result",
          "data": {
            "text/plain": [
              "0.8279118964659035"
            ]
          },
          "metadata": {
            "tags": []
          },
          "execution_count": 68
        }
      ]
    },
    {
      "cell_type": "code",
      "metadata": {
        "colab": {
          "base_uri": "https://localhost:8080/"
        },
        "id": "KAccRcXY3eGC",
        "outputId": "38b5b360-a705-49c3-8487-d60a9ff88efd"
      },
      "source": [
        "roc_auc_score(y_true, y_pred_nb)"
      ],
      "execution_count": null,
      "outputs": [
        {
          "output_type": "execute_result",
          "data": {
            "text/plain": [
              "0.5719862889723518"
            ]
          },
          "metadata": {
            "tags": []
          },
          "execution_count": 69
        }
      ]
    },
    {
      "cell_type": "code",
      "metadata": {
        "id": "g5KwT7ym6uqf"
      },
      "source": [
        ""
      ],
      "execution_count": null,
      "outputs": []
    },
    {
      "cell_type": "markdown",
      "metadata": {
        "id": "zKI3tWEIGiOE"
      },
      "source": [
        "# 1 as anomaly"
      ]
    },
    {
      "cell_type": "code",
      "metadata": {
        "id": "e_A5t4ulGjR6"
      },
      "source": [
        ""
      ],
      "execution_count": null,
      "outputs": []
    },
    {
      "cell_type": "code",
      "metadata": {
        "id": "nvMCT78zGjqm"
      },
      "source": [
        "new_train_images, new_train_labels, new_val_images, new_val_labels = separate_class(1, train_images, train_labels, val_images, val_labels)"
      ],
      "execution_count": null,
      "outputs": []
    },
    {
      "cell_type": "code",
      "metadata": {
        "id": "G4N8coIkGjqn"
      },
      "source": [
        "model0 = Model(name='1anomaly:classifier0')\n",
        "model1 = Model(name='1anomaly:classifier1')\n",
        "model2 = Model(name='1anomaly:classifier2')\n",
        "model3 = Model(name='1anomaly:classifier3')\n",
        "model4 = Model(name='1anomaly:classifier4')\n",
        "model5 = Model(name='1anomaly:classifier5')\n",
        "model6 = Model(name='1anomaly:classifier6')\n",
        "model7 = Model(name='1anomaly:classifier7')\n",
        "model8 = Model(name='1anomaly:classifier8')"
      ],
      "execution_count": null,
      "outputs": []
    },
    {
      "cell_type": "code",
      "metadata": {
        "id": "xzSxBUdGGjqs"
      },
      "source": [
        "class_0 = model0.build()\n",
        "class_1 = model1.build()\n",
        "class_2 = model2.build()\n",
        "class_3 = model3.build()\n",
        "class_4 = model4.build()\n",
        "class_5 = model5.build()\n",
        "class_6 = model6.build()\n",
        "class_7 = model7.build()\n",
        "class_8 = model8.build()"
      ],
      "execution_count": null,
      "outputs": []
    },
    {
      "cell_type": "code",
      "metadata": {
        "id": "XFD9M0XIGjqt"
      },
      "source": [
        "class_0 = model0.load_model(\"final_models/1anomaly-classifier0\")\n",
        "class_1 = model1.load_model(\"final_models/1anomaly-classifier1\")\n",
        "class_2 = model2.load_model(\"final_models/1anomaly-classifier2\")\n",
        "class_3 = model3.load_model(\"final_models/1anomaly-classifier3\")\n",
        "class_4 = model4.load_model(\"final_models/1anomaly-classifier4\")\n",
        "class_5 = model5.load_model(\"final_models/1anomaly-classifier5\")\n",
        "class_6 = model6.load_model(\"final_models/1anomaly-classifier6\")\n",
        "class_7 = model7.load_model(\"final_models/1anomaly-classifier7\")\n",
        "class_8 = model8.load_model(\"final_models/1anomaly-classifier8\")"
      ],
      "execution_count": null,
      "outputs": []
    },
    {
      "cell_type": "code",
      "metadata": {
        "colab": {
          "base_uri": "https://localhost:8080/"
        },
        "id": "Sww9KFfyGjqt",
        "outputId": "641dd0e0-6e47-4214-c1c0-d33ae323fe2f"
      },
      "source": [
        "layer_name_list = []\n",
        "\n",
        "layer_name_list.append(class_0.layers[-2:][0].name)\n",
        "layer_name_list.append(class_1.layers[-2:][0].name)\n",
        "layer_name_list.append(class_2.layers[-2:][0].name)\n",
        "layer_name_list.append(class_3.layers[-2:][0].name)\n",
        "layer_name_list.append(class_4.layers[-2:][0].name)\n",
        "layer_name_list.append(class_5.layers[-2:][0].name)\n",
        "layer_name_list.append(class_6.layers[-2:][0].name)\n",
        "layer_name_list.append(class_7.layers[-2:][0].name)\n",
        "layer_name_list.append(class_8.layers[-2:][0].name)\n",
        "\n",
        "print(layer_name_list)"
      ],
      "execution_count": null,
      "outputs": [
        {
          "output_type": "stream",
          "text": [
            "['dense_61', 'dense_63', 'dense_65', 'dense_67', 'dense_69', 'dense_71', 'dense_73', 'dense_75', 'dense_19']\n"
          ],
          "name": "stdout"
        }
      ]
    },
    {
      "cell_type": "code",
      "metadata": {
        "id": "Yv5S3umCGjqu"
      },
      "source": [
        "from keras import Model\n",
        "model_dict = {}\n",
        "model_output0 = class_0.get_layer(layer_name_list[0]).output\n",
        "m0 = Model(inputs=class_0.input, outputs=model_output0)\n",
        "model_dict[0] = m0\n",
        "\n",
        "model_output1 = class_1.get_layer(layer_name_list[1]).output\n",
        "m1 = Model(inputs=class_1.input, outputs=model_output1)\n",
        "model_dict[1] = m1\n",
        "\n",
        "model_output2 = class_2.get_layer(layer_name_list[2]).output\n",
        "m2 = Model(inputs=class_2.input, outputs=model_output2)\n",
        "model_dict[2] = m2\n",
        "\n",
        "model_output3 = class_3.get_layer(layer_name_list[3]).output\n",
        "m3 = Model(inputs=class_3.input, outputs=model_output3)\n",
        "model_dict[3] = m3\n",
        "\n",
        "model_output4 = class_4.get_layer(layer_name_list[4]).output\n",
        "m4 = Model(inputs=class_4.input, outputs=model_output4)\n",
        "model_dict[4] = m4\n",
        "\n",
        "model_output5 = class_5.get_layer(layer_name_list[5]).output\n",
        "m5 = Model(inputs=class_5.input, outputs=model_output5)\n",
        "model_dict[5] = m5\n",
        "\n",
        "model_output6 = class_6.get_layer(layer_name_list[6]).output\n",
        "m6 = Model(inputs=class_6.input, outputs=model_output6)\n",
        "model_dict[6] = m6\n",
        "\n",
        "model_output7 = class_7.get_layer(layer_name_list[7]).output\n",
        "m7 = Model(inputs=class_7.input, outputs=model_output7)\n",
        "model_dict[7] = m7\n",
        "\n",
        "model_output8 = class_8.get_layer(layer_name_list[8]).output\n",
        "m8 = Model(inputs=class_8.input, outputs=model_output8)\n",
        "model_dict[8] = m8"
      ],
      "execution_count": null,
      "outputs": []
    },
    {
      "cell_type": "code",
      "metadata": {
        "id": "EoiFq6SmGjqv"
      },
      "source": [
        "temp_val = [2.0609157, 2.3180223, 2.2263615, 2.5107794, 2.1667995, 2.330876, 1.9582385, 2.1498156, 2.477948]"
      ],
      "execution_count": null,
      "outputs": []
    },
    {
      "cell_type": "code",
      "metadata": {
        "id": "W5twrXTBGjqv"
      },
      "source": [
        "leave_out_list = sorted(set(new_val_labels))"
      ],
      "execution_count": null,
      "outputs": []
    },
    {
      "cell_type": "code",
      "metadata": {
        "colab": {
          "base_uri": "https://localhost:8080/"
        },
        "id": "dKJXNzk_Gjqw",
        "outputId": "39572570-ddaf-48ab-e480-80329b9fafe4"
      },
      "source": [
        "leave_out_list"
      ],
      "execution_count": null,
      "outputs": [
        {
          "output_type": "execute_result",
          "data": {
            "text/plain": [
              "[0, 2, 3, 4, 5, 6, 7, 8, 9]"
            ]
          },
          "metadata": {
            "tags": []
          },
          "execution_count": 20
        }
      ]
    },
    {
      "cell_type": "code",
      "metadata": {
        "id": "8qMWi8igGjqw"
      },
      "source": [
        "ood = 0\n",
        "ind = 1"
      ],
      "execution_count": null,
      "outputs": []
    },
    {
      "cell_type": "code",
      "metadata": {
        "colab": {
          "base_uri": "https://localhost:8080/"
        },
        "id": "_0NcZVtwGjqw",
        "outputId": "e6bc6d91-d243-4e31-f2b0-94db6f9aa455"
      },
      "source": [
        "from tqdm import tqdm\n",
        "softmax_data_1an = []\n",
        "\n",
        "for img, lbl in tqdm(zip(new_val_images,new_val_labels)):\n",
        "  img = img.reshape([-1, 28, 28, 1])\n",
        "  for i in range(9):\n",
        "    if lbl == leave_out_list[i]:\n",
        "      label = ood\n",
        "    else:\n",
        "      label = ind\n",
        "    logits = model_dict[i](img)\n",
        "    logits = tf.math.divide(logits, temp_val[i])\n",
        "    pred = tf.nn.softmax(logits)\n",
        "    softmax_data_1an.append((pred, label))"
      ],
      "execution_count": null,
      "outputs": [
        {
          "output_type": "stream",
          "text": [
            "10678it [20:44,  8.58it/s]\n"
          ],
          "name": "stderr"
        }
      ]
    },
    {
      "cell_type": "code",
      "metadata": {
        "colab": {
          "base_uri": "https://localhost:8080/"
        },
        "id": "DzzujfcCGjqx",
        "outputId": "23510f2a-4385-4824-ea4d-4384bdcac0ee"
      },
      "source": [
        "len(softmax_data_1an)"
      ],
      "execution_count": null,
      "outputs": [
        {
          "output_type": "execute_result",
          "data": {
            "text/plain": [
              "96102"
            ]
          },
          "metadata": {
            "tags": []
          },
          "execution_count": 23
        }
      ]
    },
    {
      "cell_type": "code",
      "metadata": {
        "id": "FzIVlPa3Gjqx"
      },
      "source": [
        "ind_data = []\n",
        "ood_data = []\n",
        "for data in softmax_data_1an:\n",
        "  if data[1] == ind:\n",
        "    ind_data.append(data)\n",
        "  else:\n",
        "    ood_data.append(data)"
      ],
      "execution_count": null,
      "outputs": []
    },
    {
      "cell_type": "code",
      "metadata": {
        "colab": {
          "base_uri": "https://localhost:8080/"
        },
        "id": "OIac0A2UGjqx",
        "outputId": "8c6a5cf6-64a0-4041-cbb4-a33f20f10c56"
      },
      "source": [
        "len(ind_data), len(ood_data)"
      ],
      "execution_count": null,
      "outputs": [
        {
          "output_type": "execute_result",
          "data": {
            "text/plain": [
              "(85424, 10678)"
            ]
          },
          "metadata": {
            "tags": []
          },
          "execution_count": 25
        }
      ]
    },
    {
      "cell_type": "code",
      "metadata": {
        "id": "TR6jkCZ8Gjqy"
      },
      "source": [
        "input = []\n",
        "labels = []\n",
        "for i in range(0, len(ood_data)-1, 2):\n",
        "  input.append(ind_data[i][0][0])\n",
        "  input.append(ind_data[i+1][0][0])\n",
        "  labels.append(ind_data[i][1])\n",
        "  labels.append(ind_data[i+1][1])\n",
        "  input.append(ood_data[i][0][0])\n",
        "  input.append(ood_data[i+1][0][0])\n",
        "  labels.append(ood_data[i][1])\n",
        "  labels.append(ood_data[i][1])\n",
        "\n",
        "#for idata, odata in zip(ind_data[:len(ood_data)],ood_data):\n",
        "#  input.append(idata[0][0])\n",
        "#  input.append(odata[0][0])\n",
        "#  labels.append(idata[1])\n",
        "#  labels.append(odata[1])  "
      ],
      "execution_count": null,
      "outputs": []
    },
    {
      "cell_type": "code",
      "metadata": {
        "colab": {
          "base_uri": "https://localhost:8080/"
        },
        "id": "osLLWYr5Gjqy",
        "outputId": "ea5fdbb8-99c2-492e-cd9e-3caf315e153d"
      },
      "source": [
        "len(labels)"
      ],
      "execution_count": null,
      "outputs": [
        {
          "output_type": "execute_result",
          "data": {
            "text/plain": [
              "21356"
            ]
          },
          "metadata": {
            "tags": []
          },
          "execution_count": 27
        }
      ]
    },
    {
      "cell_type": "code",
      "metadata": {
        "colab": {
          "base_uri": "https://localhost:8080/"
        },
        "id": "BG_DCqkfGjqy",
        "outputId": "0e3284b4-3046-45be-a39a-8df82a086f83"
      },
      "source": [
        "input[0], labels[0], len(input)"
      ],
      "execution_count": null,
      "outputs": [
        {
          "output_type": "execute_result",
          "data": {
            "text/plain": [
              "(<tf.Tensor: shape=(8,), dtype=float32, numpy=\n",
              " array([6.7688677e-07, 3.0091948e-07, 5.4442139e-06, 5.2381586e-07,\n",
              "        4.8233282e-08, 9.9993050e-01, 5.7272548e-08, 6.2568732e-05],\n",
              "       dtype=float32)>, 1, 21356)"
            ]
          },
          "metadata": {
            "tags": []
          },
          "execution_count": 28
        }
      ]
    },
    {
      "cell_type": "code",
      "metadata": {
        "id": "p2vD_huxWjzS"
      },
      "source": [
        "input = []\n",
        "labels = []\n",
        "for data in softmax_data_1an:\n",
        "  input.append(data[0][0])\n",
        "  labels.append(data[1])"
      ],
      "execution_count": null,
      "outputs": []
    },
    {
      "cell_type": "code",
      "metadata": {
        "colab": {
          "base_uri": "https://localhost:8080/"
        },
        "id": "ibiz25FsWzPc",
        "outputId": "1819b79a-796e-4c5c-bae9-871e0663112d"
      },
      "source": [
        "input[0]"
      ],
      "execution_count": null,
      "outputs": [
        {
          "output_type": "execute_result",
          "data": {
            "text/plain": [
              "<tf.Tensor: shape=(8,), dtype=float32, numpy=\n",
              "array([6.7688677e-07, 3.0091948e-07, 5.4442139e-06, 5.2381586e-07,\n",
              "       4.8233282e-08, 9.9993050e-01, 5.7272548e-08, 6.2568732e-05],\n",
              "      dtype=float32)>"
            ]
          },
          "metadata": {
            "tags": []
          },
          "execution_count": 24
        }
      ]
    },
    {
      "cell_type": "code",
      "metadata": {
        "colab": {
          "base_uri": "https://localhost:8080/"
        },
        "id": "Rzn03q0gT-D5",
        "outputId": "17ab1ff2-c513-4a96-eec9-8cb1c1284c8d"
      },
      "source": [
        "from sklearn.utils.class_weight import compute_class_weight\n",
        "class_wts = compute_class_weight('balanced', np.unique(labels), labels)\n",
        "class_wts ={0:class_wts[0], 1:class_wts[1]}\n",
        "class_wts"
      ],
      "execution_count": null,
      "outputs": [
        {
          "output_type": "execute_result",
          "data": {
            "text/plain": [
              "{0: 4.5, 1: 0.5625}"
            ]
          },
          "metadata": {
            "tags": []
          },
          "execution_count": 25
        }
      ]
    },
    {
      "cell_type": "code",
      "metadata": {
        "colab": {
          "base_uri": "https://localhost:8080/"
        },
        "id": "JyRi3rM3Gjqz",
        "outputId": "f2b47357-215f-453b-9635-ff7850f794c2"
      },
      "source": [
        "clf = make_pipeline(SVC(gamma='auto', class_weight=class_wts))\n",
        "clf.fit(input, labels)"
      ],
      "execution_count": null,
      "outputs": [
        {
          "output_type": "execute_result",
          "data": {
            "text/plain": [
              "Pipeline(memory=None,\n",
              "         steps=[('svc',\n",
              "                 SVC(C=1.0, break_ties=False, cache_size=200,\n",
              "                     class_weight={0: 4.5, 1: 0.5625}, coef0=0.0,\n",
              "                     decision_function_shape='ovr', degree=3, gamma='auto',\n",
              "                     kernel='rbf', max_iter=-1, probability=False,\n",
              "                     random_state=None, shrinking=True, tol=0.001,\n",
              "                     verbose=False))],\n",
              "         verbose=False)"
            ]
          },
          "metadata": {
            "tags": []
          },
          "execution_count": 26
        }
      ]
    },
    {
      "cell_type": "code",
      "metadata": {
        "colab": {
          "base_uri": "https://localhost:8080/"
        },
        "id": "S5hzuQ5WGjqz",
        "outputId": "6db6d4a7-d9d1-43d9-e04a-3bcdb775fdad"
      },
      "source": [
        "gnb = GaussianNB()\n",
        "gnb.fit(input, labels)"
      ],
      "execution_count": null,
      "outputs": [
        {
          "output_type": "execute_result",
          "data": {
            "text/plain": [
              "GaussianNB(priors=None, var_smoothing=1e-09)"
            ]
          },
          "metadata": {
            "tags": []
          },
          "execution_count": 27
        }
      ]
    },
    {
      "cell_type": "code",
      "metadata": {
        "colab": {
          "base_uri": "https://localhost:8080/"
        },
        "id": "q65YgXMbGjqz",
        "outputId": "f7aaa9ff-ba67-4ec6-846f-9fddc08ad063"
      },
      "source": [
        "clfp = Perceptron(tol=1e-3, random_state=0)\n",
        "clfp.fit(input, labels)"
      ],
      "execution_count": null,
      "outputs": [
        {
          "output_type": "execute_result",
          "data": {
            "text/plain": [
              "Perceptron(alpha=0.0001, class_weight=None, early_stopping=False, eta0=1.0,\n",
              "           fit_intercept=True, max_iter=1000, n_iter_no_change=5, n_jobs=None,\n",
              "           penalty=None, random_state=0, shuffle=True, tol=0.001,\n",
              "           validation_fraction=0.1, verbose=0, warm_start=False)"
            ]
          },
          "metadata": {
            "tags": []
          },
          "execution_count": 28
        }
      ]
    },
    {
      "cell_type": "code",
      "metadata": {
        "colab": {
          "base_uri": "https://localhost:8080/"
        },
        "id": "_FR6t5WfGjqz",
        "outputId": "5b8684d0-cbb0-49fa-e6a8-a58979c51f7b"
      },
      "source": [
        "sm_all_1an = []\n",
        "for data, lbl in tqdm(zip(test_imgs, test_lbls)):\n",
        "  img = data.reshape([-1, 28, 28, 1])\n",
        "  if lbl == 1:\n",
        "    label = ood\n",
        "  else:\n",
        "    label = ind\n",
        "\n",
        "  output = []\n",
        "  for i in range(9):  \n",
        "    logits = model_dict[i](img)\n",
        "    logits = tf.math.divide(logits, temp_val[i])\n",
        "    pred = tf.nn.softmax(logits)\n",
        "    output.append(pred)\n",
        "  \n",
        "  sm_all_1an.append((output, label))"
      ],
      "execution_count": null,
      "outputs": [
        {
          "output_type": "stream",
          "text": [
            "10000it [14:26, 11.54it/s]\n"
          ],
          "name": "stderr"
        }
      ]
    },
    {
      "cell_type": "code",
      "metadata": {
        "id": "KOqp7SrCGjq0"
      },
      "source": [
        "pickle_out = open(\"sm_all_wt_m2_1an.pickle\",\"wb\")\n",
        "pickle.dump([softmax_data_1an, sm_all_1an], pickle_out)\n",
        "pickle_out.close()"
      ],
      "execution_count": null,
      "outputs": []
    },
    {
      "cell_type": "code",
      "metadata": {
        "id": "RfYjbVfBGjq0"
      },
      "source": [
        "pickle_in = open(\"sm_all_wt_m2_1an.pickle\",\"rb\")\n",
        "softmax_data_1an, sm_all_1an = pickle.load(pickle_in)"
      ],
      "execution_count": null,
      "outputs": []
    },
    {
      "cell_type": "code",
      "metadata": {
        "colab": {
          "base_uri": "https://localhost:8080/"
        },
        "id": "5mLuyyAsGjq0",
        "outputId": "91255734-30b6-482d-daa9-e6f3e4473a97"
      },
      "source": [
        "accuracy_svm = 0.0\n",
        "accuracy_nb = 0.0\n",
        "acc_in_svm = 0.0\n",
        "acc_in_nb = 0.0\n",
        "acc_ood_svm = 0.0\n",
        "acc_ood_nb = 0.0\n",
        "count_in = 0\n",
        "count_ood = 0\n",
        "y_pred_svm = []\n",
        "y_pred_nb = []\n",
        "y_true = []\n",
        "\n",
        "for data, lbl in sm_all_1an:\n",
        "  output_svm = []\n",
        "  output_nb = []\n",
        "  if lbl == ood:\n",
        "    count_ood += 1\n",
        "  else:\n",
        "    count_in += 1\n",
        "\n",
        "  for pred in data:\n",
        "    output_svm.append(clf.predict(pred))\n",
        "    #output_nb.append(gnb.predict(pred))\n",
        "    output_nb.append(clfp.predict(pred))\n",
        "\n",
        "  y_true.append(lbl)\n",
        "\n",
        "  values0, counts0 = np.unique(output_svm, return_counts=True)\n",
        "  y_pred0 = values0[np.argmax(counts0)]\n",
        "  y_pred_svm.append(y_pred0)\n",
        "\n",
        "  values1, counts1 = np.unique(output_nb, return_counts=True)\n",
        "  y_pred1 = values1[np.argmax(counts1)]\n",
        "  y_pred_nb.append(y_pred1)\n",
        "\n",
        "  if y_pred0 == lbl:\n",
        "    accuracy_svm += 1\n",
        "    if lbl == ind:\n",
        "      acc_in_svm += 1\n",
        "    else:\n",
        "      acc_ood_svm += 1\n",
        "\n",
        "  if y_pred1 == lbl:\n",
        "    accuracy_nb += 1\n",
        "    if lbl == ind:\n",
        "      acc_in_nb += 1\n",
        "    else:\n",
        "      acc_ood_nb += 1\n",
        "\n",
        "print('-------SVM----------')\n",
        "print(\"Total Accuracy: \", accuracy_svm/len(sm_all_1an)) \n",
        "print(\"Accuracy of determining ID data: \", acc_in_svm/count_in)\n",
        "print(\"Accuracy of determining OOD data: \", acc_ood_svm/count_ood)\n",
        "\n",
        "print('-------NN-----------')\n",
        "print(\"Total Accuracy: \", accuracy_nb/len(sm_all_1an)) \n",
        "print(\"Accuracy of determining ID data: \", acc_in_nb/count_in)\n",
        "print(\"Accuracy of determining OOD data: \", acc_ood_nb/count_ood)"
      ],
      "execution_count": null,
      "outputs": [
        {
          "output_type": "stream",
          "text": [
            "-------SVM----------\n",
            "Total Accuracy:  0.8739\n",
            "Accuracy of determining ID data:  0.8589960518894529\n",
            "Accuracy of determining OOD data:  0.9903083700440528\n",
            "-------NN-----------\n",
            "Total Accuracy:  0.8865\n",
            "Accuracy of determining ID data:  1.0\n",
            "Accuracy of determining OOD data:  0.0\n"
          ],
          "name": "stdout"
        }
      ]
    },
    {
      "cell_type": "code",
      "metadata": {
        "colab": {
          "base_uri": "https://localhost:8080/"
        },
        "id": "nKa2cSbZGjq1",
        "outputId": "0c7f4ac8-79f9-4f8f-feec-4bb51740d085"
      },
      "source": [
        "from sklearn.metrics import roc_auc_score\n",
        "roc_auc_score(y_true, y_pred_svm)"
      ],
      "execution_count": null,
      "outputs": [
        {
          "output_type": "execute_result",
          "data": {
            "text/plain": [
              "0.9246522109667529"
            ]
          },
          "metadata": {
            "tags": []
          },
          "execution_count": 32
        }
      ]
    },
    {
      "cell_type": "code",
      "metadata": {
        "colab": {
          "base_uri": "https://localhost:8080/"
        },
        "id": "Z7IuSqvRGjq1",
        "outputId": "c87b34ae-f2e5-45e7-f103-141f662abce6"
      },
      "source": [
        "roc_auc_score(y_true, y_pred_nb)"
      ],
      "execution_count": null,
      "outputs": [
        {
          "output_type": "execute_result",
          "data": {
            "text/plain": [
              "0.5"
            ]
          },
          "metadata": {
            "tags": []
          },
          "execution_count": 33
        }
      ]
    },
    {
      "cell_type": "code",
      "metadata": {
        "id": "B1-a6ttaS5ru"
      },
      "source": [
        ""
      ],
      "execution_count": null,
      "outputs": []
    },
    {
      "cell_type": "markdown",
      "metadata": {
        "id": "sKJMTZjNP_cO"
      },
      "source": [
        "# 2 as anomaly"
      ]
    },
    {
      "cell_type": "code",
      "metadata": {
        "id": "_qInyRTUQBC5"
      },
      "source": [
        ""
      ],
      "execution_count": null,
      "outputs": []
    },
    {
      "cell_type": "code",
      "metadata": {
        "id": "ZSNBi_vQQBdR"
      },
      "source": [
        "new_train_images, new_train_labels, new_val_images, new_val_labels = separate_class(2, train_images, train_labels, val_images, val_labels)"
      ],
      "execution_count": null,
      "outputs": []
    },
    {
      "cell_type": "code",
      "metadata": {
        "id": "HvUp0Pj7QBdT"
      },
      "source": [
        "model0 = Model(name='2anomaly:classifier0')\n",
        "model1 = Model(name='2anomaly:classifier1')\n",
        "model2 = Model(name='2anomaly:classifier2')\n",
        "model3 = Model(name='2anomaly:classifier3')\n",
        "model4 = Model(name='2anomaly:classifier4')\n",
        "model5 = Model(name='2anomaly:classifier5')\n",
        "model6 = Model(name='2anomaly:classifier6')\n",
        "model7 = Model(name='2anomaly:classifier7')\n",
        "model8 = Model(name='2anomaly:classifier8')"
      ],
      "execution_count": null,
      "outputs": []
    },
    {
      "cell_type": "code",
      "metadata": {
        "id": "GTxt7CdhQBdV"
      },
      "source": [
        "class_0 = model0.build()\n",
        "class_1 = model1.build()\n",
        "class_2 = model2.build()\n",
        "class_3 = model3.build()\n",
        "class_4 = model4.build()\n",
        "class_5 = model5.build()\n",
        "class_6 = model6.build()\n",
        "class_7 = model7.build()\n",
        "class_8 = model8.build()"
      ],
      "execution_count": null,
      "outputs": []
    },
    {
      "cell_type": "code",
      "metadata": {
        "id": "Ut0NPZfjQBdW"
      },
      "source": [
        "class_0 = model0.load_model(\"final_models/2anomaly-classifier0\")\n",
        "class_1 = model1.load_model(\"final_models/2anomaly-classifier1\")\n",
        "class_2 = model2.load_model(\"final_models/2anomaly-classifier2\")\n",
        "class_3 = model3.load_model(\"final_models/2anomaly-classifier3\")\n",
        "class_4 = model4.load_model(\"final_models/2anomaly-classifier4\")\n",
        "class_5 = model5.load_model(\"final_models/2anomaly-classifier5\")\n",
        "class_6 = model6.load_model(\"final_models/2anomaly-classifier6\")\n",
        "class_7 = model7.load_model(\"final_models/2anomaly-classifier7\")\n",
        "class_8 = model8.load_model(\"final_models/2anomaly-classifier8\")"
      ],
      "execution_count": null,
      "outputs": []
    },
    {
      "cell_type": "code",
      "metadata": {
        "colab": {
          "base_uri": "https://localhost:8080/"
        },
        "id": "Oa_YBP1bQBdY",
        "outputId": "1504c543-6e4b-4048-c8d7-636cd644cc6d"
      },
      "source": [
        "layer_name_list = []\n",
        "\n",
        "layer_name_list.append(class_0.layers[-2:][0].name)\n",
        "layer_name_list.append(class_1.layers[-2:][0].name)\n",
        "layer_name_list.append(class_2.layers[-2:][0].name)\n",
        "layer_name_list.append(class_3.layers[-2:][0].name)\n",
        "layer_name_list.append(class_4.layers[-2:][0].name)\n",
        "layer_name_list.append(class_5.layers[-2:][0].name)\n",
        "layer_name_list.append(class_6.layers[-2:][0].name)\n",
        "layer_name_list.append(class_7.layers[-2:][0].name)\n",
        "layer_name_list.append(class_8.layers[-2:][0].name)\n",
        "\n",
        "print(layer_name_list)"
      ],
      "execution_count": null,
      "outputs": [
        {
          "output_type": "stream",
          "text": [
            "['dense_39', 'dense_41', 'dense_43', 'dense_45', 'dense_47', 'dense_49', 'dense_51', 'dense_53', 'dense_55']\n"
          ],
          "name": "stdout"
        }
      ]
    },
    {
      "cell_type": "code",
      "metadata": {
        "id": "KrZ9q6aKQBdb"
      },
      "source": [
        "from keras import Model\n",
        "model_dict = {}\n",
        "model_output0 = class_0.get_layer(layer_name_list[0]).output\n",
        "m0 = Model(inputs=class_0.input, outputs=model_output0)\n",
        "model_dict[0] = m0\n",
        "\n",
        "model_output1 = class_1.get_layer(layer_name_list[1]).output\n",
        "m1 = Model(inputs=class_1.input, outputs=model_output1)\n",
        "model_dict[1] = m1\n",
        "\n",
        "model_output2 = class_2.get_layer(layer_name_list[2]).output\n",
        "m2 = Model(inputs=class_2.input, outputs=model_output2)\n",
        "model_dict[2] = m2\n",
        "\n",
        "model_output3 = class_3.get_layer(layer_name_list[3]).output\n",
        "m3 = Model(inputs=class_3.input, outputs=model_output3)\n",
        "model_dict[3] = m3\n",
        "\n",
        "model_output4 = class_4.get_layer(layer_name_list[4]).output\n",
        "m4 = Model(inputs=class_4.input, outputs=model_output4)\n",
        "model_dict[4] = m4\n",
        "\n",
        "model_output5 = class_5.get_layer(layer_name_list[5]).output\n",
        "m5 = Model(inputs=class_5.input, outputs=model_output5)\n",
        "model_dict[5] = m5\n",
        "\n",
        "model_output6 = class_6.get_layer(layer_name_list[6]).output\n",
        "m6 = Model(inputs=class_6.input, outputs=model_output6)\n",
        "model_dict[6] = m6\n",
        "\n",
        "model_output7 = class_7.get_layer(layer_name_list[7]).output\n",
        "m7 = Model(inputs=class_7.input, outputs=model_output7)\n",
        "model_dict[7] = m7\n",
        "\n",
        "model_output8 = class_8.get_layer(layer_name_list[8]).output\n",
        "m8 = Model(inputs=class_8.input, outputs=model_output8)\n",
        "model_dict[8] = m8"
      ],
      "execution_count": null,
      "outputs": []
    },
    {
      "cell_type": "code",
      "metadata": {
        "id": "n5AkObAnQBdc"
      },
      "source": [
        "temp_val = [2.246656, 2.2101953, 2.2647355, 2.2229295, 2.1457264, 2.1438227, 2.1131978, 2.0234013, 2.4829793]"
      ],
      "execution_count": null,
      "outputs": []
    },
    {
      "cell_type": "code",
      "metadata": {
        "id": "BH99RvUwQBde"
      },
      "source": [
        "leave_out_list = sorted(set(new_val_labels))"
      ],
      "execution_count": null,
      "outputs": []
    },
    {
      "cell_type": "code",
      "metadata": {
        "colab": {
          "base_uri": "https://localhost:8080/"
        },
        "id": "urrNPXq6Q2LN",
        "outputId": "acbabf37-0e2e-4267-bc83-8cd55cb60f0f"
      },
      "source": [
        "leave_out_list"
      ],
      "execution_count": null,
      "outputs": [
        {
          "output_type": "execute_result",
          "data": {
            "text/plain": [
              "[0, 1, 3, 4, 5, 6, 7, 8, 9]"
            ]
          },
          "metadata": {
            "tags": []
          },
          "execution_count": 22
        }
      ]
    },
    {
      "cell_type": "code",
      "metadata": {
        "id": "39yINS-dQBdf"
      },
      "source": [
        "ood = 0\n",
        "ind = 1"
      ],
      "execution_count": null,
      "outputs": []
    },
    {
      "cell_type": "code",
      "metadata": {
        "colab": {
          "base_uri": "https://localhost:8080/"
        },
        "id": "bHItuPVEQBdg",
        "outputId": "e6a2f67a-5d30-4ccc-c695-c95b03099089"
      },
      "source": [
        "from tqdm import tqdm\n",
        "softmax_data_2an = []\n",
        "\n",
        "for img, lbl in tqdm(zip(new_val_images,new_val_labels)):\n",
        "  img = img.reshape([-1, 28, 28, 1])\n",
        "  for i in range(9):\n",
        "    if lbl == leave_out_list[i]:\n",
        "      label = ood\n",
        "    else:\n",
        "      label = ind\n",
        "    logits = model_dict[i](img)\n",
        "    logits = tf.math.divide(logits, temp_val[i])\n",
        "    pred = tf.nn.softmax(logits)\n",
        "    softmax_data_2an.append((pred, label))"
      ],
      "execution_count": null,
      "outputs": [
        {
          "output_type": "stream",
          "text": [
            "10826it [15:38, 11.54it/s]\n"
          ],
          "name": "stderr"
        }
      ]
    },
    {
      "cell_type": "code",
      "metadata": {
        "colab": {
          "base_uri": "https://localhost:8080/"
        },
        "id": "6mPn-BpvQBdi",
        "outputId": "af558efe-34a9-4d68-bb96-79dac0c90a88"
      },
      "source": [
        "len(softmax_data_2an)"
      ],
      "execution_count": null,
      "outputs": [
        {
          "output_type": "execute_result",
          "data": {
            "text/plain": [
              "97434"
            ]
          },
          "metadata": {
            "tags": []
          },
          "execution_count": 24
        }
      ]
    },
    {
      "cell_type": "code",
      "metadata": {
        "id": "8DljfB2yQBdl"
      },
      "source": [
        "ind_data = []\n",
        "ood_data = []\n",
        "for data in softmax_data_2an:\n",
        "  if data[1] == ind:\n",
        "    ind_data.append(data)\n",
        "  else:\n",
        "    ood_data.append(data)"
      ],
      "execution_count": null,
      "outputs": []
    },
    {
      "cell_type": "code",
      "metadata": {
        "colab": {
          "base_uri": "https://localhost:8080/"
        },
        "id": "3yVBFPsiQBdm",
        "outputId": "4461da73-fbc7-4ab0-e861-16509bc3165a"
      },
      "source": [
        "len(ind_data), len(ood_data)"
      ],
      "execution_count": null,
      "outputs": [
        {
          "output_type": "execute_result",
          "data": {
            "text/plain": [
              "(86608, 10826)"
            ]
          },
          "metadata": {
            "tags": []
          },
          "execution_count": 26
        }
      ]
    },
    {
      "cell_type": "code",
      "metadata": {
        "id": "EXPkkBJ8QBdm"
      },
      "source": [
        "input = []\n",
        "labels = []\n",
        "for i in range(0, len(ood_data)-1, 2):\n",
        "  input.append(ind_data[i][0][0])\n",
        "  input.append(ind_data[i+1][0][0])\n",
        "  labels.append(ind_data[i][1])\n",
        "  labels.append(ind_data[i+1][1])\n",
        "  input.append(ood_data[i][0][0])\n",
        "  input.append(ood_data[i+1][0][0])\n",
        "  labels.append(ood_data[i][1])\n",
        "  labels.append(ood_data[i][1])\n",
        "\n",
        "#for idata, odata in zip(ind_data[:len(ood_data)],ood_data):\n",
        "#  input.append(idata[0][0])\n",
        "#  input.append(odata[0][0])\n",
        "#  labels.append(idata[1])\n",
        "#  labels.append(odata[1])  "
      ],
      "execution_count": null,
      "outputs": []
    },
    {
      "cell_type": "code",
      "metadata": {
        "colab": {
          "base_uri": "https://localhost:8080/"
        },
        "id": "63l3OyTKQBdn",
        "outputId": "32294c05-8765-4355-c402-5f65cca9fcca"
      },
      "source": [
        "len(labels)"
      ],
      "execution_count": null,
      "outputs": [
        {
          "output_type": "execute_result",
          "data": {
            "text/plain": [
              "21652"
            ]
          },
          "metadata": {
            "tags": []
          },
          "execution_count": 28
        }
      ]
    },
    {
      "cell_type": "code",
      "metadata": {
        "id": "9jjTQxipQBdo"
      },
      "source": [
        "input = []\n",
        "labels = []\n",
        "for data in softmax_data_2an:\n",
        "  input.append(data[0][0])\n",
        "  labels.append(data[1])"
      ],
      "execution_count": null,
      "outputs": []
    },
    {
      "cell_type": "code",
      "metadata": {
        "colab": {
          "base_uri": "https://localhost:8080/"
        },
        "id": "_rJ1SQ89QBdp",
        "outputId": "17b93561-0031-4caf-d49c-5eae866aa27d"
      },
      "source": [
        "from sklearn.utils.class_weight import compute_class_weight\n",
        "class_wts = compute_class_weight('balanced', np.unique(labels), labels)\n",
        "class_wts ={0:class_wts[0], 1:class_wts[1]}\n",
        "class_wts"
      ],
      "execution_count": null,
      "outputs": [
        {
          "output_type": "execute_result",
          "data": {
            "text/plain": [
              "{0: 4.5, 1: 0.5625}"
            ]
          },
          "metadata": {
            "tags": []
          },
          "execution_count": 30
        }
      ]
    },
    {
      "cell_type": "code",
      "metadata": {
        "colab": {
          "base_uri": "https://localhost:8080/"
        },
        "id": "qJxZ_aYaQBdp",
        "outputId": "e84474f9-2ecd-40f2-effa-3700df4131b7"
      },
      "source": [
        "clf = make_pipeline(SVC(gamma='auto', class_weight=class_wts))\n",
        "clf.fit(input, labels)"
      ],
      "execution_count": null,
      "outputs": [
        {
          "output_type": "execute_result",
          "data": {
            "text/plain": [
              "Pipeline(memory=None,\n",
              "         steps=[('svc',\n",
              "                 SVC(C=1.0, break_ties=False, cache_size=200,\n",
              "                     class_weight={0: 4.5, 1: 0.5625}, coef0=0.0,\n",
              "                     decision_function_shape='ovr', degree=3, gamma='auto',\n",
              "                     kernel='rbf', max_iter=-1, probability=False,\n",
              "                     random_state=None, shrinking=True, tol=0.001,\n",
              "                     verbose=False))],\n",
              "         verbose=False)"
            ]
          },
          "metadata": {
            "tags": []
          },
          "execution_count": 31
        }
      ]
    },
    {
      "cell_type": "code",
      "metadata": {
        "colab": {
          "base_uri": "https://localhost:8080/"
        },
        "id": "fqkjn7a1QBdq",
        "outputId": "c612c652-457c-4d17-c274-44aa7bfbf95b"
      },
      "source": [
        "gnb = GaussianNB()\n",
        "gnb.fit(input, labels)"
      ],
      "execution_count": null,
      "outputs": [
        {
          "output_type": "execute_result",
          "data": {
            "text/plain": [
              "GaussianNB(priors=None, var_smoothing=1e-09)"
            ]
          },
          "metadata": {
            "tags": []
          },
          "execution_count": 32
        }
      ]
    },
    {
      "cell_type": "code",
      "metadata": {
        "colab": {
          "base_uri": "https://localhost:8080/"
        },
        "id": "Hy2ZMheQQBdq",
        "outputId": "bdea0165-939b-4722-8d7b-4240f0d66c69"
      },
      "source": [
        "clfp = Perceptron(tol=1e-3, random_state=0)\n",
        "clfp.fit(input, labels)"
      ],
      "execution_count": null,
      "outputs": [
        {
          "output_type": "execute_result",
          "data": {
            "text/plain": [
              "Perceptron(alpha=0.0001, class_weight=None, early_stopping=False, eta0=1.0,\n",
              "           fit_intercept=True, max_iter=1000, n_iter_no_change=5, n_jobs=None,\n",
              "           penalty=None, random_state=0, shuffle=True, tol=0.001,\n",
              "           validation_fraction=0.1, verbose=0, warm_start=False)"
            ]
          },
          "metadata": {
            "tags": []
          },
          "execution_count": 33
        }
      ]
    },
    {
      "cell_type": "code",
      "metadata": {
        "colab": {
          "base_uri": "https://localhost:8080/"
        },
        "id": "bQTB6eA9QBdr",
        "outputId": "f02ff4c1-b983-47e7-fb68-b8379d37ea07"
      },
      "source": [
        "sm_all_2an = []\n",
        "for data, lbl in tqdm(zip(test_imgs, test_lbls)):\n",
        "  img = data.reshape([-1, 28, 28, 1])\n",
        "  if lbl == 2:\n",
        "    label = ood\n",
        "  else:\n",
        "    label = ind\n",
        "\n",
        "  output = []\n",
        "  for i in range(9):  \n",
        "    logits = model_dict[i](img)\n",
        "    logits = tf.math.divide(logits, temp_val[i])\n",
        "    pred = tf.nn.softmax(logits)\n",
        "    output.append(pred)\n",
        "  \n",
        "  sm_all_2an.append((output, label))"
      ],
      "execution_count": null,
      "outputs": [
        {
          "output_type": "stream",
          "text": [
            "10000it [13:43, 12.14it/s]\n"
          ],
          "name": "stderr"
        }
      ]
    },
    {
      "cell_type": "code",
      "metadata": {
        "id": "1318JRu7QBdr"
      },
      "source": [
        "pickle_out = open(\"sm_all_wt_m2_2an.pickle\",\"wb\")\n",
        "pickle.dump([softmax_data_2an, sm_all_2an], pickle_out)\n",
        "pickle_out.close()"
      ],
      "execution_count": null,
      "outputs": []
    },
    {
      "cell_type": "code",
      "metadata": {
        "id": "SZ743fGMQBds"
      },
      "source": [
        "pickle_in = open(\"sm_all_wt_m2_2an.pickle\",\"rb\")\n",
        "softmax_data_2an, sm_all_2an = pickle.load(pickle_in)"
      ],
      "execution_count": null,
      "outputs": []
    },
    {
      "cell_type": "code",
      "metadata": {
        "colab": {
          "base_uri": "https://localhost:8080/"
        },
        "id": "cxFoSNFFQBds",
        "outputId": "fecd20e9-6d9c-4acc-fb78-392a7429faff"
      },
      "source": [
        "accuracy_svm = 0.0\n",
        "accuracy_nb = 0.0\n",
        "acc_in_svm = 0.0\n",
        "acc_in_nb = 0.0\n",
        "acc_ood_svm = 0.0\n",
        "acc_ood_nb = 0.0\n",
        "count_in = 0\n",
        "count_ood = 0\n",
        "y_pred_svm = []\n",
        "y_pred_nb = []\n",
        "y_true = []\n",
        "\n",
        "for data, lbl in sm_all_2an:\n",
        "  output_svm = []\n",
        "  output_nb = []\n",
        "  if lbl == ood:\n",
        "    count_ood += 1\n",
        "  else:\n",
        "    count_in += 1\n",
        "\n",
        "  for pred in data:\n",
        "    output_svm.append(clf.predict(pred))\n",
        "    #output_nb.append(gnb.predict(pred))\n",
        "    output_nb.append(clfp.predict(pred))\n",
        "\n",
        "  y_true.append(lbl)\n",
        "\n",
        "  values0, counts0 = np.unique(output_svm, return_counts=True)\n",
        "  y_pred0 = values0[np.argmax(counts0)]\n",
        "  y_pred_svm.append(y_pred0)\n",
        "\n",
        "  values1, counts1 = np.unique(output_nb, return_counts=True)\n",
        "  y_pred1 = values1[np.argmax(counts1)]\n",
        "  y_pred_nb.append(y_pred1)\n",
        "\n",
        "  if y_pred0 == lbl:\n",
        "    accuracy_svm += 1\n",
        "    if lbl == ind:\n",
        "      acc_in_svm += 1\n",
        "    else:\n",
        "      acc_ood_svm += 1\n",
        "\n",
        "  if y_pred1 == lbl:\n",
        "    accuracy_nb += 1\n",
        "    if lbl == ind:\n",
        "      acc_in_nb += 1\n",
        "    else:\n",
        "      acc_ood_nb += 1\n",
        "\n",
        "print('-------SVM----------')\n",
        "print(\"Total Accuracy: \", accuracy_svm/len(sm_all_2an)) \n",
        "print(\"Accuracy of determining ID data: \", acc_in_svm/count_in)\n",
        "print(\"Accuracy of determining OOD data: \", acc_ood_svm/count_ood)\n",
        "\n",
        "print('-------NN-----------')\n",
        "print(\"Total Accuracy: \", accuracy_nb/len(sm_all_2an)) \n",
        "print(\"Accuracy of determining ID data: \", acc_in_nb/count_in)\n",
        "print(\"Accuracy of determining OOD data: \", acc_ood_nb/count_ood)"
      ],
      "execution_count": null,
      "outputs": [
        {
          "output_type": "stream",
          "text": [
            "-------SVM----------\n",
            "Total Accuracy:  0.9358\n",
            "Accuracy of determining ID data:  0.965321141837645\n",
            "Accuracy of determining OOD data:  0.6792635658914729\n",
            "-------NN-----------\n",
            "Total Accuracy:  0.8968\n",
            "Accuracy of determining ID data:  1.0\n",
            "Accuracy of determining OOD data:  0.0\n"
          ],
          "name": "stdout"
        }
      ]
    },
    {
      "cell_type": "code",
      "metadata": {
        "colab": {
          "base_uri": "https://localhost:8080/"
        },
        "id": "kAtufN1HQBds",
        "outputId": "56342c1e-57b3-4817-d430-018228b7585d"
      },
      "source": [
        "from sklearn.metrics import roc_auc_score\n",
        "roc_auc_score(y_true, y_pred_svm)"
      ],
      "execution_count": null,
      "outputs": [
        {
          "output_type": "execute_result",
          "data": {
            "text/plain": [
              "0.822292353864559"
            ]
          },
          "metadata": {
            "tags": []
          },
          "execution_count": 41
        }
      ]
    },
    {
      "cell_type": "code",
      "metadata": {
        "colab": {
          "base_uri": "https://localhost:8080/"
        },
        "id": "zdYY3XVXQBdt",
        "outputId": "957a3e4a-0853-405d-94eb-bef565fc2c1b"
      },
      "source": [
        "roc_auc_score(y_true, y_pred_nb)"
      ],
      "execution_count": null,
      "outputs": [
        {
          "output_type": "execute_result",
          "data": {
            "text/plain": [
              "0.5"
            ]
          },
          "metadata": {
            "tags": []
          },
          "execution_count": 42
        }
      ]
    },
    {
      "cell_type": "code",
      "metadata": {
        "id": "_pDm7OBib3hL"
      },
      "source": [
        ""
      ],
      "execution_count": null,
      "outputs": []
    },
    {
      "cell_type": "markdown",
      "metadata": {
        "id": "ClIT0VClcZLk"
      },
      "source": [
        "# 3 as anomaly"
      ]
    },
    {
      "cell_type": "code",
      "metadata": {
        "id": "cSgtgTItcahZ"
      },
      "source": [
        ""
      ],
      "execution_count": null,
      "outputs": []
    },
    {
      "cell_type": "code",
      "metadata": {
        "id": "tmoEtNKMcsFl"
      },
      "source": [
        "new_train_images, new_train_labels, new_val_images, new_val_labels = separate_class(3, train_images, train_labels, val_images, val_labels)"
      ],
      "execution_count": null,
      "outputs": []
    },
    {
      "cell_type": "code",
      "metadata": {
        "id": "b4AmDVMxcsFn"
      },
      "source": [
        "model0 = Model(name='3anomaly:classifier0')\n",
        "model1 = Model(name='3anomaly:classifier1')\n",
        "model2 = Model(name='3anomaly:classifier2')\n",
        "model3 = Model(name='3anomaly:classifier3')\n",
        "model4 = Model(name='3anomaly:classifier4')\n",
        "model5 = Model(name='3anomaly:classifier5')\n",
        "model6 = Model(name='3anomaly:classifier6')\n",
        "model7 = Model(name='3anomaly:classifier7')\n",
        "model8 = Model(name='3anomaly:classifier8')"
      ],
      "execution_count": null,
      "outputs": []
    },
    {
      "cell_type": "code",
      "metadata": {
        "id": "AkdfmgspcsFo"
      },
      "source": [
        "class_0 = model0.build()\n",
        "class_1 = model1.build()\n",
        "class_2 = model2.build()\n",
        "class_3 = model3.build()\n",
        "class_4 = model4.build()\n",
        "class_5 = model5.build()\n",
        "class_6 = model6.build()\n",
        "class_7 = model7.build()\n",
        "class_8 = model8.build()"
      ],
      "execution_count": null,
      "outputs": []
    },
    {
      "cell_type": "code",
      "metadata": {
        "id": "INd868C3csFp"
      },
      "source": [
        "class_0 = model0.load_model(\"final_models/3anomaly-classifier0\")\n",
        "class_1 = model1.load_model(\"final_models/3anomaly-classifier1\")\n",
        "class_2 = model2.load_model(\"final_models/3anomaly-classifier2\")\n",
        "class_3 = model3.load_model(\"final_models/3anomaly-classifier3\")\n",
        "class_4 = model4.load_model(\"final_models/3anomaly-classifier4\")\n",
        "class_5 = model5.load_model(\"final_models/3anomaly-classifier5\")\n",
        "class_6 = model6.load_model(\"final_models/3anomaly-classifier6\")\n",
        "class_7 = model7.load_model(\"final_models/3anomaly-classifier7\")\n",
        "class_8 = model8.load_model(\"final_models/3anomaly-classifier8\")"
      ],
      "execution_count": null,
      "outputs": []
    },
    {
      "cell_type": "code",
      "metadata": {
        "colab": {
          "base_uri": "https://localhost:8080/"
        },
        "id": "eZQBN3kGcsFq",
        "outputId": "4daa69a4-f22d-456d-a8ae-35dbf715c4d8"
      },
      "source": [
        "layer_name_list = []\n",
        "\n",
        "layer_name_list.append(class_0.layers[-2:][0].name)\n",
        "layer_name_list.append(class_1.layers[-2:][0].name)\n",
        "layer_name_list.append(class_2.layers[-2:][0].name)\n",
        "layer_name_list.append(class_3.layers[-2:][0].name)\n",
        "layer_name_list.append(class_4.layers[-2:][0].name)\n",
        "layer_name_list.append(class_5.layers[-2:][0].name)\n",
        "layer_name_list.append(class_6.layers[-2:][0].name)\n",
        "layer_name_list.append(class_7.layers[-2:][0].name)\n",
        "layer_name_list.append(class_8.layers[-2:][0].name)\n",
        "\n",
        "print(layer_name_list)"
      ],
      "execution_count": null,
      "outputs": [
        {
          "output_type": "stream",
          "text": [
            "['dense_19', 'dense_21', 'dense_23', 'dense_25', 'dense_27', 'dense_29', 'dense_31', 'dense_33', 'dense_35']\n"
          ],
          "name": "stdout"
        }
      ]
    },
    {
      "cell_type": "code",
      "metadata": {
        "id": "gDjywH8dcsFr"
      },
      "source": [
        "from keras import Model\n",
        "model_dict = {}\n",
        "model_output0 = class_0.get_layer(layer_name_list[0]).output\n",
        "m0 = Model(inputs=class_0.input, outputs=model_output0)\n",
        "model_dict[0] = m0\n",
        "\n",
        "model_output1 = class_1.get_layer(layer_name_list[1]).output\n",
        "m1 = Model(inputs=class_1.input, outputs=model_output1)\n",
        "model_dict[1] = m1\n",
        "\n",
        "model_output2 = class_2.get_layer(layer_name_list[2]).output\n",
        "m2 = Model(inputs=class_2.input, outputs=model_output2)\n",
        "model_dict[2] = m2\n",
        "\n",
        "model_output3 = class_3.get_layer(layer_name_list[3]).output\n",
        "m3 = Model(inputs=class_3.input, outputs=model_output3)\n",
        "model_dict[3] = m3\n",
        "\n",
        "model_output4 = class_4.get_layer(layer_name_list[4]).output\n",
        "m4 = Model(inputs=class_4.input, outputs=model_output4)\n",
        "model_dict[4] = m4\n",
        "\n",
        "model_output5 = class_5.get_layer(layer_name_list[5]).output\n",
        "m5 = Model(inputs=class_5.input, outputs=model_output5)\n",
        "model_dict[5] = m5\n",
        "\n",
        "model_output6 = class_6.get_layer(layer_name_list[6]).output\n",
        "m6 = Model(inputs=class_6.input, outputs=model_output6)\n",
        "model_dict[6] = m6\n",
        "\n",
        "model_output7 = class_7.get_layer(layer_name_list[7]).output\n",
        "m7 = Model(inputs=class_7.input, outputs=model_output7)\n",
        "model_dict[7] = m7\n",
        "\n",
        "model_output8 = class_8.get_layer(layer_name_list[8]).output\n",
        "m8 = Model(inputs=class_8.input, outputs=model_output8)\n",
        "model_dict[8] = m8"
      ],
      "execution_count": null,
      "outputs": []
    },
    {
      "cell_type": "code",
      "metadata": {
        "id": "hAhApYgFcsFt"
      },
      "source": [
        "temp_val = [1.9315488, 2.0040166, 1.7066195, 2.314881, 2.081745, 1.9893513, 2.4744115, 2.3960419, 2.1575763]"
      ],
      "execution_count": null,
      "outputs": []
    },
    {
      "cell_type": "code",
      "metadata": {
        "id": "_fT7r5gTcsFt"
      },
      "source": [
        "leave_out_list = sorted(set(new_val_labels))"
      ],
      "execution_count": null,
      "outputs": []
    },
    {
      "cell_type": "code",
      "metadata": {
        "colab": {
          "base_uri": "https://localhost:8080/"
        },
        "id": "rGW7ahQ3csFu",
        "outputId": "85f5e6c4-9a6c-42c8-f6ae-ebf6e641665f"
      },
      "source": [
        "leave_out_list"
      ],
      "execution_count": null,
      "outputs": [
        {
          "output_type": "execute_result",
          "data": {
            "text/plain": [
              "[0, 1, 2, 4, 5, 6, 7, 8, 9]"
            ]
          },
          "metadata": {
            "tags": []
          },
          "execution_count": 52
        }
      ]
    },
    {
      "cell_type": "code",
      "metadata": {
        "id": "uate9x63csFw"
      },
      "source": [
        "ood = 0\n",
        "ind = 1"
      ],
      "execution_count": null,
      "outputs": []
    },
    {
      "cell_type": "code",
      "metadata": {
        "colab": {
          "base_uri": "https://localhost:8080/"
        },
        "id": "MUBKYIKxcsFw",
        "outputId": "583d157f-da69-4db4-d191-54d3c90bde74"
      },
      "source": [
        "from tqdm import tqdm\n",
        "softmax_data_3an = []\n",
        "\n",
        "for img, lbl in tqdm(zip(new_val_images,new_val_labels)):\n",
        "  img = img.reshape([-1, 28, 28, 1])\n",
        "  for i in range(9):\n",
        "    if lbl == leave_out_list[i]:\n",
        "      label = ood\n",
        "    else:\n",
        "      label = ind\n",
        "    logits = model_dict[i](img)\n",
        "    logits = tf.math.divide(logits, temp_val[i])\n",
        "    pred = tf.nn.softmax(logits)\n",
        "    softmax_data_3an.append((pred, label))"
      ],
      "execution_count": null,
      "outputs": [
        {
          "output_type": "stream",
          "text": [
            "10781it [15:01, 11.96it/s]\n"
          ],
          "name": "stderr"
        }
      ]
    },
    {
      "cell_type": "code",
      "metadata": {
        "colab": {
          "base_uri": "https://localhost:8080/"
        },
        "id": "9Oqiv-4wcsFy",
        "outputId": "02655da5-e16c-4117-86d2-58d862a3b39e"
      },
      "source": [
        "len(softmax_data_3an)"
      ],
      "execution_count": null,
      "outputs": [
        {
          "output_type": "execute_result",
          "data": {
            "text/plain": [
              "97029"
            ]
          },
          "metadata": {
            "tags": []
          },
          "execution_count": 55
        }
      ]
    },
    {
      "cell_type": "code",
      "metadata": {
        "id": "61CjpWVScsFz"
      },
      "source": [
        "ind_data = []\n",
        "ood_data = []\n",
        "for data in softmax_data_3an:\n",
        "  if data[1] == ind:\n",
        "    ind_data.append(data)\n",
        "  else:\n",
        "    ood_data.append(data)"
      ],
      "execution_count": null,
      "outputs": []
    },
    {
      "cell_type": "code",
      "metadata": {
        "colab": {
          "base_uri": "https://localhost:8080/"
        },
        "id": "T5MMvujzcsF0",
        "outputId": "d347b7ec-791a-4e72-da2e-9f1a89fe0496"
      },
      "source": [
        "len(ind_data), len(ood_data)"
      ],
      "execution_count": null,
      "outputs": [
        {
          "output_type": "execute_result",
          "data": {
            "text/plain": [
              "(86248, 10781)"
            ]
          },
          "metadata": {
            "tags": []
          },
          "execution_count": 57
        }
      ]
    },
    {
      "cell_type": "code",
      "metadata": {
        "id": "LsISjXkMcsF1"
      },
      "source": [
        "input = []\n",
        "labels = []\n",
        "for i in range(0, len(ood_data)-1, 2):\n",
        "  input.append(ind_data[i][0][0])\n",
        "  input.append(ind_data[i+1][0][0])\n",
        "  labels.append(ind_data[i][1])\n",
        "  labels.append(ind_data[i+1][1])\n",
        "  input.append(ood_data[i][0][0])\n",
        "  input.append(ood_data[i+1][0][0])\n",
        "  labels.append(ood_data[i][1])\n",
        "  labels.append(ood_data[i][1])\n",
        "\n",
        "#for idata, odata in zip(ind_data[:len(ood_data)],ood_data):\n",
        "#  input.append(idata[0][0])\n",
        "#  input.append(odata[0][0])\n",
        "#  labels.append(idata[1])\n",
        "#  labels.append(odata[1])  "
      ],
      "execution_count": null,
      "outputs": []
    },
    {
      "cell_type": "code",
      "metadata": {
        "colab": {
          "base_uri": "https://localhost:8080/"
        },
        "id": "wuKir2FecsF1",
        "outputId": "7c800bed-2100-458b-c88c-31680c6c71fa"
      },
      "source": [
        "len(labels)"
      ],
      "execution_count": null,
      "outputs": [
        {
          "output_type": "execute_result",
          "data": {
            "text/plain": [
              "21560"
            ]
          },
          "metadata": {
            "tags": []
          },
          "execution_count": 59
        }
      ]
    },
    {
      "cell_type": "code",
      "metadata": {
        "id": "NCS92oG-csF5"
      },
      "source": [
        "input = []\n",
        "labels = []\n",
        "for data in softmax_data_3an:\n",
        "  input.append(data[0][0])\n",
        "  labels.append(data[1])"
      ],
      "execution_count": null,
      "outputs": []
    },
    {
      "cell_type": "code",
      "metadata": {
        "colab": {
          "base_uri": "https://localhost:8080/"
        },
        "id": "EU-YMCXYcsF6",
        "outputId": "6917ad08-7b35-4704-98a2-6ae72ccb33de"
      },
      "source": [
        "from sklearn.utils.class_weight import compute_class_weight\n",
        "class_wts = compute_class_weight('balanced', np.unique(labels), labels)\n",
        "class_wts ={0:class_wts[0], 1:class_wts[1]}\n",
        "class_wts"
      ],
      "execution_count": null,
      "outputs": [
        {
          "output_type": "execute_result",
          "data": {
            "text/plain": [
              "{0: 4.5, 1: 0.5625}"
            ]
          },
          "metadata": {
            "tags": []
          },
          "execution_count": 61
        }
      ]
    },
    {
      "cell_type": "code",
      "metadata": {
        "colab": {
          "base_uri": "https://localhost:8080/"
        },
        "id": "Dy-kTQr3csF7",
        "outputId": "1a536830-a555-43ea-d8f5-6836c947033f"
      },
      "source": [
        "clf = make_pipeline(SVC(gamma='auto', class_weight=class_wts))\n",
        "clf.fit(input, labels)"
      ],
      "execution_count": null,
      "outputs": [
        {
          "output_type": "execute_result",
          "data": {
            "text/plain": [
              "Pipeline(memory=None,\n",
              "         steps=[('svc',\n",
              "                 SVC(C=1.0, break_ties=False, cache_size=200,\n",
              "                     class_weight={0: 4.5, 1: 0.5625}, coef0=0.0,\n",
              "                     decision_function_shape='ovr', degree=3, gamma='auto',\n",
              "                     kernel='rbf', max_iter=-1, probability=False,\n",
              "                     random_state=None, shrinking=True, tol=0.001,\n",
              "                     verbose=False))],\n",
              "         verbose=False)"
            ]
          },
          "metadata": {
            "tags": []
          },
          "execution_count": 62
        }
      ]
    },
    {
      "cell_type": "code",
      "metadata": {
        "colab": {
          "base_uri": "https://localhost:8080/"
        },
        "id": "a3fPuCDKcsF8",
        "outputId": "ca8494d7-fd8f-4dcf-ad50-ae1d48ec73f4"
      },
      "source": [
        "gnb = GaussianNB()\n",
        "gnb.fit(input, labels)"
      ],
      "execution_count": null,
      "outputs": [
        {
          "output_type": "execute_result",
          "data": {
            "text/plain": [
              "GaussianNB(priors=None, var_smoothing=1e-09)"
            ]
          },
          "metadata": {
            "tags": []
          },
          "execution_count": 63
        }
      ]
    },
    {
      "cell_type": "code",
      "metadata": {
        "colab": {
          "base_uri": "https://localhost:8080/"
        },
        "id": "dydIjtiScsF9",
        "outputId": "caf95608-8637-42ae-f945-533680d099fa"
      },
      "source": [
        "clfp = Perceptron(tol=1e-3, random_state=0)\n",
        "clfp.fit(input, labels)"
      ],
      "execution_count": null,
      "outputs": [
        {
          "output_type": "execute_result",
          "data": {
            "text/plain": [
              "Perceptron(alpha=0.0001, class_weight=None, early_stopping=False, eta0=1.0,\n",
              "           fit_intercept=True, max_iter=1000, n_iter_no_change=5, n_jobs=None,\n",
              "           penalty=None, random_state=0, shuffle=True, tol=0.001,\n",
              "           validation_fraction=0.1, verbose=0, warm_start=False)"
            ]
          },
          "metadata": {
            "tags": []
          },
          "execution_count": 64
        }
      ]
    },
    {
      "cell_type": "code",
      "metadata": {
        "colab": {
          "base_uri": "https://localhost:8080/"
        },
        "id": "kjpg8PvmcsF-",
        "outputId": "d63e7dc8-0c35-461d-fd2d-7977ff02fb7b"
      },
      "source": [
        "sm_all_3an = []\n",
        "for data, lbl in tqdm(zip(test_imgs, test_lbls)):\n",
        "  img = data.reshape([-1, 28, 28, 1])\n",
        "  if lbl == 3:\n",
        "    label = ood\n",
        "  else:\n",
        "    label = ind\n",
        "\n",
        "  output = []\n",
        "  for i in range(9):  \n",
        "    logits = model_dict[i](img)\n",
        "    logits = tf.math.divide(logits, temp_val[i])\n",
        "    pred = tf.nn.softmax(logits)\n",
        "    output.append(pred)\n",
        "  \n",
        "  sm_all_3an.append((output, label))"
      ],
      "execution_count": null,
      "outputs": [
        {
          "output_type": "stream",
          "text": [
            "10000it [14:06, 11.82it/s]\n"
          ],
          "name": "stderr"
        }
      ]
    },
    {
      "cell_type": "code",
      "metadata": {
        "id": "DpfYrpsocsF_"
      },
      "source": [
        "pickle_out = open(\"sm_all_wt_m2_3an.pickle\",\"wb\")\n",
        "pickle.dump([softmax_data_3an, sm_all_3an], pickle_out)\n",
        "pickle_out.close()"
      ],
      "execution_count": null,
      "outputs": []
    },
    {
      "cell_type": "code",
      "metadata": {
        "id": "8O7K43_mcsF_"
      },
      "source": [
        "pickle_in = open(\"sm_all_wt_m2_3an.pickle\",\"rb\")\n",
        "softmax_data_3an, sm_all_3an = pickle.load(pickle_in)"
      ],
      "execution_count": null,
      "outputs": []
    },
    {
      "cell_type": "code",
      "metadata": {
        "colab": {
          "base_uri": "https://localhost:8080/"
        },
        "id": "ZI_rQnlycsGA",
        "outputId": "d1a53987-8572-4a61-c762-ef8320506937"
      },
      "source": [
        "accuracy_svm = 0.0\n",
        "accuracy_nb = 0.0\n",
        "acc_in_svm = 0.0\n",
        "acc_in_nb = 0.0\n",
        "acc_ood_svm = 0.0\n",
        "acc_ood_nb = 0.0\n",
        "count_in = 0\n",
        "count_ood = 0\n",
        "y_pred_svm = []\n",
        "y_pred_nb = []\n",
        "y_true = []\n",
        "\n",
        "for data, lbl in sm_all_3an:\n",
        "  output_svm = []\n",
        "  output_nb = []\n",
        "  if lbl == ood:\n",
        "    count_ood += 1\n",
        "  else:\n",
        "    count_in += 1\n",
        "\n",
        "  for pred in data:\n",
        "    output_svm.append(clf.predict(pred))\n",
        "    #output_nb.append(gnb.predict(pred))\n",
        "    output_nb.append(clfp.predict(pred))\n",
        "\n",
        "  y_true.append(lbl)\n",
        "\n",
        "  values0, counts0 = np.unique(output_svm, return_counts=True)\n",
        "  y_pred0 = values0[np.argmax(counts0)]\n",
        "  y_pred_svm.append(y_pred0)\n",
        "\n",
        "  values1, counts1 = np.unique(output_nb, return_counts=True)\n",
        "  y_pred1 = values1[np.argmax(counts1)]\n",
        "  y_pred_nb.append(y_pred1)\n",
        "\n",
        "  if y_pred0 == lbl:\n",
        "    accuracy_svm += 1\n",
        "    if lbl == ind:\n",
        "      acc_in_svm += 1\n",
        "    else:\n",
        "      acc_ood_svm += 1\n",
        "\n",
        "  if y_pred1 == lbl:\n",
        "    accuracy_nb += 1\n",
        "    if lbl == ind:\n",
        "      acc_in_nb += 1\n",
        "    else:\n",
        "      acc_ood_nb += 1\n",
        "\n",
        "print('-------SVM----------')\n",
        "print(\"Total Accuracy: \", accuracy_svm/len(sm_all_3an)) \n",
        "print(\"Accuracy of determining ID data: \", acc_in_svm/count_in)\n",
        "print(\"Accuracy of determining OOD data: \", acc_ood_svm/count_ood)\n",
        "\n",
        "print('-------NN-----------')\n",
        "print(\"Total Accuracy: \", accuracy_nb/len(sm_all_3an)) \n",
        "print(\"Accuracy of determining ID data: \", acc_in_nb/count_in)\n",
        "print(\"Accuracy of determining OOD data: \", acc_ood_nb/count_ood)"
      ],
      "execution_count": null,
      "outputs": [
        {
          "output_type": "stream",
          "text": [
            "-------SVM----------\n",
            "Total Accuracy:  0.9304\n",
            "Accuracy of determining ID data:  0.9701890989988876\n",
            "Accuracy of determining OOD data:  0.5762376237623762\n",
            "-------NN-----------\n",
            "Total Accuracy:  0.899\n",
            "Accuracy of determining ID data:  1.0\n",
            "Accuracy of determining OOD data:  0.0\n"
          ],
          "name": "stdout"
        }
      ]
    },
    {
      "cell_type": "code",
      "metadata": {
        "colab": {
          "base_uri": "https://localhost:8080/"
        },
        "id": "68T-lbIjcsGB",
        "outputId": "bde66f89-7f5e-42a1-9692-8bcf4a08da97"
      },
      "source": [
        "from sklearn.metrics import roc_auc_score\n",
        "roc_auc_score(y_true, y_pred_svm)"
      ],
      "execution_count": null,
      "outputs": [
        {
          "output_type": "execute_result",
          "data": {
            "text/plain": [
              "0.773213361380632"
            ]
          },
          "metadata": {
            "tags": []
          },
          "execution_count": 68
        }
      ]
    },
    {
      "cell_type": "code",
      "metadata": {
        "colab": {
          "base_uri": "https://localhost:8080/"
        },
        "id": "ZgzqhdA7csGC",
        "outputId": "4d9daa44-c069-4148-86c3-463cb4ae3013"
      },
      "source": [
        "roc_auc_score(y_true, y_pred_nb)"
      ],
      "execution_count": null,
      "outputs": [
        {
          "output_type": "execute_result",
          "data": {
            "text/plain": [
              "0.5"
            ]
          },
          "metadata": {
            "tags": []
          },
          "execution_count": 69
        }
      ]
    },
    {
      "cell_type": "code",
      "metadata": {
        "id": "7lMKJJsku3Ec"
      },
      "source": [
        ""
      ],
      "execution_count": null,
      "outputs": []
    },
    {
      "cell_type": "markdown",
      "metadata": {
        "id": "_y7fIYIwf9QR"
      },
      "source": [
        "# 4 as anomaly"
      ]
    },
    {
      "cell_type": "code",
      "metadata": {
        "id": "7JjDGdjrf-YY"
      },
      "source": [
        ""
      ],
      "execution_count": null,
      "outputs": []
    },
    {
      "cell_type": "code",
      "metadata": {
        "id": "tG1gqCf0f-9X"
      },
      "source": [
        "new_train_images, new_train_labels, new_val_images, new_val_labels = separate_class(4, train_images, train_labels, val_images, val_labels)"
      ],
      "execution_count": null,
      "outputs": []
    },
    {
      "cell_type": "code",
      "metadata": {
        "id": "Wg4xzBeLf-9X"
      },
      "source": [
        "model0 = Model(name='4anomaly:classifier0')\n",
        "model1 = Model(name='4anomaly:classifier1')\n",
        "model2 = Model(name='4anomaly:classifier2')\n",
        "model3 = Model(name='4anomaly:classifier3')\n",
        "model4 = Model(name='4anomaly:classifier4')\n",
        "model5 = Model(name='4anomaly:classifier5')\n",
        "model6 = Model(name='4anomaly:classifier6')\n",
        "model7 = Model(name='4anomaly:classifier7')\n",
        "model8 = Model(name='4anomaly:classifier8')"
      ],
      "execution_count": null,
      "outputs": []
    },
    {
      "cell_type": "code",
      "metadata": {
        "id": "UeLyqKRLf-9Y"
      },
      "source": [
        "class_0 = model0.build()\n",
        "class_1 = model1.build()\n",
        "class_2 = model2.build()\n",
        "class_3 = model3.build()\n",
        "class_4 = model4.build()\n",
        "class_5 = model5.build()\n",
        "class_6 = model6.build()\n",
        "class_7 = model7.build()\n",
        "class_8 = model8.build()"
      ],
      "execution_count": null,
      "outputs": []
    },
    {
      "cell_type": "code",
      "metadata": {
        "id": "W_8FYlwQf-9Z"
      },
      "source": [
        "class_0 = model0.load_model(\"final_models/4anomaly-classifier0\")\n",
        "class_1 = model1.load_model(\"final_models/4anomaly-classifier1\")\n",
        "class_2 = model2.load_model(\"final_models/4anomaly-classifier2\")\n",
        "class_3 = model3.load_model(\"final_models/4anomaly-classifier3\")\n",
        "class_4 = model4.load_model(\"final_models/4anomaly-classifier4\")\n",
        "class_5 = model5.load_model(\"final_models/4anomaly-classifier5\")\n",
        "class_6 = model6.load_model(\"final_models/4anomaly-classifier6\")\n",
        "class_7 = model7.load_model(\"final_models/4anomaly-classifier7\")\n",
        "class_8 = model8.load_model(\"final_models/4anomaly-classifier8\")"
      ],
      "execution_count": null,
      "outputs": []
    },
    {
      "cell_type": "code",
      "metadata": {
        "colab": {
          "base_uri": "https://localhost:8080/"
        },
        "id": "uNOwpf2Jf-9Z",
        "outputId": "5d94e381-0770-47d6-a21d-868ea17d8d78"
      },
      "source": [
        "layer_name_list = []\n",
        "\n",
        "layer_name_list.append(class_0.layers[-2:][0].name)\n",
        "layer_name_list.append(class_1.layers[-2:][0].name)\n",
        "layer_name_list.append(class_2.layers[-2:][0].name)\n",
        "layer_name_list.append(class_3.layers[-2:][0].name)\n",
        "layer_name_list.append(class_4.layers[-2:][0].name)\n",
        "layer_name_list.append(class_5.layers[-2:][0].name)\n",
        "layer_name_list.append(class_6.layers[-2:][0].name)\n",
        "layer_name_list.append(class_7.layers[-2:][0].name)\n",
        "layer_name_list.append(class_8.layers[-2:][0].name)\n",
        "\n",
        "print(layer_name_list)"
      ],
      "execution_count": null,
      "outputs": [
        {
          "output_type": "stream",
          "text": [
            "['dense_39', 'dense_41', 'dense_43', 'dense_45', 'dense_47', 'dense_49', 'dense_51', 'dense_53', 'dense_55']\n"
          ],
          "name": "stdout"
        }
      ]
    },
    {
      "cell_type": "code",
      "metadata": {
        "id": "gxvUa8GSf-9b"
      },
      "source": [
        "from keras import Model\n",
        "model_dict = {}\n",
        "model_output0 = class_0.get_layer(layer_name_list[0]).output\n",
        "m0 = Model(inputs=class_0.input, outputs=model_output0)\n",
        "model_dict[0] = m0\n",
        "\n",
        "model_output1 = class_1.get_layer(layer_name_list[1]).output\n",
        "m1 = Model(inputs=class_1.input, outputs=model_output1)\n",
        "model_dict[1] = m1\n",
        "\n",
        "model_output2 = class_2.get_layer(layer_name_list[2]).output\n",
        "m2 = Model(inputs=class_2.input, outputs=model_output2)\n",
        "model_dict[2] = m2\n",
        "\n",
        "model_output3 = class_3.get_layer(layer_name_list[3]).output\n",
        "m3 = Model(inputs=class_3.input, outputs=model_output3)\n",
        "model_dict[3] = m3\n",
        "\n",
        "model_output4 = class_4.get_layer(layer_name_list[4]).output\n",
        "m4 = Model(inputs=class_4.input, outputs=model_output4)\n",
        "model_dict[4] = m4\n",
        "\n",
        "model_output5 = class_5.get_layer(layer_name_list[5]).output\n",
        "m5 = Model(inputs=class_5.input, outputs=model_output5)\n",
        "model_dict[5] = m5\n",
        "\n",
        "model_output6 = class_6.get_layer(layer_name_list[6]).output\n",
        "m6 = Model(inputs=class_6.input, outputs=model_output6)\n",
        "model_dict[6] = m6\n",
        "\n",
        "model_output7 = class_7.get_layer(layer_name_list[7]).output\n",
        "m7 = Model(inputs=class_7.input, outputs=model_output7)\n",
        "model_dict[7] = m7\n",
        "\n",
        "model_output8 = class_8.get_layer(layer_name_list[8]).output\n",
        "m8 = Model(inputs=class_8.input, outputs=model_output8)\n",
        "model_dict[8] = m8"
      ],
      "execution_count": null,
      "outputs": []
    },
    {
      "cell_type": "code",
      "metadata": {
        "id": "kYZPwbX-f-9b"
      },
      "source": [
        "temp_val = [2.1738567, 2.3370507, 2.1365163, 2.441992, 2.217251, 2.4548638, 2.1809883, 2.343067, 2.4618614]"
      ],
      "execution_count": null,
      "outputs": []
    },
    {
      "cell_type": "code",
      "metadata": {
        "id": "s-SUpx0pf-9c"
      },
      "source": [
        "leave_out_list = sorted(set(new_val_labels))"
      ],
      "execution_count": null,
      "outputs": []
    },
    {
      "cell_type": "code",
      "metadata": {
        "colab": {
          "base_uri": "https://localhost:8080/"
        },
        "id": "tR2Wjdpwf-9c",
        "outputId": "32d55b4d-f58f-436e-ea27-258c82fcdb4d"
      },
      "source": [
        "leave_out_list"
      ],
      "execution_count": null,
      "outputs": [
        {
          "output_type": "execute_result",
          "data": {
            "text/plain": [
              "[0, 1, 2, 3, 5, 6, 7, 8, 9]"
            ]
          },
          "metadata": {
            "tags": []
          },
          "execution_count": 46
        }
      ]
    },
    {
      "cell_type": "code",
      "metadata": {
        "id": "dNN8Q5bYf-9d"
      },
      "source": [
        "ood = 0\n",
        "ind = 1"
      ],
      "execution_count": null,
      "outputs": []
    },
    {
      "cell_type": "code",
      "metadata": {
        "colab": {
          "base_uri": "https://localhost:8080/"
        },
        "id": "jpGT2eQAf-9e",
        "outputId": "7eaefe9c-6980-44d2-9b7d-cfd6fe0f39d4"
      },
      "source": [
        "from tqdm import tqdm\n",
        "softmax_data_4an = []\n",
        "\n",
        "for img, lbl in tqdm(zip(new_val_images,new_val_labels)):\n",
        "  img = img.reshape([-1, 28, 28, 1])\n",
        "  for i in range(9):\n",
        "    if lbl == leave_out_list[i]:\n",
        "      label = ood\n",
        "    else:\n",
        "      label = ind\n",
        "    logits = model_dict[i](img)\n",
        "    logits = tf.math.divide(logits, temp_val[i])\n",
        "    pred = tf.nn.softmax(logits)\n",
        "    softmax_data_4an.append((pred, label))"
      ],
      "execution_count": null,
      "outputs": [
        {
          "output_type": "stream",
          "text": [
            "10824it [15:19, 11.77it/s]\n"
          ],
          "name": "stderr"
        }
      ]
    },
    {
      "cell_type": "code",
      "metadata": {
        "colab": {
          "base_uri": "https://localhost:8080/"
        },
        "id": "KaAqMxv7f-9e",
        "outputId": "d0435039-72d0-46cf-c9d6-6b3e20bcfd3a"
      },
      "source": [
        "len(softmax_data_4an)"
      ],
      "execution_count": null,
      "outputs": [
        {
          "output_type": "execute_result",
          "data": {
            "text/plain": [
              "97416"
            ]
          },
          "metadata": {
            "tags": []
          },
          "execution_count": 49
        }
      ]
    },
    {
      "cell_type": "code",
      "metadata": {
        "id": "yKBxR9ZOf-9f"
      },
      "source": [
        "ind_data = []\n",
        "ood_data = []\n",
        "for data in softmax_data_4an:\n",
        "  if data[1] == ind:\n",
        "    ind_data.append(data)\n",
        "  else:\n",
        "    ood_data.append(data)"
      ],
      "execution_count": null,
      "outputs": []
    },
    {
      "cell_type": "code",
      "metadata": {
        "colab": {
          "base_uri": "https://localhost:8080/"
        },
        "id": "oXhFAJRBf-9g",
        "outputId": "38f39192-9775-40bc-9044-4607e0cf2686"
      },
      "source": [
        "len(ind_data), len(ood_data)"
      ],
      "execution_count": null,
      "outputs": [
        {
          "output_type": "execute_result",
          "data": {
            "text/plain": [
              "(86592, 10824)"
            ]
          },
          "metadata": {
            "tags": []
          },
          "execution_count": 51
        }
      ]
    },
    {
      "cell_type": "code",
      "metadata": {
        "id": "JEqRbVBof-9g"
      },
      "source": [
        "input = []\n",
        "labels = []\n",
        "for i in range(0, len(ood_data)-1, 2):\n",
        "  input.append(ind_data[i][0][0])\n",
        "  input.append(ind_data[i+1][0][0])\n",
        "  labels.append(ind_data[i][1])\n",
        "  labels.append(ind_data[i+1][1])\n",
        "  input.append(ood_data[i][0][0])\n",
        "  input.append(ood_data[i+1][0][0])\n",
        "  labels.append(ood_data[i][1])\n",
        "  labels.append(ood_data[i][1])\n",
        "\n",
        "#for idata, odata in zip(ind_data[:len(ood_data)],ood_data):\n",
        "#  input.append(idata[0][0])\n",
        "#  input.append(odata[0][0])\n",
        "#  labels.append(idata[1])\n",
        "#  labels.append(odata[1])  "
      ],
      "execution_count": null,
      "outputs": []
    },
    {
      "cell_type": "code",
      "metadata": {
        "colab": {
          "base_uri": "https://localhost:8080/"
        },
        "id": "7LRz6we7f-9h",
        "outputId": "7c800bed-2100-458b-c88c-31680c6c71fa"
      },
      "source": [
        "len(labels)"
      ],
      "execution_count": null,
      "outputs": [
        {
          "output_type": "execute_result",
          "data": {
            "text/plain": [
              "21560"
            ]
          },
          "metadata": {
            "tags": []
          },
          "execution_count": 59
        }
      ]
    },
    {
      "cell_type": "code",
      "metadata": {
        "id": "EynAaGbpf-9h"
      },
      "source": [
        "input = []\n",
        "labels = []\n",
        "for data in softmax_data_4an:\n",
        "  input.append(data[0][0])\n",
        "  labels.append(data[1])"
      ],
      "execution_count": null,
      "outputs": []
    },
    {
      "cell_type": "code",
      "metadata": {
        "colab": {
          "base_uri": "https://localhost:8080/"
        },
        "id": "L3bwY6lAf-9h",
        "outputId": "2d831071-0c24-4ff1-8cd9-a448d9620fea"
      },
      "source": [
        "from sklearn.utils.class_weight import compute_class_weight\n",
        "class_wts = compute_class_weight('balanced', np.unique(labels), labels)\n",
        "class_wts ={0:class_wts[0], 1:class_wts[1]}\n",
        "class_wts"
      ],
      "execution_count": null,
      "outputs": [
        {
          "output_type": "execute_result",
          "data": {
            "text/plain": [
              "{0: 4.5, 1: 0.5625}"
            ]
          },
          "metadata": {
            "tags": []
          },
          "execution_count": 53
        }
      ]
    },
    {
      "cell_type": "code",
      "metadata": {
        "colab": {
          "base_uri": "https://localhost:8080/"
        },
        "id": "F4cT3CQcf-9i",
        "outputId": "76613deb-9216-4750-eee9-9df0fa72bf96"
      },
      "source": [
        "clf = make_pipeline(SVC(gamma='auto', class_weight=class_wts))\n",
        "clf.fit(input, labels)"
      ],
      "execution_count": null,
      "outputs": [
        {
          "output_type": "execute_result",
          "data": {
            "text/plain": [
              "Pipeline(memory=None,\n",
              "         steps=[('svc',\n",
              "                 SVC(C=1.0, break_ties=False, cache_size=200,\n",
              "                     class_weight={0: 4.5, 1: 0.5625}, coef0=0.0,\n",
              "                     decision_function_shape='ovr', degree=3, gamma='auto',\n",
              "                     kernel='rbf', max_iter=-1, probability=False,\n",
              "                     random_state=None, shrinking=True, tol=0.001,\n",
              "                     verbose=False))],\n",
              "         verbose=False)"
            ]
          },
          "metadata": {
            "tags": []
          },
          "execution_count": 54
        }
      ]
    },
    {
      "cell_type": "code",
      "metadata": {
        "colab": {
          "base_uri": "https://localhost:8080/"
        },
        "id": "fVmTD1Jpf-9j",
        "outputId": "5d526f5b-e3f7-4a11-f7db-2e14a93dd865"
      },
      "source": [
        "gnb = GaussianNB()\n",
        "gnb.fit(input, labels)"
      ],
      "execution_count": null,
      "outputs": [
        {
          "output_type": "execute_result",
          "data": {
            "text/plain": [
              "GaussianNB(priors=None, var_smoothing=1e-09)"
            ]
          },
          "metadata": {
            "tags": []
          },
          "execution_count": 55
        }
      ]
    },
    {
      "cell_type": "code",
      "metadata": {
        "colab": {
          "base_uri": "https://localhost:8080/"
        },
        "id": "ouWHzV3ff-9j",
        "outputId": "3a9b85dd-a21f-41fd-b0eb-7876edd0a745"
      },
      "source": [
        "clfp = Perceptron(tol=1e-3, random_state=0)\n",
        "clfp.fit(input, labels)"
      ],
      "execution_count": null,
      "outputs": [
        {
          "output_type": "execute_result",
          "data": {
            "text/plain": [
              "Perceptron(alpha=0.0001, class_weight=None, early_stopping=False, eta0=1.0,\n",
              "           fit_intercept=True, max_iter=1000, n_iter_no_change=5, n_jobs=None,\n",
              "           penalty=None, random_state=0, shuffle=True, tol=0.001,\n",
              "           validation_fraction=0.1, verbose=0, warm_start=False)"
            ]
          },
          "metadata": {
            "tags": []
          },
          "execution_count": 56
        }
      ]
    },
    {
      "cell_type": "code",
      "metadata": {
        "colab": {
          "base_uri": "https://localhost:8080/"
        },
        "id": "8LU8u9uAf-9k",
        "outputId": "fb8ee913-15bf-4ece-e8c5-781eaab016bf"
      },
      "source": [
        "sm_all_4an = []\n",
        "for data, lbl in tqdm(zip(test_imgs, test_lbls)):\n",
        "  img = data.reshape([-1, 28, 28, 1])\n",
        "  if lbl == 4:\n",
        "    label = ood\n",
        "  else:\n",
        "    label = ind\n",
        "\n",
        "  output = []\n",
        "  for i in range(9):  \n",
        "    logits = model_dict[i](img)\n",
        "    logits = tf.math.divide(logits, temp_val[i])\n",
        "    pred = tf.nn.softmax(logits)\n",
        "    output.append(pred)\n",
        "  \n",
        "  sm_all_4an.append((output, label))"
      ],
      "execution_count": null,
      "outputs": [
        {
          "output_type": "stream",
          "text": [
            "10000it [14:01, 11.88it/s]\n"
          ],
          "name": "stderr"
        }
      ]
    },
    {
      "cell_type": "code",
      "metadata": {
        "id": "3fiLJYjgf-9k"
      },
      "source": [
        "pickle_out = open(\"sm_all_wt_m2_4an.pickle\",\"wb\")\n",
        "pickle.dump([softmax_data_4an, sm_all_4an], pickle_out)\n",
        "pickle_out.close()"
      ],
      "execution_count": null,
      "outputs": []
    },
    {
      "cell_type": "code",
      "metadata": {
        "id": "5VdAlkIxf-9l"
      },
      "source": [
        "pickle_in = open(\"sm_all_wt_m2_4an.pickle\",\"rb\")\n",
        "softmax_data_4an, sm_all_4an = pickle.load(pickle_in)"
      ],
      "execution_count": null,
      "outputs": []
    },
    {
      "cell_type": "code",
      "metadata": {
        "colab": {
          "base_uri": "https://localhost:8080/"
        },
        "id": "NI5aOVmdf-9o",
        "outputId": "4ceb1863-84f5-4810-9c68-4b365673b312"
      },
      "source": [
        "accuracy_svm = 0.0\n",
        "accuracy_nb = 0.0\n",
        "acc_in_svm = 0.0\n",
        "acc_in_nb = 0.0\n",
        "acc_ood_svm = 0.0\n",
        "acc_ood_nb = 0.0\n",
        "count_in = 0\n",
        "count_ood = 0\n",
        "y_pred_svm = []\n",
        "y_pred_nb = []\n",
        "y_true = []\n",
        "\n",
        "for data, lbl in sm_all_4an:\n",
        "  output_svm = []\n",
        "  output_nb = []\n",
        "  if lbl == ood:\n",
        "    count_ood += 1\n",
        "  else:\n",
        "    count_in += 1\n",
        "\n",
        "  for pred in data:\n",
        "    output_svm.append(clf.predict(pred))\n",
        "    #output_nb.append(gnb.predict(pred))\n",
        "    output_nb.append(clfp.predict(pred))\n",
        "\n",
        "  y_true.append(lbl)\n",
        "\n",
        "  values0, counts0 = np.unique(output_svm, return_counts=True)\n",
        "  y_pred0 = values0[np.argmax(counts0)]\n",
        "  y_pred_svm.append(y_pred0)\n",
        "\n",
        "  values1, counts1 = np.unique(output_nb, return_counts=True)\n",
        "  y_pred1 = values1[np.argmax(counts1)]\n",
        "  y_pred_nb.append(y_pred1)\n",
        "\n",
        "  if y_pred0 == lbl:\n",
        "    accuracy_svm += 1\n",
        "    if lbl == ind:\n",
        "      acc_in_svm += 1\n",
        "    else:\n",
        "      acc_ood_svm += 1\n",
        "\n",
        "  if y_pred1 == lbl:\n",
        "    accuracy_nb += 1\n",
        "    if lbl == ind:\n",
        "      acc_in_nb += 1\n",
        "    else:\n",
        "      acc_ood_nb += 1\n",
        "\n",
        "print('-------SVM----------')\n",
        "print(\"Total Accuracy: \", accuracy_svm/len(sm_all_4an)) \n",
        "print(\"Accuracy of determining ID data: \", acc_in_svm/count_in)\n",
        "print(\"Accuracy of determining OOD data: \", acc_ood_svm/count_ood)\n",
        "\n",
        "print('-------NN-----------')\n",
        "print(\"Total Accuracy: \", accuracy_nb/len(sm_all_4an)) \n",
        "print(\"Accuracy of determining ID data: \", acc_in_nb/count_in)\n",
        "print(\"Accuracy of determining OOD data: \", acc_ood_nb/count_ood)"
      ],
      "execution_count": null,
      "outputs": [
        {
          "output_type": "stream",
          "text": [
            "-------SVM----------\n",
            "Total Accuracy:  0.9168\n",
            "Accuracy of determining ID data:  0.961964958970947\n",
            "Accuracy of determining OOD data:  0.5020366598778004\n",
            "-------NN-----------\n",
            "Total Accuracy:  0.9018\n",
            "Accuracy of determining ID data:  1.0\n",
            "Accuracy of determining OOD data:  0.0\n"
          ],
          "name": "stdout"
        }
      ]
    },
    {
      "cell_type": "code",
      "metadata": {
        "colab": {
          "base_uri": "https://localhost:8080/"
        },
        "id": "53_1IS8Of-9o",
        "outputId": "6f2c79c9-b470-45cf-acb3-a5fecb774058"
      },
      "source": [
        "from sklearn.metrics import roc_auc_score\n",
        "roc_auc_score(y_true, y_pred_svm)"
      ],
      "execution_count": null,
      "outputs": [
        {
          "output_type": "execute_result",
          "data": {
            "text/plain": [
              "0.7320008094243736"
            ]
          },
          "metadata": {
            "tags": []
          },
          "execution_count": 60
        }
      ]
    },
    {
      "cell_type": "code",
      "metadata": {
        "colab": {
          "base_uri": "https://localhost:8080/"
        },
        "id": "eWFn-Zjef-9p",
        "outputId": "01694ff1-3b44-469d-8ddf-0eb82e993d55"
      },
      "source": [
        "roc_auc_score(y_true, y_pred_nb)"
      ],
      "execution_count": null,
      "outputs": [
        {
          "output_type": "execute_result",
          "data": {
            "text/plain": [
              "0.5"
            ]
          },
          "metadata": {
            "tags": []
          },
          "execution_count": 61
        }
      ]
    },
    {
      "cell_type": "code",
      "metadata": {
        "id": "fdtn8fkwoyqj"
      },
      "source": [
        ""
      ],
      "execution_count": null,
      "outputs": []
    },
    {
      "cell_type": "markdown",
      "metadata": {
        "id": "GoVYib2Io0zG"
      },
      "source": [
        "# 5 as anomaly"
      ]
    },
    {
      "cell_type": "code",
      "metadata": {
        "id": "grrT7psoo2RH"
      },
      "source": [
        ""
      ],
      "execution_count": null,
      "outputs": []
    },
    {
      "cell_type": "code",
      "metadata": {
        "id": "iYmtQ9wRpr1l"
      },
      "source": [
        "new_train_images, new_train_labels, new_val_images, new_val_labels = separate_class(5, train_images, train_labels, val_images, val_labels)"
      ],
      "execution_count": null,
      "outputs": []
    },
    {
      "cell_type": "code",
      "metadata": {
        "id": "P6zCDsTLpr1n"
      },
      "source": [
        "model0 = Model(name='5anomaly:classifier0')\n",
        "model1 = Model(name='5anomaly:classifier1')\n",
        "model2 = Model(name='5anomaly:classifier2')\n",
        "model3 = Model(name='5anomaly:classifier3')\n",
        "model4 = Model(name='5anomaly:classifier4')\n",
        "model5 = Model(name='5anomaly:classifier5')\n",
        "model6 = Model(name='5anomaly:classifier6')\n",
        "model7 = Model(name='5anomaly:classifier7')\n",
        "model8 = Model(name='5anomaly:classifier8')"
      ],
      "execution_count": null,
      "outputs": []
    },
    {
      "cell_type": "code",
      "metadata": {
        "id": "DBSPGxwIpr1o"
      },
      "source": [
        "class_0 = model0.build()\n",
        "class_1 = model1.build()\n",
        "class_2 = model2.build()\n",
        "class_3 = model3.build()\n",
        "class_4 = model4.build()\n",
        "class_5 = model5.build()\n",
        "class_6 = model6.build()\n",
        "class_7 = model7.build()\n",
        "class_8 = model8.build()"
      ],
      "execution_count": null,
      "outputs": []
    },
    {
      "cell_type": "code",
      "metadata": {
        "id": "GuKap6Tupr1o"
      },
      "source": [
        "class_0 = model0.load_model(\"final_models/5anomaly-classifier0\")\n",
        "class_1 = model1.load_model(\"final_models/5anomaly-classifier1\")\n",
        "class_2 = model2.load_model(\"final_models/5anomaly-classifier2\")\n",
        "class_3 = model3.load_model(\"final_models/5anomaly-classifier3\")\n",
        "class_4 = model4.load_model(\"final_models/5anomaly-classifier4\")\n",
        "class_5 = model5.load_model(\"final_models/5anomaly-classifier5\")\n",
        "class_6 = model6.load_model(\"final_models/5anomaly-classifier6\")\n",
        "class_7 = model7.load_model(\"final_models/5anomaly-classifier7\")\n",
        "class_8 = model8.load_model(\"final_models/5anomaly-classifier8\")"
      ],
      "execution_count": null,
      "outputs": []
    },
    {
      "cell_type": "code",
      "metadata": {
        "colab": {
          "base_uri": "https://localhost:8080/"
        },
        "id": "XR_xWMVRpr1p",
        "outputId": "dc2d0062-05a8-413b-c8c7-d17f14be9bfb"
      },
      "source": [
        "layer_name_list = []\n",
        "\n",
        "layer_name_list.append(class_0.layers[-2:][0].name)\n",
        "layer_name_list.append(class_1.layers[-2:][0].name)\n",
        "layer_name_list.append(class_2.layers[-2:][0].name)\n",
        "layer_name_list.append(class_3.layers[-2:][0].name)\n",
        "layer_name_list.append(class_4.layers[-2:][0].name)\n",
        "layer_name_list.append(class_5.layers[-2:][0].name)\n",
        "layer_name_list.append(class_6.layers[-2:][0].name)\n",
        "layer_name_list.append(class_7.layers[-2:][0].name)\n",
        "layer_name_list.append(class_8.layers[-2:][0].name)\n",
        "\n",
        "print(layer_name_list)"
      ],
      "execution_count": null,
      "outputs": [
        {
          "output_type": "stream",
          "text": [
            "['dense_93', 'dense_95', 'dense_97', 'dense_99', 'dense_101', 'dense_103', 'dense_105', 'dense_107', 'dense_19']\n"
          ],
          "name": "stdout"
        }
      ]
    },
    {
      "cell_type": "code",
      "metadata": {
        "id": "MIrTpgOhpr1q"
      },
      "source": [
        "from keras import Model\n",
        "model_dict = {}\n",
        "model_output0 = class_0.get_layer(layer_name_list[0]).output\n",
        "m0 = Model(inputs=class_0.input, outputs=model_output0)\n",
        "model_dict[0] = m0\n",
        "\n",
        "model_output1 = class_1.get_layer(layer_name_list[1]).output\n",
        "m1 = Model(inputs=class_1.input, outputs=model_output1)\n",
        "model_dict[1] = m1\n",
        "\n",
        "model_output2 = class_2.get_layer(layer_name_list[2]).output\n",
        "m2 = Model(inputs=class_2.input, outputs=model_output2)\n",
        "model_dict[2] = m2\n",
        "\n",
        "model_output3 = class_3.get_layer(layer_name_list[3]).output\n",
        "m3 = Model(inputs=class_3.input, outputs=model_output3)\n",
        "model_dict[3] = m3\n",
        "\n",
        "model_output4 = class_4.get_layer(layer_name_list[4]).output\n",
        "m4 = Model(inputs=class_4.input, outputs=model_output4)\n",
        "model_dict[4] = m4\n",
        "\n",
        "model_output5 = class_5.get_layer(layer_name_list[5]).output\n",
        "m5 = Model(inputs=class_5.input, outputs=model_output5)\n",
        "model_dict[5] = m5\n",
        "\n",
        "model_output6 = class_6.get_layer(layer_name_list[6]).output\n",
        "m6 = Model(inputs=class_6.input, outputs=model_output6)\n",
        "model_dict[6] = m6\n",
        "\n",
        "model_output7 = class_7.get_layer(layer_name_list[7]).output\n",
        "m7 = Model(inputs=class_7.input, outputs=model_output7)\n",
        "model_dict[7] = m7\n",
        "\n",
        "model_output8 = class_8.get_layer(layer_name_list[8]).output\n",
        "m8 = Model(inputs=class_8.input, outputs=model_output8)\n",
        "model_dict[8] = m8"
      ],
      "execution_count": null,
      "outputs": []
    },
    {
      "cell_type": "code",
      "metadata": {
        "id": "I1GVGOyIpr1r"
      },
      "source": [
        "temp_val = [2.056544, 2.1163602, 2.3622563, 2.3906677, 2.2536275, 2.3036711, 2.5086586, 2.2106051, 2.266882]"
      ],
      "execution_count": null,
      "outputs": []
    },
    {
      "cell_type": "code",
      "metadata": {
        "id": "Y_dq8MrCpr1r"
      },
      "source": [
        "leave_out_list = sorted(set(new_val_labels))"
      ],
      "execution_count": null,
      "outputs": []
    },
    {
      "cell_type": "code",
      "metadata": {
        "colab": {
          "base_uri": "https://localhost:8080/"
        },
        "id": "ftZ6FFSupr1s",
        "outputId": "3c3003c3-b628-45c6-b786-d57a6d5a3722"
      },
      "source": [
        "leave_out_list"
      ],
      "execution_count": null,
      "outputs": [
        {
          "output_type": "execute_result",
          "data": {
            "text/plain": [
              "[0, 1, 2, 3, 4, 6, 7, 8, 9]"
            ]
          },
          "metadata": {
            "tags": []
          },
          "execution_count": 71
        }
      ]
    },
    {
      "cell_type": "code",
      "metadata": {
        "id": "Dimi6ziMpr1t"
      },
      "source": [
        "ood = 0\n",
        "ind = 1"
      ],
      "execution_count": null,
      "outputs": []
    },
    {
      "cell_type": "code",
      "metadata": {
        "colab": {
          "base_uri": "https://localhost:8080/"
        },
        "id": "CPwTBxXmpr1t",
        "outputId": "8de1e580-07e9-4874-bb70-ca42dd9dddee"
      },
      "source": [
        "from tqdm import tqdm\n",
        "softmax_data_5an = []\n",
        "\n",
        "for img, lbl in tqdm(zip(new_val_images,new_val_labels)):\n",
        "  img = img.reshape([-1, 28, 28, 1])\n",
        "  for i in range(9):\n",
        "    if lbl == leave_out_list[i]:\n",
        "      label = ood\n",
        "    else:\n",
        "      label = ind\n",
        "    logits = model_dict[i](img)\n",
        "    logits = tf.math.divide(logits, temp_val[i])\n",
        "    pred = tf.nn.softmax(logits)\n",
        "    softmax_data_5an.append((pred, label))"
      ],
      "execution_count": null,
      "outputs": [
        {
          "output_type": "stream",
          "text": [
            "10896it [15:30, 11.71it/s]\n"
          ],
          "name": "stderr"
        }
      ]
    },
    {
      "cell_type": "code",
      "metadata": {
        "colab": {
          "base_uri": "https://localhost:8080/"
        },
        "id": "1KB5Xvjypr1u",
        "outputId": "c705816c-d076-40e7-f720-52c92b629348"
      },
      "source": [
        "len(softmax_data_5an)"
      ],
      "execution_count": null,
      "outputs": [
        {
          "output_type": "execute_result",
          "data": {
            "text/plain": [
              "98064"
            ]
          },
          "metadata": {
            "tags": []
          },
          "execution_count": 74
        }
      ]
    },
    {
      "cell_type": "code",
      "metadata": {
        "id": "4p67tpLmpr1u"
      },
      "source": [
        "ind_data = []\n",
        "ood_data = []\n",
        "for data in softmax_data_5an:\n",
        "  if data[1] == ind:\n",
        "    ind_data.append(data)\n",
        "  else:\n",
        "    ood_data.append(data)"
      ],
      "execution_count": null,
      "outputs": []
    },
    {
      "cell_type": "code",
      "metadata": {
        "colab": {
          "base_uri": "https://localhost:8080/"
        },
        "id": "1IqwpRV-pr1v",
        "outputId": "431801f6-b8f5-477f-8871-5d5ff866de16"
      },
      "source": [
        "len(ind_data), len(ood_data)"
      ],
      "execution_count": null,
      "outputs": [
        {
          "output_type": "execute_result",
          "data": {
            "text/plain": [
              "(87168, 10896)"
            ]
          },
          "metadata": {
            "tags": []
          },
          "execution_count": 76
        }
      ]
    },
    {
      "cell_type": "code",
      "metadata": {
        "id": "G1lI7bbOpr1v"
      },
      "source": [
        "input = []\n",
        "labels = []\n",
        "for i in range(0, len(ood_data)-1, 2):\n",
        "  input.append(ind_data[i][0][0])\n",
        "  input.append(ind_data[i+1][0][0])\n",
        "  labels.append(ind_data[i][1])\n",
        "  labels.append(ind_data[i+1][1])\n",
        "  input.append(ood_data[i][0][0])\n",
        "  input.append(ood_data[i+1][0][0])\n",
        "  labels.append(ood_data[i][1])\n",
        "  labels.append(ood_data[i][1])\n",
        "\n",
        "#for idata, odata in zip(ind_data[:len(ood_data)],ood_data):\n",
        "#  input.append(idata[0][0])\n",
        "#  input.append(odata[0][0])\n",
        "#  labels.append(idata[1])\n",
        "#  labels.append(odata[1])  "
      ],
      "execution_count": null,
      "outputs": []
    },
    {
      "cell_type": "code",
      "metadata": {
        "colab": {
          "base_uri": "https://localhost:8080/"
        },
        "id": "QOdrgrtOpr1w",
        "outputId": "1f795268-701c-497c-a2ad-fae6699debdb"
      },
      "source": [
        "len(labels)"
      ],
      "execution_count": null,
      "outputs": [
        {
          "output_type": "execute_result",
          "data": {
            "text/plain": [
              "21792"
            ]
          },
          "metadata": {
            "tags": []
          },
          "execution_count": 78
        }
      ]
    },
    {
      "cell_type": "code",
      "metadata": {
        "id": "-To-0ilapr1w"
      },
      "source": [
        "input = []\n",
        "labels = []\n",
        "for data in softmax_data_5an:\n",
        "  input.append(data[0][0])\n",
        "  labels.append(data[1])"
      ],
      "execution_count": null,
      "outputs": []
    },
    {
      "cell_type": "code",
      "metadata": {
        "colab": {
          "base_uri": "https://localhost:8080/"
        },
        "id": "aL6dOZGzpr1z",
        "outputId": "4ad499ec-cce9-443b-ca83-c8a641e18da1"
      },
      "source": [
        "from sklearn.utils.class_weight import compute_class_weight\n",
        "class_wts = compute_class_weight('balanced', np.unique(labels), labels)\n",
        "class_wts ={0:class_wts[0], 1:class_wts[1]}\n",
        "class_wts"
      ],
      "execution_count": null,
      "outputs": [
        {
          "output_type": "execute_result",
          "data": {
            "text/plain": [
              "{0: 4.5, 1: 0.5625}"
            ]
          },
          "metadata": {
            "tags": []
          },
          "execution_count": 80
        }
      ]
    },
    {
      "cell_type": "code",
      "metadata": {
        "colab": {
          "base_uri": "https://localhost:8080/"
        },
        "id": "E4ThG0tDpr10",
        "outputId": "ba5a9d8c-f4b4-4c7e-f14b-bd7e765dc323"
      },
      "source": [
        "clf = make_pipeline(SVC(gamma='auto', class_weight=class_wts))\n",
        "clf.fit(input, labels)"
      ],
      "execution_count": null,
      "outputs": [
        {
          "output_type": "execute_result",
          "data": {
            "text/plain": [
              "Pipeline(memory=None,\n",
              "         steps=[('svc',\n",
              "                 SVC(C=1.0, break_ties=False, cache_size=200,\n",
              "                     class_weight={0: 4.5, 1: 0.5625}, coef0=0.0,\n",
              "                     decision_function_shape='ovr', degree=3, gamma='auto',\n",
              "                     kernel='rbf', max_iter=-1, probability=False,\n",
              "                     random_state=None, shrinking=True, tol=0.001,\n",
              "                     verbose=False))],\n",
              "         verbose=False)"
            ]
          },
          "metadata": {
            "tags": []
          },
          "execution_count": 81
        }
      ]
    },
    {
      "cell_type": "code",
      "metadata": {
        "colab": {
          "base_uri": "https://localhost:8080/"
        },
        "id": "F8yHhqV0pr11",
        "outputId": "4221247f-8f15-4867-a4e4-8876101a0a59"
      },
      "source": [
        "gnb = GaussianNB()\n",
        "gnb.fit(input, labels)"
      ],
      "execution_count": null,
      "outputs": [
        {
          "output_type": "execute_result",
          "data": {
            "text/plain": [
              "GaussianNB(priors=None, var_smoothing=1e-09)"
            ]
          },
          "metadata": {
            "tags": []
          },
          "execution_count": 82
        }
      ]
    },
    {
      "cell_type": "code",
      "metadata": {
        "colab": {
          "base_uri": "https://localhost:8080/"
        },
        "id": "dONAxBB0pr11",
        "outputId": "dd2811db-f9b4-431b-9f6d-3cc44cd550f0"
      },
      "source": [
        "clfp = Perceptron(tol=1e-3, random_state=0)\n",
        "clfp.fit(input, labels)"
      ],
      "execution_count": null,
      "outputs": [
        {
          "output_type": "execute_result",
          "data": {
            "text/plain": [
              "Perceptron(alpha=0.0001, class_weight=None, early_stopping=False, eta0=1.0,\n",
              "           fit_intercept=True, max_iter=1000, n_iter_no_change=5, n_jobs=None,\n",
              "           penalty=None, random_state=0, shuffle=True, tol=0.001,\n",
              "           validation_fraction=0.1, verbose=0, warm_start=False)"
            ]
          },
          "metadata": {
            "tags": []
          },
          "execution_count": 83
        }
      ]
    },
    {
      "cell_type": "code",
      "metadata": {
        "colab": {
          "base_uri": "https://localhost:8080/"
        },
        "id": "mtugxFpgpr12",
        "outputId": "481ecbd8-870a-4166-e289-71f93158eae0"
      },
      "source": [
        "sm_all_5an = []\n",
        "for data, lbl in tqdm(zip(test_imgs, test_lbls)):\n",
        "  img = data.reshape([-1, 28, 28, 1])\n",
        "  if lbl == 5:\n",
        "    label = ood\n",
        "  else:\n",
        "    label = ind\n",
        "\n",
        "  output = []\n",
        "  for i in range(9):  \n",
        "    logits = model_dict[i](img)\n",
        "    logits = tf.math.divide(logits, temp_val[i])\n",
        "    pred = tf.nn.softmax(logits)\n",
        "    output.append(pred)\n",
        "  \n",
        "  sm_all_5an.append((output, label))"
      ],
      "execution_count": null,
      "outputs": [
        {
          "output_type": "stream",
          "text": [
            "10000it [14:05, 11.83it/s]\n"
          ],
          "name": "stderr"
        }
      ]
    },
    {
      "cell_type": "code",
      "metadata": {
        "id": "SvuEm2kypr13"
      },
      "source": [
        "pickle_out = open(\"sm_all_wt_m2_5an.pickle\",\"wb\")\n",
        "pickle.dump([softmax_data_5an, sm_all_5an], pickle_out)\n",
        "pickle_out.close()"
      ],
      "execution_count": null,
      "outputs": []
    },
    {
      "cell_type": "code",
      "metadata": {
        "id": "Rm-F8Mllpr13"
      },
      "source": [
        "pickle_in = open(\"sm_all_wt_m2_5an.pickle\",\"rb\")\n",
        "softmax_data_5an, sm_all_5an = pickle.load(pickle_in)"
      ],
      "execution_count": null,
      "outputs": []
    },
    {
      "cell_type": "code",
      "metadata": {
        "colab": {
          "base_uri": "https://localhost:8080/"
        },
        "id": "Uw1vcQ8_pr14",
        "outputId": "01039312-7a0e-4569-dcb1-05250b6e1e44"
      },
      "source": [
        "accuracy_svm = 0.0\n",
        "accuracy_nb = 0.0\n",
        "acc_in_svm = 0.0\n",
        "acc_in_nb = 0.0\n",
        "acc_ood_svm = 0.0\n",
        "acc_ood_nb = 0.0\n",
        "count_in = 0\n",
        "count_ood = 0\n",
        "y_pred_svm = []\n",
        "y_pred_nb = []\n",
        "y_true = []\n",
        "\n",
        "for data, lbl in sm_all_5an:\n",
        "  output_svm = []\n",
        "  output_nb = []\n",
        "  if lbl == ood:\n",
        "    count_ood += 1\n",
        "  else:\n",
        "    count_in += 1\n",
        "\n",
        "  for pred in data:\n",
        "    output_svm.append(clf.predict(pred))\n",
        "    #output_nb.append(gnb.predict(pred))\n",
        "    output_nb.append(clfp.predict(pred))\n",
        "\n",
        "  y_true.append(lbl)\n",
        "\n",
        "  values0, counts0 = np.unique(output_svm, return_counts=True)\n",
        "  y_pred0 = values0[np.argmax(counts0)]\n",
        "  y_pred_svm.append(y_pred0)\n",
        "\n",
        "  values1, counts1 = np.unique(output_nb, return_counts=True)\n",
        "  y_pred1 = values1[np.argmax(counts1)]\n",
        "  y_pred_nb.append(y_pred1)\n",
        "\n",
        "  if y_pred0 == lbl:\n",
        "    accuracy_svm += 1\n",
        "    if lbl == ind:\n",
        "      acc_in_svm += 1\n",
        "    else:\n",
        "      acc_ood_svm += 1\n",
        "\n",
        "  if y_pred1 == lbl:\n",
        "    accuracy_nb += 1\n",
        "    if lbl == ind:\n",
        "      acc_in_nb += 1\n",
        "    else:\n",
        "      acc_ood_nb += 1\n",
        "\n",
        "print('-------SVM----------')\n",
        "print(\"Total Accuracy: \", accuracy_svm/len(sm_all_5an)) \n",
        "print(\"Accuracy of determining ID data: \", acc_in_svm/count_in)\n",
        "print(\"Accuracy of determining OOD data: \", acc_ood_svm/count_ood)\n",
        "\n",
        "print('-------NN-----------')\n",
        "print(\"Total Accuracy: \", accuracy_nb/len(sm_all_5an)) \n",
        "print(\"Accuracy of determining ID data: \", acc_in_nb/count_in)\n",
        "print(\"Accuracy of determining OOD data: \", acc_ood_nb/count_ood)"
      ],
      "execution_count": null,
      "outputs": [
        {
          "output_type": "stream",
          "text": [
            "-------SVM----------\n",
            "Total Accuracy:  0.9478\n",
            "Accuracy of determining ID data:  0.9687088274044796\n",
            "Accuracy of determining OOD data:  0.734304932735426\n",
            "-------NN-----------\n",
            "Total Accuracy:  0.9108\n",
            "Accuracy of determining ID data:  1.0\n",
            "Accuracy of determining OOD data:  0.0\n"
          ],
          "name": "stdout"
        }
      ]
    },
    {
      "cell_type": "code",
      "metadata": {
        "colab": {
          "base_uri": "https://localhost:8080/"
        },
        "id": "ZTDVrX3Mpr14",
        "outputId": "84f7a677-b824-4b97-ca56-28258468d6bb"
      },
      "source": [
        "from sklearn.metrics import roc_auc_score\n",
        "roc_auc_score(y_true, y_pred_svm)"
      ],
      "execution_count": null,
      "outputs": [
        {
          "output_type": "execute_result",
          "data": {
            "text/plain": [
              "0.8515068800699528"
            ]
          },
          "metadata": {
            "tags": []
          },
          "execution_count": 87
        }
      ]
    },
    {
      "cell_type": "code",
      "metadata": {
        "colab": {
          "base_uri": "https://localhost:8080/"
        },
        "id": "_xE-Mb2Jpr15",
        "outputId": "709ca8c8-be17-4e5e-eb91-f9b6c38cd026"
      },
      "source": [
        "roc_auc_score(y_true, y_pred_nb)"
      ],
      "execution_count": null,
      "outputs": [
        {
          "output_type": "execute_result",
          "data": {
            "text/plain": [
              "0.5"
            ]
          },
          "metadata": {
            "tags": []
          },
          "execution_count": 88
        }
      ]
    },
    {
      "cell_type": "code",
      "metadata": {
        "id": "fpjdLbyi1g_g"
      },
      "source": [
        ""
      ],
      "execution_count": null,
      "outputs": []
    },
    {
      "cell_type": "markdown",
      "metadata": {
        "id": "hURIQDJU1h85"
      },
      "source": [
        "# 6 as anomaly"
      ]
    },
    {
      "cell_type": "code",
      "metadata": {
        "id": "c0VsTsUl1j_t"
      },
      "source": [
        ""
      ],
      "execution_count": null,
      "outputs": []
    },
    {
      "cell_type": "code",
      "metadata": {
        "id": "ogbyw32O2Ri6"
      },
      "source": [
        "new_train_images, new_train_labels, new_val_images, new_val_labels = separate_class(6, train_images, train_labels, val_images, val_labels)"
      ],
      "execution_count": null,
      "outputs": []
    },
    {
      "cell_type": "code",
      "metadata": {
        "id": "twyRkquW2Ri9"
      },
      "source": [
        "model0 = Model(name='6anomaly:classifier0')\n",
        "model1 = Model(name='6anomaly:classifier1')\n",
        "model2 = Model(name='6anomaly:classifier2')\n",
        "model3 = Model(name='6anomaly:classifier3')\n",
        "model4 = Model(name='6anomaly:classifier4')\n",
        "model5 = Model(name='6anomaly:classifier5')\n",
        "model6 = Model(name='6anomaly:classifier6')\n",
        "model7 = Model(name='6anomaly:classifier7')\n",
        "model8 = Model(name='6anomaly:classifier8')"
      ],
      "execution_count": null,
      "outputs": []
    },
    {
      "cell_type": "code",
      "metadata": {
        "id": "i-0QCtmU2Rja"
      },
      "source": [
        "class_0 = model0.build()\n",
        "class_1 = model1.build()\n",
        "class_2 = model2.build()\n",
        "class_3 = model3.build()\n",
        "class_4 = model4.build()\n",
        "class_5 = model5.build()\n",
        "class_6 = model6.build()\n",
        "class_7 = model7.build()\n",
        "class_8 = model8.build()"
      ],
      "execution_count": null,
      "outputs": []
    },
    {
      "cell_type": "code",
      "metadata": {
        "id": "8OLDgsWI2Rjb"
      },
      "source": [
        "class_0 = model0.load_model(\"final_models/6anomaly-classifier0\")\n",
        "class_1 = model1.load_model(\"final_models/6anomaly-classifier1\")\n",
        "class_2 = model2.load_model(\"final_models/6anomaly-classifier2\")\n",
        "class_3 = model3.load_model(\"final_models/6anomaly-classifier3\")\n",
        "class_4 = model4.load_model(\"final_models/6anomaly-classifier4\")\n",
        "class_5 = model5.load_model(\"final_models/6anomaly-classifier5\")\n",
        "class_6 = model6.load_model(\"final_models/6anomaly-classifier6\")\n",
        "class_7 = model7.load_model(\"final_models/6anomaly-classifier7\")\n",
        "class_8 = model8.load_model(\"final_models/6anomaly-classifier8\")"
      ],
      "execution_count": null,
      "outputs": []
    },
    {
      "cell_type": "code",
      "metadata": {
        "colab": {
          "base_uri": "https://localhost:8080/"
        },
        "id": "75iNSvzx2Rjc",
        "outputId": "9dd6a7f7-957a-4912-b10d-4a44038bae21"
      },
      "source": [
        "layer_name_list = []\n",
        "\n",
        "layer_name_list.append(class_0.layers[-2:][0].name)\n",
        "layer_name_list.append(class_1.layers[-2:][0].name)\n",
        "layer_name_list.append(class_2.layers[-2:][0].name)\n",
        "layer_name_list.append(class_3.layers[-2:][0].name)\n",
        "layer_name_list.append(class_4.layers[-2:][0].name)\n",
        "layer_name_list.append(class_5.layers[-2:][0].name)\n",
        "layer_name_list.append(class_6.layers[-2:][0].name)\n",
        "layer_name_list.append(class_7.layers[-2:][0].name)\n",
        "layer_name_list.append(class_8.layers[-2:][0].name)\n",
        "\n",
        "print(layer_name_list)"
      ],
      "execution_count": null,
      "outputs": [
        {
          "output_type": "stream",
          "text": [
            "['dense_39', 'dense_41', 'dense_43', 'dense_45', 'dense_47', 'dense_49', 'dense_51', 'dense_53', 'dense_55']\n"
          ],
          "name": "stdout"
        }
      ]
    },
    {
      "cell_type": "code",
      "metadata": {
        "id": "oC5Prowy2Rjf"
      },
      "source": [
        "from keras import Model\n",
        "model_dict = {}\n",
        "model_output0 = class_0.get_layer(layer_name_list[0]).output\n",
        "m0 = Model(inputs=class_0.input, outputs=model_output0)\n",
        "model_dict[0] = m0\n",
        "\n",
        "model_output1 = class_1.get_layer(layer_name_list[1]).output\n",
        "m1 = Model(inputs=class_1.input, outputs=model_output1)\n",
        "model_dict[1] = m1\n",
        "\n",
        "model_output2 = class_2.get_layer(layer_name_list[2]).output\n",
        "m2 = Model(inputs=class_2.input, outputs=model_output2)\n",
        "model_dict[2] = m2\n",
        "\n",
        "model_output3 = class_3.get_layer(layer_name_list[3]).output\n",
        "m3 = Model(inputs=class_3.input, outputs=model_output3)\n",
        "model_dict[3] = m3\n",
        "\n",
        "model_output4 = class_4.get_layer(layer_name_list[4]).output\n",
        "m4 = Model(inputs=class_4.input, outputs=model_output4)\n",
        "model_dict[4] = m4\n",
        "\n",
        "model_output5 = class_5.get_layer(layer_name_list[5]).output\n",
        "m5 = Model(inputs=class_5.input, outputs=model_output5)\n",
        "model_dict[5] = m5\n",
        "\n",
        "model_output6 = class_6.get_layer(layer_name_list[6]).output\n",
        "m6 = Model(inputs=class_6.input, outputs=model_output6)\n",
        "model_dict[6] = m6\n",
        "\n",
        "model_output7 = class_7.get_layer(layer_name_list[7]).output\n",
        "m7 = Model(inputs=class_7.input, outputs=model_output7)\n",
        "model_dict[7] = m7\n",
        "\n",
        "model_output8 = class_8.get_layer(layer_name_list[8]).output\n",
        "m8 = Model(inputs=class_8.input, outputs=model_output8)\n",
        "model_dict[8] = m8"
      ],
      "execution_count": null,
      "outputs": []
    },
    {
      "cell_type": "code",
      "metadata": {
        "id": "AeSFvP0t2Rjg"
      },
      "source": [
        "temp_val = [2.3399413, 2.323194, 2.275749, 2.1671793, 2.4774106, 2.007354, 2.019063, 2.4026806, 2.4807267]"
      ],
      "execution_count": null,
      "outputs": []
    },
    {
      "cell_type": "code",
      "metadata": {
        "id": "URk-9us42Rjh"
      },
      "source": [
        "leave_out_list = sorted(set(new_val_labels))"
      ],
      "execution_count": null,
      "outputs": []
    },
    {
      "cell_type": "code",
      "metadata": {
        "colab": {
          "base_uri": "https://localhost:8080/"
        },
        "id": "cuFP8TaW2Rji",
        "outputId": "fde33597-aab5-4dea-c221-fe71eb86d284"
      },
      "source": [
        "leave_out_list"
      ],
      "execution_count": null,
      "outputs": [
        {
          "output_type": "execute_result",
          "data": {
            "text/plain": [
              "[0, 1, 2, 3, 4, 5, 7, 8, 9]"
            ]
          },
          "metadata": {
            "tags": []
          },
          "execution_count": 98
        }
      ]
    },
    {
      "cell_type": "code",
      "metadata": {
        "id": "y2Y7dWV82Rjj"
      },
      "source": [
        "ood = 0\n",
        "ind = 1"
      ],
      "execution_count": null,
      "outputs": []
    },
    {
      "cell_type": "code",
      "metadata": {
        "colab": {
          "base_uri": "https://localhost:8080/"
        },
        "id": "-aGBT7A52Rjk",
        "outputId": "51c6d840-2e07-4636-db4c-27697c4ce621"
      },
      "source": [
        "from tqdm import tqdm\n",
        "softmax_data_6an = []\n",
        "\n",
        "for img, lbl in tqdm(zip(new_val_images,new_val_labels)):\n",
        "  img = img.reshape([-1, 28, 28, 1])\n",
        "  for i in range(9):\n",
        "    if lbl == leave_out_list[i]:\n",
        "      label = ood\n",
        "    else:\n",
        "      label = ind\n",
        "    logits = model_dict[i](img)\n",
        "    logits = tf.math.divide(logits, temp_val[i])\n",
        "    pred = tf.nn.softmax(logits)\n",
        "    softmax_data_6an.append((pred, label))"
      ],
      "execution_count": null,
      "outputs": [
        {
          "output_type": "stream",
          "text": [
            "10823it [15:11, 11.87it/s]\n"
          ],
          "name": "stderr"
        }
      ]
    },
    {
      "cell_type": "code",
      "metadata": {
        "colab": {
          "base_uri": "https://localhost:8080/"
        },
        "id": "An0bAGp_2Rjl",
        "outputId": "aff6df69-53f0-4924-ddd0-7dfa2d3753a2"
      },
      "source": [
        "len(softmax_data_6an)"
      ],
      "execution_count": null,
      "outputs": [
        {
          "output_type": "execute_result",
          "data": {
            "text/plain": [
              "97407"
            ]
          },
          "metadata": {
            "tags": []
          },
          "execution_count": 101
        }
      ]
    },
    {
      "cell_type": "code",
      "metadata": {
        "id": "o0r3cwcV2Rjm"
      },
      "source": [
        "ind_data = []\n",
        "ood_data = []\n",
        "for data in softmax_data_6an:\n",
        "  if data[1] == ind:\n",
        "    ind_data.append(data)\n",
        "  else:\n",
        "    ood_data.append(data)"
      ],
      "execution_count": null,
      "outputs": []
    },
    {
      "cell_type": "code",
      "metadata": {
        "colab": {
          "base_uri": "https://localhost:8080/"
        },
        "id": "dVB3hQRC2Rjs",
        "outputId": "dd1de62d-1179-4859-d059-a0a695a7ec17"
      },
      "source": [
        "len(ind_data), len(ood_data)"
      ],
      "execution_count": null,
      "outputs": [
        {
          "output_type": "execute_result",
          "data": {
            "text/plain": [
              "(86584, 10823)"
            ]
          },
          "metadata": {
            "tags": []
          },
          "execution_count": 103
        }
      ]
    },
    {
      "cell_type": "code",
      "metadata": {
        "id": "ZXdIDOMD2Rjt"
      },
      "source": [
        "input = []\n",
        "labels = []\n",
        "for i in range(0, len(ood_data)-1, 2):\n",
        "  input.append(ind_data[i][0][0])\n",
        "  input.append(ind_data[i+1][0][0])\n",
        "  labels.append(ind_data[i][1])\n",
        "  labels.append(ind_data[i+1][1])\n",
        "  input.append(ood_data[i][0][0])\n",
        "  input.append(ood_data[i+1][0][0])\n",
        "  labels.append(ood_data[i][1])\n",
        "  labels.append(ood_data[i][1])\n",
        "\n",
        "#for idata, odata in zip(ind_data[:len(ood_data)],ood_data):\n",
        "#  input.append(idata[0][0])\n",
        "#  input.append(odata[0][0])\n",
        "#  labels.append(idata[1])\n",
        "#  labels.append(odata[1])  "
      ],
      "execution_count": null,
      "outputs": []
    },
    {
      "cell_type": "code",
      "metadata": {
        "colab": {
          "base_uri": "https://localhost:8080/"
        },
        "id": "pLA6p0T_2Rju",
        "outputId": "a77ddab0-3307-4ecc-9586-d14d04067f94"
      },
      "source": [
        "len(labels)"
      ],
      "execution_count": null,
      "outputs": [
        {
          "output_type": "execute_result",
          "data": {
            "text/plain": [
              "21644"
            ]
          },
          "metadata": {
            "tags": []
          },
          "execution_count": 105
        }
      ]
    },
    {
      "cell_type": "code",
      "metadata": {
        "id": "pho6YMgO2Rjv"
      },
      "source": [
        "input = []\n",
        "labels = []\n",
        "for data in softmax_data_6an:\n",
        "  input.append(data[0][0])\n",
        "  labels.append(data[1])"
      ],
      "execution_count": null,
      "outputs": []
    },
    {
      "cell_type": "code",
      "metadata": {
        "colab": {
          "base_uri": "https://localhost:8080/"
        },
        "id": "-e2-Up4c2Rjw",
        "outputId": "42185e95-db23-4481-8f43-896c14514892"
      },
      "source": [
        "from sklearn.utils.class_weight import compute_class_weight\n",
        "class_wts = compute_class_weight('balanced', np.unique(labels), labels)\n",
        "class_wts ={0:class_wts[0], 1:class_wts[1]}\n",
        "class_wts"
      ],
      "execution_count": null,
      "outputs": [
        {
          "output_type": "execute_result",
          "data": {
            "text/plain": [
              "{0: 4.5, 1: 0.5625}"
            ]
          },
          "metadata": {
            "tags": []
          },
          "execution_count": 107
        }
      ]
    },
    {
      "cell_type": "code",
      "metadata": {
        "colab": {
          "base_uri": "https://localhost:8080/"
        },
        "id": "bIIcSD2J2Rjx",
        "outputId": "42a0b762-af95-474a-dc39-3f677c2d5234"
      },
      "source": [
        "clf = make_pipeline(SVC(gamma='auto', class_weight=class_wts))\n",
        "clf.fit(input, labels)"
      ],
      "execution_count": null,
      "outputs": [
        {
          "output_type": "execute_result",
          "data": {
            "text/plain": [
              "Pipeline(memory=None,\n",
              "         steps=[('svc',\n",
              "                 SVC(C=1.0, break_ties=False, cache_size=200,\n",
              "                     class_weight={0: 4.5, 1: 0.5625}, coef0=0.0,\n",
              "                     decision_function_shape='ovr', degree=3, gamma='auto',\n",
              "                     kernel='rbf', max_iter=-1, probability=False,\n",
              "                     random_state=None, shrinking=True, tol=0.001,\n",
              "                     verbose=False))],\n",
              "         verbose=False)"
            ]
          },
          "metadata": {
            "tags": []
          },
          "execution_count": 108
        }
      ]
    },
    {
      "cell_type": "code",
      "metadata": {
        "colab": {
          "base_uri": "https://localhost:8080/"
        },
        "id": "2Jxyvqx52Rjy",
        "outputId": "415dfdcd-7570-4ba7-eccf-f3c90c9f9012"
      },
      "source": [
        "gnb = GaussianNB()\n",
        "gnb.fit(input, labels)"
      ],
      "execution_count": null,
      "outputs": [
        {
          "output_type": "execute_result",
          "data": {
            "text/plain": [
              "GaussianNB(priors=None, var_smoothing=1e-09)"
            ]
          },
          "metadata": {
            "tags": []
          },
          "execution_count": 109
        }
      ]
    },
    {
      "cell_type": "code",
      "metadata": {
        "colab": {
          "base_uri": "https://localhost:8080/"
        },
        "id": "zx8_3H9-2Rjz",
        "outputId": "dd1f6562-8706-4b1b-a32a-9f96d1a67e43"
      },
      "source": [
        "clfp = Perceptron(tol=1e-3, random_state=0)\n",
        "clfp.fit(input, labels)"
      ],
      "execution_count": null,
      "outputs": [
        {
          "output_type": "execute_result",
          "data": {
            "text/plain": [
              "Perceptron(alpha=0.0001, class_weight=None, early_stopping=False, eta0=1.0,\n",
              "           fit_intercept=True, max_iter=1000, n_iter_no_change=5, n_jobs=None,\n",
              "           penalty=None, random_state=0, shuffle=True, tol=0.001,\n",
              "           validation_fraction=0.1, verbose=0, warm_start=False)"
            ]
          },
          "metadata": {
            "tags": []
          },
          "execution_count": 110
        }
      ]
    },
    {
      "cell_type": "code",
      "metadata": {
        "colab": {
          "base_uri": "https://localhost:8080/"
        },
        "id": "oKxYqVN82Rj0",
        "outputId": "62df9490-0c48-4ca4-e8c2-3c73e88cc1c8"
      },
      "source": [
        "sm_all_6an = []\n",
        "for data, lbl in tqdm(zip(test_imgs, test_lbls)):\n",
        "  img = data.reshape([-1, 28, 28, 1])\n",
        "  if lbl == 6:\n",
        "    label = ood\n",
        "  else:\n",
        "    label = ind\n",
        "\n",
        "  output = []\n",
        "  for i in range(9):  \n",
        "    logits = model_dict[i](img)\n",
        "    logits = tf.math.divide(logits, temp_val[i])\n",
        "    pred = tf.nn.softmax(logits)\n",
        "    output.append(pred)\n",
        "  \n",
        "  sm_all_6an.append((output, label))"
      ],
      "execution_count": null,
      "outputs": [
        {
          "output_type": "stream",
          "text": [
            "10000it [14:01, 11.88it/s]\n"
          ],
          "name": "stderr"
        }
      ]
    },
    {
      "cell_type": "code",
      "metadata": {
        "id": "4Iuu7K7L2Rj1"
      },
      "source": [
        "pickle_out = open(\"sm_all_wt_m2_6an.pickle\",\"wb\")\n",
        "pickle.dump([softmax_data_6an, sm_all_6an], pickle_out)\n",
        "pickle_out.close()"
      ],
      "execution_count": null,
      "outputs": []
    },
    {
      "cell_type": "code",
      "metadata": {
        "id": "9RBp1Wt92Rj2"
      },
      "source": [
        "pickle_in = open(\"sm_all_wt_m2_6an.pickle\",\"rb\")\n",
        "softmax_data_6an, sm_all_6an = pickle.load(pickle_in)"
      ],
      "execution_count": null,
      "outputs": []
    },
    {
      "cell_type": "code",
      "metadata": {
        "colab": {
          "base_uri": "https://localhost:8080/"
        },
        "id": "e9z5qlaA2Rj3",
        "outputId": "c0ac1454-9a27-42bc-a18e-d29c118ac000"
      },
      "source": [
        "accuracy_svm = 0.0\n",
        "accuracy_nb = 0.0\n",
        "acc_in_svm = 0.0\n",
        "acc_in_nb = 0.0\n",
        "acc_ood_svm = 0.0\n",
        "acc_ood_nb = 0.0\n",
        "count_in = 0\n",
        "count_ood = 0\n",
        "y_pred_svm = []\n",
        "y_pred_nb = []\n",
        "y_true = []\n",
        "\n",
        "for data, lbl in sm_all_6an:\n",
        "  output_svm = []\n",
        "  output_nb = []\n",
        "  if lbl == ood:\n",
        "    count_ood += 1\n",
        "  else:\n",
        "    count_in += 1\n",
        "\n",
        "  for pred in data:\n",
        "    output_svm.append(clf.predict(pred))\n",
        "    #output_nb.append(gnb.predict(pred))\n",
        "    output_nb.append(clfp.predict(pred))\n",
        "\n",
        "  y_true.append(lbl)\n",
        "\n",
        "  values0, counts0 = np.unique(output_svm, return_counts=True)\n",
        "  y_pred0 = values0[np.argmax(counts0)]\n",
        "  y_pred_svm.append(y_pred0)\n",
        "\n",
        "  values1, counts1 = np.unique(output_nb, return_counts=True)\n",
        "  y_pred1 = values1[np.argmax(counts1)]\n",
        "  y_pred_nb.append(y_pred1)\n",
        "\n",
        "  if y_pred0 == lbl:\n",
        "    accuracy_svm += 1\n",
        "    if lbl == ind:\n",
        "      acc_in_svm += 1\n",
        "    else:\n",
        "      acc_ood_svm += 1\n",
        "\n",
        "  if y_pred1 == lbl:\n",
        "    accuracy_nb += 1\n",
        "    if lbl == ind:\n",
        "      acc_in_nb += 1\n",
        "    else:\n",
        "      acc_ood_nb += 1\n",
        "\n",
        "print('-------SVM----------')\n",
        "print(\"Total Accuracy: \", accuracy_svm/len(sm_all_6an)) \n",
        "print(\"Accuracy of determining ID data: \", acc_in_svm/count_in)\n",
        "print(\"Accuracy of determining OOD data: \", acc_ood_svm/count_ood)\n",
        "\n",
        "print('-------NN-----------')\n",
        "print(\"Total Accuracy: \", accuracy_nb/len(sm_all_6an)) \n",
        "print(\"Accuracy of determining ID data: \", acc_in_nb/count_in)\n",
        "print(\"Accuracy of determining OOD data: \", acc_ood_nb/count_ood)"
      ],
      "execution_count": null,
      "outputs": [
        {
          "output_type": "stream",
          "text": [
            "-------SVM----------\n",
            "Total Accuracy:  0.9255\n",
            "Accuracy of determining ID data:  0.967042689670427\n",
            "Accuracy of determining OOD data:  0.5334029227557411\n",
            "-------NN-----------\n",
            "Total Accuracy:  0.8334\n",
            "Accuracy of determining ID data:  0.9207033842070338\n",
            "Accuracy of determining OOD data:  0.009394572025052192\n"
          ],
          "name": "stdout"
        }
      ]
    },
    {
      "cell_type": "code",
      "metadata": {
        "colab": {
          "base_uri": "https://localhost:8080/"
        },
        "id": "8SQxPxzH2Rj4",
        "outputId": "6975432f-1143-40ad-ca9f-c092404a9014"
      },
      "source": [
        "from sklearn.metrics import roc_auc_score\n",
        "roc_auc_score(y_true, y_pred_svm)"
      ],
      "execution_count": null,
      "outputs": [
        {
          "output_type": "execute_result",
          "data": {
            "text/plain": [
              "0.750222806213084"
            ]
          },
          "metadata": {
            "tags": []
          },
          "execution_count": 114
        }
      ]
    },
    {
      "cell_type": "code",
      "metadata": {
        "colab": {
          "base_uri": "https://localhost:8080/"
        },
        "id": "5m2KrAjV2Rj5",
        "outputId": "d79bae6d-847d-402f-f8d5-1fcf22b536f1"
      },
      "source": [
        "roc_auc_score(y_true, y_pred_nb)"
      ],
      "execution_count": null,
      "outputs": [
        {
          "output_type": "execute_result",
          "data": {
            "text/plain": [
              "0.465048978116043"
            ]
          },
          "metadata": {
            "tags": []
          },
          "execution_count": 115
        }
      ]
    },
    {
      "cell_type": "markdown",
      "metadata": {
        "id": "KNRHYM162TZD"
      },
      "source": [
        "# 7 as anomaly"
      ]
    },
    {
      "cell_type": "code",
      "metadata": {
        "id": "azqCt0XB2U9x"
      },
      "source": [
        ""
      ],
      "execution_count": null,
      "outputs": []
    },
    {
      "cell_type": "code",
      "metadata": {
        "id": "jwoPCAue2VmR"
      },
      "source": [
        "new_train_images, new_train_labels, new_val_images, new_val_labels = separate_class(7, train_images, train_labels, val_images, val_labels)"
      ],
      "execution_count": null,
      "outputs": []
    },
    {
      "cell_type": "code",
      "metadata": {
        "id": "AXXgHBpN2VmT"
      },
      "source": [
        "model0 = Model(name='7anomaly:classifier0')\n",
        "model1 = Model(name='7anomaly:classifier1')\n",
        "model2 = Model(name='7anomaly:classifier2')\n",
        "model3 = Model(name='7anomaly:classifier3')\n",
        "model4 = Model(name='7anomaly:classifier4')\n",
        "model5 = Model(name='7anomaly:classifier5')\n",
        "model6 = Model(name='7anomaly:classifier6')\n",
        "model7 = Model(name='7anomaly:classifier7')\n",
        "model8 = Model(name='7anomaly:classifier8')"
      ],
      "execution_count": null,
      "outputs": []
    },
    {
      "cell_type": "code",
      "metadata": {
        "id": "mLwEKewO2VmT"
      },
      "source": [
        "class_0 = model0.build()\n",
        "class_1 = model1.build()\n",
        "class_2 = model2.build()\n",
        "class_3 = model3.build()\n",
        "class_4 = model4.build()\n",
        "class_5 = model5.build()\n",
        "class_6 = model6.build()\n",
        "class_7 = model7.build()\n",
        "class_8 = model8.build()"
      ],
      "execution_count": null,
      "outputs": []
    },
    {
      "cell_type": "code",
      "metadata": {
        "id": "RFQOaPxu2VmU"
      },
      "source": [
        "class_0 = model0.load_model(\"final_models/7anomaly-classifier0\")\n",
        "class_1 = model1.load_model(\"final_models/7anomaly-classifier1\")\n",
        "class_2 = model2.load_model(\"final_models/7anomaly-classifier2\")\n",
        "class_3 = model3.load_model(\"final_models/7anomaly-classifier3\")\n",
        "class_4 = model4.load_model(\"final_models/7anomaly-classifier4\")\n",
        "class_5 = model5.load_model(\"final_models/7anomaly-classifier5\")\n",
        "class_6 = model6.load_model(\"final_models/7anomaly-classifier6\")\n",
        "class_7 = model7.load_model(\"final_models/7anomaly-classifier7\")\n",
        "class_8 = model8.load_model(\"final_models/7anomaly-classifier8\")"
      ],
      "execution_count": null,
      "outputs": []
    },
    {
      "cell_type": "code",
      "metadata": {
        "colab": {
          "base_uri": "https://localhost:8080/"
        },
        "id": "vC4WdBVs2VmV",
        "outputId": "83f46ed8-06cf-444c-da13-e3c9a6a899bd"
      },
      "source": [
        "layer_name_list = []\n",
        "\n",
        "layer_name_list.append(class_0.layers[-2:][0].name)\n",
        "layer_name_list.append(class_1.layers[-2:][0].name)\n",
        "layer_name_list.append(class_2.layers[-2:][0].name)\n",
        "layer_name_list.append(class_3.layers[-2:][0].name)\n",
        "layer_name_list.append(class_4.layers[-2:][0].name)\n",
        "layer_name_list.append(class_5.layers[-2:][0].name)\n",
        "layer_name_list.append(class_6.layers[-2:][0].name)\n",
        "layer_name_list.append(class_7.layers[-2:][0].name)\n",
        "layer_name_list.append(class_8.layers[-2:][0].name)\n",
        "\n",
        "print(layer_name_list)"
      ],
      "execution_count": null,
      "outputs": [
        {
          "output_type": "stream",
          "text": [
            "['dense_37', 'dense_39', 'dense_41', 'dense_43', 'dense_45', 'dense_47', 'dense_49', 'dense_51', 'dense_53']\n"
          ],
          "name": "stdout"
        }
      ]
    },
    {
      "cell_type": "code",
      "metadata": {
        "id": "FQhCJl1F2VmW"
      },
      "source": [
        "from keras import Model\n",
        "model_dict = {}\n",
        "model_output0 = class_0.get_layer(layer_name_list[0]).output\n",
        "m0 = Model(inputs=class_0.input, outputs=model_output0)\n",
        "model_dict[0] = m0\n",
        "\n",
        "model_output1 = class_1.get_layer(layer_name_list[1]).output\n",
        "m1 = Model(inputs=class_1.input, outputs=model_output1)\n",
        "model_dict[1] = m1\n",
        "\n",
        "model_output2 = class_2.get_layer(layer_name_list[2]).output\n",
        "m2 = Model(inputs=class_2.input, outputs=model_output2)\n",
        "model_dict[2] = m2\n",
        "\n",
        "model_output3 = class_3.get_layer(layer_name_list[3]).output\n",
        "m3 = Model(inputs=class_3.input, outputs=model_output3)\n",
        "model_dict[3] = m3\n",
        "\n",
        "model_output4 = class_4.get_layer(layer_name_list[4]).output\n",
        "m4 = Model(inputs=class_4.input, outputs=model_output4)\n",
        "model_dict[4] = m4\n",
        "\n",
        "model_output5 = class_5.get_layer(layer_name_list[5]).output\n",
        "m5 = Model(inputs=class_5.input, outputs=model_output5)\n",
        "model_dict[5] = m5\n",
        "\n",
        "model_output6 = class_6.get_layer(layer_name_list[6]).output\n",
        "m6 = Model(inputs=class_6.input, outputs=model_output6)\n",
        "model_dict[6] = m6\n",
        "\n",
        "model_output7 = class_7.get_layer(layer_name_list[7]).output\n",
        "m7 = Model(inputs=class_7.input, outputs=model_output7)\n",
        "model_dict[7] = m7\n",
        "\n",
        "model_output8 = class_8.get_layer(layer_name_list[8]).output\n",
        "m8 = Model(inputs=class_8.input, outputs=model_output8)\n",
        "model_dict[8] = m8"
      ],
      "execution_count": null,
      "outputs": []
    },
    {
      "cell_type": "code",
      "metadata": {
        "id": "q5qpTX9P2VmX"
      },
      "source": [
        "temp_val = [2.1840894, 2.3121402, 1.8578718, 2.0179794, 2.3343472, 2.30917, 2.2927048, 2.3133302, 2.1407003]"
      ],
      "execution_count": null,
      "outputs": []
    },
    {
      "cell_type": "code",
      "metadata": {
        "id": "QI2hV4Wo2VmY"
      },
      "source": [
        "leave_out_list = sorted(set(new_val_labels))"
      ],
      "execution_count": null,
      "outputs": []
    },
    {
      "cell_type": "code",
      "metadata": {
        "colab": {
          "base_uri": "https://localhost:8080/"
        },
        "id": "nQBVyhpM2VmZ",
        "outputId": "743d82ce-35af-4d5d-ce97-9db63301d18c"
      },
      "source": [
        "leave_out_list"
      ],
      "execution_count": null,
      "outputs": [
        {
          "output_type": "execute_result",
          "data": {
            "text/plain": [
              "[0, 1, 2, 3, 4, 5, 6, 8, 9]"
            ]
          },
          "metadata": {
            "tags": []
          },
          "execution_count": 125
        }
      ]
    },
    {
      "cell_type": "code",
      "metadata": {
        "id": "Cr4tfhXd2Vma"
      },
      "source": [
        "ood = 0\n",
        "ind = 1"
      ],
      "execution_count": null,
      "outputs": []
    },
    {
      "cell_type": "code",
      "metadata": {
        "colab": {
          "base_uri": "https://localhost:8080/"
        },
        "id": "DLOObrnJ2Vma",
        "outputId": "d4f1b86f-fbbf-4834-f624-869b5b11e45e"
      },
      "source": [
        "from tqdm import tqdm\n",
        "softmax_data_7an = []\n",
        "\n",
        "for img, lbl in tqdm(zip(new_val_images,new_val_labels)):\n",
        "  img = img.reshape([-1, 28, 28, 1])\n",
        "  for i in range(9):\n",
        "    if lbl == leave_out_list[i]:\n",
        "      label = ood\n",
        "    else:\n",
        "      label = ind\n",
        "    logits = model_dict[i](img)\n",
        "    logits = tf.math.divide(logits, temp_val[i])\n",
        "    pred = tf.nn.softmax(logits)\n",
        "    softmax_data_7an.append((pred, label))"
      ],
      "execution_count": null,
      "outputs": [
        {
          "output_type": "stream",
          "text": [
            "10701it [14:52, 11.99it/s]\n"
          ],
          "name": "stderr"
        }
      ]
    },
    {
      "cell_type": "code",
      "metadata": {
        "colab": {
          "base_uri": "https://localhost:8080/"
        },
        "id": "b0-hOdJl2Vmb",
        "outputId": "ec791cbd-f7cc-42f7-a1e6-f552c2b7ff67"
      },
      "source": [
        "len(softmax_data_7an)"
      ],
      "execution_count": null,
      "outputs": [
        {
          "output_type": "execute_result",
          "data": {
            "text/plain": [
              "96309"
            ]
          },
          "metadata": {
            "tags": []
          },
          "execution_count": 128
        }
      ]
    },
    {
      "cell_type": "code",
      "metadata": {
        "id": "FImp0peE2Vmd"
      },
      "source": [
        "ind_data = []\n",
        "ood_data = []\n",
        "for data in softmax_data_7an:\n",
        "  if data[1] == ind:\n",
        "    ind_data.append(data)\n",
        "  else:\n",
        "    ood_data.append(data)"
      ],
      "execution_count": null,
      "outputs": []
    },
    {
      "cell_type": "code",
      "metadata": {
        "colab": {
          "base_uri": "https://localhost:8080/"
        },
        "id": "ZvWoSSO_2Vme",
        "outputId": "7431a180-7145-497d-a73f-3895199905c7"
      },
      "source": [
        "len(ind_data), len(ood_data)"
      ],
      "execution_count": null,
      "outputs": [
        {
          "output_type": "execute_result",
          "data": {
            "text/plain": [
              "(85608, 10701)"
            ]
          },
          "metadata": {
            "tags": []
          },
          "execution_count": 130
        }
      ]
    },
    {
      "cell_type": "code",
      "metadata": {
        "id": "9B1d56Q92Vmf"
      },
      "source": [
        "input = []\n",
        "labels = []\n",
        "for i in range(0, len(ood_data)-1, 2):\n",
        "  input.append(ind_data[i][0][0])\n",
        "  input.append(ind_data[i+1][0][0])\n",
        "  labels.append(ind_data[i][1])\n",
        "  labels.append(ind_data[i+1][1])\n",
        "  input.append(ood_data[i][0][0])\n",
        "  input.append(ood_data[i+1][0][0])\n",
        "  labels.append(ood_data[i][1])\n",
        "  labels.append(ood_data[i][1])\n",
        "\n",
        "#for idata, odata in zip(ind_data[:len(ood_data)],ood_data):\n",
        "#  input.append(idata[0][0])\n",
        "#  input.append(odata[0][0])\n",
        "#  labels.append(idata[1])\n",
        "#  labels.append(odata[1])  "
      ],
      "execution_count": null,
      "outputs": []
    },
    {
      "cell_type": "code",
      "metadata": {
        "colab": {
          "base_uri": "https://localhost:8080/"
        },
        "id": "n9oxHLxF2Vmf",
        "outputId": "bc5b6467-3917-4473-8647-e148f8de433d"
      },
      "source": [
        "len(labels)"
      ],
      "execution_count": null,
      "outputs": [
        {
          "output_type": "execute_result",
          "data": {
            "text/plain": [
              "21400"
            ]
          },
          "metadata": {
            "tags": []
          },
          "execution_count": 132
        }
      ]
    },
    {
      "cell_type": "code",
      "metadata": {
        "id": "l3LQKjE12Vmg"
      },
      "source": [
        "input = []\n",
        "labels = []\n",
        "for data in softmax_data_7an:\n",
        "  input.append(data[0][0])\n",
        "  labels.append(data[1])"
      ],
      "execution_count": null,
      "outputs": []
    },
    {
      "cell_type": "code",
      "metadata": {
        "colab": {
          "base_uri": "https://localhost:8080/"
        },
        "id": "00jblhrl2Vmh",
        "outputId": "546e650d-2312-4682-bfa8-5069a07611b6"
      },
      "source": [
        "from sklearn.utils.class_weight import compute_class_weight\n",
        "class_wts = compute_class_weight('balanced', np.unique(labels), labels)\n",
        "class_wts ={0:class_wts[0], 1:class_wts[1]}\n",
        "class_wts"
      ],
      "execution_count": null,
      "outputs": [
        {
          "output_type": "execute_result",
          "data": {
            "text/plain": [
              "{0: 4.5, 1: 0.5625}"
            ]
          },
          "metadata": {
            "tags": []
          },
          "execution_count": 134
        }
      ]
    },
    {
      "cell_type": "code",
      "metadata": {
        "colab": {
          "base_uri": "https://localhost:8080/"
        },
        "id": "7zNj-93x2Vmi",
        "outputId": "9c6c4ca6-a1d7-4c35-aa58-207bc349bfc1"
      },
      "source": [
        "clf = make_pipeline(SVC(gamma='auto', class_weight=class_wts))\n",
        "clf.fit(input, labels)"
      ],
      "execution_count": null,
      "outputs": [
        {
          "output_type": "execute_result",
          "data": {
            "text/plain": [
              "Pipeline(memory=None,\n",
              "         steps=[('svc',\n",
              "                 SVC(C=1.0, break_ties=False, cache_size=200,\n",
              "                     class_weight={0: 4.5, 1: 0.5625}, coef0=0.0,\n",
              "                     decision_function_shape='ovr', degree=3, gamma='auto',\n",
              "                     kernel='rbf', max_iter=-1, probability=False,\n",
              "                     random_state=None, shrinking=True, tol=0.001,\n",
              "                     verbose=False))],\n",
              "         verbose=False)"
            ]
          },
          "metadata": {
            "tags": []
          },
          "execution_count": 135
        }
      ]
    },
    {
      "cell_type": "code",
      "metadata": {
        "colab": {
          "base_uri": "https://localhost:8080/"
        },
        "id": "tEQUwbtH2Vmj",
        "outputId": "e79ba708-794b-4c52-d494-30bfa9fa0c43"
      },
      "source": [
        "gnb = GaussianNB()\n",
        "gnb.fit(input, labels)"
      ],
      "execution_count": null,
      "outputs": [
        {
          "output_type": "execute_result",
          "data": {
            "text/plain": [
              "GaussianNB(priors=None, var_smoothing=1e-09)"
            ]
          },
          "metadata": {
            "tags": []
          },
          "execution_count": 136
        }
      ]
    },
    {
      "cell_type": "code",
      "metadata": {
        "colab": {
          "base_uri": "https://localhost:8080/"
        },
        "id": "-0olMeVV2Vmk",
        "outputId": "cc7660ee-9f89-4bd0-e7fa-a37eba5f75c3"
      },
      "source": [
        "clfp = Perceptron(tol=1e-3, random_state=0)\n",
        "clfp.fit(input, labels)"
      ],
      "execution_count": null,
      "outputs": [
        {
          "output_type": "execute_result",
          "data": {
            "text/plain": [
              "Perceptron(alpha=0.0001, class_weight=None, early_stopping=False, eta0=1.0,\n",
              "           fit_intercept=True, max_iter=1000, n_iter_no_change=5, n_jobs=None,\n",
              "           penalty=None, random_state=0, shuffle=True, tol=0.001,\n",
              "           validation_fraction=0.1, verbose=0, warm_start=False)"
            ]
          },
          "metadata": {
            "tags": []
          },
          "execution_count": 137
        }
      ]
    },
    {
      "cell_type": "code",
      "metadata": {
        "colab": {
          "base_uri": "https://localhost:8080/"
        },
        "id": "Ac820KSY2Vml",
        "outputId": "e593cd91-cdb5-40e9-ec6f-57e8b1b253c0"
      },
      "source": [
        "sm_all_7an = []\n",
        "for data, lbl in tqdm(zip(test_imgs, test_lbls)):\n",
        "  img = data.reshape([-1, 28, 28, 1])\n",
        "  if lbl == 7:\n",
        "    label = ood\n",
        "  else:\n",
        "    label = ind\n",
        "\n",
        "  output = []\n",
        "  for i in range(9):  \n",
        "    logits = model_dict[i](img)\n",
        "    logits = tf.math.divide(logits, temp_val[i])\n",
        "    pred = tf.nn.softmax(logits)\n",
        "    output.append(pred)\n",
        "  \n",
        "  sm_all_7an.append((output, label))"
      ],
      "execution_count": null,
      "outputs": [
        {
          "output_type": "stream",
          "text": [
            "10000it [14:12, 11.74it/s]\n"
          ],
          "name": "stderr"
        }
      ]
    },
    {
      "cell_type": "code",
      "metadata": {
        "id": "-ivf-ijV2Vml"
      },
      "source": [
        "pickle_out = open(\"sm_all_wt_m2_7an.pickle\",\"wb\")\n",
        "pickle.dump([softmax_data_7an, sm_all_7an], pickle_out)\n",
        "pickle_out.close()"
      ],
      "execution_count": null,
      "outputs": []
    },
    {
      "cell_type": "code",
      "metadata": {
        "id": "LewmbfXB2Vmm"
      },
      "source": [
        "pickle_in = open(\"sm_all_wt_m2_3an.pickle\",\"rb\")\n",
        "softmax_data_3an, sm_all_3an = pickle.load(pickle_in)"
      ],
      "execution_count": null,
      "outputs": []
    },
    {
      "cell_type": "code",
      "metadata": {
        "colab": {
          "base_uri": "https://localhost:8080/"
        },
        "id": "QbbpJq1N2Vmn",
        "outputId": "58e2152d-7fdc-47eb-e009-c51b540f1b52"
      },
      "source": [
        "accuracy_svm = 0.0\n",
        "accuracy_nb = 0.0\n",
        "acc_in_svm = 0.0\n",
        "acc_in_nb = 0.0\n",
        "acc_ood_svm = 0.0\n",
        "acc_ood_nb = 0.0\n",
        "count_in = 0\n",
        "count_ood = 0\n",
        "y_pred_svm = []\n",
        "y_pred_nb = []\n",
        "y_true = []\n",
        "\n",
        "for data, lbl in sm_all_7an:\n",
        "  output_svm = []\n",
        "  output_nb = []\n",
        "  if lbl == ood:\n",
        "    count_ood += 1\n",
        "  else:\n",
        "    count_in += 1\n",
        "\n",
        "  for pred in data:\n",
        "    output_svm.append(clf.predict(pred))\n",
        "    #output_nb.append(gnb.predict(pred))\n",
        "    output_nb.append(clfp.predict(pred))\n",
        "\n",
        "  y_true.append(lbl)\n",
        "\n",
        "  values0, counts0 = np.unique(output_svm, return_counts=True)\n",
        "  y_pred0 = values0[np.argmax(counts0)]\n",
        "  y_pred_svm.append(y_pred0)\n",
        "\n",
        "  values1, counts1 = np.unique(output_nb, return_counts=True)\n",
        "  y_pred1 = values1[np.argmax(counts1)]\n",
        "  y_pred_nb.append(y_pred1)\n",
        "\n",
        "  if y_pred0 == lbl:\n",
        "    accuracy_svm += 1\n",
        "    if lbl == ind:\n",
        "      acc_in_svm += 1\n",
        "    else:\n",
        "      acc_ood_svm += 1\n",
        "\n",
        "  if y_pred1 == lbl:\n",
        "    accuracy_nb += 1\n",
        "    if lbl == ind:\n",
        "      acc_in_nb += 1\n",
        "    else:\n",
        "      acc_ood_nb += 1\n",
        "\n",
        "print('-------SVM----------')\n",
        "print(\"Total Accuracy: \", accuracy_svm/len(sm_all_7an)) \n",
        "print(\"Accuracy of determining ID data: \", acc_in_svm/count_in)\n",
        "print(\"Accuracy of determining OOD data: \", acc_ood_svm/count_ood)\n",
        "\n",
        "print('-------NN-----------')\n",
        "print(\"Total Accuracy: \", accuracy_nb/len(sm_all_7an)) \n",
        "print(\"Accuracy of determining ID data: \", acc_in_nb/count_in)\n",
        "print(\"Accuracy of determining OOD data: \", acc_ood_nb/count_ood)"
      ],
      "execution_count": null,
      "outputs": [
        {
          "output_type": "stream",
          "text": [
            "-------SVM----------\n",
            "Total Accuracy:  0.9604\n",
            "Accuracy of determining ID data:  0.9712438698172091\n",
            "Accuracy of determining OOD data:  0.8657587548638133\n",
            "-------NN-----------\n",
            "Total Accuracy:  0.8972\n",
            "Accuracy of determining ID data:  1.0\n",
            "Accuracy of determining OOD data:  0.0\n"
          ],
          "name": "stdout"
        }
      ]
    },
    {
      "cell_type": "code",
      "metadata": {
        "colab": {
          "base_uri": "https://localhost:8080/"
        },
        "id": "Zgt1dIPg2Vmo",
        "outputId": "1e544107-0720-419e-9769-db4e5e190e9f"
      },
      "source": [
        "from sklearn.metrics import roc_auc_score\n",
        "roc_auc_score(y_true, y_pred_svm)"
      ],
      "execution_count": null,
      "outputs": [
        {
          "output_type": "execute_result",
          "data": {
            "text/plain": [
              "0.9185013123405112"
            ]
          },
          "metadata": {
            "tags": []
          },
          "execution_count": 141
        }
      ]
    },
    {
      "cell_type": "code",
      "metadata": {
        "colab": {
          "base_uri": "https://localhost:8080/"
        },
        "id": "GNlRU0xC2Vmp",
        "outputId": "75d7d779-10c0-470d-aa96-24fa60e626c3"
      },
      "source": [
        "roc_auc_score(y_true, y_pred_nb)"
      ],
      "execution_count": null,
      "outputs": [
        {
          "output_type": "execute_result",
          "data": {
            "text/plain": [
              "0.5"
            ]
          },
          "metadata": {
            "tags": []
          },
          "execution_count": 142
        }
      ]
    },
    {
      "cell_type": "markdown",
      "metadata": {
        "id": "0Xw-5Wjt2XUr"
      },
      "source": [
        "# 8 as anomaly"
      ]
    },
    {
      "cell_type": "code",
      "metadata": {
        "id": "neUE5Cm82YlG"
      },
      "source": [
        ""
      ],
      "execution_count": null,
      "outputs": []
    },
    {
      "cell_type": "code",
      "metadata": {
        "id": "NE-WCbx62ZDU"
      },
      "source": [
        "new_train_images, new_train_labels, new_val_images, new_val_labels = separate_class(8, train_images, train_labels, val_images, val_labels)"
      ],
      "execution_count": null,
      "outputs": []
    },
    {
      "cell_type": "code",
      "metadata": {
        "id": "8eNwN8IK2ZDV"
      },
      "source": [
        "model0 = Model(name='8anomaly:classifier0')\n",
        "model1 = Model(name='8anomaly:classifier1')\n",
        "model2 = Model(name='8anomaly:classifier2')\n",
        "model3 = Model(name='8anomaly:classifier3')\n",
        "model4 = Model(name='8anomaly:classifier4')\n",
        "model5 = Model(name='8anomaly:classifier5')\n",
        "model6 = Model(name='8anomaly:classifier6')\n",
        "model7 = Model(name='8anomaly:classifier7')\n",
        "model8 = Model(name='8anomaly:classifier8')"
      ],
      "execution_count": null,
      "outputs": []
    },
    {
      "cell_type": "code",
      "metadata": {
        "id": "Qb5R7bmt2ZDW"
      },
      "source": [
        "class_0 = model0.build()\n",
        "class_1 = model1.build()\n",
        "class_2 = model2.build()\n",
        "class_3 = model3.build()\n",
        "class_4 = model4.build()\n",
        "class_5 = model5.build()\n",
        "class_6 = model6.build()\n",
        "class_7 = model7.build()\n",
        "class_8 = model8.build()"
      ],
      "execution_count": null,
      "outputs": []
    },
    {
      "cell_type": "code",
      "metadata": {
        "id": "EPHwpr_L2ZDX"
      },
      "source": [
        "class_0 = model0.load_model(\"final_models/8anomaly-classifier0\")\n",
        "class_1 = model1.load_model(\"final_models/8anomaly-classifier1\")\n",
        "class_2 = model2.load_model(\"final_models/8anomaly-classifier2\")\n",
        "class_3 = model3.load_model(\"final_models/8anomaly-classifier3\")\n",
        "class_4 = model4.load_model(\"final_models/8anomaly-classifier4\")\n",
        "class_5 = model5.load_model(\"final_models/8anomaly-classifier5\")\n",
        "class_6 = model6.load_model(\"final_models/8anomaly-classifier6\")\n",
        "class_7 = model7.load_model(\"final_models/8anomaly-classifier7\")\n",
        "class_8 = model8.load_model(\"final_models/8anomaly-classifier8\")"
      ],
      "execution_count": null,
      "outputs": []
    },
    {
      "cell_type": "code",
      "metadata": {
        "colab": {
          "base_uri": "https://localhost:8080/"
        },
        "id": "kuaWA2mf2ZDY",
        "outputId": "4d4a07d9-1fa0-4b1d-ae3e-f1ce9a16f283"
      },
      "source": [
        "layer_name_list = []\n",
        "\n",
        "layer_name_list.append(class_0.layers[-2:][0].name)\n",
        "layer_name_list.append(class_1.layers[-2:][0].name)\n",
        "layer_name_list.append(class_2.layers[-2:][0].name)\n",
        "layer_name_list.append(class_3.layers[-2:][0].name)\n",
        "layer_name_list.append(class_4.layers[-2:][0].name)\n",
        "layer_name_list.append(class_5.layers[-2:][0].name)\n",
        "layer_name_list.append(class_6.layers[-2:][0].name)\n",
        "layer_name_list.append(class_7.layers[-2:][0].name)\n",
        "layer_name_list.append(class_8.layers[-2:][0].name)\n",
        "\n",
        "print(layer_name_list)"
      ],
      "execution_count": null,
      "outputs": [
        {
          "output_type": "stream",
          "text": [
            "['dense_19', 'dense_21', 'dense_23', 'dense_25', 'dense_27', 'dense_29', 'dense_31', 'dense_33', 'dense_35']\n"
          ],
          "name": "stdout"
        }
      ]
    },
    {
      "cell_type": "code",
      "metadata": {
        "id": "JHzzezK62ZDZ"
      },
      "source": [
        "from keras import Model\n",
        "model_dict = {}\n",
        "model_output0 = class_0.get_layer(layer_name_list[0]).output\n",
        "m0 = Model(inputs=class_0.input, outputs=model_output0)\n",
        "model_dict[0] = m0\n",
        "\n",
        "model_output1 = class_1.get_layer(layer_name_list[1]).output\n",
        "m1 = Model(inputs=class_1.input, outputs=model_output1)\n",
        "model_dict[1] = m1\n",
        "\n",
        "model_output2 = class_2.get_layer(layer_name_list[2]).output\n",
        "m2 = Model(inputs=class_2.input, outputs=model_output2)\n",
        "model_dict[2] = m2\n",
        "\n",
        "model_output3 = class_3.get_layer(layer_name_list[3]).output\n",
        "m3 = Model(inputs=class_3.input, outputs=model_output3)\n",
        "model_dict[3] = m3\n",
        "\n",
        "model_output4 = class_4.get_layer(layer_name_list[4]).output\n",
        "m4 = Model(inputs=class_4.input, outputs=model_output4)\n",
        "model_dict[4] = m4\n",
        "\n",
        "model_output5 = class_5.get_layer(layer_name_list[5]).output\n",
        "m5 = Model(inputs=class_5.input, outputs=model_output5)\n",
        "model_dict[5] = m5\n",
        "\n",
        "model_output6 = class_6.get_layer(layer_name_list[6]).output\n",
        "m6 = Model(inputs=class_6.input, outputs=model_output6)\n",
        "model_dict[6] = m6\n",
        "\n",
        "model_output7 = class_7.get_layer(layer_name_list[7]).output\n",
        "m7 = Model(inputs=class_7.input, outputs=model_output7)\n",
        "model_dict[7] = m7\n",
        "\n",
        "model_output8 = class_8.get_layer(layer_name_list[8]).output\n",
        "m8 = Model(inputs=class_8.input, outputs=model_output8)\n",
        "model_dict[8] = m8"
      ],
      "execution_count": null,
      "outputs": []
    },
    {
      "cell_type": "code",
      "metadata": {
        "id": "dbKJy1C62ZDZ"
      },
      "source": [
        "temp_val = [2.2895179, 2.1803794, 1.9876496, 1.944436, 2.4403906, 1.9343997, 2.2423983, 2.2220883, 2.2203646]"
      ],
      "execution_count": null,
      "outputs": []
    },
    {
      "cell_type": "code",
      "metadata": {
        "id": "nuF9REpf2ZDa"
      },
      "source": [
        "leave_out_list = sorted(set(new_val_labels))"
      ],
      "execution_count": null,
      "outputs": []
    },
    {
      "cell_type": "code",
      "metadata": {
        "colab": {
          "base_uri": "https://localhost:8080/"
        },
        "id": "HBgLDYWb2ZDa",
        "outputId": "01f331bc-93d5-4086-9045-f8c5ee4f4893"
      },
      "source": [
        "leave_out_list"
      ],
      "execution_count": null,
      "outputs": [
        {
          "output_type": "execute_result",
          "data": {
            "text/plain": [
              "[0, 1, 2, 3, 4, 5, 6, 7, 9]"
            ]
          },
          "metadata": {
            "tags": []
          },
          "execution_count": 152
        }
      ]
    },
    {
      "cell_type": "code",
      "metadata": {
        "id": "aYoOXucf2ZDb"
      },
      "source": [
        "ood = 0\n",
        "ind = 1"
      ],
      "execution_count": null,
      "outputs": []
    },
    {
      "cell_type": "code",
      "metadata": {
        "colab": {
          "base_uri": "https://localhost:8080/"
        },
        "id": "uV1yGiWf2ZDc",
        "outputId": "3418ad81-0fc1-4d6a-ec1e-e2160ec93554"
      },
      "source": [
        "from tqdm import tqdm\n",
        "softmax_data_8an = []\n",
        "\n",
        "for img, lbl in tqdm(zip(new_val_images,new_val_labels)):\n",
        "  img = img.reshape([-1, 28, 28, 1])\n",
        "  for i in range(9):\n",
        "    if lbl == leave_out_list[i]:\n",
        "      label = ood\n",
        "    else:\n",
        "      label = ind\n",
        "    logits = model_dict[i](img)\n",
        "    logits = tf.math.divide(logits, temp_val[i])\n",
        "    pred = tf.nn.softmax(logits)\n",
        "    softmax_data_8an.append((pred, label))"
      ],
      "execution_count": null,
      "outputs": [
        {
          "output_type": "stream",
          "text": [
            "10840it [15:25, 11.72it/s]\n"
          ],
          "name": "stderr"
        }
      ]
    },
    {
      "cell_type": "code",
      "metadata": {
        "colab": {
          "base_uri": "https://localhost:8080/"
        },
        "id": "GPFEn8f92ZDd",
        "outputId": "5656396f-fcc2-4a29-d66f-5723d48927cb"
      },
      "source": [
        "len(softmax_data_8an)"
      ],
      "execution_count": null,
      "outputs": [
        {
          "output_type": "execute_result",
          "data": {
            "text/plain": [
              "97560"
            ]
          },
          "metadata": {
            "tags": []
          },
          "execution_count": 155
        }
      ]
    },
    {
      "cell_type": "code",
      "metadata": {
        "id": "7M6iALqn2ZDe"
      },
      "source": [
        "ind_data = []\n",
        "ood_data = []\n",
        "for data in softmax_data_8an:\n",
        "  if data[1] == ind:\n",
        "    ind_data.append(data)\n",
        "  else:\n",
        "    ood_data.append(data)"
      ],
      "execution_count": null,
      "outputs": []
    },
    {
      "cell_type": "code",
      "metadata": {
        "colab": {
          "base_uri": "https://localhost:8080/"
        },
        "id": "0bk_uttb2ZDe",
        "outputId": "b6e50d9b-d43a-4908-eb04-ad04933d15ed"
      },
      "source": [
        "len(ind_data), len(ood_data)"
      ],
      "execution_count": null,
      "outputs": [
        {
          "output_type": "execute_result",
          "data": {
            "text/plain": [
              "(86720, 10840)"
            ]
          },
          "metadata": {
            "tags": []
          },
          "execution_count": 157
        }
      ]
    },
    {
      "cell_type": "code",
      "metadata": {
        "id": "c25p4Tm92ZDf"
      },
      "source": [
        "input = []\n",
        "labels = []\n",
        "for i in range(0, len(ood_data)-1, 2):\n",
        "  input.append(ind_data[i][0][0])\n",
        "  input.append(ind_data[i+1][0][0])\n",
        "  labels.append(ind_data[i][1])\n",
        "  labels.append(ind_data[i+1][1])\n",
        "  input.append(ood_data[i][0][0])\n",
        "  input.append(ood_data[i+1][0][0])\n",
        "  labels.append(ood_data[i][1])\n",
        "  labels.append(ood_data[i][1])\n",
        "\n",
        "#for idata, odata in zip(ind_data[:len(ood_data)],ood_data):\n",
        "#  input.append(idata[0][0])\n",
        "#  input.append(odata[0][0])\n",
        "#  labels.append(idata[1])\n",
        "#  labels.append(odata[1])  "
      ],
      "execution_count": null,
      "outputs": []
    },
    {
      "cell_type": "code",
      "metadata": {
        "colab": {
          "base_uri": "https://localhost:8080/"
        },
        "id": "pNCorfTb2ZDg",
        "outputId": "a0baf3ad-5ea5-4ab3-dc33-4d585986e77b"
      },
      "source": [
        "len(labels)"
      ],
      "execution_count": null,
      "outputs": [
        {
          "output_type": "execute_result",
          "data": {
            "text/plain": [
              "21680"
            ]
          },
          "metadata": {
            "tags": []
          },
          "execution_count": 159
        }
      ]
    },
    {
      "cell_type": "code",
      "metadata": {
        "id": "ez53z82Y2ZDh"
      },
      "source": [
        "input = []\n",
        "labels = []\n",
        "for data in softmax_data_8an:\n",
        "  input.append(data[0][0])\n",
        "  labels.append(data[1])"
      ],
      "execution_count": null,
      "outputs": []
    },
    {
      "cell_type": "code",
      "metadata": {
        "colab": {
          "base_uri": "https://localhost:8080/"
        },
        "id": "TVmwMhfb2ZDh",
        "outputId": "3b8b7da3-2c5e-4a1e-bb87-8c776186a5ca"
      },
      "source": [
        "from sklearn.utils.class_weight import compute_class_weight\n",
        "class_wts = compute_class_weight('balanced', np.unique(labels), labels)\n",
        "class_wts ={0:class_wts[0], 1:class_wts[1]}\n",
        "class_wts"
      ],
      "execution_count": null,
      "outputs": [
        {
          "output_type": "execute_result",
          "data": {
            "text/plain": [
              "{0: 4.5, 1: 0.5625}"
            ]
          },
          "metadata": {
            "tags": []
          },
          "execution_count": 161
        }
      ]
    },
    {
      "cell_type": "code",
      "metadata": {
        "colab": {
          "base_uri": "https://localhost:8080/"
        },
        "id": "rAmQ8enr2ZDi",
        "outputId": "7f6a12de-cc44-4098-d493-9c2781d0201b"
      },
      "source": [
        "clf = make_pipeline(SVC(gamma='auto', class_weight=class_wts))\n",
        "clf.fit(input, labels)"
      ],
      "execution_count": null,
      "outputs": [
        {
          "output_type": "execute_result",
          "data": {
            "text/plain": [
              "Pipeline(memory=None,\n",
              "         steps=[('svc',\n",
              "                 SVC(C=1.0, break_ties=False, cache_size=200,\n",
              "                     class_weight={0: 4.5, 1: 0.5625}, coef0=0.0,\n",
              "                     decision_function_shape='ovr', degree=3, gamma='auto',\n",
              "                     kernel='rbf', max_iter=-1, probability=False,\n",
              "                     random_state=None, shrinking=True, tol=0.001,\n",
              "                     verbose=False))],\n",
              "         verbose=False)"
            ]
          },
          "metadata": {
            "tags": []
          },
          "execution_count": 162
        }
      ]
    },
    {
      "cell_type": "code",
      "metadata": {
        "colab": {
          "base_uri": "https://localhost:8080/"
        },
        "id": "5U39qnF_2ZDj",
        "outputId": "b10db526-a4f7-4d34-8691-c78a93a51105"
      },
      "source": [
        "gnb = GaussianNB()\n",
        "gnb.fit(input, labels)"
      ],
      "execution_count": null,
      "outputs": [
        {
          "output_type": "execute_result",
          "data": {
            "text/plain": [
              "GaussianNB(priors=None, var_smoothing=1e-09)"
            ]
          },
          "metadata": {
            "tags": []
          },
          "execution_count": 163
        }
      ]
    },
    {
      "cell_type": "code",
      "metadata": {
        "colab": {
          "base_uri": "https://localhost:8080/"
        },
        "id": "Iv5qPust2ZDk",
        "outputId": "189c2a10-7f0e-4048-d45a-de886d6cb514"
      },
      "source": [
        "clfp = Perceptron(tol=1e-3, random_state=0)\n",
        "clfp.fit(input, labels)"
      ],
      "execution_count": null,
      "outputs": [
        {
          "output_type": "execute_result",
          "data": {
            "text/plain": [
              "Perceptron(alpha=0.0001, class_weight=None, early_stopping=False, eta0=1.0,\n",
              "           fit_intercept=True, max_iter=1000, n_iter_no_change=5, n_jobs=None,\n",
              "           penalty=None, random_state=0, shuffle=True, tol=0.001,\n",
              "           validation_fraction=0.1, verbose=0, warm_start=False)"
            ]
          },
          "metadata": {
            "tags": []
          },
          "execution_count": 164
        }
      ]
    },
    {
      "cell_type": "code",
      "metadata": {
        "colab": {
          "base_uri": "https://localhost:8080/"
        },
        "id": "G7eB_E-y2ZDl",
        "outputId": "013e18ef-9156-4da9-c36c-5f026e3afce4"
      },
      "source": [
        "sm_all_8an = []\n",
        "for data, lbl in tqdm(zip(test_imgs, test_lbls)):\n",
        "  img = data.reshape([-1, 28, 28, 1])\n",
        "  if lbl == 8:\n",
        "    label = ood\n",
        "  else:\n",
        "    label = ind\n",
        "\n",
        "  output = []\n",
        "  for i in range(9):  \n",
        "    logits = model_dict[i](img)\n",
        "    logits = tf.math.divide(logits, temp_val[i])\n",
        "    pred = tf.nn.softmax(logits)\n",
        "    output.append(pred)\n",
        "  \n",
        "  sm_all_8an.append((output, label))"
      ],
      "execution_count": null,
      "outputs": [
        {
          "output_type": "stream",
          "text": [
            "10000it [14:09, 11.77it/s]\n"
          ],
          "name": "stderr"
        }
      ]
    },
    {
      "cell_type": "code",
      "metadata": {
        "id": "6tz1h4AN2ZDm"
      },
      "source": [
        "pickle_out = open(\"sm_all_wt_m2_8an.pickle\",\"wb\")\n",
        "pickle.dump([softmax_data_8an, sm_all_8an], pickle_out)\n",
        "pickle_out.close()"
      ],
      "execution_count": null,
      "outputs": []
    },
    {
      "cell_type": "code",
      "metadata": {
        "id": "w53HfQ2-2ZDm"
      },
      "source": [
        "pickle_in = open(\"sm_all_wt_m2_8an.pickle\",\"rb\")\n",
        "softmax_data_8an, sm_all_8an = pickle.load(pickle_in)"
      ],
      "execution_count": null,
      "outputs": []
    },
    {
      "cell_type": "code",
      "metadata": {
        "colab": {
          "base_uri": "https://localhost:8080/"
        },
        "id": "hHvlmvMT2ZDn",
        "outputId": "c3f83425-0fce-49dd-a465-465140742f2e"
      },
      "source": [
        "accuracy_svm = 0.0\n",
        "accuracy_nb = 0.0\n",
        "acc_in_svm = 0.0\n",
        "acc_in_nb = 0.0\n",
        "acc_ood_svm = 0.0\n",
        "acc_ood_nb = 0.0\n",
        "count_in = 0\n",
        "count_ood = 0\n",
        "y_pred_svm = []\n",
        "y_pred_nb = []\n",
        "y_true = []\n",
        "\n",
        "for data, lbl in sm_all_8an:\n",
        "  output_svm = []\n",
        "  output_nb = []\n",
        "  if lbl == ood:\n",
        "    count_ood += 1\n",
        "  else:\n",
        "    count_in += 1\n",
        "\n",
        "  for pred in data:\n",
        "    output_svm.append(clf.predict(pred))\n",
        "    #output_nb.append(gnb.predict(pred))\n",
        "    output_nb.append(clfp.predict(pred))\n",
        "\n",
        "  y_true.append(lbl)\n",
        "\n",
        "  values0, counts0 = np.unique(output_svm, return_counts=True)\n",
        "  y_pred0 = values0[np.argmax(counts0)]\n",
        "  y_pred_svm.append(y_pred0)\n",
        "\n",
        "  values1, counts1 = np.unique(output_nb, return_counts=True)\n",
        "  y_pred1 = values1[np.argmax(counts1)]\n",
        "  y_pred_nb.append(y_pred1)\n",
        "\n",
        "  if y_pred0 == lbl:\n",
        "    accuracy_svm += 1\n",
        "    if lbl == ind:\n",
        "      acc_in_svm += 1\n",
        "    else:\n",
        "      acc_ood_svm += 1\n",
        "\n",
        "  if y_pred1 == lbl:\n",
        "    accuracy_nb += 1\n",
        "    if lbl == ind:\n",
        "      acc_in_nb += 1\n",
        "    else:\n",
        "      acc_ood_nb += 1\n",
        "\n",
        "print('-------SVM----------')\n",
        "print(\"Total Accuracy: \", accuracy_svm/len(sm_all_8an)) \n",
        "print(\"Accuracy of determining ID data: \", acc_in_svm/count_in)\n",
        "print(\"Accuracy of determining OOD data: \", acc_ood_svm/count_ood)\n",
        "\n",
        "print('-------NN-----------')\n",
        "print(\"Total Accuracy: \", accuracy_nb/len(sm_all_8an)) \n",
        "print(\"Accuracy of determining ID data: \", acc_in_nb/count_in)\n",
        "print(\"Accuracy of determining OOD data: \", acc_ood_nb/count_ood)"
      ],
      "execution_count": null,
      "outputs": [
        {
          "output_type": "stream",
          "text": [
            "-------SVM----------\n",
            "Total Accuracy:  0.944\n",
            "Accuracy of determining ID data:  0.964103700421006\n",
            "Accuracy of determining OOD data:  0.757700205338809\n",
            "-------NN-----------\n",
            "Total Accuracy:  0.8126\n",
            "Accuracy of determining ID data:  0.890206071349435\n",
            "Accuracy of determining OOD data:  0.09342915811088295\n"
          ],
          "name": "stdout"
        }
      ]
    },
    {
      "cell_type": "code",
      "metadata": {
        "colab": {
          "base_uri": "https://localhost:8080/"
        },
        "id": "V8rSVMZx2ZDo",
        "outputId": "188004fc-6cbb-4145-e0cf-fc5d7ed61e43"
      },
      "source": [
        "from sklearn.metrics import roc_auc_score\n",
        "roc_auc_score(y_true, y_pred_svm)"
      ],
      "execution_count": null,
      "outputs": [
        {
          "output_type": "execute_result",
          "data": {
            "text/plain": [
              "0.8609019528799075"
            ]
          },
          "metadata": {
            "tags": []
          },
          "execution_count": 168
        }
      ]
    },
    {
      "cell_type": "code",
      "metadata": {
        "colab": {
          "base_uri": "https://localhost:8080/"
        },
        "id": "f0Gfr_DI2ZDp",
        "outputId": "da479cc9-c90d-4731-a75f-9a5337618893"
      },
      "source": [
        "roc_auc_score(y_true, y_pred_nb)"
      ],
      "execution_count": null,
      "outputs": [
        {
          "output_type": "execute_result",
          "data": {
            "text/plain": [
              "0.49181761473015895"
            ]
          },
          "metadata": {
            "tags": []
          },
          "execution_count": 169
        }
      ]
    },
    {
      "cell_type": "markdown",
      "metadata": {
        "id": "6rHldBK72acz"
      },
      "source": [
        "# 9 as anomaly"
      ]
    },
    {
      "cell_type": "code",
      "metadata": {
        "id": "ssu_PFDh2b41"
      },
      "source": [
        ""
      ],
      "execution_count": null,
      "outputs": []
    },
    {
      "cell_type": "code",
      "metadata": {
        "id": "p2QDpDAI2cbD"
      },
      "source": [
        "new_train_images, new_train_labels, new_val_images, new_val_labels = separate_class(9, train_images, train_labels, val_images, val_labels)"
      ],
      "execution_count": null,
      "outputs": []
    },
    {
      "cell_type": "code",
      "metadata": {
        "id": "iuI3idCE2cbF"
      },
      "source": [
        "model0 = Model(name='9anomaly:classifier0')\n",
        "model1 = Model(name='9anomaly:classifier1')\n",
        "model2 = Model(name='9anomaly:classifier2')\n",
        "model3 = Model(name='9anomaly:classifier3')\n",
        "model4 = Model(name='9anomaly:classifier4')\n",
        "model5 = Model(name='9anomaly:classifier5')\n",
        "model6 = Model(name='9anomaly:classifier6')\n",
        "model7 = Model(name='9anomaly:classifier7')\n",
        "model8 = Model(name='9anomaly:classifier8')"
      ],
      "execution_count": null,
      "outputs": []
    },
    {
      "cell_type": "code",
      "metadata": {
        "id": "onfhDvoS2cbF"
      },
      "source": [
        "class_0 = model0.build()\n",
        "class_1 = model1.build()\n",
        "class_2 = model2.build()\n",
        "class_3 = model3.build()\n",
        "class_4 = model4.build()\n",
        "class_5 = model5.build()\n",
        "class_6 = model6.build()\n",
        "class_7 = model7.build()\n",
        "class_8 = model8.build()"
      ],
      "execution_count": null,
      "outputs": []
    },
    {
      "cell_type": "code",
      "metadata": {
        "id": "A38WuivG2cbG"
      },
      "source": [
        "class_0 = model0.load_model(\"final_models/9anomaly-classifier0\")\n",
        "class_1 = model1.load_model(\"final_models/9anomaly-classifier1\")\n",
        "class_2 = model2.load_model(\"final_models/9anomaly-classifier2\")\n",
        "class_3 = model3.load_model(\"final_models/9anomaly-classifier3\")\n",
        "class_4 = model4.load_model(\"final_models/9anomaly-classifier4\")\n",
        "class_5 = model5.load_model(\"final_models/9anomaly-classifier5\")\n",
        "class_6 = model6.load_model(\"final_models/9anomaly-classifier6\")\n",
        "class_7 = model7.load_model(\"final_models/9anomaly-classifier7\")\n",
        "class_8 = model8.load_model(\"final_models/9anomaly-classifier8\")"
      ],
      "execution_count": null,
      "outputs": []
    },
    {
      "cell_type": "code",
      "metadata": {
        "colab": {
          "base_uri": "https://localhost:8080/"
        },
        "id": "ubI4cWwM2cbH",
        "outputId": "1f9016ab-9eea-417b-97b9-7d1cee160847"
      },
      "source": [
        "layer_name_list = []\n",
        "\n",
        "layer_name_list.append(class_0.layers[-2:][0].name)\n",
        "layer_name_list.append(class_1.layers[-2:][0].name)\n",
        "layer_name_list.append(class_2.layers[-2:][0].name)\n",
        "layer_name_list.append(class_3.layers[-2:][0].name)\n",
        "layer_name_list.append(class_4.layers[-2:][0].name)\n",
        "layer_name_list.append(class_5.layers[-2:][0].name)\n",
        "layer_name_list.append(class_6.layers[-2:][0].name)\n",
        "layer_name_list.append(class_7.layers[-2:][0].name)\n",
        "layer_name_list.append(class_8.layers[-2:][0].name)\n",
        "\n",
        "print(layer_name_list)"
      ],
      "execution_count": null,
      "outputs": [
        {
          "output_type": "stream",
          "text": [
            "['dense_37', 'dense_39', 'dense_41', 'dense_43', 'dense_45', 'dense_47', 'dense_49', 'dense_51', 'dense_53']\n"
          ],
          "name": "stdout"
        }
      ]
    },
    {
      "cell_type": "code",
      "metadata": {
        "id": "X_F6vwnD2cbI"
      },
      "source": [
        "from keras import Model\n",
        "model_dict = {}\n",
        "model_output0 = class_0.get_layer(layer_name_list[0]).output\n",
        "m0 = Model(inputs=class_0.input, outputs=model_output0)\n",
        "model_dict[0] = m0\n",
        "\n",
        "model_output1 = class_1.get_layer(layer_name_list[1]).output\n",
        "m1 = Model(inputs=class_1.input, outputs=model_output1)\n",
        "model_dict[1] = m1\n",
        "\n",
        "model_output2 = class_2.get_layer(layer_name_list[2]).output\n",
        "m2 = Model(inputs=class_2.input, outputs=model_output2)\n",
        "model_dict[2] = m2\n",
        "\n",
        "model_output3 = class_3.get_layer(layer_name_list[3]).output\n",
        "m3 = Model(inputs=class_3.input, outputs=model_output3)\n",
        "model_dict[3] = m3\n",
        "\n",
        "model_output4 = class_4.get_layer(layer_name_list[4]).output\n",
        "m4 = Model(inputs=class_4.input, outputs=model_output4)\n",
        "model_dict[4] = m4\n",
        "\n",
        "model_output5 = class_5.get_layer(layer_name_list[5]).output\n",
        "m5 = Model(inputs=class_5.input, outputs=model_output5)\n",
        "model_dict[5] = m5\n",
        "\n",
        "model_output6 = class_6.get_layer(layer_name_list[6]).output\n",
        "m6 = Model(inputs=class_6.input, outputs=model_output6)\n",
        "model_dict[6] = m6\n",
        "\n",
        "model_output7 = class_7.get_layer(layer_name_list[7]).output\n",
        "m7 = Model(inputs=class_7.input, outputs=model_output7)\n",
        "model_dict[7] = m7\n",
        "\n",
        "model_output8 = class_8.get_layer(layer_name_list[8]).output\n",
        "m8 = Model(inputs=class_8.input, outputs=model_output8)\n",
        "model_dict[8] = m8"
      ],
      "execution_count": null,
      "outputs": []
    },
    {
      "cell_type": "code",
      "metadata": {
        "id": "d9h1JmxT2cbJ"
      },
      "source": [
        "temp_val = [2.3985262, 2.319251, 2.2143555, 1.9258661, 2.2611945, 2.2223954, 2.3583956, 2.2993236, 2.0704982]"
      ],
      "execution_count": null,
      "outputs": []
    },
    {
      "cell_type": "code",
      "metadata": {
        "id": "3t7xX8u-2cbK"
      },
      "source": [
        "leave_out_list = sorted(set(new_val_labels))"
      ],
      "execution_count": null,
      "outputs": []
    },
    {
      "cell_type": "code",
      "metadata": {
        "colab": {
          "base_uri": "https://localhost:8080/"
        },
        "id": "MiSDKdqg2cbL",
        "outputId": "3a443d37-da91-43bd-be4a-ce58d2b477ba"
      },
      "source": [
        "leave_out_list"
      ],
      "execution_count": null,
      "outputs": [
        {
          "output_type": "execute_result",
          "data": {
            "text/plain": [
              "[0, 1, 2, 3, 4, 5, 6, 7, 8]"
            ]
          },
          "metadata": {
            "tags": []
          },
          "execution_count": 179
        }
      ]
    },
    {
      "cell_type": "code",
      "metadata": {
        "id": "jkNtBMGo2cbM"
      },
      "source": [
        "ood = 0\n",
        "ind = 1"
      ],
      "execution_count": null,
      "outputs": []
    },
    {
      "cell_type": "code",
      "metadata": {
        "colab": {
          "base_uri": "https://localhost:8080/"
        },
        "id": "g4Lu7b4f2cbN",
        "outputId": "02d11286-9b5a-418d-dbbf-1a5722feb4ad"
      },
      "source": [
        "from tqdm import tqdm\n",
        "softmax_data_9an = []\n",
        "\n",
        "for img, lbl in tqdm(zip(new_val_images,new_val_labels)):\n",
        "  img = img.reshape([-1, 28, 28, 1])\n",
        "  for i in range(9):\n",
        "    if lbl == leave_out_list[i]:\n",
        "      label = ood\n",
        "    else:\n",
        "      label = ind\n",
        "    logits = model_dict[i](img)\n",
        "    logits = tf.math.divide(logits, temp_val[i])\n",
        "    pred = tf.nn.softmax(logits)\n",
        "    softmax_data_9an.append((pred, label))"
      ],
      "execution_count": null,
      "outputs": [
        {
          "output_type": "stream",
          "text": [
            "10806it [15:25, 11.67it/s]\n"
          ],
          "name": "stderr"
        }
      ]
    },
    {
      "cell_type": "code",
      "metadata": {
        "colab": {
          "base_uri": "https://localhost:8080/"
        },
        "id": "Rddn6TUf2cbP",
        "outputId": "8072bd3c-0fe5-4907-fceb-1c449d5fc5bc"
      },
      "source": [
        "len(softmax_data_9an)"
      ],
      "execution_count": null,
      "outputs": [
        {
          "output_type": "execute_result",
          "data": {
            "text/plain": [
              "97254"
            ]
          },
          "metadata": {
            "tags": []
          },
          "execution_count": 182
        }
      ]
    },
    {
      "cell_type": "code",
      "metadata": {
        "id": "hbPY4xrN2cbR"
      },
      "source": [
        "ind_data = []\n",
        "ood_data = []\n",
        "for data in softmax_data_9an:\n",
        "  if data[1] == ind:\n",
        "    ind_data.append(data)\n",
        "  else:\n",
        "    ood_data.append(data)"
      ],
      "execution_count": null,
      "outputs": []
    },
    {
      "cell_type": "code",
      "metadata": {
        "colab": {
          "base_uri": "https://localhost:8080/"
        },
        "id": "vnkTor1G2cbS",
        "outputId": "446d2c85-b6ff-4e0c-f20a-2e6f6e4cebab"
      },
      "source": [
        "len(ind_data), len(ood_data)"
      ],
      "execution_count": null,
      "outputs": [
        {
          "output_type": "execute_result",
          "data": {
            "text/plain": [
              "(86448, 10806)"
            ]
          },
          "metadata": {
            "tags": []
          },
          "execution_count": 184
        }
      ]
    },
    {
      "cell_type": "code",
      "metadata": {
        "id": "ECWbw0uD2cbU"
      },
      "source": [
        "input = []\n",
        "labels = []\n",
        "for i in range(0, len(ood_data)-1, 2):\n",
        "  input.append(ind_data[i][0][0])\n",
        "  input.append(ind_data[i+1][0][0])\n",
        "  labels.append(ind_data[i][1])\n",
        "  labels.append(ind_data[i+1][1])\n",
        "  input.append(ood_data[i][0][0])\n",
        "  input.append(ood_data[i+1][0][0])\n",
        "  labels.append(ood_data[i][1])\n",
        "  labels.append(ood_data[i][1])\n",
        "\n",
        "#for idata, odata in zip(ind_data[:len(ood_data)],ood_data):\n",
        "#  input.append(idata[0][0])\n",
        "#  input.append(odata[0][0])\n",
        "#  labels.append(idata[1])\n",
        "#  labels.append(odata[1])  "
      ],
      "execution_count": null,
      "outputs": []
    },
    {
      "cell_type": "code",
      "metadata": {
        "colab": {
          "base_uri": "https://localhost:8080/"
        },
        "id": "Y-MDC11k2cbV",
        "outputId": "cdae255d-87f6-49cf-a3fd-4c839aeeb223"
      },
      "source": [
        "len(labels)"
      ],
      "execution_count": null,
      "outputs": [
        {
          "output_type": "execute_result",
          "data": {
            "text/plain": [
              "21612"
            ]
          },
          "metadata": {
            "tags": []
          },
          "execution_count": 186
        }
      ]
    },
    {
      "cell_type": "code",
      "metadata": {
        "id": "BLSrw1xX2cbW"
      },
      "source": [
        "input = []\n",
        "labels = []\n",
        "for data in softmax_data_9an:\n",
        "  input.append(data[0][0])\n",
        "  labels.append(data[1])"
      ],
      "execution_count": null,
      "outputs": []
    },
    {
      "cell_type": "code",
      "metadata": {
        "colab": {
          "base_uri": "https://localhost:8080/"
        },
        "id": "gplNeHgJ2cbX",
        "outputId": "1beebe5e-3cdd-4142-a9e0-5009b6ebe9d4"
      },
      "source": [
        "from sklearn.utils.class_weight import compute_class_weight\n",
        "class_wts = compute_class_weight('balanced', np.unique(labels), labels)\n",
        "class_wts ={0:class_wts[0], 1:class_wts[1]}\n",
        "class_wts"
      ],
      "execution_count": null,
      "outputs": [
        {
          "output_type": "execute_result",
          "data": {
            "text/plain": [
              "{0: 4.5, 1: 0.5625}"
            ]
          },
          "metadata": {
            "tags": []
          },
          "execution_count": 188
        }
      ]
    },
    {
      "cell_type": "code",
      "metadata": {
        "colab": {
          "base_uri": "https://localhost:8080/"
        },
        "id": "T_iY0eQW2cbY",
        "outputId": "ac5d10e8-5c7a-4502-865e-09c20ed40c8e"
      },
      "source": [
        "clf = make_pipeline(SVC(gamma='auto', class_weight=class_wts))\n",
        "clf.fit(input, labels)"
      ],
      "execution_count": null,
      "outputs": [
        {
          "output_type": "execute_result",
          "data": {
            "text/plain": [
              "Pipeline(memory=None,\n",
              "         steps=[('svc',\n",
              "                 SVC(C=1.0, break_ties=False, cache_size=200,\n",
              "                     class_weight={0: 4.5, 1: 0.5625}, coef0=0.0,\n",
              "                     decision_function_shape='ovr', degree=3, gamma='auto',\n",
              "                     kernel='rbf', max_iter=-1, probability=False,\n",
              "                     random_state=None, shrinking=True, tol=0.001,\n",
              "                     verbose=False))],\n",
              "         verbose=False)"
            ]
          },
          "metadata": {
            "tags": []
          },
          "execution_count": 189
        }
      ]
    },
    {
      "cell_type": "code",
      "metadata": {
        "colab": {
          "base_uri": "https://localhost:8080/"
        },
        "id": "jD4YtJu62cbZ",
        "outputId": "abcd9f1e-a999-4433-ba0d-45d2063dfe30"
      },
      "source": [
        "gnb = GaussianNB()\n",
        "gnb.fit(input, labels)"
      ],
      "execution_count": null,
      "outputs": [
        {
          "output_type": "execute_result",
          "data": {
            "text/plain": [
              "GaussianNB(priors=None, var_smoothing=1e-09)"
            ]
          },
          "metadata": {
            "tags": []
          },
          "execution_count": 190
        }
      ]
    },
    {
      "cell_type": "code",
      "metadata": {
        "colab": {
          "base_uri": "https://localhost:8080/"
        },
        "id": "O_Y2TxIy2cba",
        "outputId": "b36bc56d-0c17-4ade-bce3-c939880aa963"
      },
      "source": [
        "clfp = Perceptron(tol=1e-3, random_state=0)\n",
        "clfp.fit(input, labels)"
      ],
      "execution_count": null,
      "outputs": [
        {
          "output_type": "execute_result",
          "data": {
            "text/plain": [
              "Perceptron(alpha=0.0001, class_weight=None, early_stopping=False, eta0=1.0,\n",
              "           fit_intercept=True, max_iter=1000, n_iter_no_change=5, n_jobs=None,\n",
              "           penalty=None, random_state=0, shuffle=True, tol=0.001,\n",
              "           validation_fraction=0.1, verbose=0, warm_start=False)"
            ]
          },
          "metadata": {
            "tags": []
          },
          "execution_count": 191
        }
      ]
    },
    {
      "cell_type": "code",
      "metadata": {
        "colab": {
          "base_uri": "https://localhost:8080/"
        },
        "id": "HE4A1_Sz2cbb",
        "outputId": "fd84eda8-a7f6-4768-a98a-1f3fb6b0d1c5"
      },
      "source": [
        "sm_all_9an = []\n",
        "for data, lbl in tqdm(zip(test_imgs, test_lbls)):\n",
        "  img = data.reshape([-1, 28, 28, 1])\n",
        "  if lbl == 9:\n",
        "    label = ood\n",
        "  else:\n",
        "    label = ind\n",
        "\n",
        "  output = []\n",
        "  for i in range(9):  \n",
        "    logits = model_dict[i](img)\n",
        "    logits = tf.math.divide(logits, temp_val[i])\n",
        "    pred = tf.nn.softmax(logits)\n",
        "    output.append(pred)\n",
        "  \n",
        "  sm_all_9an.append((output, label))"
      ],
      "execution_count": null,
      "outputs": [
        {
          "output_type": "stream",
          "text": [
            "10000it [14:01, 11.89it/s]\n"
          ],
          "name": "stderr"
        }
      ]
    },
    {
      "cell_type": "code",
      "metadata": {
        "id": "xgcaF9Ql2cbb"
      },
      "source": [
        "pickle_out = open(\"sm_all_wt_m2_9an.pickle\",\"wb\")\n",
        "pickle.dump([softmax_data_9an, sm_all_9an], pickle_out)\n",
        "pickle_out.close()"
      ],
      "execution_count": null,
      "outputs": []
    },
    {
      "cell_type": "code",
      "metadata": {
        "id": "CQz96CgM2cbc"
      },
      "source": [
        "pickle_in = open(\"sm_all_wt_m2_9an.pickle\",\"rb\")\n",
        "softmax_data_9an, sm_all_9an = pickle.load(pickle_in)"
      ],
      "execution_count": null,
      "outputs": []
    },
    {
      "cell_type": "code",
      "metadata": {
        "colab": {
          "base_uri": "https://localhost:8080/"
        },
        "id": "mmo-iJCx2cbd",
        "outputId": "efbaf403-a872-45cf-d9a0-685ce09da85f"
      },
      "source": [
        "accuracy_svm = 0.0\n",
        "accuracy_nb = 0.0\n",
        "acc_in_svm = 0.0\n",
        "acc_in_nb = 0.0\n",
        "acc_ood_svm = 0.0\n",
        "acc_ood_nb = 0.0\n",
        "count_in = 0\n",
        "count_ood = 0\n",
        "y_pred_svm = []\n",
        "y_pred_nb = []\n",
        "y_true = []\n",
        "\n",
        "for data, lbl in sm_all_9an:\n",
        "  output_svm = []\n",
        "  output_nb = []\n",
        "  if lbl == ood:\n",
        "    count_ood += 1\n",
        "  else:\n",
        "    count_in += 1\n",
        "\n",
        "  for pred in data:\n",
        "    output_svm.append(clf.predict(pred))\n",
        "    #output_nb.append(gnb.predict(pred))\n",
        "    output_nb.append(clfp.predict(pred))\n",
        "\n",
        "  y_true.append(lbl)\n",
        "\n",
        "  values0, counts0 = np.unique(output_svm, return_counts=True)\n",
        "  y_pred0 = values0[np.argmax(counts0)]\n",
        "  y_pred_svm.append(y_pred0)\n",
        "\n",
        "  values1, counts1 = np.unique(output_nb, return_counts=True)\n",
        "  y_pred1 = values1[np.argmax(counts1)]\n",
        "  y_pred_nb.append(y_pred1)\n",
        "\n",
        "  if y_pred0 == lbl:\n",
        "    accuracy_svm += 1\n",
        "    if lbl == ind:\n",
        "      acc_in_svm += 1\n",
        "    else:\n",
        "      acc_ood_svm += 1\n",
        "\n",
        "  if y_pred1 == lbl:\n",
        "    accuracy_nb += 1\n",
        "    if lbl == ind:\n",
        "      acc_in_nb += 1\n",
        "    else:\n",
        "      acc_ood_nb += 1\n",
        "\n",
        "print('-------SVM----------')\n",
        "print(\"Total Accuracy: \", accuracy_svm/len(sm_all_9an)) \n",
        "print(\"Accuracy of determining ID data: \", acc_in_svm/count_in)\n",
        "print(\"Accuracy of determining OOD data: \", acc_ood_svm/count_ood)\n",
        "\n",
        "print('-------NN-----------')\n",
        "print(\"Total Accuracy: \", accuracy_nb/len(sm_all_9an)) \n",
        "print(\"Accuracy of determining ID data: \", acc_in_nb/count_in)\n",
        "print(\"Accuracy of determining OOD data: \", acc_ood_nb/count_ood)"
      ],
      "execution_count": null,
      "outputs": [
        {
          "output_type": "stream",
          "text": [
            "-------SVM----------\n",
            "Total Accuracy:  0.9435\n",
            "Accuracy of determining ID data:  0.9706373039706373\n",
            "Accuracy of determining OOD data:  0.7016848364717542\n",
            "-------NN-----------\n",
            "Total Accuracy:  0.8991\n",
            "Accuracy of determining ID data:  1.0\n",
            "Accuracy of determining OOD data:  0.0\n"
          ],
          "name": "stdout"
        }
      ]
    },
    {
      "cell_type": "code",
      "metadata": {
        "colab": {
          "base_uri": "https://localhost:8080/"
        },
        "id": "I2OPWK_H2cbe",
        "outputId": "390c94ef-423f-49b6-e5f2-597fe1d0a99f"
      },
      "source": [
        "from sklearn.metrics import roc_auc_score\n",
        "roc_auc_score(y_true, y_pred_svm)"
      ],
      "execution_count": null,
      "outputs": [
        {
          "output_type": "execute_result",
          "data": {
            "text/plain": [
              "0.8361610702211959"
            ]
          },
          "metadata": {
            "tags": []
          },
          "execution_count": 195
        }
      ]
    },
    {
      "cell_type": "code",
      "metadata": {
        "colab": {
          "base_uri": "https://localhost:8080/"
        },
        "id": "QeyCfN-Z2cbf",
        "outputId": "79ada720-bbd2-4cb2-cb66-7f466646b79a"
      },
      "source": [
        "roc_auc_score(y_true, y_pred_nb)"
      ],
      "execution_count": null,
      "outputs": [
        {
          "output_type": "execute_result",
          "data": {
            "text/plain": [
              "0.5"
            ]
          },
          "metadata": {
            "tags": []
          },
          "execution_count": 196
        }
      ]
    },
    {
      "cell_type": "code",
      "metadata": {
        "id": "6KTGQp5-Wvfw"
      },
      "source": [
        ""
      ],
      "execution_count": null,
      "outputs": []
    }
  ]
}